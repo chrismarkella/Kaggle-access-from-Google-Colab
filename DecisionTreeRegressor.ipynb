{
  "nbformat": 4,
  "nbformat_minor": 0,
  "metadata": {
    "colab": {
      "name": "DecisionTreeRegressor.ipynb",
      "provenance": [],
      "collapsed_sections": [],
      "include_colab_link": true
    },
    "kernelspec": {
      "name": "python3",
      "display_name": "Python 3"
    }
  },
  "cells": [
    {
      "cell_type": "markdown",
      "metadata": {
        "id": "view-in-github",
        "colab_type": "text"
      },
      "source": [
        "<a href=\"https://colab.research.google.com/github/chrismarkella/Kaggle-access-from-Google-Colab/blob/master/DecisionTreeRegressor.ipynb\" target=\"_parent\"><img src=\"https://colab.research.google.com/assets/colab-badge.svg\" alt=\"Open In Colab\"/></a>"
      ]
    },
    {
      "cell_type": "code",
      "metadata": {
        "id": "3jYmJd5hbir8",
        "colab_type": "code",
        "colab": {}
      },
      "source": [
        "import os\n",
        "\n",
        "import numpy as np\n",
        "import pandas as pd\n",
        "\n",
        "from getpass import getpass"
      ],
      "execution_count": 0,
      "outputs": []
    },
    {
      "cell_type": "code",
      "metadata": {
        "id": "ruaAzybYbkqE",
        "colab_type": "code",
        "outputId": "f8d34b77-2606-4793-f284-5484bd41040d",
        "colab": {
          "base_uri": "https://localhost:8080/",
          "height": 67
        }
      },
      "source": [
        "def access_kaggle():\n",
        "    \"\"\"\n",
        "    Access Kaggle from Google Colab.\n",
        "    If the /root/.kaggle does not exist then prompt for\n",
        "    the username and for the Kaggle API key.\n",
        "    Creates the kaggle.json access file in the /root/.kaggle/ folder. \n",
        "    \"\"\"\n",
        "    KAGGLE_ROOT = os.path.join('/root', '.kaggle')\n",
        "    KAGGLE_PATH = os.path.join(KAGGLE_ROOT, 'kaggle.json')\n",
        "\n",
        "    if '.kaggle' not in os.listdir(path='/root'):\n",
        "        user = getpass(prompt='Kaggle username: ')\n",
        "        key  = getpass(prompt='Kaggle API key: ')\n",
        "        \n",
        "        !mkdir $KAGGLE_ROOT\n",
        "        !touch $KAGGLE_PATH\n",
        "        !chmod 666 $KAGGLE_PATH\n",
        "        with open(KAGGLE_PATH, mode='w') as f:\n",
        "            f.write('{\"username\":\"%s\", \"key\":\"%s\"}' %(user, key))\n",
        "            f.close()\n",
        "        !chmod 600 $KAGGLE_PATH\n",
        "        del user\n",
        "        del key\n",
        "        success_msg = \"Kaggle is successfully set up. Good to go.\"\n",
        "        print(f'{success_msg}')\n",
        "\n",
        "access_kaggle()\n"
      ],
      "execution_count": 3,
      "outputs": [
        {
          "output_type": "stream",
          "text": [
            "Kaggle username: ··········\n",
            "Kaggle API key: ··········\n",
            "Kaggle is successfully set up. Good to go.\n"
          ],
          "name": "stdout"
        }
      ]
    },
    {
      "cell_type": "code",
      "metadata": {
        "id": "fr6FqMvhj306",
        "colab_type": "code",
        "outputId": "d557a286-5fb7-452a-f07d-a85fc4e388f4",
        "colab": {
          "base_uri": "https://localhost:8080/",
          "height": 423
        }
      },
      "source": [
        "!kaggle datasets list -s melbourne"
      ],
      "execution_count": 4,
      "outputs": [
        {
          "output_type": "stream",
          "text": [
            "Warning: Looks like you're using an outdated API Version, please consider updating (server 1.5.6 / client 1.5.4)\n",
            "ref                                                  title                                     size  lastUpdated          downloadCount  \n",
            "---------------------------------------------------  ---------------------------------------  -----  -------------------  -------------  \n",
            "anthonypino/melbourne-housing-market                 Melbourne Housing Market                   2MB  2018-10-14 23:33:37          18069  \n",
            "dansbecker/melbourne-housing-snapshot                Melbourne Housing Snapshot               451KB  2018-06-05 12:52:24          30156  \n",
            "tylerx/melbourne-airbnb-open-data                    Melbourne Airbnb Open Data               120MB  2019-02-18 10:40:54           2286  \n",
            "glovepm/melbourne-housing                            Melbourne housing                        190KB  2017-05-09 15:46:45            413  \n",
            "shree1992/housedata                                  House price prediction                   432KB  2018-08-26 07:56:22           3447  \n",
            "antgoldbloom/port-phillip-bay-wind                   Port Phillip Bay Weather                   7MB  2019-12-17 23:26:23            180  \n",
            "paulbrabban/daily-minimum-temperatures-in-melbourne  Daily Minimum Temperatures in Melbourne   14KB  2019-03-23 21:36:49            448  \n",
            "simonjb/melbourne                                    Melbourne                                614KB  2018-02-23 16:43:04             45  \n",
            "ruizjme/realestate-vic-sold                          Victoria Real Estate                     257KB  2018-11-16 11:03:03            405  \n",
            "ganjedi/melbourne-housing-snapshot                   Melbourne Housing Snapshot               614KB  2018-01-23 19:39:49            144  \n",
            "mithesh/melbournehousingdataset                      melbourne-housing-dataset                614KB  2018-01-30 15:20:31            135  \n",
            "sanbelief/housing                                    housing                                  344KB  2017-06-08 15:24:36            374  \n",
            "jrangani7/melbourne                                  Melbourne                                614KB  2018-02-27 11:02:07             29  \n",
            "tylerx/sydney-airbnb-open-data                       Sydney Airbnb Open Data                  117MB  2019-11-18 02:38:56            420  \n",
            "karanrawat19/melbourne-housing                       Melbourne Housing                        614KB  2018-03-09 22:26:49             19  \n",
            "nltkdata/paradigm                                    Paradigm                                  25KB  2017-08-21 02:47:55             14  \n",
            "shrishb/melbourne-employment-per-industry            Melbourne Employment per Industry          9KB  2018-09-02 00:41:41             35  \n",
            "karanrawat19/melbourne-housing-data                  Melbourne Housing Data                   614KB  2018-03-09 22:29:43             36  \n",
            "danghle/melbourne-housing-snapshot                   Melbourne Housing Snapshot               614KB  2018-01-19 00:34:27             46  \n",
            "bashilgers/melbourne-train-dataset                   melbourne train dataset                   94KB  2018-01-04 13:17:10             27  \n"
          ],
          "name": "stdout"
        }
      ]
    },
    {
      "cell_type": "code",
      "metadata": {
        "id": "CL1vIAz5j9bn",
        "colab_type": "code",
        "outputId": "c1f67150-8e10-465b-e7bf-85bcb9b7a29d",
        "colab": {
          "base_uri": "https://localhost:8080/",
          "height": 507
        }
      },
      "source": [
        "!kaggle datasets download anthonypino/melbourne-housing-market --unzip -p datasets/housing\n",
        "\n",
        "!apt-get install tree\n",
        "\n",
        "!tree -sh datasets"
      ],
      "execution_count": 5,
      "outputs": [
        {
          "output_type": "stream",
          "text": [
            "Downloading melbourne-housing-market.zip to datasets/housing\n",
            "\r  0% 0.00/2.28M [00:00<?, ?B/s]\n",
            "100% 2.28M/2.28M [00:00<00:00, 75.4MB/s]\n",
            "Reading package lists... Done\n",
            "Building dependency tree       \n",
            "Reading state information... Done\n",
            "The following package was automatically installed and is no longer required:\n",
            "  libnvidia-common-430\n",
            "Use 'apt autoremove' to remove it.\n",
            "The following NEW packages will be installed:\n",
            "  tree\n",
            "0 upgraded, 1 newly installed, 0 to remove and 7 not upgraded.\n",
            "Need to get 40.7 kB of archives.\n",
            "After this operation, 105 kB of additional disk space will be used.\n",
            "Get:1 http://archive.ubuntu.com/ubuntu bionic/universe amd64 tree amd64 1.7.0-5 [40.7 kB]\n",
            "Fetched 40.7 kB in 0s (99.9 kB/s)\n",
            "Selecting previously unselected package tree.\n",
            "(Reading database ... 134985 files and directories currently installed.)\n",
            "Preparing to unpack .../tree_1.7.0-5_amd64.deb ...\n",
            "Unpacking tree (1.7.0-5) ...\n",
            "Setting up tree (1.7.0-5) ...\n",
            "Processing triggers for man-db (2.8.3-2ubuntu0.1) ...\n",
            "datasets\n",
            "└── [4.0K]  housing\n",
            "    ├── [7.0M]  MELBOURNE_HOUSE_PRICES_LESS.csv\n",
            "    └── [4.8M]  Melbourne_housing_FULL.csv\n",
            "\n",
            "1 directory, 2 files\n"
          ],
          "name": "stdout"
        }
      ]
    },
    {
      "cell_type": "markdown",
      "metadata": {
        "id": "gDP47PR5GUp9",
        "colab_type": "text"
      },
      "source": [
        "# Exercises\n",
        "\n",
        "## Step 1: Split Your Data\n",
        "Use the `train_test_split` function to split up your data.\n",
        "\n",
        "Give it the argument `random_state=1` so tthe `check` functions know what to expect when verifying your code.\n",
        "\n",
        "Recall, your features are loaded in the DataFrame **X** and your target is loaded in **y**."
      ]
    },
    {
      "cell_type": "code",
      "metadata": {
        "id": "gKAZvjsjkRkl",
        "colab_type": "code",
        "colab": {}
      },
      "source": [
        "from sklearn.tree import DecisionTreeRegressor\n",
        "from sklearn.model_selection import train_test_split\n",
        "from sklearn.metrics import mean_absolute_error"
      ],
      "execution_count": 0,
      "outputs": []
    },
    {
      "cell_type": "code",
      "metadata": {
        "id": "IWlQHuM0HSxu",
        "colab_type": "code",
        "colab": {}
      },
      "source": [
        "from sklearn.metrics import mean_absolute_error\n",
        "\n",
        "mean_absolute_error(y_true=)"
      ],
      "execution_count": 0,
      "outputs": []
    },
    {
      "cell_type": "code",
      "metadata": {
        "id": "-r_XZXVBIiKu",
        "colab_type": "code",
        "colab": {
          "base_uri": "https://localhost:8080/",
          "height": 206
        },
        "outputId": "b37e17c3-e496-4c41-fe54-7df6273553f8"
      },
      "source": [
        "housing_path = os.path.join('datasets', 'housing')\n",
        "csv_file_name = 'Melbourne_housing_FULL.csv'\n",
        "csv_path = os.path.join(housing_path, csv_file_name)\n",
        "\n",
        "df = pd.read_csv(filepath_or_buffer=csv_path,\n",
        "                 sep=',', index_col=0)\n",
        "df.head(2)"
      ],
      "execution_count": 9,
      "outputs": [
        {
          "output_type": "execute_result",
          "data": {
            "text/html": [
              "<div>\n",
              "<style scoped>\n",
              "    .dataframe tbody tr th:only-of-type {\n",
              "        vertical-align: middle;\n",
              "    }\n",
              "\n",
              "    .dataframe tbody tr th {\n",
              "        vertical-align: top;\n",
              "    }\n",
              "\n",
              "    .dataframe thead th {\n",
              "        text-align: right;\n",
              "    }\n",
              "</style>\n",
              "<table border=\"1\" class=\"dataframe\">\n",
              "  <thead>\n",
              "    <tr style=\"text-align: right;\">\n",
              "      <th></th>\n",
              "      <th>Address</th>\n",
              "      <th>Rooms</th>\n",
              "      <th>Type</th>\n",
              "      <th>Price</th>\n",
              "      <th>Method</th>\n",
              "      <th>SellerG</th>\n",
              "      <th>Date</th>\n",
              "      <th>Distance</th>\n",
              "      <th>Postcode</th>\n",
              "      <th>Bedroom2</th>\n",
              "      <th>Bathroom</th>\n",
              "      <th>Car</th>\n",
              "      <th>Landsize</th>\n",
              "      <th>BuildingArea</th>\n",
              "      <th>YearBuilt</th>\n",
              "      <th>CouncilArea</th>\n",
              "      <th>Lattitude</th>\n",
              "      <th>Longtitude</th>\n",
              "      <th>Regionname</th>\n",
              "      <th>Propertycount</th>\n",
              "    </tr>\n",
              "    <tr>\n",
              "      <th>Suburb</th>\n",
              "      <th></th>\n",
              "      <th></th>\n",
              "      <th></th>\n",
              "      <th></th>\n",
              "      <th></th>\n",
              "      <th></th>\n",
              "      <th></th>\n",
              "      <th></th>\n",
              "      <th></th>\n",
              "      <th></th>\n",
              "      <th></th>\n",
              "      <th></th>\n",
              "      <th></th>\n",
              "      <th></th>\n",
              "      <th></th>\n",
              "      <th></th>\n",
              "      <th></th>\n",
              "      <th></th>\n",
              "      <th></th>\n",
              "      <th></th>\n",
              "    </tr>\n",
              "  </thead>\n",
              "  <tbody>\n",
              "    <tr>\n",
              "      <th>Abbotsford</th>\n",
              "      <td>68 Studley St</td>\n",
              "      <td>2</td>\n",
              "      <td>h</td>\n",
              "      <td>NaN</td>\n",
              "      <td>SS</td>\n",
              "      <td>Jellis</td>\n",
              "      <td>3/09/2016</td>\n",
              "      <td>2.5</td>\n",
              "      <td>3067.0</td>\n",
              "      <td>2.0</td>\n",
              "      <td>1.0</td>\n",
              "      <td>1.0</td>\n",
              "      <td>126.0</td>\n",
              "      <td>NaN</td>\n",
              "      <td>NaN</td>\n",
              "      <td>Yarra City Council</td>\n",
              "      <td>-37.8014</td>\n",
              "      <td>144.9958</td>\n",
              "      <td>Northern Metropolitan</td>\n",
              "      <td>4019.0</td>\n",
              "    </tr>\n",
              "    <tr>\n",
              "      <th>Abbotsford</th>\n",
              "      <td>85 Turner St</td>\n",
              "      <td>2</td>\n",
              "      <td>h</td>\n",
              "      <td>1480000.0</td>\n",
              "      <td>S</td>\n",
              "      <td>Biggin</td>\n",
              "      <td>3/12/2016</td>\n",
              "      <td>2.5</td>\n",
              "      <td>3067.0</td>\n",
              "      <td>2.0</td>\n",
              "      <td>1.0</td>\n",
              "      <td>1.0</td>\n",
              "      <td>202.0</td>\n",
              "      <td>NaN</td>\n",
              "      <td>NaN</td>\n",
              "      <td>Yarra City Council</td>\n",
              "      <td>-37.7996</td>\n",
              "      <td>144.9984</td>\n",
              "      <td>Northern Metropolitan</td>\n",
              "      <td>4019.0</td>\n",
              "    </tr>\n",
              "  </tbody>\n",
              "</table>\n",
              "</div>"
            ],
            "text/plain": [
              "                  Address  Rooms  ...             Regionname  Propertycount\n",
              "Suburb                            ...                                      \n",
              "Abbotsford  68 Studley St      2  ...  Northern Metropolitan         4019.0\n",
              "Abbotsford   85 Turner St      2  ...  Northern Metropolitan         4019.0\n",
              "\n",
              "[2 rows x 20 columns]"
            ]
          },
          "metadata": {
            "tags": []
          },
          "execution_count": 9
        }
      ]
    },
    {
      "cell_type": "markdown",
      "metadata": {
        "id": "TrE5bOiHWaGE",
        "colab_type": "text"
      },
      "source": [
        "### Dropping the `NaN` value rows."
      ]
    },
    {
      "cell_type": "code",
      "metadata": {
        "id": "qUzTOWQhNFr1",
        "colab_type": "code",
        "colab": {
          "base_uri": "https://localhost:8080/",
          "height": 50
        },
        "outputId": "de4566d4-8be8-4ad9-ddd9-f6ffd363329c"
      },
      "source": [
        "print(f'{df.shape}')\n",
        "df = df.dropna(axis='index')\n",
        "print(f'{df.shape}')"
      ],
      "execution_count": 10,
      "outputs": [
        {
          "output_type": "stream",
          "text": [
            "(34857, 20)\n",
            "(8887, 20)\n"
          ],
          "name": "stdout"
        }
      ]
    },
    {
      "cell_type": "code",
      "metadata": {
        "id": "DB8gc1c4NUTE",
        "colab_type": "code",
        "colab": {
          "base_uri": "https://localhost:8080/",
          "height": 121
        },
        "outputId": "c3ac0bea-dad3-439b-9dbd-0119c09961e0"
      },
      "source": [
        "df.columns"
      ],
      "execution_count": 11,
      "outputs": [
        {
          "output_type": "execute_result",
          "data": {
            "text/plain": [
              "Index(['Address', 'Rooms', 'Type', 'Price', 'Method', 'SellerG', 'Date',\n",
              "       'Distance', 'Postcode', 'Bedroom2', 'Bathroom', 'Car', 'Landsize',\n",
              "       'BuildingArea', 'YearBuilt', 'CouncilArea', 'Lattitude', 'Longtitude',\n",
              "       'Regionname', 'Propertycount'],\n",
              "      dtype='object')"
            ]
          },
          "metadata": {
            "tags": []
          },
          "execution_count": 11
        }
      ]
    },
    {
      "cell_type": "markdown",
      "metadata": {
        "id": "rn6XdJuKWorZ",
        "colab_type": "text"
      },
      "source": [
        "### Getting information about the columns.\n",
        "The problem with the `info` method is that it is `printing` instead of `returning` all these information.\n",
        "If it would return it in a `DataFrame/Series` than we could further process these informations."
      ]
    },
    {
      "cell_type": "code",
      "metadata": {
        "id": "dhxzZIzdNrRy",
        "colab_type": "code",
        "colab": {
          "base_uri": "https://localhost:8080/",
          "height": 437
        },
        "outputId": "1c5a1424-d97b-439c-a8b2-0b4432f6a012"
      },
      "source": [
        "df.info()"
      ],
      "execution_count": 12,
      "outputs": [
        {
          "output_type": "stream",
          "text": [
            "<class 'pandas.core.frame.DataFrame'>\n",
            "Index: 8887 entries, Abbotsford to Yarraville\n",
            "Data columns (total 20 columns):\n",
            "Address          8887 non-null object\n",
            "Rooms            8887 non-null int64\n",
            "Type             8887 non-null object\n",
            "Price            8887 non-null float64\n",
            "Method           8887 non-null object\n",
            "SellerG          8887 non-null object\n",
            "Date             8887 non-null object\n",
            "Distance         8887 non-null float64\n",
            "Postcode         8887 non-null float64\n",
            "Bedroom2         8887 non-null float64\n",
            "Bathroom         8887 non-null float64\n",
            "Car              8887 non-null float64\n",
            "Landsize         8887 non-null float64\n",
            "BuildingArea     8887 non-null float64\n",
            "YearBuilt        8887 non-null float64\n",
            "CouncilArea      8887 non-null object\n",
            "Lattitude        8887 non-null float64\n",
            "Longtitude       8887 non-null float64\n",
            "Regionname       8887 non-null object\n",
            "Propertycount    8887 non-null float64\n",
            "dtypes: float64(12), int64(1), object(7)\n",
            "memory usage: 1.7+ MB\n"
          ],
          "name": "stdout"
        }
      ]
    },
    {
      "cell_type": "markdown",
      "metadata": {
        "id": "CDbfN04mXSdW",
        "colab_type": "text"
      },
      "source": [
        "### Trying to `manualy` recreate what the `info` method does.\n",
        "At least the information about the types. "
      ]
    },
    {
      "cell_type": "code",
      "metadata": {
        "id": "PDJyb3UwORT8",
        "colab_type": "code",
        "colab": {
          "base_uri": "https://localhost:8080/",
          "height": 370
        },
        "outputId": "e7c532ee-0430-4cbd-cdb3-61b401c5ca2f"
      },
      "source": [
        "pd.Series(data=[df[_].dtype for _ in list(df.columns)],\n",
        "          index=df.columns)"
      ],
      "execution_count": 15,
      "outputs": [
        {
          "output_type": "execute_result",
          "data": {
            "text/plain": [
              "Address           object\n",
              "Rooms              int64\n",
              "Type              object\n",
              "Price            float64\n",
              "Method            object\n",
              "SellerG           object\n",
              "Date              object\n",
              "Distance         float64\n",
              "Postcode         float64\n",
              "Bedroom2         float64\n",
              "Bathroom         float64\n",
              "Car              float64\n",
              "Landsize         float64\n",
              "BuildingArea     float64\n",
              "YearBuilt        float64\n",
              "CouncilArea       object\n",
              "Lattitude        float64\n",
              "Longtitude       float64\n",
              "Regionname        object\n",
              "Propertycount    float64\n",
              "dtype: object"
            ]
          },
          "metadata": {
            "tags": []
          },
          "execution_count": 15
        }
      ]
    },
    {
      "cell_type": "markdown",
      "metadata": {
        "id": "rCtFXivnUWX5",
        "colab_type": "text"
      },
      "source": [
        "### ...but wait!!!\n",
        "#### what does `dtypes` do?\n",
        "Exactly what we needed. :)\n",
        "`df.dtypes` gives us a Series with all the types.\n",
        "`all_types != 'object'` will give a condition on the `all_types` Series where we exlude the `object` dtypes."
      ]
    },
    {
      "cell_type": "code",
      "metadata": {
        "id": "jU4Hv9sOPNKH",
        "colab_type": "code",
        "colab": {
          "base_uri": "https://localhost:8080/",
          "height": 235
        },
        "outputId": "328cb5c3-54d3-46e6-d0a4-828e4a4c7252"
      },
      "source": [
        "all_types = df.dtypes\n",
        "numerical = all_types[all_types != 'object']\n",
        "feature_indexes = numerical.drop(index=['Price'])\n",
        "feature_indexes"
      ],
      "execution_count": 48,
      "outputs": [
        {
          "output_type": "execute_result",
          "data": {
            "text/plain": [
              "Rooms              int64\n",
              "Distance         float64\n",
              "Postcode         float64\n",
              "Bedroom2         float64\n",
              "Bathroom         float64\n",
              "Car              float64\n",
              "Landsize         float64\n",
              "BuildingArea     float64\n",
              "YearBuilt        float64\n",
              "Lattitude        float64\n",
              "Longtitude       float64\n",
              "Propertycount    float64\n",
              "dtype: object"
            ]
          },
          "metadata": {
            "tags": []
          },
          "execution_count": 48
        }
      ]
    },
    {
      "cell_type": "code",
      "metadata": {
        "id": "5qNhjxpHQGj2",
        "colab_type": "code",
        "colab": {}
      },
      "source": [
        "feature_columns = feature_indexes.index.to_list()\n",
        "X = df[feature_columns]\n",
        "y = df.Price"
      ],
      "execution_count": 0,
      "outputs": []
    },
    {
      "cell_type": "code",
      "metadata": {
        "id": "B7GzbJvzNWMk",
        "colab_type": "code",
        "colab": {}
      },
      "source": [
        "train_x, val_x, train_y, val_y = train_test_split(X, y,\n",
        "                                                  test_size=0.2,\n",
        "                                                  random_state=42)"
      ],
      "execution_count": 0,
      "outputs": []
    },
    {
      "cell_type": "code",
      "metadata": {
        "id": "YGD6-NUxROwu",
        "colab_type": "code",
        "colab": {
          "base_uri": "https://localhost:8080/",
          "height": 121
        },
        "outputId": "7fc14496-b6e0-4a8d-ce5a-5322cfd1f2cf"
      },
      "source": [
        "model = DecisionTreeRegressor(random_state=42)\n",
        "\n",
        "model.fit(X=train_x, y=train_y)"
      ],
      "execution_count": 33,
      "outputs": [
        {
          "output_type": "execute_result",
          "data": {
            "text/plain": [
              "DecisionTreeRegressor(criterion='mse', max_depth=None, max_features=None,\n",
              "                      max_leaf_nodes=None, min_impurity_decrease=0.0,\n",
              "                      min_impurity_split=None, min_samples_leaf=1,\n",
              "                      min_samples_split=2, min_weight_fraction_leaf=0.0,\n",
              "                      presort=False, random_state=42, splitter='best')"
            ]
          },
          "metadata": {
            "tags": []
          },
          "execution_count": 33
        }
      ]
    },
    {
      "cell_type": "code",
      "metadata": {
        "id": "TmLgB6XbRVAK",
        "colab_type": "code",
        "colab": {
          "base_uri": "https://localhost:8080/",
          "height": 34
        },
        "outputId": "43b87c9e-4d84-4334-8b99-45aee50e82b7"
      },
      "source": [
        "val_predictions = model.predict(X=val_x)\n",
        "\n",
        "mean_absolute_error(y_true=val_y, y_pred=val_predictions)"
      ],
      "execution_count": 35,
      "outputs": [
        {
          "output_type": "execute_result",
          "data": {
            "text/plain": [
              "218131.49325084363"
            ]
          },
          "metadata": {
            "tags": []
          },
          "execution_count": 35
        }
      ]
    },
    {
      "cell_type": "markdown",
      "metadata": {
        "id": "zp-JBPerYOYr",
        "colab_type": "text"
      },
      "source": [
        "### Optimal number of leafs.\n",
        "Finding the maximum number of leafs, `max_leaf_nodes` that gives us the minimum `MAE`(\n",
        "Maximum Absolute Error)."
      ]
    },
    {
      "cell_type": "code",
      "metadata": {
        "id": "7iJEuU32Rt9g",
        "colab_type": "code",
        "colab": {
          "base_uri": "https://localhost:8080/",
          "height": 168
        },
        "outputId": "4809fa33-4882-414a-97bb-394b77256eeb"
      },
      "source": [
        "def test_max_leaf_nodes(df, max_leaf_nodes):\n",
        "    model = DecisionTreeRegressor(max_leaf_nodes=max_leaf_nodes,\n",
        "                                  random_state=42)\n",
        "\n",
        "    model.fit(X=train_x, y=train_y)\n",
        "    val_predictions = model.predict(X=val_x)\n",
        "\n",
        "    mae = mean_absolute_error(y_true=val_y, y_pred=val_predictions)\n",
        "    return mae\n",
        "\n",
        "for _ in [5,50,100,200,300,400,500,750, 1000]:\n",
        "    mae = test_max_leaf_nodes(df, max_leaf_nodes=_)\n",
        "    print(f'leafs:{_:4}-->mae:{mae}')"
      ],
      "execution_count": 47,
      "outputs": [
        {
          "output_type": "stream",
          "text": [
            "leafs:   5-->mae:349152.8820785692\n",
            "leafs:  50-->mae:230923.31076974154\n",
            "leafs: 100-->mae:219586.52917835108\n",
            "leafs: 200-->mae:210129.18969362267\n",
            "leafs: 300-->mae:209434.24592241764\n",
            "leafs: 400-->mae:205730.3815403232\n",
            "leafs: 500-->mae:204971.70109087377\n",
            "leafs: 750-->mae:205417.97928965167\n",
            "leafs:1000-->mae:208263.97325585954\n"
          ],
          "name": "stdout"
        }
      ]
    },
    {
      "cell_type": "markdown",
      "metadata": {
        "id": "MGYgmRY1Y7FT",
        "colab_type": "text"
      },
      "source": [
        "### 500 is about right.\n",
        "It looks like that with about 500 maximum leaf we can minimize the `MAE` in our `DecisionTreeRegressor`."
      ]
    },
    {
      "cell_type": "code",
      "metadata": {
        "id": "_oKvIpr0SsyQ",
        "colab_type": "code",
        "colab": {}
      },
      "source": [
        ""
      ],
      "execution_count": 0,
      "outputs": []
    }
  ]
}