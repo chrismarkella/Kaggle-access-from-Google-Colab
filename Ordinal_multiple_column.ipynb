{
  "nbformat": 4,
  "nbformat_minor": 0,
  "metadata": {
    "colab": {
      "name": "Ordinal_multiple_column.ipynb",
      "provenance": [],
      "authorship_tag": "ABX9TyO1F+pmIgZ4i1Q2I/xeQD02",
      "include_colab_link": true
    },
    "kernelspec": {
      "name": "python3",
      "display_name": "Python 3"
    }
  },
  "cells": [
    {
      "cell_type": "markdown",
      "metadata": {
        "id": "view-in-github",
        "colab_type": "text"
      },
      "source": [
        "<a href=\"https://colab.research.google.com/github/chrismarkella/Kaggle-access-from-Google-Colab/blob/master/Ordinal_multiple_column.ipynb\" target=\"_parent\"><img src=\"https://colab.research.google.com/assets/colab-badge.svg\" alt=\"Open In Colab\"/></a>"
      ]
    },
    {
      "cell_type": "code",
      "metadata": {
        "id": "A6gWYK0vgOFA",
        "colab_type": "code",
        "colab": {}
      },
      "source": [
        "import numpy as np\n",
        "import pandas as pd"
      ],
      "execution_count": 0,
      "outputs": []
    },
    {
      "cell_type": "code",
      "metadata": {
        "id": "kngt_WI0gTKe",
        "colab_type": "code",
        "outputId": "35a3f794-e0b3-42b0-eda4-29dd86e61227",
        "colab": {
          "base_uri": "https://localhost:8080/",
          "height": 202
        }
      },
      "source": [
        "ordinal_df = pd.DataFrame(\n",
        "    data={\n",
        "        'Breakfast': [\n",
        "            'Every day',\n",
        "            'Never',\n",
        "            'Rarely',\n",
        "            'Most days',\n",
        "            'Never',\n",
        "        ],\n",
        "        'Lunch': [\n",
        "            'Every day',\n",
        "            'Most days',\n",
        "            'Most days',\n",
        "            'Never',\n",
        "            'Every day',\n",
        "        ],\n",
        "        'Weather': [\n",
        "            'Hot',\n",
        "            'Mild',\n",
        "            'Cold',\n",
        "            'Hot',\n",
        "            'Cold',\n",
        "        ]\n",
        "    },\n",
        "    index= list('ABCDE')\n",
        ")\n",
        "df = ordinal_df.copy()\n",
        "df"
      ],
      "execution_count": 2,
      "outputs": [
        {
          "output_type": "execute_result",
          "data": {
            "text/html": [
              "<div>\n",
              "<style scoped>\n",
              "    .dataframe tbody tr th:only-of-type {\n",
              "        vertical-align: middle;\n",
              "    }\n",
              "\n",
              "    .dataframe tbody tr th {\n",
              "        vertical-align: top;\n",
              "    }\n",
              "\n",
              "    .dataframe thead th {\n",
              "        text-align: right;\n",
              "    }\n",
              "</style>\n",
              "<table border=\"1\" class=\"dataframe\">\n",
              "  <thead>\n",
              "    <tr style=\"text-align: right;\">\n",
              "      <th></th>\n",
              "      <th>Breakfast</th>\n",
              "      <th>Lunch</th>\n",
              "      <th>Weather</th>\n",
              "    </tr>\n",
              "  </thead>\n",
              "  <tbody>\n",
              "    <tr>\n",
              "      <th>A</th>\n",
              "      <td>Every day</td>\n",
              "      <td>Every day</td>\n",
              "      <td>Hot</td>\n",
              "    </tr>\n",
              "    <tr>\n",
              "      <th>B</th>\n",
              "      <td>Never</td>\n",
              "      <td>Most days</td>\n",
              "      <td>Mild</td>\n",
              "    </tr>\n",
              "    <tr>\n",
              "      <th>C</th>\n",
              "      <td>Rarely</td>\n",
              "      <td>Most days</td>\n",
              "      <td>Cold</td>\n",
              "    </tr>\n",
              "    <tr>\n",
              "      <th>D</th>\n",
              "      <td>Most days</td>\n",
              "      <td>Never</td>\n",
              "      <td>Hot</td>\n",
              "    </tr>\n",
              "    <tr>\n",
              "      <th>E</th>\n",
              "      <td>Never</td>\n",
              "      <td>Every day</td>\n",
              "      <td>Cold</td>\n",
              "    </tr>\n",
              "  </tbody>\n",
              "</table>\n",
              "</div>"
            ],
            "text/plain": [
              "   Breakfast      Lunch Weather\n",
              "A  Every day  Every day     Hot\n",
              "B      Never  Most days    Mild\n",
              "C     Rarely  Most days    Cold\n",
              "D  Most days      Never     Hot\n",
              "E      Never  Every day    Cold"
            ]
          },
          "metadata": {
            "tags": []
          },
          "execution_count": 2
        }
      ]
    },
    {
      "cell_type": "code",
      "metadata": {
        "id": "BstRClfVglSb",
        "colab_type": "code",
        "outputId": "1e8f16e3-ff9a-4126-84fc-39ff7204dda4",
        "colab": {
          "base_uri": "https://localhost:8080/",
          "height": 291
        }
      },
      "source": [
        "how_offten_dictionary = {\n",
        "    'Never': 1,\n",
        "    'Rarely': 2,\n",
        "    'Most days': 3,\n",
        "    'Every day': 4,\n",
        "}\n",
        "\n",
        "how_warm_dictionary = {\n",
        "    'Cold': 1,\n",
        "    'Mild': 2,\n",
        "    'Hot': 3,\n",
        "}\n",
        "\n",
        "ordinal_columns = [\n",
        "    ('Breakfast', how_offten_dictionary),\n",
        "    ('Lunch', how_offten_dictionary),\n",
        "    ('Weather', how_warm_dictionary),\n",
        "]\n",
        "\n",
        "for col, col_dict in ordinal_columns:\n",
        "    df[col + '_encoded'] = df[col].map(lambda row: col_dict[row])\n",
        "df"
      ],
      "execution_count": 3,
      "outputs": [
        {
          "output_type": "execute_result",
          "data": {
            "text/html": [
              "<div>\n",
              "<style scoped>\n",
              "    .dataframe tbody tr th:only-of-type {\n",
              "        vertical-align: middle;\n",
              "    }\n",
              "\n",
              "    .dataframe tbody tr th {\n",
              "        vertical-align: top;\n",
              "    }\n",
              "\n",
              "    .dataframe thead th {\n",
              "        text-align: right;\n",
              "    }\n",
              "</style>\n",
              "<table border=\"1\" class=\"dataframe\">\n",
              "  <thead>\n",
              "    <tr style=\"text-align: right;\">\n",
              "      <th></th>\n",
              "      <th>Breakfast</th>\n",
              "      <th>Lunch</th>\n",
              "      <th>Weather</th>\n",
              "      <th>Breakfast_encoded</th>\n",
              "      <th>Lunch_encoded</th>\n",
              "      <th>Weather_encoded</th>\n",
              "    </tr>\n",
              "  </thead>\n",
              "  <tbody>\n",
              "    <tr>\n",
              "      <th>A</th>\n",
              "      <td>Every day</td>\n",
              "      <td>Every day</td>\n",
              "      <td>Hot</td>\n",
              "      <td>4</td>\n",
              "      <td>4</td>\n",
              "      <td>3</td>\n",
              "    </tr>\n",
              "    <tr>\n",
              "      <th>B</th>\n",
              "      <td>Never</td>\n",
              "      <td>Most days</td>\n",
              "      <td>Mild</td>\n",
              "      <td>1</td>\n",
              "      <td>3</td>\n",
              "      <td>2</td>\n",
              "    </tr>\n",
              "    <tr>\n",
              "      <th>C</th>\n",
              "      <td>Rarely</td>\n",
              "      <td>Most days</td>\n",
              "      <td>Cold</td>\n",
              "      <td>2</td>\n",
              "      <td>3</td>\n",
              "      <td>1</td>\n",
              "    </tr>\n",
              "    <tr>\n",
              "      <th>D</th>\n",
              "      <td>Most days</td>\n",
              "      <td>Never</td>\n",
              "      <td>Hot</td>\n",
              "      <td>3</td>\n",
              "      <td>1</td>\n",
              "      <td>3</td>\n",
              "    </tr>\n",
              "    <tr>\n",
              "      <th>E</th>\n",
              "      <td>Never</td>\n",
              "      <td>Every day</td>\n",
              "      <td>Cold</td>\n",
              "      <td>1</td>\n",
              "      <td>4</td>\n",
              "      <td>1</td>\n",
              "    </tr>\n",
              "  </tbody>\n",
              "</table>\n",
              "</div>"
            ],
            "text/plain": [
              "   Breakfast      Lunch  ... Lunch_encoded  Weather_encoded\n",
              "A  Every day  Every day  ...             4                3\n",
              "B      Never  Most days  ...             3                2\n",
              "C     Rarely  Most days  ...             3                1\n",
              "D  Most days      Never  ...             1                3\n",
              "E      Never  Every day  ...             4                1\n",
              "\n",
              "[5 rows x 6 columns]"
            ]
          },
          "metadata": {
            "tags": []
          },
          "execution_count": 3
        }
      ]
    },
    {
      "cell_type": "code",
      "metadata": {
        "id": "-1EY2tzpodzx",
        "colab_type": "code",
        "colab": {}
      },
      "source": [
        ""
      ],
      "execution_count": 0,
      "outputs": []
    }
  ]
}