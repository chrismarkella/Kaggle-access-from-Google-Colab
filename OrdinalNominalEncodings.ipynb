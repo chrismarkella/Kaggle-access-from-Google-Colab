{
  "nbformat": 4,
  "nbformat_minor": 0,
  "metadata": {
    "colab": {
      "name": "OrdinalNominalEncodings.ipynb",
      "provenance": [],
      "authorship_tag": "ABX9TyOI+9kfujn3463rc/ouI0BJ",
      "include_colab_link": true
    },
    "kernelspec": {
      "name": "python3",
      "display_name": "Python 3"
    }
  },
  "cells": [
    {
      "cell_type": "markdown",
      "metadata": {
        "id": "view-in-github",
        "colab_type": "text"
      },
      "source": [
        "<a href=\"https://colab.research.google.com/github/chrismarkella/Kaggle-access-from-Google-Colab/blob/master/OrdinalNominalEncodings.ipynb\" target=\"_parent\"><img src=\"https://colab.research.google.com/assets/colab-badge.svg\" alt=\"Open In Colab\"/></a>"
      ]
    },
    {
      "cell_type": "code",
      "metadata": {
        "id": "kllyDgBfVeM4",
        "colab_type": "code",
        "colab": {}
      },
      "source": [
        "import numpy as np\n",
        "import pandas as pd"
      ],
      "execution_count": 0,
      "outputs": []
    },
    {
      "cell_type": "code",
      "metadata": {
        "id": "wlKFtDMTVuXl",
        "colab_type": "code",
        "colab": {
          "base_uri": "https://localhost:8080/",
          "height": 202
        },
        "outputId": "197fa28d-9a43-4199-965d-3de35bba62aa"
      },
      "source": [
        "color_col = [\n",
        "    'Red',\n",
        "    'Blue',\n",
        "    'Yellow',\n",
        "    'Red',\n",
        "    'Red',\n",
        "]\n",
        "\n",
        "breakfast_col = [\n",
        "    'Every day',\n",
        "    'Never',\n",
        "    'Rarely',\n",
        "    'Most days',\n",
        "    'Never',\n",
        "    ]\n",
        "\n",
        "age_col = [\n",
        "    6, 8, 10, 7, 43,\n",
        "]\n",
        "\n",
        "brand_col = [\n",
        "    'Toyota',\n",
        "    'Mercedes',\n",
        "    'Mercedes',\n",
        "    'Tesla',\n",
        "    'Tesla',\n",
        "]\n",
        "\n",
        "weather_col = [\n",
        "    'Hot',\n",
        "    'Cold',\n",
        "    'Cold',\n",
        "    'Cold',\n",
        "    'Cold',\n",
        "]\n",
        "\n",
        "df = pd.DataFrame(\n",
        "    data={\n",
        "        'Color': color_col,\n",
        "        'Breakfast': breakfast_col,\n",
        "        'Age': age_col,\n",
        "        'Brand': brand_col,\n",
        "        'Weather': weather_col,\n",
        "    },\n",
        "    index=list('ABCDE')\n",
        ")\n",
        "df"
      ],
      "execution_count": 2,
      "outputs": [
        {
          "output_type": "execute_result",
          "data": {
            "text/html": [
              "<div>\n",
              "<style scoped>\n",
              "    .dataframe tbody tr th:only-of-type {\n",
              "        vertical-align: middle;\n",
              "    }\n",
              "\n",
              "    .dataframe tbody tr th {\n",
              "        vertical-align: top;\n",
              "    }\n",
              "\n",
              "    .dataframe thead th {\n",
              "        text-align: right;\n",
              "    }\n",
              "</style>\n",
              "<table border=\"1\" class=\"dataframe\">\n",
              "  <thead>\n",
              "    <tr style=\"text-align: right;\">\n",
              "      <th></th>\n",
              "      <th>Color</th>\n",
              "      <th>Breakfast</th>\n",
              "      <th>Age</th>\n",
              "      <th>Brand</th>\n",
              "      <th>Weather</th>\n",
              "    </tr>\n",
              "  </thead>\n",
              "  <tbody>\n",
              "    <tr>\n",
              "      <th>A</th>\n",
              "      <td>Red</td>\n",
              "      <td>Every day</td>\n",
              "      <td>6</td>\n",
              "      <td>Toyota</td>\n",
              "      <td>Hot</td>\n",
              "    </tr>\n",
              "    <tr>\n",
              "      <th>B</th>\n",
              "      <td>Blue</td>\n",
              "      <td>Never</td>\n",
              "      <td>8</td>\n",
              "      <td>Mercedes</td>\n",
              "      <td>Cold</td>\n",
              "    </tr>\n",
              "    <tr>\n",
              "      <th>C</th>\n",
              "      <td>Yellow</td>\n",
              "      <td>Rarely</td>\n",
              "      <td>10</td>\n",
              "      <td>Mercedes</td>\n",
              "      <td>Cold</td>\n",
              "    </tr>\n",
              "    <tr>\n",
              "      <th>D</th>\n",
              "      <td>Red</td>\n",
              "      <td>Most days</td>\n",
              "      <td>7</td>\n",
              "      <td>Tesla</td>\n",
              "      <td>Cold</td>\n",
              "    </tr>\n",
              "    <tr>\n",
              "      <th>E</th>\n",
              "      <td>Red</td>\n",
              "      <td>Never</td>\n",
              "      <td>43</td>\n",
              "      <td>Tesla</td>\n",
              "      <td>Cold</td>\n",
              "    </tr>\n",
              "  </tbody>\n",
              "</table>\n",
              "</div>"
            ],
            "text/plain": [
              "    Color  Breakfast  Age     Brand Weather\n",
              "A     Red  Every day    6    Toyota     Hot\n",
              "B    Blue      Never    8  Mercedes    Cold\n",
              "C  Yellow     Rarely   10  Mercedes    Cold\n",
              "D     Red  Most days    7     Tesla    Cold\n",
              "E     Red      Never   43     Tesla    Cold"
            ]
          },
          "metadata": {
            "tags": []
          },
          "execution_count": 2
        }
      ]
    },
    {
      "cell_type": "code",
      "metadata": {
        "id": "UhSFrJqrXAGm",
        "colab_type": "code",
        "colab": {
          "base_uri": "https://localhost:8080/",
          "height": 202
        },
        "outputId": "37f20723-8fc1-4168-9f7b-d42e3a71cfde"
      },
      "source": [
        "numerical_df = df.select_dtypes(exclude=['object'])\n",
        "\n",
        "categorical_df = df.select_dtypes(include=['object'])\n",
        "categorical_df"
      ],
      "execution_count": 3,
      "outputs": [
        {
          "output_type": "execute_result",
          "data": {
            "text/html": [
              "<div>\n",
              "<style scoped>\n",
              "    .dataframe tbody tr th:only-of-type {\n",
              "        vertical-align: middle;\n",
              "    }\n",
              "\n",
              "    .dataframe tbody tr th {\n",
              "        vertical-align: top;\n",
              "    }\n",
              "\n",
              "    .dataframe thead th {\n",
              "        text-align: right;\n",
              "    }\n",
              "</style>\n",
              "<table border=\"1\" class=\"dataframe\">\n",
              "  <thead>\n",
              "    <tr style=\"text-align: right;\">\n",
              "      <th></th>\n",
              "      <th>Color</th>\n",
              "      <th>Breakfast</th>\n",
              "      <th>Brand</th>\n",
              "      <th>Weather</th>\n",
              "    </tr>\n",
              "  </thead>\n",
              "  <tbody>\n",
              "    <tr>\n",
              "      <th>A</th>\n",
              "      <td>Red</td>\n",
              "      <td>Every day</td>\n",
              "      <td>Toyota</td>\n",
              "      <td>Hot</td>\n",
              "    </tr>\n",
              "    <tr>\n",
              "      <th>B</th>\n",
              "      <td>Blue</td>\n",
              "      <td>Never</td>\n",
              "      <td>Mercedes</td>\n",
              "      <td>Cold</td>\n",
              "    </tr>\n",
              "    <tr>\n",
              "      <th>C</th>\n",
              "      <td>Yellow</td>\n",
              "      <td>Rarely</td>\n",
              "      <td>Mercedes</td>\n",
              "      <td>Cold</td>\n",
              "    </tr>\n",
              "    <tr>\n",
              "      <th>D</th>\n",
              "      <td>Red</td>\n",
              "      <td>Most days</td>\n",
              "      <td>Tesla</td>\n",
              "      <td>Cold</td>\n",
              "    </tr>\n",
              "    <tr>\n",
              "      <th>E</th>\n",
              "      <td>Red</td>\n",
              "      <td>Never</td>\n",
              "      <td>Tesla</td>\n",
              "      <td>Cold</td>\n",
              "    </tr>\n",
              "  </tbody>\n",
              "</table>\n",
              "</div>"
            ],
            "text/plain": [
              "    Color  Breakfast     Brand Weather\n",
              "A     Red  Every day    Toyota     Hot\n",
              "B    Blue      Never  Mercedes    Cold\n",
              "C  Yellow     Rarely  Mercedes    Cold\n",
              "D     Red  Most days     Tesla    Cold\n",
              "E     Red      Never     Tesla    Cold"
            ]
          },
          "metadata": {
            "tags": []
          },
          "execution_count": 3
        }
      ]
    },
    {
      "cell_type": "code",
      "metadata": {
        "id": "bEx1ReSBgs5K",
        "colab_type": "code",
        "colab": {
          "base_uri": "https://localhost:8080/",
          "height": 202
        },
        "outputId": "5b2614be-e2f3-44c0-8019-2f3dd3887581"
      },
      "source": [
        "numerical_df"
      ],
      "execution_count": 4,
      "outputs": [
        {
          "output_type": "execute_result",
          "data": {
            "text/html": [
              "<div>\n",
              "<style scoped>\n",
              "    .dataframe tbody tr th:only-of-type {\n",
              "        vertical-align: middle;\n",
              "    }\n",
              "\n",
              "    .dataframe tbody tr th {\n",
              "        vertical-align: top;\n",
              "    }\n",
              "\n",
              "    .dataframe thead th {\n",
              "        text-align: right;\n",
              "    }\n",
              "</style>\n",
              "<table border=\"1\" class=\"dataframe\">\n",
              "  <thead>\n",
              "    <tr style=\"text-align: right;\">\n",
              "      <th></th>\n",
              "      <th>Age</th>\n",
              "    </tr>\n",
              "  </thead>\n",
              "  <tbody>\n",
              "    <tr>\n",
              "      <th>A</th>\n",
              "      <td>6</td>\n",
              "    </tr>\n",
              "    <tr>\n",
              "      <th>B</th>\n",
              "      <td>8</td>\n",
              "    </tr>\n",
              "    <tr>\n",
              "      <th>C</th>\n",
              "      <td>10</td>\n",
              "    </tr>\n",
              "    <tr>\n",
              "      <th>D</th>\n",
              "      <td>7</td>\n",
              "    </tr>\n",
              "    <tr>\n",
              "      <th>E</th>\n",
              "      <td>43</td>\n",
              "    </tr>\n",
              "  </tbody>\n",
              "</table>\n",
              "</div>"
            ],
            "text/plain": [
              "   Age\n",
              "A    6\n",
              "B    8\n",
              "C   10\n",
              "D    7\n",
              "E   43"
            ]
          },
          "metadata": {
            "tags": []
          },
          "execution_count": 4
        }
      ]
    },
    {
      "cell_type": "code",
      "metadata": {
        "id": "7G0tzfTUX7gt",
        "colab_type": "code",
        "colab": {
          "base_uri": "https://localhost:8080/",
          "height": 485
        },
        "outputId": "6b93387b-a16c-49d9-e260-4d52ed02dbc8"
      },
      "source": [
        "for col in categorical_df.columns:\n",
        "    print(f'{col:10} has {categorical_df[col].nunique():3} unique categories.')\n",
        "\n",
        "new_line = '\\n'\n",
        "dash = '-'\n",
        "print(f'{new_line}distribution of categories by columns{new_line}{dash*45}')\n",
        "\n",
        "for col in categorical_df.columns:\n",
        "    print(f'{categorical_df[col].value_counts()}{new_line}')"
      ],
      "execution_count": 5,
      "outputs": [
        {
          "output_type": "stream",
          "text": [
            "Color      has   3 unique categories.\n",
            "Breakfast  has   4 unique categories.\n",
            "Brand      has   3 unique categories.\n",
            "Weather    has   2 unique categories.\n",
            "\n",
            "distribution of categories by columns\n",
            "---------------------------------------------\n",
            "Red       3\n",
            "Yellow    1\n",
            "Blue      1\n",
            "Name: Color, dtype: int64\n",
            "\n",
            "Never        2\n",
            "Most days    1\n",
            "Every day    1\n",
            "Rarely       1\n",
            "Name: Breakfast, dtype: int64\n",
            "\n",
            "Tesla       2\n",
            "Mercedes    2\n",
            "Toyota      1\n",
            "Name: Brand, dtype: int64\n",
            "\n",
            "Cold    4\n",
            "Hot     1\n",
            "Name: Weather, dtype: int64\n",
            "\n"
          ],
          "name": "stdout"
        }
      ]
    },
    {
      "cell_type": "code",
      "metadata": {
        "id": "KbHWhOJRYuGH",
        "colab_type": "code",
        "colab": {}
      },
      "source": [
        "nominal_columns = [\n",
        "    'Color',\n",
        "    'Brand',\n",
        "]\n",
        "\n",
        "ordinal_columns = [\n",
        "    'Breakfast',\n",
        "    'Weather',\n",
        "]\n",
        "\n",
        "breakfast_rank_dict = {\n",
        "    'Never': 1,\n",
        "    'Rarely': 2,\n",
        "    'Most days': 3,\n",
        "    'Every day': 4,\n",
        "}\n",
        "\n",
        "weather_rank_dict = {\n",
        "    'Cold': 1,\n",
        "    'Hot': 2,\n",
        "}\n",
        "\n",
        "ordinal_rank_dict = {\n",
        "    'Breakfast': breakfast_rank_dict,\n",
        "    'Weather': weather_rank_dict,\n",
        "}"
      ],
      "execution_count": 0,
      "outputs": []
    },
    {
      "cell_type": "code",
      "metadata": {
        "id": "zxbwrWYfakjt",
        "colab_type": "code",
        "colab": {
          "base_uri": "https://localhost:8080/",
          "height": 35
        },
        "outputId": "bf0768c7-7899-4d2e-f2ed-9581de9b6d51"
      },
      "source": [
        "ordinal_rank_dict['Breakfast']"
      ],
      "execution_count": 7,
      "outputs": [
        {
          "output_type": "execute_result",
          "data": {
            "text/plain": [
              "{'Every day': 4, 'Most days': 3, 'Never': 1, 'Rarely': 2}"
            ]
          },
          "metadata": {
            "tags": []
          },
          "execution_count": 7
        }
      ]
    },
    {
      "cell_type": "code",
      "metadata": {
        "id": "e9V47JqgbvqK",
        "colab_type": "code",
        "colab": {
          "base_uri": "https://localhost:8080/",
          "height": 35
        },
        "outputId": "1323c470-dfe9-4956-9bed-a610463ee18b"
      },
      "source": [
        "ordinal_rank_dict['Weather']"
      ],
      "execution_count": 8,
      "outputs": [
        {
          "output_type": "execute_result",
          "data": {
            "text/plain": [
              "{'Cold': 1, 'Hot': 2}"
            ]
          },
          "metadata": {
            "tags": []
          },
          "execution_count": 8
        }
      ]
    },
    {
      "cell_type": "code",
      "metadata": {
        "id": "GqX3YqNEhM0p",
        "colab_type": "code",
        "colab": {
          "base_uri": "https://localhost:8080/",
          "height": 202
        },
        "outputId": "d79d5bd1-688b-40c7-f842-e1563a289d3f"
      },
      "source": [
        "ordinal_df = categorical_df[ordinal_columns].copy()\n",
        "nominal_df = categorical_df[nominal_columns].copy()\n",
        "nominal_df"
      ],
      "execution_count": 9,
      "outputs": [
        {
          "output_type": "execute_result",
          "data": {
            "text/html": [
              "<div>\n",
              "<style scoped>\n",
              "    .dataframe tbody tr th:only-of-type {\n",
              "        vertical-align: middle;\n",
              "    }\n",
              "\n",
              "    .dataframe tbody tr th {\n",
              "        vertical-align: top;\n",
              "    }\n",
              "\n",
              "    .dataframe thead th {\n",
              "        text-align: right;\n",
              "    }\n",
              "</style>\n",
              "<table border=\"1\" class=\"dataframe\">\n",
              "  <thead>\n",
              "    <tr style=\"text-align: right;\">\n",
              "      <th></th>\n",
              "      <th>Color</th>\n",
              "      <th>Brand</th>\n",
              "    </tr>\n",
              "  </thead>\n",
              "  <tbody>\n",
              "    <tr>\n",
              "      <th>A</th>\n",
              "      <td>Red</td>\n",
              "      <td>Toyota</td>\n",
              "    </tr>\n",
              "    <tr>\n",
              "      <th>B</th>\n",
              "      <td>Blue</td>\n",
              "      <td>Mercedes</td>\n",
              "    </tr>\n",
              "    <tr>\n",
              "      <th>C</th>\n",
              "      <td>Yellow</td>\n",
              "      <td>Mercedes</td>\n",
              "    </tr>\n",
              "    <tr>\n",
              "      <th>D</th>\n",
              "      <td>Red</td>\n",
              "      <td>Tesla</td>\n",
              "    </tr>\n",
              "    <tr>\n",
              "      <th>E</th>\n",
              "      <td>Red</td>\n",
              "      <td>Tesla</td>\n",
              "    </tr>\n",
              "  </tbody>\n",
              "</table>\n",
              "</div>"
            ],
            "text/plain": [
              "    Color     Brand\n",
              "A     Red    Toyota\n",
              "B    Blue  Mercedes\n",
              "C  Yellow  Mercedes\n",
              "D     Red     Tesla\n",
              "E     Red     Tesla"
            ]
          },
          "metadata": {
            "tags": []
          },
          "execution_count": 9
        }
      ]
    },
    {
      "cell_type": "code",
      "metadata": {
        "id": "T738QBaOhjr8",
        "colab_type": "code",
        "colab": {
          "base_uri": "https://localhost:8080/",
          "height": 202
        },
        "outputId": "2f82c005-1093-484c-8735-d0f7a1cf6b58"
      },
      "source": [
        "ordinal_df"
      ],
      "execution_count": 10,
      "outputs": [
        {
          "output_type": "execute_result",
          "data": {
            "text/html": [
              "<div>\n",
              "<style scoped>\n",
              "    .dataframe tbody tr th:only-of-type {\n",
              "        vertical-align: middle;\n",
              "    }\n",
              "\n",
              "    .dataframe tbody tr th {\n",
              "        vertical-align: top;\n",
              "    }\n",
              "\n",
              "    .dataframe thead th {\n",
              "        text-align: right;\n",
              "    }\n",
              "</style>\n",
              "<table border=\"1\" class=\"dataframe\">\n",
              "  <thead>\n",
              "    <tr style=\"text-align: right;\">\n",
              "      <th></th>\n",
              "      <th>Breakfast</th>\n",
              "      <th>Weather</th>\n",
              "    </tr>\n",
              "  </thead>\n",
              "  <tbody>\n",
              "    <tr>\n",
              "      <th>A</th>\n",
              "      <td>Every day</td>\n",
              "      <td>Hot</td>\n",
              "    </tr>\n",
              "    <tr>\n",
              "      <th>B</th>\n",
              "      <td>Never</td>\n",
              "      <td>Cold</td>\n",
              "    </tr>\n",
              "    <tr>\n",
              "      <th>C</th>\n",
              "      <td>Rarely</td>\n",
              "      <td>Cold</td>\n",
              "    </tr>\n",
              "    <tr>\n",
              "      <th>D</th>\n",
              "      <td>Most days</td>\n",
              "      <td>Cold</td>\n",
              "    </tr>\n",
              "    <tr>\n",
              "      <th>E</th>\n",
              "      <td>Never</td>\n",
              "      <td>Cold</td>\n",
              "    </tr>\n",
              "  </tbody>\n",
              "</table>\n",
              "</div>"
            ],
            "text/plain": [
              "   Breakfast Weather\n",
              "A  Every day     Hot\n",
              "B      Never    Cold\n",
              "C     Rarely    Cold\n",
              "D  Most days    Cold\n",
              "E      Never    Cold"
            ]
          },
          "metadata": {
            "tags": []
          },
          "execution_count": 10
        }
      ]
    },
    {
      "cell_type": "code",
      "metadata": {
        "id": "YcNGVNR8fOvX",
        "colab_type": "code",
        "colab": {
          "base_uri": "https://localhost:8080/",
          "height": 202
        },
        "outputId": "c1192118-be2f-4960-d56b-233a6f756ffa"
      },
      "source": [
        "for col in ordinal_columns:\n",
        "    ordinal_df[col + '_encoded'] = ordinal_df[col].map(lambda category: ordinal_rank_dict[col][category])\n",
        "\n",
        "ordinal_df"
      ],
      "execution_count": 11,
      "outputs": [
        {
          "output_type": "execute_result",
          "data": {
            "text/html": [
              "<div>\n",
              "<style scoped>\n",
              "    .dataframe tbody tr th:only-of-type {\n",
              "        vertical-align: middle;\n",
              "    }\n",
              "\n",
              "    .dataframe tbody tr th {\n",
              "        vertical-align: top;\n",
              "    }\n",
              "\n",
              "    .dataframe thead th {\n",
              "        text-align: right;\n",
              "    }\n",
              "</style>\n",
              "<table border=\"1\" class=\"dataframe\">\n",
              "  <thead>\n",
              "    <tr style=\"text-align: right;\">\n",
              "      <th></th>\n",
              "      <th>Breakfast</th>\n",
              "      <th>Weather</th>\n",
              "      <th>Breakfast_encoded</th>\n",
              "      <th>Weather_encoded</th>\n",
              "    </tr>\n",
              "  </thead>\n",
              "  <tbody>\n",
              "    <tr>\n",
              "      <th>A</th>\n",
              "      <td>Every day</td>\n",
              "      <td>Hot</td>\n",
              "      <td>4</td>\n",
              "      <td>2</td>\n",
              "    </tr>\n",
              "    <tr>\n",
              "      <th>B</th>\n",
              "      <td>Never</td>\n",
              "      <td>Cold</td>\n",
              "      <td>1</td>\n",
              "      <td>1</td>\n",
              "    </tr>\n",
              "    <tr>\n",
              "      <th>C</th>\n",
              "      <td>Rarely</td>\n",
              "      <td>Cold</td>\n",
              "      <td>2</td>\n",
              "      <td>1</td>\n",
              "    </tr>\n",
              "    <tr>\n",
              "      <th>D</th>\n",
              "      <td>Most days</td>\n",
              "      <td>Cold</td>\n",
              "      <td>3</td>\n",
              "      <td>1</td>\n",
              "    </tr>\n",
              "    <tr>\n",
              "      <th>E</th>\n",
              "      <td>Never</td>\n",
              "      <td>Cold</td>\n",
              "      <td>1</td>\n",
              "      <td>1</td>\n",
              "    </tr>\n",
              "  </tbody>\n",
              "</table>\n",
              "</div>"
            ],
            "text/plain": [
              "   Breakfast Weather  Breakfast_encoded  Weather_encoded\n",
              "A  Every day     Hot                  4                2\n",
              "B      Never    Cold                  1                1\n",
              "C     Rarely    Cold                  2                1\n",
              "D  Most days    Cold                  3                1\n",
              "E      Never    Cold                  1                1"
            ]
          },
          "metadata": {
            "tags": []
          },
          "execution_count": 11
        }
      ]
    },
    {
      "cell_type": "code",
      "metadata": {
        "id": "YVrXQXT1h3sx",
        "colab_type": "code",
        "colab": {
          "base_uri": "https://localhost:8080/",
          "height": 104
        },
        "outputId": "5fa41604-ea01-4f23-d3c1-ab28ee9572b0"
      },
      "source": [
        "from sklearn.preprocessing import OneHotEncoder\n",
        "\n",
        "one_hot_encoder = OneHotEncoder(sparse=False)\n",
        "\n",
        "one_hot_encoded_array = one_hot_encoder.fit_transform(nominal_df)\n",
        "one_hot_encoded_array"
      ],
      "execution_count": 12,
      "outputs": [
        {
          "output_type": "execute_result",
          "data": {
            "text/plain": [
              "array([[0., 1., 0., 0., 0., 1.],\n",
              "       [1., 0., 0., 1., 0., 0.],\n",
              "       [0., 0., 1., 1., 0., 0.],\n",
              "       [0., 1., 0., 0., 1., 0.],\n",
              "       [0., 1., 0., 0., 1., 0.]])"
            ]
          },
          "metadata": {
            "tags": []
          },
          "execution_count": 12
        }
      ]
    },
    {
      "cell_type": "code",
      "metadata": {
        "id": "B-WbkP_piTr3",
        "colab_type": "code",
        "colab": {
          "base_uri": "https://localhost:8080/",
          "height": 35
        },
        "outputId": "7bf62ca7-11dd-4191-f4b4-c14c567a7d9b"
      },
      "source": [
        "all_categories = []\n",
        "for categories in one_hot_encoder.categories_:\n",
        "    all_categories.extend(categories)\n",
        "all_categories"
      ],
      "execution_count": 13,
      "outputs": [
        {
          "output_type": "execute_result",
          "data": {
            "text/plain": [
              "['Blue', 'Red', 'Yellow', 'Mercedes', 'Tesla', 'Toyota']"
            ]
          },
          "metadata": {
            "tags": []
          },
          "execution_count": 13
        }
      ]
    },
    {
      "cell_type": "code",
      "metadata": {
        "id": "mDyYI7OTiygh",
        "colab_type": "code",
        "colab": {
          "base_uri": "https://localhost:8080/",
          "height": 202
        },
        "outputId": "c5b8a839-48de-45dd-b370-4cf557eed4f9"
      },
      "source": [
        "one_hot_df = pd.DataFrame(data=one_hot_encoded_array,\n",
        "             columns=all_categories,\n",
        "             index=nominal_df.index)\n",
        "one_hot_df"
      ],
      "execution_count": 14,
      "outputs": [
        {
          "output_type": "execute_result",
          "data": {
            "text/html": [
              "<div>\n",
              "<style scoped>\n",
              "    .dataframe tbody tr th:only-of-type {\n",
              "        vertical-align: middle;\n",
              "    }\n",
              "\n",
              "    .dataframe tbody tr th {\n",
              "        vertical-align: top;\n",
              "    }\n",
              "\n",
              "    .dataframe thead th {\n",
              "        text-align: right;\n",
              "    }\n",
              "</style>\n",
              "<table border=\"1\" class=\"dataframe\">\n",
              "  <thead>\n",
              "    <tr style=\"text-align: right;\">\n",
              "      <th></th>\n",
              "      <th>Blue</th>\n",
              "      <th>Red</th>\n",
              "      <th>Yellow</th>\n",
              "      <th>Mercedes</th>\n",
              "      <th>Tesla</th>\n",
              "      <th>Toyota</th>\n",
              "    </tr>\n",
              "  </thead>\n",
              "  <tbody>\n",
              "    <tr>\n",
              "      <th>A</th>\n",
              "      <td>0.0</td>\n",
              "      <td>1.0</td>\n",
              "      <td>0.0</td>\n",
              "      <td>0.0</td>\n",
              "      <td>0.0</td>\n",
              "      <td>1.0</td>\n",
              "    </tr>\n",
              "    <tr>\n",
              "      <th>B</th>\n",
              "      <td>1.0</td>\n",
              "      <td>0.0</td>\n",
              "      <td>0.0</td>\n",
              "      <td>1.0</td>\n",
              "      <td>0.0</td>\n",
              "      <td>0.0</td>\n",
              "    </tr>\n",
              "    <tr>\n",
              "      <th>C</th>\n",
              "      <td>0.0</td>\n",
              "      <td>0.0</td>\n",
              "      <td>1.0</td>\n",
              "      <td>1.0</td>\n",
              "      <td>0.0</td>\n",
              "      <td>0.0</td>\n",
              "    </tr>\n",
              "    <tr>\n",
              "      <th>D</th>\n",
              "      <td>0.0</td>\n",
              "      <td>1.0</td>\n",
              "      <td>0.0</td>\n",
              "      <td>0.0</td>\n",
              "      <td>1.0</td>\n",
              "      <td>0.0</td>\n",
              "    </tr>\n",
              "    <tr>\n",
              "      <th>E</th>\n",
              "      <td>0.0</td>\n",
              "      <td>1.0</td>\n",
              "      <td>0.0</td>\n",
              "      <td>0.0</td>\n",
              "      <td>1.0</td>\n",
              "      <td>0.0</td>\n",
              "    </tr>\n",
              "  </tbody>\n",
              "</table>\n",
              "</div>"
            ],
            "text/plain": [
              "   Blue  Red  Yellow  Mercedes  Tesla  Toyota\n",
              "A   0.0  1.0     0.0       0.0    0.0     1.0\n",
              "B   1.0  0.0     0.0       1.0    0.0     0.0\n",
              "C   0.0  0.0     1.0       1.0    0.0     0.0\n",
              "D   0.0  1.0     0.0       0.0    1.0     0.0\n",
              "E   0.0  1.0     0.0       0.0    1.0     0.0"
            ]
          },
          "metadata": {
            "tags": []
          },
          "execution_count": 14
        }
      ]
    },
    {
      "cell_type": "code",
      "metadata": {
        "id": "qEEThJ4YjHZv",
        "colab_type": "code",
        "colab": {
          "base_uri": "https://localhost:8080/",
          "height": 222
        },
        "outputId": "de53c779-8050-41e9-a526-bd876165d918"
      },
      "source": [
        "encoded_categorical_df = pd.concat(\n",
        "    [ordinal_df,\n",
        "     nominal_df,\n",
        "     one_hot_df,\n",
        "    ],\n",
        "    axis='columns'\n",
        ")\n",
        "\n",
        "dataframes = [\n",
        "    numerical_df,\n",
        "    encoded_categorical_df,\n",
        "]\n",
        "\n",
        "pd.concat(dataframes, axis='columns')"
      ],
      "execution_count": 15,
      "outputs": [
        {
          "output_type": "execute_result",
          "data": {
            "text/html": [
              "<div>\n",
              "<style scoped>\n",
              "    .dataframe tbody tr th:only-of-type {\n",
              "        vertical-align: middle;\n",
              "    }\n",
              "\n",
              "    .dataframe tbody tr th {\n",
              "        vertical-align: top;\n",
              "    }\n",
              "\n",
              "    .dataframe thead th {\n",
              "        text-align: right;\n",
              "    }\n",
              "</style>\n",
              "<table border=\"1\" class=\"dataframe\">\n",
              "  <thead>\n",
              "    <tr style=\"text-align: right;\">\n",
              "      <th></th>\n",
              "      <th>Age</th>\n",
              "      <th>Breakfast</th>\n",
              "      <th>Weather</th>\n",
              "      <th>Breakfast_encoded</th>\n",
              "      <th>Weather_encoded</th>\n",
              "      <th>Color</th>\n",
              "      <th>Brand</th>\n",
              "      <th>Blue</th>\n",
              "      <th>Red</th>\n",
              "      <th>Yellow</th>\n",
              "      <th>Mercedes</th>\n",
              "      <th>Tesla</th>\n",
              "      <th>Toyota</th>\n",
              "    </tr>\n",
              "  </thead>\n",
              "  <tbody>\n",
              "    <tr>\n",
              "      <th>A</th>\n",
              "      <td>6</td>\n",
              "      <td>Every day</td>\n",
              "      <td>Hot</td>\n",
              "      <td>4</td>\n",
              "      <td>2</td>\n",
              "      <td>Red</td>\n",
              "      <td>Toyota</td>\n",
              "      <td>0.0</td>\n",
              "      <td>1.0</td>\n",
              "      <td>0.0</td>\n",
              "      <td>0.0</td>\n",
              "      <td>0.0</td>\n",
              "      <td>1.0</td>\n",
              "    </tr>\n",
              "    <tr>\n",
              "      <th>B</th>\n",
              "      <td>8</td>\n",
              "      <td>Never</td>\n",
              "      <td>Cold</td>\n",
              "      <td>1</td>\n",
              "      <td>1</td>\n",
              "      <td>Blue</td>\n",
              "      <td>Mercedes</td>\n",
              "      <td>1.0</td>\n",
              "      <td>0.0</td>\n",
              "      <td>0.0</td>\n",
              "      <td>1.0</td>\n",
              "      <td>0.0</td>\n",
              "      <td>0.0</td>\n",
              "    </tr>\n",
              "    <tr>\n",
              "      <th>C</th>\n",
              "      <td>10</td>\n",
              "      <td>Rarely</td>\n",
              "      <td>Cold</td>\n",
              "      <td>2</td>\n",
              "      <td>1</td>\n",
              "      <td>Yellow</td>\n",
              "      <td>Mercedes</td>\n",
              "      <td>0.0</td>\n",
              "      <td>0.0</td>\n",
              "      <td>1.0</td>\n",
              "      <td>1.0</td>\n",
              "      <td>0.0</td>\n",
              "      <td>0.0</td>\n",
              "    </tr>\n",
              "    <tr>\n",
              "      <th>D</th>\n",
              "      <td>7</td>\n",
              "      <td>Most days</td>\n",
              "      <td>Cold</td>\n",
              "      <td>3</td>\n",
              "      <td>1</td>\n",
              "      <td>Red</td>\n",
              "      <td>Tesla</td>\n",
              "      <td>0.0</td>\n",
              "      <td>1.0</td>\n",
              "      <td>0.0</td>\n",
              "      <td>0.0</td>\n",
              "      <td>1.0</td>\n",
              "      <td>0.0</td>\n",
              "    </tr>\n",
              "    <tr>\n",
              "      <th>E</th>\n",
              "      <td>43</td>\n",
              "      <td>Never</td>\n",
              "      <td>Cold</td>\n",
              "      <td>1</td>\n",
              "      <td>1</td>\n",
              "      <td>Red</td>\n",
              "      <td>Tesla</td>\n",
              "      <td>0.0</td>\n",
              "      <td>1.0</td>\n",
              "      <td>0.0</td>\n",
              "      <td>0.0</td>\n",
              "      <td>1.0</td>\n",
              "      <td>0.0</td>\n",
              "    </tr>\n",
              "  </tbody>\n",
              "</table>\n",
              "</div>"
            ],
            "text/plain": [
              "   Age  Breakfast Weather  Breakfast_encoded  ...  Yellow Mercedes Tesla  Toyota\n",
              "A    6  Every day     Hot                  4  ...     0.0      0.0   0.0     1.0\n",
              "B    8      Never    Cold                  1  ...     0.0      1.0   0.0     0.0\n",
              "C   10     Rarely    Cold                  2  ...     1.0      1.0   0.0     0.0\n",
              "D    7  Most days    Cold                  3  ...     0.0      0.0   1.0     0.0\n",
              "E   43      Never    Cold                  1  ...     0.0      0.0   1.0     0.0\n",
              "\n",
              "[5 rows x 13 columns]"
            ]
          },
          "metadata": {
            "tags": []
          },
          "execution_count": 15
        }
      ]
    },
    {
      "cell_type": "code",
      "metadata": {
        "id": "v7qgfz7IkCmy",
        "colab_type": "code",
        "colab": {}
      },
      "source": [
        ""
      ],
      "execution_count": 0,
      "outputs": []
    }
  ]
}