{
  "nbformat": 4,
  "nbformat_minor": 0,
  "metadata": {
    "colab": {
      "name": "metrics.ipynb",
      "provenance": [],
      "authorship_tag": "ABX9TyMcfvTeRcpt0uWXplJlwM6I",
      "include_colab_link": true
    },
    "kernelspec": {
      "name": "python3",
      "display_name": "Python 3"
    }
  },
  "cells": [
    {
      "cell_type": "markdown",
      "metadata": {
        "id": "view-in-github",
        "colab_type": "text"
      },
      "source": [
        "<a href=\"https://colab.research.google.com/github/chrismarkella/Kaggle-access-from-Google-Colab/blob/master/metrics.ipynb\" target=\"_parent\"><img src=\"https://colab.research.google.com/assets/colab-badge.svg\" alt=\"Open In Colab\"/></a>"
      ]
    },
    {
      "cell_type": "markdown",
      "metadata": {
        "id": "UY6sK_MCcHad",
        "colab_type": "text"
      },
      "source": [
        "###Metrics to measure how good are the predictions:\n",
        "- Precision\n",
        "- Recall/Sensitivity\n",
        "- R2 score\n",
        "- F1 score\n",
        "- ..."
      ]
    },
    {
      "cell_type": "code",
      "metadata": {
        "id": "YSP_3nNncBZB",
        "colab_type": "code",
        "colab": {
          "base_uri": "https://localhost:8080/",
          "height": 607
        },
        "outputId": "75ee7048-c20f-408a-c52f-22165308bec7"
      },
      "source": [
        "import sklearn.metrics as met\n",
        "\n",
        "for score_method in filter(lambda s: s.find('score') > 0, dir(met)):\n",
        "    print(score_method)"
      ],
      "execution_count": 2,
      "outputs": [
        {
          "output_type": "stream",
          "text": [
            "_scorer\n",
            "accuracy_score\n",
            "adjusted_mutual_info_score\n",
            "adjusted_rand_score\n",
            "average_precision_score\n",
            "balanced_accuracy_score\n",
            "brier_score_loss\n",
            "calinski_harabasz_score\n",
            "calinski_harabaz_score\n",
            "cohen_kappa_score\n",
            "completeness_score\n",
            "consensus_score\n",
            "davies_bouldin_score\n",
            "dcg_score\n",
            "explained_variance_score\n",
            "f1_score\n",
            "fbeta_score\n",
            "fowlkes_mallows_score\n",
            "get_scorer\n",
            "homogeneity_score\n",
            "jaccard_score\n",
            "jaccard_similarity_score\n",
            "label_ranking_average_precision_score\n",
            "make_scorer\n",
            "mutual_info_score\n",
            "ndcg_score\n",
            "normalized_mutual_info_score\n",
            "precision_recall_fscore_support\n",
            "precision_score\n",
            "r2_score\n",
            "recall_score\n",
            "roc_auc_score\n",
            "silhouette_score\n",
            "v_measure_score\n"
          ],
          "name": "stdout"
        }
      ]
    },
    {
      "cell_type": "code",
      "metadata": {
        "id": "r4rhrZ9OcdmP",
        "colab_type": "code",
        "colab": {}
      },
      "source": [
        ""
      ],
      "execution_count": 0,
      "outputs": []
    }
  ]
}