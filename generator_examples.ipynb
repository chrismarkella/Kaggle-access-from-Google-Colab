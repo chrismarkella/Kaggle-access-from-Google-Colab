{
  "nbformat": 4,
  "nbformat_minor": 0,
  "metadata": {
    "colab": {
      "name": "generator_examples.ipynb",
      "provenance": [],
      "authorship_tag": "ABX9TyN0pF2KnIJvNKVHuAxgMStJ",
      "include_colab_link": true
    },
    "kernelspec": {
      "name": "python3",
      "display_name": "Python 3"
    }
  },
  "cells": [
    {
      "cell_type": "markdown",
      "metadata": {
        "id": "view-in-github",
        "colab_type": "text"
      },
      "source": [
        "<a href=\"https://colab.research.google.com/github/chrismarkella/Kaggle-access-from-Google-Colab/blob/master/generator_examples.ipynb\" target=\"_parent\"><img src=\"https://colab.research.google.com/assets/colab-badge.svg\" alt=\"Open In Colab\"/></a>"
      ]
    },
    {
      "cell_type": "code",
      "metadata": {
        "id": "rujikGxVSsjk",
        "colab_type": "code",
        "colab": {
          "base_uri": "https://localhost:8080/",
          "height": 35
        },
        "outputId": "22c8a73c-37ad-4e12-f1fd-22f9bfa1a861"
      },
      "source": [
        "def up_to_5_gen():\n",
        "    for i in range(5):\n",
        "        yield i\n",
        "\n",
        "for _ in up_to_5_gen():\n",
        "    print(_, end=',')"
      ],
      "execution_count": 4,
      "outputs": [
        {
          "output_type": "stream",
          "text": [
            "0,1,2,3,4,"
          ],
          "name": "stdout"
        }
      ]
    },
    {
      "cell_type": "code",
      "metadata": {
        "id": "DGNFPQ_ETLwa",
        "colab_type": "code",
        "colab": {
          "base_uri": "https://localhost:8080/",
          "height": 35
        },
        "outputId": "d6314bcc-4400-421b-9956-d72735faea91"
      },
      "source": [
        "def up_to_N_gen(n):\n",
        "    for i in range(n):\n",
        "        yield i\n",
        "\n",
        "for _ in up_to_N_gen(4):\n",
        "    print(_, end=',')"
      ],
      "execution_count": 5,
      "outputs": [
        {
          "output_type": "stream",
          "text": [
            "0,1,2,3,"
          ],
          "name": "stdout"
        }
      ]
    },
    {
      "cell_type": "code",
      "metadata": {
        "id": "iTA2-62-Ts2A",
        "colab_type": "code",
        "colab": {
          "base_uri": "https://localhost:8080/",
          "height": 35
        },
        "outputId": "4d327ee9-519e-4ead-b006-e0477dec6e93"
      },
      "source": [
        "def infinite_gen():\n",
        "    i = 1\n",
        "    while True:\n",
        "        yield i\n",
        "        i = i + 1\n",
        "\n",
        "inf_gen = infinite_gen()\n",
        "\n",
        "for i in range(6):\n",
        "    print(next(inf_gen), end=',')"
      ],
      "execution_count": 8,
      "outputs": [
        {
          "output_type": "stream",
          "text": [
            "1,2,3,4,5,6,"
          ],
          "name": "stdout"
        }
      ]
    },
    {
      "cell_type": "code",
      "metadata": {
        "id": "h9A31lyqUV4Z",
        "colab_type": "code",
        "colab": {
          "base_uri": "https://localhost:8080/",
          "height": 35
        },
        "outputId": "8d752808-3ce2-46d2-e2fa-0ec56495c60d"
      },
      "source": [
        "def odds_gen():\n",
        "    i = 1\n",
        "    while True:\n",
        "        yield i\n",
        "        i = i + 2\n",
        "\n",
        "odds = odds_gen()\n",
        "for _ in range(10):\n",
        "    print(next(odds), end=',')"
      ],
      "execution_count": 10,
      "outputs": [
        {
          "output_type": "stream",
          "text": [
            "1,3,5,7,9,11,13,15,17,19,"
          ],
          "name": "stdout"
        }
      ]
    },
    {
      "cell_type": "code",
      "metadata": {
        "id": "KPNd8jH2U2A3",
        "colab_type": "code",
        "colab": {
          "base_uri": "https://localhost:8080/",
          "height": 35
        },
        "outputId": "3a157c5f-9b12-4d6f-ea82-a7f1116b0608"
      },
      "source": [
        "def evens_gen():\n",
        "    i = 0\n",
        "    while True:\n",
        "        yield i\n",
        "        i = i + 2\n",
        "\n",
        "evens = evens_gen()\n",
        "for _ in range(12):\n",
        "    print(next(evens), end=',')"
      ],
      "execution_count": 11,
      "outputs": [
        {
          "output_type": "stream",
          "text": [
            "0,2,4,6,8,10,12,14,16,18,20,22,"
          ],
          "name": "stdout"
        }
      ]
    },
    {
      "cell_type": "code",
      "metadata": {
        "id": "yjN8FqmtVQy5",
        "colab_type": "code",
        "colab": {
          "base_uri": "https://localhost:8080/",
          "height": 55
        },
        "outputId": "52eb1d14-82fd-44e2-e873-763de8ab9a22"
      },
      "source": [
        "def fibs_gen():\n",
        "    a,b = 0,1\n",
        "    while True:\n",
        "        yield a\n",
        "        a,b = b, a+b\n",
        "\n",
        "fibs = fibs_gen()\n",
        "for _ in range(100):\n",
        "    print(next(fibs), end=', ')"
      ],
      "execution_count": 12,
      "outputs": [
        {
          "output_type": "stream",
          "text": [
            "0, 1, 1, 2, 3, 5, 8, 13, 21, 34, 55, 89, 144, 233, 377, 610, 987, 1597, 2584, 4181, 6765, 10946, 17711, 28657, 46368, 75025, 121393, 196418, 317811, 514229, 832040, 1346269, 2178309, 3524578, 5702887, 9227465, 14930352, 24157817, 39088169, 63245986, 102334155, 165580141, 267914296, 433494437, 701408733, 1134903170, 1836311903, 2971215073, 4807526976, 7778742049, 12586269025, 20365011074, 32951280099, 53316291173, 86267571272, 139583862445, 225851433717, 365435296162, 591286729879, 956722026041, 1548008755920, 2504730781961, 4052739537881, 6557470319842, 10610209857723, 17167680177565, 27777890035288, 44945570212853, 72723460248141, 117669030460994, 190392490709135, 308061521170129, 498454011879264, 806515533049393, 1304969544928657, 2111485077978050, 3416454622906707, 5527939700884757, 8944394323791464, 14472334024676221, 23416728348467685, 37889062373143906, 61305790721611591, 99194853094755497, 160500643816367088, 259695496911122585, 420196140727489673, 679891637638612258, 1100087778366101931, 1779979416004714189, 2880067194370816120, 4660046610375530309, 7540113804746346429, 12200160415121876738, 19740274219868223167, 31940434634990099905, 51680708854858323072, 83621143489848422977, 135301852344706746049, 218922995834555169026, "
          ],
          "name": "stdout"
        }
      ]
    },
    {
      "cell_type": "code",
      "metadata": {
        "id": "RUEvuis7VtQa",
        "colab_type": "code",
        "colab": {
          "base_uri": "https://localhost:8080/",
          "height": 35
        },
        "outputId": "83650f0f-fdb6-4730-d69d-07aefe34bf6e"
      },
      "source": [
        "def tri_fibs_gen():\n",
        "    \"\"\"Starts with 0,0,1 then the next one is the sum of the \n",
        "    previous three in the sequence.\n",
        "    \"\"\"\n",
        "    a,b,c = 0,0,1\n",
        "    while True:\n",
        "        yield a\n",
        "        a,b,c = b,c,a+b+c\n",
        "\n",
        "tri_fibs = tri_fibs_gen()\n",
        "for _ in range(10):\n",
        "    print(next(tri_fibs), end=', ')"
      ],
      "execution_count": 15,
      "outputs": [
        {
          "output_type": "stream",
          "text": [
            "0, 0, 1, 1, 2, 4, 7, 13, 24, 44, "
          ],
          "name": "stdout"
        }
      ]
    },
    {
      "cell_type": "code",
      "metadata": {
        "id": "_ZOAf4aBX0kM",
        "colab_type": "code",
        "colab": {}
      },
      "source": [
        ""
      ],
      "execution_count": 0,
      "outputs": []
    }
  ]
}