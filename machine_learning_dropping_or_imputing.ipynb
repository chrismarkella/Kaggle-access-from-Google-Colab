{
  "nbformat": 4,
  "nbformat_minor": 0,
  "metadata": {
    "colab": {
      "name": "machine_learning_dropping_or_imputing.ipynb",
      "provenance": [],
      "include_colab_link": true
    },
    "kernelspec": {
      "name": "python3",
      "display_name": "Python 3"
    }
  },
  "cells": [
    {
      "cell_type": "markdown",
      "metadata": {
        "id": "view-in-github",
        "colab_type": "text"
      },
      "source": [
        "<a href=\"https://colab.research.google.com/github/chrismarkella/Kaggle-access-from-Google-Colab/blob/master/machine_learning_dropping_or_imputing.ipynb\" target=\"_parent\"><img src=\"https://colab.research.google.com/assets/colab-badge.svg\" alt=\"Open In Colab\"/></a>"
      ]
    },
    {
      "cell_type": "code",
      "metadata": {
        "id": "V2c87jCbENol",
        "colab_type": "code",
        "outputId": "117f916b-82d0-4f82-89bc-6c70f90b665b",
        "colab": {
          "base_uri": "https://localhost:8080/",
          "height": 356
        }
      },
      "source": [
        "!apt-get install tree"
      ],
      "execution_count": 1,
      "outputs": [
        {
          "output_type": "stream",
          "text": [
            "Reading package lists... Done\n",
            "Building dependency tree       \n",
            "Reading state information... Done\n",
            "The following package was automatically installed and is no longer required:\n",
            "  libnvidia-common-430\n",
            "Use 'apt autoremove' to remove it.\n",
            "The following NEW packages will be installed:\n",
            "  tree\n",
            "0 upgraded, 1 newly installed, 0 to remove and 7 not upgraded.\n",
            "Need to get 40.7 kB of archives.\n",
            "After this operation, 105 kB of additional disk space will be used.\n",
            "Get:1 http://archive.ubuntu.com/ubuntu bionic/universe amd64 tree amd64 1.7.0-5 [40.7 kB]\n",
            "Fetched 40.7 kB in 0s (138 kB/s)\n",
            "Selecting previously unselected package tree.\n",
            "(Reading database ... 135004 files and directories currently installed.)\n",
            "Preparing to unpack .../tree_1.7.0-5_amd64.deb ...\n",
            "Unpacking tree (1.7.0-5) ...\n",
            "Setting up tree (1.7.0-5) ...\n",
            "Processing triggers for man-db (2.8.3-2ubuntu0.1) ...\n"
          ],
          "name": "stdout"
        }
      ]
    },
    {
      "cell_type": "code",
      "metadata": {
        "id": "UfptiakkLVI7",
        "colab_type": "code",
        "colab": {}
      },
      "source": [
        "import os\n",
        "\n",
        "import numpy as np\n",
        "import pandas as pd\n",
        "\n",
        "from getpass import getpass "
      ],
      "execution_count": 0,
      "outputs": []
    },
    {
      "cell_type": "code",
      "metadata": {
        "id": "x_q48eW8LWd_",
        "colab_type": "code",
        "outputId": "b53c9f18-c6ac-4ebf-97e4-2f9da6860f28",
        "colab": {
          "base_uri": "https://localhost:8080/",
          "height": 67
        }
      },
      "source": [
        "def access_kaggle():\n",
        "    \"\"\"\n",
        "    Access Kaggle from Google Colab.\n",
        "    If the /root/.kaggle does not exist then prompt for\n",
        "    the username and for the Kaggle API key.\n",
        "    Creates the kaggle.json access file in the /root/.kaggle/ folder. \n",
        "    \"\"\"\n",
        "    KAGGLE_ROOT = os.path.join('/root', '.kaggle')\n",
        "    KAGGLE_PATH = os.path.join(KAGGLE_ROOT, 'kaggle.json')\n",
        "\n",
        "    if '.kaggle' not in os.listdir(path='/root'):\n",
        "        user = getpass(prompt='Kaggle username: ')\n",
        "        key  = getpass(prompt='Kaggle API key: ')\n",
        "        \n",
        "        !mkdir $KAGGLE_ROOT\n",
        "        !touch $KAGGLE_PATH\n",
        "        !chmod 666 $KAGGLE_PATH\n",
        "        with open(KAGGLE_PATH, mode='w') as f:\n",
        "            f.write('{\"username\":\"%s\", \"key\":\"%s\"}' %(user, key))\n",
        "            f.close()\n",
        "        !chmod 600 $KAGGLE_PATH\n",
        "        del user\n",
        "        del key\n",
        "        success_msg = \"Kaggle is successfully set up. Good to go.\"\n",
        "        print(f'{success_msg}')\n",
        "\n",
        "access_kaggle()\n"
      ],
      "execution_count": 3,
      "outputs": [
        {
          "output_type": "stream",
          "text": [
            "Kaggle username: ··········\n",
            "Kaggle API key: ··········\n",
            "Kaggle is successfully set up. Good to go.\n"
          ],
          "name": "stdout"
        }
      ]
    },
    {
      "cell_type": "code",
      "metadata": {
        "id": "-dwhD2H5L1tz",
        "colab_type": "code",
        "outputId": "971e0db4-b079-4d3e-a28d-0093f5e4689f",
        "colab": {
          "base_uri": "https://localhost:8080/",
          "height": 390
        }
      },
      "source": [
        "!kaggle datasets download gunjanpathak/melb-data --unzip\n",
        "!tree -sh ./\n",
        "!cat -n melb_data.csv|head -2\n",
        "df = pd.read_csv('melb_data.csv', sep=',', index_col=0)\n",
        "\n",
        "df.columns = df.columns.map(lambda c: c.lower())\n",
        "df.columns"
      ],
      "execution_count": 4,
      "outputs": [
        {
          "output_type": "stream",
          "text": [
            "Downloading melb-data.zip to /content\n",
            "\r  0% 0.00/614k [00:00<?, ?B/s]\n",
            "\r100% 614k/614k [00:00<00:00, 56.6MB/s]\n",
            "./\n",
            "├── [2.7M]  melb_data.csv\n",
            "└── [4.0K]  sample_data\n",
            "    ├── [1.7K]  anscombe.json\n",
            "    ├── [294K]  california_housing_test.csv\n",
            "    ├── [1.6M]  california_housing_train.csv\n",
            "    ├── [ 17M]  mnist_test.csv\n",
            "    ├── [ 35M]  mnist_train_small.csv\n",
            "    └── [ 930]  README.md\n",
            "\n",
            "1 directory, 7 files\n",
            "     1\t,Suburb,Address,Rooms,Type,Price,Method,SellerG,Date,Distance,Postcode,Bedroom2,Bathroom,Car,Landsize,BuildingArea,YearBuilt,CouncilArea,Lattitude,Longtitude,Regionname,Propertycount\n",
            "     2\t1,Abbotsford,85 Turner St,2,h,1480000.0,S,Biggin,3/12/2016,2.5,3067.0,2.0,1.0,1.0,202.0,,,Yarra,-37.7996,144.9984,Northern Metropolitan,4019.0\n"
          ],
          "name": "stdout"
        },
        {
          "output_type": "execute_result",
          "data": {
            "text/plain": [
              "Index(['suburb', 'address', 'rooms', 'type', 'price', 'method', 'sellerg',\n",
              "       'date', 'distance', 'postcode', 'bedroom2', 'bathroom', 'car',\n",
              "       'landsize', 'buildingarea', 'yearbuilt', 'councilarea', 'lattitude',\n",
              "       'longtitude', 'regionname', 'propertycount'],\n",
              "      dtype='object')"
            ]
          },
          "metadata": {
            "tags": []
          },
          "execution_count": 4
        }
      ]
    },
    {
      "cell_type": "code",
      "metadata": {
        "id": "Mh2vbb2BgFvp",
        "colab_type": "code",
        "colab": {
          "base_uri": "https://localhost:8080/",
          "height": 386
        },
        "outputId": "0350e1eb-0e1e-4d32-b5e6-1ac7b5e8c9f2"
      },
      "source": [
        "df.isnull().sum()"
      ],
      "execution_count": 5,
      "outputs": [
        {
          "output_type": "execute_result",
          "data": {
            "text/plain": [
              "suburb               0\n",
              "address              0\n",
              "rooms                0\n",
              "type                 0\n",
              "price                0\n",
              "method               0\n",
              "sellerg              0\n",
              "date                 0\n",
              "distance             1\n",
              "postcode             1\n",
              "bedroom2          3469\n",
              "bathroom          3471\n",
              "car               3576\n",
              "landsize          4793\n",
              "buildingarea     10634\n",
              "yearbuilt         9438\n",
              "councilarea       6163\n",
              "lattitude         3332\n",
              "longtitude        3332\n",
              "regionname           1\n",
              "propertycount        1\n",
              "dtype: int64"
            ]
          },
          "metadata": {
            "tags": []
          },
          "execution_count": 5
        }
      ]
    },
    {
      "cell_type": "code",
      "metadata": {
        "id": "UBncTpIUupmn",
        "colab_type": "code",
        "colab": {
          "base_uri": "https://localhost:8080/",
          "height": 386
        },
        "outputId": "f0898b6a-b673-4a43-bee6-3e4430c142ff"
      },
      "source": [
        "df.dtypes"
      ],
      "execution_count": 6,
      "outputs": [
        {
          "output_type": "execute_result",
          "data": {
            "text/plain": [
              "suburb            object\n",
              "address           object\n",
              "rooms              int64\n",
              "type              object\n",
              "price            float64\n",
              "method            object\n",
              "sellerg           object\n",
              "date              object\n",
              "distance         float64\n",
              "postcode         float64\n",
              "bedroom2         float64\n",
              "bathroom         float64\n",
              "car              float64\n",
              "landsize         float64\n",
              "buildingarea     float64\n",
              "yearbuilt        float64\n",
              "councilarea       object\n",
              "lattitude        float64\n",
              "longtitude       float64\n",
              "regionname        object\n",
              "propertycount    float64\n",
              "dtype: object"
            ]
          },
          "metadata": {
            "tags": []
          },
          "execution_count": 6
        }
      ]
    },
    {
      "cell_type": "code",
      "metadata": {
        "id": "0X-7bgueuxXf",
        "colab_type": "code",
        "colab": {}
      },
      "source": [
        "from sklearn.model_selection import train_test_split\n"
      ],
      "execution_count": 0,
      "outputs": []
    },
    {
      "cell_type": "code",
      "metadata": {
        "id": "-mmwyXylu6O2",
        "colab_type": "code",
        "colab": {}
      },
      "source": [
        "y = df.price\n"
      ],
      "execution_count": 0,
      "outputs": []
    },
    {
      "cell_type": "code",
      "metadata": {
        "id": "v1d8mnkBvC3t",
        "colab_type": "code",
        "colab": {}
      },
      "source": [
        "predictors = df.drop(['price'], axis='columns')\n",
        "\n",
        "X = predictors.select_dtypes(exclude=['object'])"
      ],
      "execution_count": 0,
      "outputs": []
    },
    {
      "cell_type": "code",
      "metadata": {
        "id": "dkHfveC4vSPz",
        "colab_type": "code",
        "colab": {
          "base_uri": "https://localhost:8080/",
          "height": 104
        },
        "outputId": "9afb40b5-be08-4aab-8c80-3b3ad25fe8e8"
      },
      "source": [
        "X.columns"
      ],
      "execution_count": 12,
      "outputs": [
        {
          "output_type": "execute_result",
          "data": {
            "text/plain": [
              "Index(['rooms', 'distance', 'postcode', 'bedroom2', 'bathroom', 'car',\n",
              "       'landsize', 'buildingarea', 'yearbuilt', 'lattitude', 'longtitude',\n",
              "       'propertycount'],\n",
              "      dtype='object')"
            ]
          },
          "metadata": {
            "tags": []
          },
          "execution_count": 12
        }
      ]
    },
    {
      "cell_type": "code",
      "metadata": {
        "id": "wCJSACQEvb3l",
        "colab_type": "code",
        "colab": {
          "base_uri": "https://localhost:8080/",
          "height": 235
        },
        "outputId": "7dc34c56-e5a2-432e-d526-9382b1746d4b"
      },
      "source": [
        "X.dtypes"
      ],
      "execution_count": 14,
      "outputs": [
        {
          "output_type": "execute_result",
          "data": {
            "text/plain": [
              "rooms              int64\n",
              "distance         float64\n",
              "postcode         float64\n",
              "bedroom2         float64\n",
              "bathroom         float64\n",
              "car              float64\n",
              "landsize         float64\n",
              "buildingarea     float64\n",
              "yearbuilt        float64\n",
              "lattitude        float64\n",
              "longtitude       float64\n",
              "propertycount    float64\n",
              "dtype: object"
            ]
          },
          "metadata": {
            "tags": []
          },
          "execution_count": 14
        }
      ]
    },
    {
      "cell_type": "code",
      "metadata": {
        "id": "5r3ZpyX-vlpA",
        "colab_type": "code",
        "colab": {}
      },
      "source": [
        "train_x, valid_x, train_y, valid_y = train_test_split(X, y, test_size=0.2,\n",
        "                                                      random_state=0)"
      ],
      "execution_count": 0,
      "outputs": []
    },
    {
      "cell_type": "code",
      "metadata": {
        "id": "pJ0WaVFmv52_",
        "colab_type": "code",
        "colab": {}
      },
      "source": [
        "from sklearn.ensemble import RandomForestRegressor\n",
        "from sklearn.metrics import mean_absolute_error\n",
        "\n",
        "def score_dataset(train_x, valid_x, train_y, valid_y):\n",
        "    model = RandomForestRegressor(n_estimators=10, random_state=0)\n",
        "    model.fit(train_x, train_y)\n",
        "    preds = model.predict(valid_x)\n",
        "    return mean_absolute_error(y_true=valid_y, y_pred=preds)\n",
        "    "
      ],
      "execution_count": 0,
      "outputs": []
    },
    {
      "cell_type": "code",
      "metadata": {
        "id": "Em4_dpKWwH1M",
        "colab_type": "code",
        "colab": {
          "base_uri": "https://localhost:8080/",
          "height": 34
        },
        "outputId": "b895f8fd-09b5-401e-cabf-c787adafc3a2"
      },
      "source": [
        "[cols for cols in train_x.columns if not train_x[cols].isnull().any()]"
      ],
      "execution_count": 21,
      "outputs": [
        {
          "output_type": "execute_result",
          "data": {
            "text/plain": [
              "['rooms']"
            ]
          },
          "metadata": {
            "tags": []
          },
          "execution_count": 21
        }
      ]
    },
    {
      "cell_type": "code",
      "metadata": {
        "id": "LZ7F6nFywsAg",
        "colab_type": "code",
        "colab": {
          "base_uri": "https://localhost:8080/",
          "height": 202
        },
        "outputId": "171c21de-c959-4384-d20a-1e2613fc23c5"
      },
      "source": [
        "[cols for cols in train_x.columns if train_x[cols].isnull().any()]"
      ],
      "execution_count": 22,
      "outputs": [
        {
          "output_type": "execute_result",
          "data": {
            "text/plain": [
              "['distance',\n",
              " 'postcode',\n",
              " 'bedroom2',\n",
              " 'bathroom',\n",
              " 'car',\n",
              " 'landsize',\n",
              " 'buildingarea',\n",
              " 'yearbuilt',\n",
              " 'lattitude',\n",
              " 'longtitude',\n",
              " 'propertycount']"
            ]
          },
          "metadata": {
            "tags": []
          },
          "execution_count": 22
        }
      ]
    },
    {
      "cell_type": "code",
      "metadata": {
        "id": "DHUJGXgDw5cB",
        "colab_type": "code",
        "colab": {
          "base_uri": "https://localhost:8080/",
          "height": 202
        },
        "outputId": "2df16fce-4bcc-4e11-b479-6a392fa464fd"
      },
      "source": [
        "columns_with_NaN = [cols for cols in train_x.columns if train_x[cols].isnull().any()]\n",
        "columns_with_NaN"
      ],
      "execution_count": 23,
      "outputs": [
        {
          "output_type": "execute_result",
          "data": {
            "text/plain": [
              "['distance',\n",
              " 'postcode',\n",
              " 'bedroom2',\n",
              " 'bathroom',\n",
              " 'car',\n",
              " 'landsize',\n",
              " 'buildingarea',\n",
              " 'yearbuilt',\n",
              " 'lattitude',\n",
              " 'longtitude',\n",
              " 'propertycount']"
            ]
          },
          "metadata": {
            "tags": []
          },
          "execution_count": 23
        }
      ]
    },
    {
      "cell_type": "code",
      "metadata": {
        "id": "OEVyDRmJxJKS",
        "colab_type": "code",
        "colab": {
          "base_uri": "https://localhost:8080/",
          "height": 402
        },
        "outputId": "b2b14fd8-6aaa-4efb-ab8b-e9083281c826"
      },
      "source": [
        "train_x.drop(columns_with_NaN, axis='columns')"
      ],
      "execution_count": 24,
      "outputs": [
        {
          "output_type": "execute_result",
          "data": {
            "text/html": [
              "<div>\n",
              "<style scoped>\n",
              "    .dataframe tbody tr th:only-of-type {\n",
              "        vertical-align: middle;\n",
              "    }\n",
              "\n",
              "    .dataframe tbody tr th {\n",
              "        vertical-align: top;\n",
              "    }\n",
              "\n",
              "    .dataframe thead th {\n",
              "        text-align: right;\n",
              "    }\n",
              "</style>\n",
              "<table border=\"1\" class=\"dataframe\">\n",
              "  <thead>\n",
              "    <tr style=\"text-align: right;\">\n",
              "      <th></th>\n",
              "      <th>rooms</th>\n",
              "    </tr>\n",
              "  </thead>\n",
              "  <tbody>\n",
              "    <tr>\n",
              "      <th>3349</th>\n",
              "      <td>4</td>\n",
              "    </tr>\n",
              "    <tr>\n",
              "      <th>2686</th>\n",
              "      <td>3</td>\n",
              "    </tr>\n",
              "    <tr>\n",
              "      <th>6065</th>\n",
              "      <td>2</td>\n",
              "    </tr>\n",
              "    <tr>\n",
              "      <th>11346</th>\n",
              "      <td>3</td>\n",
              "    </tr>\n",
              "    <tr>\n",
              "      <th>13474</th>\n",
              "      <td>2</td>\n",
              "    </tr>\n",
              "    <tr>\n",
              "      <th>...</th>\n",
              "      <td>...</td>\n",
              "    </tr>\n",
              "    <tr>\n",
              "      <th>11849</th>\n",
              "      <td>2</td>\n",
              "    </tr>\n",
              "    <tr>\n",
              "      <th>16889</th>\n",
              "      <td>2</td>\n",
              "    </tr>\n",
              "    <tr>\n",
              "      <th>12649</th>\n",
              "      <td>3</td>\n",
              "    </tr>\n",
              "    <tr>\n",
              "      <th>13887</th>\n",
              "      <td>3</td>\n",
              "    </tr>\n",
              "    <tr>\n",
              "      <th>3558</th>\n",
              "      <td>2</td>\n",
              "    </tr>\n",
              "  </tbody>\n",
              "</table>\n",
              "<p>14716 rows × 1 columns</p>\n",
              "</div>"
            ],
            "text/plain": [
              "       rooms\n",
              "3349       4\n",
              "2686       3\n",
              "6065       2\n",
              "11346      3\n",
              "13474      2\n",
              "...      ...\n",
              "11849      2\n",
              "16889      2\n",
              "12649      3\n",
              "13887      3\n",
              "3558       2\n",
              "\n",
              "[14716 rows x 1 columns]"
            ]
          },
          "metadata": {
            "tags": []
          },
          "execution_count": 24
        }
      ]
    },
    {
      "cell_type": "code",
      "metadata": {
        "id": "jtz1dyEuxTcE",
        "colab_type": "code",
        "colab": {
          "base_uri": "https://localhost:8080/",
          "height": 118
        },
        "outputId": "12cd3ed2-88b0-4b02-c5a3-b2c279ab2480"
      },
      "source": [
        "reduced_train_x = train_x.drop(columns_with_NaN, axis='columns')\n",
        "reduced_valid_x = valid_x.drop(columns_with_NaN, axis='columns')\n",
        "print(f'{reduced_train_x.head(2)}')\n",
        "print(f'{reduced_valid_x.head(2)}')\n"
      ],
      "execution_count": 25,
      "outputs": [
        {
          "output_type": "stream",
          "text": [
            "      rooms\n",
            "3349      4\n",
            "2686      3\n",
            "       rooms\n",
            "3932       1\n",
            "11811      2\n"
          ],
          "name": "stdout"
        }
      ]
    },
    {
      "cell_type": "code",
      "metadata": {
        "id": "w1k2xIoqxvLa",
        "colab_type": "code",
        "colab": {
          "base_uri": "https://localhost:8080/",
          "height": 34
        },
        "outputId": "9ff101e8-121e-4b79-801e-fa3d80460244"
      },
      "source": [
        "score_dataset(reduced_train_x, reduced_valid_x, train_y, valid_y)"
      ],
      "execution_count": 26,
      "outputs": [
        {
          "output_type": "execute_result",
          "data": {
            "text/plain": [
              "389006.8120658193"
            ]
          },
          "metadata": {
            "tags": []
          },
          "execution_count": 26
        }
      ]
    },
    {
      "cell_type": "code",
      "metadata": {
        "id": "1vhnVaCGyBR6",
        "colab_type": "code",
        "colab": {}
      },
      "source": [
        "from sklearn.impute import SimpleImputer\n",
        "\n",
        "my_imputer = SimpleImputer()"
      ],
      "execution_count": 0,
      "outputs": []
    },
    {
      "cell_type": "code",
      "metadata": {
        "id": "En0qJq0oyIy9",
        "colab_type": "code",
        "colab": {
          "base_uri": "https://localhost:8080/",
          "height": 126
        },
        "outputId": "97e248b2-1aa3-4aca-9509-e9ff3dce963f"
      },
      "source": [
        "train_x.head(2)"
      ],
      "execution_count": 29,
      "outputs": [
        {
          "output_type": "execute_result",
          "data": {
            "text/html": [
              "<div>\n",
              "<style scoped>\n",
              "    .dataframe tbody tr th:only-of-type {\n",
              "        vertical-align: middle;\n",
              "    }\n",
              "\n",
              "    .dataframe tbody tr th {\n",
              "        vertical-align: top;\n",
              "    }\n",
              "\n",
              "    .dataframe thead th {\n",
              "        text-align: right;\n",
              "    }\n",
              "</style>\n",
              "<table border=\"1\" class=\"dataframe\">\n",
              "  <thead>\n",
              "    <tr style=\"text-align: right;\">\n",
              "      <th></th>\n",
              "      <th>rooms</th>\n",
              "      <th>distance</th>\n",
              "      <th>postcode</th>\n",
              "      <th>bedroom2</th>\n",
              "      <th>bathroom</th>\n",
              "      <th>car</th>\n",
              "      <th>landsize</th>\n",
              "      <th>buildingarea</th>\n",
              "      <th>yearbuilt</th>\n",
              "      <th>lattitude</th>\n",
              "      <th>longtitude</th>\n",
              "      <th>propertycount</th>\n",
              "    </tr>\n",
              "  </thead>\n",
              "  <tbody>\n",
              "    <tr>\n",
              "      <th>3349</th>\n",
              "      <td>4</td>\n",
              "      <td>7.8</td>\n",
              "      <td>3058.0</td>\n",
              "      <td>4.0</td>\n",
              "      <td>2.0</td>\n",
              "      <td>1.0</td>\n",
              "      <td>381.0</td>\n",
              "      <td>NaN</td>\n",
              "      <td>1938.0</td>\n",
              "      <td>-37.7337</td>\n",
              "      <td>144.9548</td>\n",
              "      <td>11204.0</td>\n",
              "    </tr>\n",
              "    <tr>\n",
              "      <th>2686</th>\n",
              "      <td>3</td>\n",
              "      <td>7.8</td>\n",
              "      <td>3124.0</td>\n",
              "      <td>3.0</td>\n",
              "      <td>1.0</td>\n",
              "      <td>1.0</td>\n",
              "      <td>544.0</td>\n",
              "      <td>160.0</td>\n",
              "      <td>1930.0</td>\n",
              "      <td>-37.8436</td>\n",
              "      <td>145.0581</td>\n",
              "      <td>8920.0</td>\n",
              "    </tr>\n",
              "  </tbody>\n",
              "</table>\n",
              "</div>"
            ],
            "text/plain": [
              "      rooms  distance  postcode  ...  lattitude  longtitude  propertycount\n",
              "3349      4       7.8    3058.0  ...   -37.7337    144.9548        11204.0\n",
              "2686      3       7.8    3124.0  ...   -37.8436    145.0581         8920.0\n",
              "\n",
              "[2 rows x 12 columns]"
            ]
          },
          "metadata": {
            "tags": []
          },
          "execution_count": 29
        }
      ]
    },
    {
      "cell_type": "code",
      "metadata": {
        "id": "nCK4ot1myRs2",
        "colab_type": "code",
        "colab": {}
      },
      "source": [
        "imputed_train_x = pd.DataFrame(my_imputer.fit_transform(train_x))\n",
        "imputed_valid_x = pd.DataFrame(my_imputer.fit_transform(valid_x))"
      ],
      "execution_count": 0,
      "outputs": []
    },
    {
      "cell_type": "code",
      "metadata": {
        "id": "5pJ3pYBBylUi",
        "colab_type": "code",
        "colab": {
          "base_uri": "https://localhost:8080/",
          "height": 126
        },
        "outputId": "1869e4d6-6944-45eb-fce1-e7d5f76b1676"
      },
      "source": [
        "imputed_train_x.head(2)"
      ],
      "execution_count": 31,
      "outputs": [
        {
          "output_type": "execute_result",
          "data": {
            "text/html": [
              "<div>\n",
              "<style scoped>\n",
              "    .dataframe tbody tr th:only-of-type {\n",
              "        vertical-align: middle;\n",
              "    }\n",
              "\n",
              "    .dataframe tbody tr th {\n",
              "        vertical-align: top;\n",
              "    }\n",
              "\n",
              "    .dataframe thead th {\n",
              "        text-align: right;\n",
              "    }\n",
              "</style>\n",
              "<table border=\"1\" class=\"dataframe\">\n",
              "  <thead>\n",
              "    <tr style=\"text-align: right;\">\n",
              "      <th></th>\n",
              "      <th>0</th>\n",
              "      <th>1</th>\n",
              "      <th>2</th>\n",
              "      <th>3</th>\n",
              "      <th>4</th>\n",
              "      <th>5</th>\n",
              "      <th>6</th>\n",
              "      <th>7</th>\n",
              "      <th>8</th>\n",
              "      <th>9</th>\n",
              "      <th>10</th>\n",
              "      <th>11</th>\n",
              "    </tr>\n",
              "  </thead>\n",
              "  <tbody>\n",
              "    <tr>\n",
              "      <th>0</th>\n",
              "      <td>4.0</td>\n",
              "      <td>7.8</td>\n",
              "      <td>3058.0</td>\n",
              "      <td>4.0</td>\n",
              "      <td>2.0</td>\n",
              "      <td>1.0</td>\n",
              "      <td>381.0</td>\n",
              "      <td>152.120627</td>\n",
              "      <td>1938.0</td>\n",
              "      <td>-37.7337</td>\n",
              "      <td>144.9548</td>\n",
              "      <td>11204.0</td>\n",
              "    </tr>\n",
              "    <tr>\n",
              "      <th>1</th>\n",
              "      <td>3.0</td>\n",
              "      <td>7.8</td>\n",
              "      <td>3124.0</td>\n",
              "      <td>3.0</td>\n",
              "      <td>1.0</td>\n",
              "      <td>1.0</td>\n",
              "      <td>544.0</td>\n",
              "      <td>160.000000</td>\n",
              "      <td>1930.0</td>\n",
              "      <td>-37.8436</td>\n",
              "      <td>145.0581</td>\n",
              "      <td>8920.0</td>\n",
              "    </tr>\n",
              "  </tbody>\n",
              "</table>\n",
              "</div>"
            ],
            "text/plain": [
              "    0    1       2    3    4   ...          7       8        9         10       11\n",
              "0  4.0  7.8  3058.0  4.0  2.0  ...  152.120627  1938.0 -37.7337  144.9548  11204.0\n",
              "1  3.0  7.8  3124.0  3.0  1.0  ...  160.000000  1930.0 -37.8436  145.0581   8920.0\n",
              "\n",
              "[2 rows x 12 columns]"
            ]
          },
          "metadata": {
            "tags": []
          },
          "execution_count": 31
        }
      ]
    },
    {
      "cell_type": "code",
      "metadata": {
        "id": "DZq-jDKqyo2p",
        "colab_type": "code",
        "colab": {
          "base_uri": "https://localhost:8080/",
          "height": 104
        },
        "outputId": "643485de-1373-4f22-dcac-424d6220fe2d"
      },
      "source": [
        "train_x.columns"
      ],
      "execution_count": 32,
      "outputs": [
        {
          "output_type": "execute_result",
          "data": {
            "text/plain": [
              "Index(['rooms', 'distance', 'postcode', 'bedroom2', 'bathroom', 'car',\n",
              "       'landsize', 'buildingarea', 'yearbuilt', 'lattitude', 'longtitude',\n",
              "       'propertycount'],\n",
              "      dtype='object')"
            ]
          },
          "metadata": {
            "tags": []
          },
          "execution_count": 32
        }
      ]
    },
    {
      "cell_type": "code",
      "metadata": {
        "id": "Ig0CD0QsytbC",
        "colab_type": "code",
        "colab": {
          "base_uri": "https://localhost:8080/",
          "height": 34
        },
        "outputId": "5998d784-7a10-4f4a-9a99-5df65c8d58aa"
      },
      "source": [
        "imputed_train_x.columns"
      ],
      "execution_count": 33,
      "outputs": [
        {
          "output_type": "execute_result",
          "data": {
            "text/plain": [
              "RangeIndex(start=0, stop=12, step=1)"
            ]
          },
          "metadata": {
            "tags": []
          },
          "execution_count": 33
        }
      ]
    },
    {
      "cell_type": "code",
      "metadata": {
        "id": "hTwEf3U7yxXh",
        "colab_type": "code",
        "colab": {}
      },
      "source": [
        "imputed_train_x.columns = train_x.columns\n",
        "imputed_valid_x.columns = valid_x.columns"
      ],
      "execution_count": 0,
      "outputs": []
    },
    {
      "cell_type": "code",
      "metadata": {
        "id": "fvA_yXHEy6rJ",
        "colab_type": "code",
        "colab": {
          "base_uri": "https://localhost:8080/",
          "height": 34
        },
        "outputId": "bb7e3c37-7594-4135-cddd-656dd7ccc787"
      },
      "source": [
        "score_dataset(imputed_train_x, imputed_valid_x, train_y, valid_y)"
      ],
      "execution_count": 35,
      "outputs": [
        {
          "output_type": "execute_result",
          "data": {
            "text/plain": [
              "204890.48541963196"
            ]
          },
          "metadata": {
            "tags": []
          },
          "execution_count": 35
        }
      ]
    },
    {
      "cell_type": "code",
      "metadata": {
        "id": "sfyHGFORzA94",
        "colab_type": "code",
        "colab": {}
      },
      "source": [
        "train_x_plus = train_x.copy(deep=True)\n",
        "valid_x_plus = valid_x.copy(deep=True)"
      ],
      "execution_count": 0,
      "outputs": []
    },
    {
      "cell_type": "code",
      "metadata": {
        "id": "3kguB3DizU48",
        "colab_type": "code",
        "colab": {
          "base_uri": "https://localhost:8080/",
          "height": 202
        },
        "outputId": "3796d3f7-2f08-4cf5-eb74-204b063b25b3"
      },
      "source": [
        "for col in columns_with_NaN:\n",
        "    print(col + '_was_missing')"
      ],
      "execution_count": 38,
      "outputs": [
        {
          "output_type": "stream",
          "text": [
            "distance_was_missing\n",
            "postcode_was_missing\n",
            "bedroom2_was_missing\n",
            "bathroom_was_missing\n",
            "car_was_missing\n",
            "landsize_was_missing\n",
            "buildingarea_was_missing\n",
            "yearbuilt_was_missing\n",
            "lattitude_was_missing\n",
            "longtitude_was_missing\n",
            "propertycount_was_missing\n"
          ],
          "name": "stdout"
        }
      ]
    },
    {
      "cell_type": "code",
      "metadata": {
        "id": "D498PWeVzfDF",
        "colab_type": "code",
        "colab": {
          "base_uri": "https://localhost:8080/",
          "height": 571
        },
        "outputId": "e5c6a3ce-e8d8-41e4-d101-0a88b1bf1ff0"
      },
      "source": [
        "for col in columns_with_NaN:\n",
        "    print(train_x_plus[col].isnull()[:2])"
      ],
      "execution_count": 41,
      "outputs": [
        {
          "output_type": "stream",
          "text": [
            "3349    False\n",
            "2686    False\n",
            "Name: distance, dtype: bool\n",
            "3349    False\n",
            "2686    False\n",
            "Name: postcode, dtype: bool\n",
            "3349    False\n",
            "2686    False\n",
            "Name: bedroom2, dtype: bool\n",
            "3349    False\n",
            "2686    False\n",
            "Name: bathroom, dtype: bool\n",
            "3349    False\n",
            "2686    False\n",
            "Name: car, dtype: bool\n",
            "3349    False\n",
            "2686    False\n",
            "Name: landsize, dtype: bool\n",
            "3349     True\n",
            "2686    False\n",
            "Name: buildingarea, dtype: bool\n",
            "3349    False\n",
            "2686    False\n",
            "Name: yearbuilt, dtype: bool\n",
            "3349    False\n",
            "2686    False\n",
            "Name: lattitude, dtype: bool\n",
            "3349    False\n",
            "2686    False\n",
            "Name: longtitude, dtype: bool\n",
            "3349    False\n",
            "2686    False\n",
            "Name: propertycount, dtype: bool\n"
          ],
          "name": "stdout"
        }
      ]
    },
    {
      "cell_type": "code",
      "metadata": {
        "id": "tGJiJ-Vwztml",
        "colab_type": "code",
        "colab": {
          "base_uri": "https://localhost:8080/",
          "height": 173
        },
        "outputId": "ca8e80e5-09e5-4d44-de3f-ec8fbb5ea671"
      },
      "source": [
        "for col in columns_with_NaN:\n",
        "    train_x_plus[col + '_was missing'] = train_x_plus[col].isnull()\n",
        "\n",
        "train_x_plus.head(3)"
      ],
      "execution_count": 42,
      "outputs": [
        {
          "output_type": "execute_result",
          "data": {
            "text/html": [
              "<div>\n",
              "<style scoped>\n",
              "    .dataframe tbody tr th:only-of-type {\n",
              "        vertical-align: middle;\n",
              "    }\n",
              "\n",
              "    .dataframe tbody tr th {\n",
              "        vertical-align: top;\n",
              "    }\n",
              "\n",
              "    .dataframe thead th {\n",
              "        text-align: right;\n",
              "    }\n",
              "</style>\n",
              "<table border=\"1\" class=\"dataframe\">\n",
              "  <thead>\n",
              "    <tr style=\"text-align: right;\">\n",
              "      <th></th>\n",
              "      <th>rooms</th>\n",
              "      <th>distance</th>\n",
              "      <th>postcode</th>\n",
              "      <th>bedroom2</th>\n",
              "      <th>bathroom</th>\n",
              "      <th>car</th>\n",
              "      <th>landsize</th>\n",
              "      <th>buildingarea</th>\n",
              "      <th>yearbuilt</th>\n",
              "      <th>lattitude</th>\n",
              "      <th>longtitude</th>\n",
              "      <th>propertycount</th>\n",
              "      <th>distance_was missing</th>\n",
              "      <th>postcode_was missing</th>\n",
              "      <th>bedroom2_was missing</th>\n",
              "      <th>bathroom_was missing</th>\n",
              "      <th>car_was missing</th>\n",
              "      <th>landsize_was missing</th>\n",
              "      <th>buildingarea_was missing</th>\n",
              "      <th>yearbuilt_was missing</th>\n",
              "      <th>lattitude_was missing</th>\n",
              "      <th>longtitude_was missing</th>\n",
              "      <th>propertycount_was missing</th>\n",
              "    </tr>\n",
              "  </thead>\n",
              "  <tbody>\n",
              "    <tr>\n",
              "      <th>3349</th>\n",
              "      <td>4</td>\n",
              "      <td>7.8</td>\n",
              "      <td>3058.0</td>\n",
              "      <td>4.0</td>\n",
              "      <td>2.0</td>\n",
              "      <td>1.0</td>\n",
              "      <td>381.0</td>\n",
              "      <td>NaN</td>\n",
              "      <td>1938.0</td>\n",
              "      <td>-37.7337</td>\n",
              "      <td>144.9548</td>\n",
              "      <td>11204.0</td>\n",
              "      <td>False</td>\n",
              "      <td>False</td>\n",
              "      <td>False</td>\n",
              "      <td>False</td>\n",
              "      <td>False</td>\n",
              "      <td>False</td>\n",
              "      <td>True</td>\n",
              "      <td>False</td>\n",
              "      <td>False</td>\n",
              "      <td>False</td>\n",
              "      <td>False</td>\n",
              "    </tr>\n",
              "    <tr>\n",
              "      <th>2686</th>\n",
              "      <td>3</td>\n",
              "      <td>7.8</td>\n",
              "      <td>3124.0</td>\n",
              "      <td>3.0</td>\n",
              "      <td>1.0</td>\n",
              "      <td>1.0</td>\n",
              "      <td>544.0</td>\n",
              "      <td>160.0</td>\n",
              "      <td>1930.0</td>\n",
              "      <td>-37.8436</td>\n",
              "      <td>145.0581</td>\n",
              "      <td>8920.0</td>\n",
              "      <td>False</td>\n",
              "      <td>False</td>\n",
              "      <td>False</td>\n",
              "      <td>False</td>\n",
              "      <td>False</td>\n",
              "      <td>False</td>\n",
              "      <td>False</td>\n",
              "      <td>False</td>\n",
              "      <td>False</td>\n",
              "      <td>False</td>\n",
              "      <td>False</td>\n",
              "    </tr>\n",
              "    <tr>\n",
              "      <th>6065</th>\n",
              "      <td>2</td>\n",
              "      <td>5.6</td>\n",
              "      <td>3101.0</td>\n",
              "      <td>2.0</td>\n",
              "      <td>1.0</td>\n",
              "      <td>1.0</td>\n",
              "      <td>121.0</td>\n",
              "      <td>NaN</td>\n",
              "      <td>NaN</td>\n",
              "      <td>-37.8126</td>\n",
              "      <td>145.0534</td>\n",
              "      <td>10331.0</td>\n",
              "      <td>False</td>\n",
              "      <td>False</td>\n",
              "      <td>False</td>\n",
              "      <td>False</td>\n",
              "      <td>False</td>\n",
              "      <td>False</td>\n",
              "      <td>True</td>\n",
              "      <td>True</td>\n",
              "      <td>False</td>\n",
              "      <td>False</td>\n",
              "      <td>False</td>\n",
              "    </tr>\n",
              "  </tbody>\n",
              "</table>\n",
              "</div>"
            ],
            "text/plain": [
              "      rooms  distance  ...  longtitude_was missing  propertycount_was missing\n",
              "3349      4       7.8  ...                   False                      False\n",
              "2686      3       7.8  ...                   False                      False\n",
              "6065      2       5.6  ...                   False                      False\n",
              "\n",
              "[3 rows x 23 columns]"
            ]
          },
          "metadata": {
            "tags": []
          },
          "execution_count": 42
        }
      ]
    },
    {
      "cell_type": "code",
      "metadata": {
        "id": "q1uHx5UO0NXv",
        "colab_type": "code",
        "colab": {
          "base_uri": "https://localhost:8080/",
          "height": 173
        },
        "outputId": "ed8b28ab-5d56-44db-a40d-47c310756254"
      },
      "source": [
        "for col in columns_with_NaN:\n",
        "    valid_x_plus[col + '_was missing'] = valid_x_plus[col].isnull()\n",
        "\n",
        "valid_x_plus.head(3)"
      ],
      "execution_count": 43,
      "outputs": [
        {
          "output_type": "execute_result",
          "data": {
            "text/html": [
              "<div>\n",
              "<style scoped>\n",
              "    .dataframe tbody tr th:only-of-type {\n",
              "        vertical-align: middle;\n",
              "    }\n",
              "\n",
              "    .dataframe tbody tr th {\n",
              "        vertical-align: top;\n",
              "    }\n",
              "\n",
              "    .dataframe thead th {\n",
              "        text-align: right;\n",
              "    }\n",
              "</style>\n",
              "<table border=\"1\" class=\"dataframe\">\n",
              "  <thead>\n",
              "    <tr style=\"text-align: right;\">\n",
              "      <th></th>\n",
              "      <th>rooms</th>\n",
              "      <th>distance</th>\n",
              "      <th>postcode</th>\n",
              "      <th>bedroom2</th>\n",
              "      <th>bathroom</th>\n",
              "      <th>car</th>\n",
              "      <th>landsize</th>\n",
              "      <th>buildingarea</th>\n",
              "      <th>yearbuilt</th>\n",
              "      <th>lattitude</th>\n",
              "      <th>longtitude</th>\n",
              "      <th>propertycount</th>\n",
              "      <th>distance_was missing</th>\n",
              "      <th>postcode_was missing</th>\n",
              "      <th>bedroom2_was missing</th>\n",
              "      <th>bathroom_was missing</th>\n",
              "      <th>car_was missing</th>\n",
              "      <th>landsize_was missing</th>\n",
              "      <th>buildingarea_was missing</th>\n",
              "      <th>yearbuilt_was missing</th>\n",
              "      <th>lattitude_was missing</th>\n",
              "      <th>longtitude_was missing</th>\n",
              "      <th>propertycount_was missing</th>\n",
              "    </tr>\n",
              "  </thead>\n",
              "  <tbody>\n",
              "    <tr>\n",
              "      <th>3932</th>\n",
              "      <td>1</td>\n",
              "      <td>7.7</td>\n",
              "      <td>3184.0</td>\n",
              "      <td>1.0</td>\n",
              "      <td>1.0</td>\n",
              "      <td>1.0</td>\n",
              "      <td>0.0</td>\n",
              "      <td>42.0</td>\n",
              "      <td>1970.0</td>\n",
              "      <td>-37.8784</td>\n",
              "      <td>144.9864</td>\n",
              "      <td>8989.0</td>\n",
              "      <td>False</td>\n",
              "      <td>False</td>\n",
              "      <td>False</td>\n",
              "      <td>False</td>\n",
              "      <td>False</td>\n",
              "      <td>False</td>\n",
              "      <td>False</td>\n",
              "      <td>False</td>\n",
              "      <td>False</td>\n",
              "      <td>False</td>\n",
              "      <td>False</td>\n",
              "    </tr>\n",
              "    <tr>\n",
              "      <th>11811</th>\n",
              "      <td>2</td>\n",
              "      <td>8.2</td>\n",
              "      <td>3012.0</td>\n",
              "      <td>2.0</td>\n",
              "      <td>1.0</td>\n",
              "      <td>1.0</td>\n",
              "      <td>308.0</td>\n",
              "      <td>NaN</td>\n",
              "      <td>NaN</td>\n",
              "      <td>-37.7908</td>\n",
              "      <td>144.8717</td>\n",
              "      <td>5058.0</td>\n",
              "      <td>False</td>\n",
              "      <td>False</td>\n",
              "      <td>False</td>\n",
              "      <td>False</td>\n",
              "      <td>False</td>\n",
              "      <td>False</td>\n",
              "      <td>True</td>\n",
              "      <td>True</td>\n",
              "      <td>False</td>\n",
              "      <td>False</td>\n",
              "      <td>False</td>\n",
              "    </tr>\n",
              "    <tr>\n",
              "      <th>6615</th>\n",
              "      <td>5</td>\n",
              "      <td>8.7</td>\n",
              "      <td>3032.0</td>\n",
              "      <td>5.0</td>\n",
              "      <td>3.0</td>\n",
              "      <td>2.0</td>\n",
              "      <td>98.0</td>\n",
              "      <td>NaN</td>\n",
              "      <td>NaN</td>\n",
              "      <td>-37.7843</td>\n",
              "      <td>144.8939</td>\n",
              "      <td>4918.0</td>\n",
              "      <td>False</td>\n",
              "      <td>False</td>\n",
              "      <td>False</td>\n",
              "      <td>False</td>\n",
              "      <td>False</td>\n",
              "      <td>False</td>\n",
              "      <td>True</td>\n",
              "      <td>True</td>\n",
              "      <td>False</td>\n",
              "      <td>False</td>\n",
              "      <td>False</td>\n",
              "    </tr>\n",
              "  </tbody>\n",
              "</table>\n",
              "</div>"
            ],
            "text/plain": [
              "       rooms  distance  ...  longtitude_was missing  propertycount_was missing\n",
              "3932       1       7.7  ...                   False                      False\n",
              "11811      2       8.2  ...                   False                      False\n",
              "6615       5       8.7  ...                   False                      False\n",
              "\n",
              "[3 rows x 23 columns]"
            ]
          },
          "metadata": {
            "tags": []
          },
          "execution_count": 43
        }
      ]
    },
    {
      "cell_type": "code",
      "metadata": {
        "id": "UNoX5TT_0XSY",
        "colab_type": "code",
        "colab": {}
      },
      "source": [
        "my_imputer = SimpleImputer()\n",
        "\n",
        "imputed_train_x_plus = pd.DataFrame(my_imputer.fit_transform(train_x_plus))\n",
        "imputed_valid_x_plus = pd.DataFrame(my_imputer.transform(valid_x_plus))"
      ],
      "execution_count": 0,
      "outputs": []
    },
    {
      "cell_type": "code",
      "metadata": {
        "id": "XKsULOKv1Laz",
        "colab_type": "code",
        "colab": {
          "base_uri": "https://localhost:8080/",
          "height": 34
        },
        "outputId": "def465a8-efde-4a4c-c376-6127755980ee"
      },
      "source": [
        "imputed_train_x_plus.columns"
      ],
      "execution_count": 46,
      "outputs": [
        {
          "output_type": "execute_result",
          "data": {
            "text/plain": [
              "RangeIndex(start=0, stop=23, step=1)"
            ]
          },
          "metadata": {
            "tags": []
          },
          "execution_count": 46
        }
      ]
    },
    {
      "cell_type": "code",
      "metadata": {
        "id": "qVw6zwZF1hRZ",
        "colab_type": "code",
        "colab": {
          "base_uri": "https://localhost:8080/",
          "height": 34
        },
        "outputId": "284a7e8f-5839-4414-f25c-0ebf91eb5fea"
      },
      "source": [
        "imputed_train_x_plus.columns = train_x_plus.columns\n",
        "imputed_valid_x_plus.columns = valid_x_plus.columns\n",
        "\n",
        "score_dataset(train_x=imputed_train_x_plus,\n",
        "              valid_x=imputed_valid_x_plus,\n",
        "              train_y=train_y, valid_y=valid_y)"
      ],
      "execution_count": 47,
      "outputs": [
        {
          "output_type": "execute_result",
          "data": {
            "text/plain": [
              "198846.25410329842"
            ]
          },
          "metadata": {
            "tags": []
          },
          "execution_count": 47
        }
      ]
    },
    {
      "cell_type": "code",
      "metadata": {
        "id": "qRbbbeHq17X_",
        "colab_type": "code",
        "colab": {
          "base_uri": "https://localhost:8080/",
          "height": 34
        },
        "outputId": "2658aa33-4cff-45c9-bb2e-c8cabdc067d2"
      },
      "source": [
        "train_x.shape"
      ],
      "execution_count": 48,
      "outputs": [
        {
          "output_type": "execute_result",
          "data": {
            "text/plain": [
              "(14716, 12)"
            ]
          },
          "metadata": {
            "tags": []
          },
          "execution_count": 48
        }
      ]
    },
    {
      "cell_type": "code",
      "metadata": {
        "id": "ti225L6v2SEs",
        "colab_type": "code",
        "colab": {}
      },
      "source": [
        ""
      ],
      "execution_count": 0,
      "outputs": []
    }
  ]
}