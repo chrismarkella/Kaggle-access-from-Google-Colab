{
  "nbformat": 4,
  "nbformat_minor": 0,
  "metadata": {
    "kernelspec": {
      "display_name": "Python 3",
      "language": "python",
      "name": "python3"
    },
    "language_info": {
      "codemirror_mode": {
        "name": "ipython",
        "version": 3
      },
      "file_extension": ".py",
      "mimetype": "text/x-python",
      "name": "python",
      "nbconvert_exporter": "python",
      "pygments_lexer": "ipython3",
      "version": "3.6.5"
    },
    "colab": {
      "name": "kaggle_pandas_indexing_practice.ipynb",
      "provenance": [],
      "include_colab_link": true
    }
  },
  "cells": [
    {
      "cell_type": "markdown",
      "metadata": {
        "id": "view-in-github",
        "colab_type": "text"
      },
      "source": [
        "<a href=\"https://colab.research.google.com/github/chrismarkella/Kaggle-access-from-Google-Colab/blob/master/kaggle_pandas_indexing_practice.ipynb\" target=\"_parent\"><img src=\"https://colab.research.google.com/assets/colab-badge.svg\" alt=\"Open In Colab\"/></a>"
      ]
    },
    {
      "cell_type": "code",
      "metadata": {
        "id": "pXJav5BGWXe6",
        "colab_type": "code",
        "colab": {}
      },
      "source": [
        "import os\n",
        "\n",
        "import numpy as np\n",
        "import pandas as pd\n",
        "\n",
        "from getpass import getpass "
      ],
      "execution_count": 0,
      "outputs": []
    },
    {
      "cell_type": "code",
      "metadata": {
        "id": "LNzz2l7EWaPs",
        "colab_type": "code",
        "outputId": "a3cd6d97-494b-4944-c63a-3bf83523c7f4",
        "colab": {
          "base_uri": "https://localhost:8080/",
          "height": 69
        }
      },
      "source": [
        "def access_kaggle():\n",
        "    \"\"\"\n",
        "    Access Kaggle from Google Colab.\n",
        "    If the /root/.kaggle does not exist then prompt for\n",
        "    the username and for the Kaggle API key.\n",
        "    Creates the kaggle.json access file in the /root/.kaggle/ folder. \n",
        "    \"\"\"\n",
        "    KAGGLE_ROOT = os.path.join('/root', '.kaggle')\n",
        "    KAGGLE_PATH = os.path.join(KAGGLE_ROOT, 'kaggle.json')\n",
        "\n",
        "    if '.kaggle' not in os.listdir(path='/root'):\n",
        "        user = getpass(prompt='Kaggle username: ')\n",
        "        key  = getpass(prompt='Kaggle API key: ')\n",
        "        \n",
        "        !mkdir $KAGGLE_ROOT\n",
        "        !touch $KAGGLE_PATH\n",
        "        !chmod 666 $KAGGLE_PATH\n",
        "        with open(KAGGLE_PATH, mode='w') as f:\n",
        "            f.write('{\"username\":\"%s\", \"key\":\"%s\"}' %(user, key))\n",
        "            f.close()\n",
        "        !chmod 600 $KAGGLE_PATH\n",
        "        del user\n",
        "        del key\n",
        "        success_msg = \"Kaggle is successfully set up. Good to go.\"\n",
        "        print(f'{success_msg}')\n",
        "\n",
        "access_kaggle()\n"
      ],
      "execution_count": 2,
      "outputs": [
        {
          "output_type": "stream",
          "text": [
            "Kaggle username: ··········\n",
            "Kaggle API key: ··········\n",
            "Kaggle is successfully set up. Good to go.\n"
          ],
          "name": "stdout"
        }
      ]
    },
    {
      "cell_type": "code",
      "metadata": {
        "id": "Pn0Pm4CuW8ka",
        "colab_type": "code",
        "outputId": "7040eadd-f73c-4dee-ed6c-64e70a5a8567",
        "colab": {
          "base_uri": "https://localhost:8080/",
          "height": 725
        }
      },
      "source": [
        "!kaggle datasets download zynicide/wine-reviews -f winemag-data-130k-v2.csv\n",
        "\n",
        "!unzip winemag-data-130k-v2.csv.zip\n",
        "!rm winemag-data-130k-v2.csv.zip\n",
        "\n",
        "df = pd.read_csv('winemag-data-130k-v2.csv', sep=',',\n",
        "                 index_col=0)\n",
        "df.head()"
      ],
      "execution_count": 3,
      "outputs": [
        {
          "output_type": "stream",
          "text": [
            "Downloading winemag-data-130k-v2.csv.zip to /content\n",
            " 55% 9.00M/16.4M [00:00<00:00, 42.8MB/s]\n",
            "100% 16.4M/16.4M [00:00<00:00, 54.6MB/s]\n",
            "Archive:  winemag-data-130k-v2.csv.zip\n",
            "  inflating: winemag-data-130k-v2.csv  \n"
          ],
          "name": "stdout"
        },
        {
          "output_type": "execute_result",
          "data": {
            "text/html": [
              "<div>\n",
              "<style scoped>\n",
              "    .dataframe tbody tr th:only-of-type {\n",
              "        vertical-align: middle;\n",
              "    }\n",
              "\n",
              "    .dataframe tbody tr th {\n",
              "        vertical-align: top;\n",
              "    }\n",
              "\n",
              "    .dataframe thead th {\n",
              "        text-align: right;\n",
              "    }\n",
              "</style>\n",
              "<table border=\"1\" class=\"dataframe\">\n",
              "  <thead>\n",
              "    <tr style=\"text-align: right;\">\n",
              "      <th></th>\n",
              "      <th>country</th>\n",
              "      <th>description</th>\n",
              "      <th>designation</th>\n",
              "      <th>points</th>\n",
              "      <th>price</th>\n",
              "      <th>province</th>\n",
              "      <th>region_1</th>\n",
              "      <th>region_2</th>\n",
              "      <th>taster_name</th>\n",
              "      <th>taster_twitter_handle</th>\n",
              "      <th>title</th>\n",
              "      <th>variety</th>\n",
              "      <th>winery</th>\n",
              "    </tr>\n",
              "  </thead>\n",
              "  <tbody>\n",
              "    <tr>\n",
              "      <th>0</th>\n",
              "      <td>Italy</td>\n",
              "      <td>Aromas include tropical fruit, broom, brimston...</td>\n",
              "      <td>Vulkà Bianco</td>\n",
              "      <td>87</td>\n",
              "      <td>NaN</td>\n",
              "      <td>Sicily &amp; Sardinia</td>\n",
              "      <td>Etna</td>\n",
              "      <td>NaN</td>\n",
              "      <td>Kerin O’Keefe</td>\n",
              "      <td>@kerinokeefe</td>\n",
              "      <td>Nicosia 2013 Vulkà Bianco  (Etna)</td>\n",
              "      <td>White Blend</td>\n",
              "      <td>Nicosia</td>\n",
              "    </tr>\n",
              "    <tr>\n",
              "      <th>1</th>\n",
              "      <td>Portugal</td>\n",
              "      <td>This is ripe and fruity, a wine that is smooth...</td>\n",
              "      <td>Avidagos</td>\n",
              "      <td>87</td>\n",
              "      <td>15.0</td>\n",
              "      <td>Douro</td>\n",
              "      <td>NaN</td>\n",
              "      <td>NaN</td>\n",
              "      <td>Roger Voss</td>\n",
              "      <td>@vossroger</td>\n",
              "      <td>Quinta dos Avidagos 2011 Avidagos Red (Douro)</td>\n",
              "      <td>Portuguese Red</td>\n",
              "      <td>Quinta dos Avidagos</td>\n",
              "    </tr>\n",
              "    <tr>\n",
              "      <th>2</th>\n",
              "      <td>US</td>\n",
              "      <td>Tart and snappy, the flavors of lime flesh and...</td>\n",
              "      <td>NaN</td>\n",
              "      <td>87</td>\n",
              "      <td>14.0</td>\n",
              "      <td>Oregon</td>\n",
              "      <td>Willamette Valley</td>\n",
              "      <td>Willamette Valley</td>\n",
              "      <td>Paul Gregutt</td>\n",
              "      <td>@paulgwine</td>\n",
              "      <td>Rainstorm 2013 Pinot Gris (Willamette Valley)</td>\n",
              "      <td>Pinot Gris</td>\n",
              "      <td>Rainstorm</td>\n",
              "    </tr>\n",
              "    <tr>\n",
              "      <th>3</th>\n",
              "      <td>US</td>\n",
              "      <td>Pineapple rind, lemon pith and orange blossom ...</td>\n",
              "      <td>Reserve Late Harvest</td>\n",
              "      <td>87</td>\n",
              "      <td>13.0</td>\n",
              "      <td>Michigan</td>\n",
              "      <td>Lake Michigan Shore</td>\n",
              "      <td>NaN</td>\n",
              "      <td>Alexander Peartree</td>\n",
              "      <td>NaN</td>\n",
              "      <td>St. Julian 2013 Reserve Late Harvest Riesling ...</td>\n",
              "      <td>Riesling</td>\n",
              "      <td>St. Julian</td>\n",
              "    </tr>\n",
              "    <tr>\n",
              "      <th>4</th>\n",
              "      <td>US</td>\n",
              "      <td>Much like the regular bottling from 2012, this...</td>\n",
              "      <td>Vintner's Reserve Wild Child Block</td>\n",
              "      <td>87</td>\n",
              "      <td>65.0</td>\n",
              "      <td>Oregon</td>\n",
              "      <td>Willamette Valley</td>\n",
              "      <td>Willamette Valley</td>\n",
              "      <td>Paul Gregutt</td>\n",
              "      <td>@paulgwine</td>\n",
              "      <td>Sweet Cheeks 2012 Vintner's Reserve Wild Child...</td>\n",
              "      <td>Pinot Noir</td>\n",
              "      <td>Sweet Cheeks</td>\n",
              "    </tr>\n",
              "  </tbody>\n",
              "</table>\n",
              "</div>"
            ],
            "text/plain": [
              "    country  ...               winery\n",
              "0     Italy  ...              Nicosia\n",
              "1  Portugal  ...  Quinta dos Avidagos\n",
              "2        US  ...            Rainstorm\n",
              "3        US  ...           St. Julian\n",
              "4        US  ...         Sweet Cheeks\n",
              "\n",
              "[5 rows x 13 columns]"
            ]
          },
          "metadata": {
            "tags": []
          },
          "execution_count": 3
        }
      ]
    },
    {
      "cell_type": "markdown",
      "metadata": {
        "id": "ZHfROEOZWM_l",
        "colab_type": "text"
      },
      "source": [
        "# Introduction\n",
        "\n",
        "Now you are ready to get a deeper understanding of your data.\n",
        "\n",
        "Run the following cell to load your data and some utility functions (including code to check your answers)."
      ]
    },
    {
      "cell_type": "code",
      "metadata": {
        "id": "GDwelMYxWM_m",
        "colab_type": "code",
        "colab": {}
      },
      "source": [
        "pd.set_option(\"display.max_rows\", 20)\n"
      ],
      "execution_count": 0,
      "outputs": []
    },
    {
      "cell_type": "markdown",
      "metadata": {
        "id": "gzHTwF3HWM_t",
        "colab_type": "text"
      },
      "source": [
        "# Exercises"
      ]
    },
    {
      "cell_type": "markdown",
      "metadata": {
        "id": "I_viSDZbWM_v",
        "colab_type": "text"
      },
      "source": [
        "## 1.\n",
        "\n",
        "What is the median of the `points` column in the `reviews` DataFrame?"
      ]
    },
    {
      "cell_type": "code",
      "metadata": {
        "id": "--7qJq5IWpX9",
        "colab_type": "code",
        "colab": {
          "base_uri": "https://localhost:8080/",
          "height": 173
        },
        "outputId": "7b93eaee-36c0-4923-a125-670cad0dd963"
      },
      "source": [
        "df.points.describe()"
      ],
      "execution_count": 5,
      "outputs": [
        {
          "output_type": "execute_result",
          "data": {
            "text/plain": [
              "count    129971.000000\n",
              "mean         88.447138\n",
              "std           3.039730\n",
              "min          80.000000\n",
              "25%          86.000000\n",
              "50%          88.000000\n",
              "75%          91.000000\n",
              "max         100.000000\n",
              "Name: points, dtype: float64"
            ]
          },
          "metadata": {
            "tags": []
          },
          "execution_count": 5
        }
      ]
    },
    {
      "cell_type": "code",
      "metadata": {
        "id": "pEQLYXK3WM_x",
        "colab_type": "code",
        "colab": {
          "base_uri": "https://localhost:8080/",
          "height": 35
        },
        "outputId": "665b528d-f604-4420-d4fc-977d8a2a762c"
      },
      "source": [
        "median_points = df.points.median()\n",
        "median_points\n",
        "# Check your answer\n",
        "# q1.check()"
      ],
      "execution_count": 6,
      "outputs": [
        {
          "output_type": "execute_result",
          "data": {
            "text/plain": [
              "88.0"
            ]
          },
          "metadata": {
            "tags": []
          },
          "execution_count": 6
        }
      ]
    },
    {
      "cell_type": "code",
      "metadata": {
        "id": "6oCT0aC6WM_1",
        "colab_type": "code",
        "colab": {}
      },
      "source": [
        "#q1.hint()\n",
        "#q1.solution()"
      ],
      "execution_count": 0,
      "outputs": []
    },
    {
      "cell_type": "markdown",
      "metadata": {
        "id": "Idr1wGofWM_8",
        "colab_type": "text"
      },
      "source": [
        "## 2. \n",
        "What countries are represented in the dataset? (Your answer should not include any duplicates.)"
      ]
    },
    {
      "cell_type": "code",
      "metadata": {
        "id": "xVUvSZmoWM_9",
        "colab_type": "code",
        "colab": {
          "base_uri": "https://localhost:8080/",
          "height": 173
        },
        "outputId": "0f56d4aa-d6a6-45e5-be1d-e6e11594168a"
      },
      "source": [
        "countries = df.country.unique()\n",
        "countries\n",
        "# Check your answer\n",
        "# q2.check()"
      ],
      "execution_count": 7,
      "outputs": [
        {
          "output_type": "execute_result",
          "data": {
            "text/plain": [
              "array(['Italy', 'Portugal', 'US', 'Spain', 'France', 'Germany',\n",
              "       'Argentina', 'Chile', 'Australia', 'Austria', 'South Africa',\n",
              "       'New Zealand', 'Israel', 'Hungary', 'Greece', 'Romania', 'Mexico',\n",
              "       'Canada', nan, 'Turkey', 'Czech Republic', 'Slovenia',\n",
              "       'Luxembourg', 'Croatia', 'Georgia', 'Uruguay', 'England',\n",
              "       'Lebanon', 'Serbia', 'Brazil', 'Moldova', 'Morocco', 'Peru',\n",
              "       'India', 'Bulgaria', 'Cyprus', 'Armenia', 'Switzerland',\n",
              "       'Bosnia and Herzegovina', 'Ukraine', 'Slovakia', 'Macedonia',\n",
              "       'China', 'Egypt'], dtype=object)"
            ]
          },
          "metadata": {
            "tags": []
          },
          "execution_count": 7
        }
      ]
    },
    {
      "cell_type": "code",
      "metadata": {
        "id": "BAfwVDzXWNAC",
        "colab_type": "code",
        "colab": {}
      },
      "source": [
        "#q2.hint()\n",
        "#q2.solution()"
      ],
      "execution_count": 0,
      "outputs": []
    },
    {
      "cell_type": "markdown",
      "metadata": {
        "id": "_tvvg0qlWNAI",
        "colab_type": "text"
      },
      "source": [
        "## 3.\n",
        "How often does each country appear in the dataset? Create a Series `reviews_per_country` mapping countries to the count of reviews of wines from that country."
      ]
    },
    {
      "cell_type": "code",
      "metadata": {
        "id": "mZ0oL_oIWNAJ",
        "colab_type": "code",
        "colab": {
          "base_uri": "https://localhost:8080/",
          "height": 225
        },
        "outputId": "71251e9c-aaa1-43f2-8812-efa4d588444e"
      },
      "source": [
        "\n",
        "reviews_per_country = df.country.value_counts()\n",
        "reviews_per_country\n",
        "\n",
        "# Check your answer\n",
        "# q3.check()"
      ],
      "execution_count": 8,
      "outputs": [
        {
          "output_type": "execute_result",
          "data": {
            "text/plain": [
              "US                        54504\n",
              "France                    22093\n",
              "Italy                     19540\n",
              "Spain                      6645\n",
              "Portugal                   5691\n",
              "                          ...  \n",
              "Armenia                       2\n",
              "Bosnia and Herzegovina        2\n",
              "Egypt                         1\n",
              "China                         1\n",
              "Slovakia                      1\n",
              "Name: country, Length: 43, dtype: int64"
            ]
          },
          "metadata": {
            "tags": []
          },
          "execution_count": 8
        }
      ]
    },
    {
      "cell_type": "code",
      "metadata": {
        "id": "UQFjjNf0WNAN",
        "colab_type": "code",
        "colab": {}
      },
      "source": [
        "#q3.hint()\n",
        "#q3.solution()"
      ],
      "execution_count": 0,
      "outputs": []
    },
    {
      "cell_type": "markdown",
      "metadata": {
        "id": "To74PLlCWNAR",
        "colab_type": "text"
      },
      "source": [
        "## 4.\n",
        "Create variable `centered_price` containing a version of the `price` column with the mean price subtracted.\n",
        "\n",
        "(Note: this 'centering' transformation is a common preprocessing step before applying various machine learning algorithms.) "
      ]
    },
    {
      "cell_type": "code",
      "metadata": {
        "id": "Ohg4H7I2WNAS",
        "colab_type": "code",
        "colab": {
          "base_uri": "https://localhost:8080/",
          "height": 225
        },
        "outputId": "f695f29b-f860-4dac-86d7-4887f8f0de2b"
      },
      "source": [
        "mean_price = df.price.mean()\n",
        "centered_price = df.price - mean_price \n",
        "centered_price\n",
        "# Check your answer\n",
        "# q4.check()"
      ],
      "execution_count": 9,
      "outputs": [
        {
          "output_type": "execute_result",
          "data": {
            "text/plain": [
              "0               NaN\n",
              "1        -20.363389\n",
              "2        -21.363389\n",
              "3        -22.363389\n",
              "4         29.636611\n",
              "            ...    \n",
              "129966    -7.363389\n",
              "129967    39.636611\n",
              "129968    -5.363389\n",
              "129969    -3.363389\n",
              "129970   -14.363389\n",
              "Name: price, Length: 129971, dtype: float64"
            ]
          },
          "metadata": {
            "tags": []
          },
          "execution_count": 9
        }
      ]
    },
    {
      "cell_type": "code",
      "metadata": {
        "id": "jgKCldvuWNAW",
        "colab_type": "code",
        "colab": {}
      },
      "source": [
        "#q4.hint()\n",
        "#q4.solution()"
      ],
      "execution_count": 0,
      "outputs": []
    },
    {
      "cell_type": "markdown",
      "metadata": {
        "id": "2vHERkEtWNAa",
        "colab_type": "text"
      },
      "source": [
        "## 5.\n",
        "I'm an economical wine buyer. Which wine is the \"best bargain\"? Create a variable `bargain_wine` with the title of the wine with the highest points-to-price ratio in the dataset."
      ]
    },
    {
      "cell_type": "code",
      "metadata": {
        "id": "TV3QtCBlWNAc",
        "colab_type": "code",
        "colab": {
          "base_uri": "https://localhost:8080/",
          "height": 35
        },
        "outputId": "f750d708-227d-4c9b-9472-9b5c5acdfe5c"
      },
      "source": [
        "df['point_price_rate'] = df.points / df.price\n",
        "max_index = df.point_price_rate.idxmax()\n",
        "\n",
        "bargain_wine = df.loc[max_index, 'title']\n",
        "bargain_wine\n",
        "\n",
        "# Check your answer\n",
        "# q5.check()"
      ],
      "execution_count": 10,
      "outputs": [
        {
          "output_type": "execute_result",
          "data": {
            "text/plain": [
              "'Bandit NV Merlot (California)'"
            ]
          },
          "metadata": {
            "tags": []
          },
          "execution_count": 10
        }
      ]
    },
    {
      "cell_type": "code",
      "metadata": {
        "id": "Jn6WpE4fWNAf",
        "colab_type": "code",
        "colab": {}
      },
      "source": [
        "#q5.hint()\n",
        "#q5.solution()"
      ],
      "execution_count": 0,
      "outputs": []
    },
    {
      "cell_type": "markdown",
      "metadata": {
        "id": "Qnm_z9KWWNAj",
        "colab_type": "text"
      },
      "source": [
        "## 6.\n",
        "There are only so many words you can use when describing a bottle of wine. Is a wine more likely to be \"tropical\" or \"fruity\"? Create a Series `descriptor_counts` counting how many times each of these two words appears in the `description` column in the dataset."
      ]
    },
    {
      "cell_type": "code",
      "metadata": {
        "id": "XnshyzYyWNAk",
        "colab_type": "code",
        "colab": {
          "base_uri": "https://localhost:8080/",
          "height": 69
        },
        "outputId": "5b03f158-3cff-4494-8c19-d48fce21eacd"
      },
      "source": [
        "# tropical_count = df.description.map(lambda d: 'tropical' in d).sum()\n",
        "# fruity_count = df.description.map(lambda d: 'fruity' in d).sum()\n",
        "\n",
        "word_count = lambda word: df.description.map(lambda d: word in d).sum()\n",
        "\n",
        "\n",
        "pd.Series(\n",
        "        data=[\n",
        "            # tropical_count,\n",
        "            # fruity_count,\n",
        "            word_count('tropical'),\n",
        "            word_count('fruity'),\n",
        "            ],\n",
        "        index=[\n",
        "            'tropical',\n",
        "            'fruity',   \n",
        "        ]\n",
        ")\n",
        "\n",
        "# descriptor_counts = ____\n",
        "\n",
        "# Check your answer\n",
        "# q6.check()"
      ],
      "execution_count": 13,
      "outputs": [
        {
          "output_type": "execute_result",
          "data": {
            "text/plain": [
              "tropical    3607\n",
              "fruity      9090\n",
              "dtype: int64"
            ]
          },
          "metadata": {
            "tags": []
          },
          "execution_count": 13
        }
      ]
    },
    {
      "cell_type": "code",
      "metadata": {
        "id": "am33HkjOWNAq",
        "colab_type": "code",
        "colab": {}
      },
      "source": [
        "#q6.hint()\n",
        "#q6.solution()"
      ],
      "execution_count": 0,
      "outputs": []
    },
    {
      "cell_type": "markdown",
      "metadata": {
        "id": "3xVUwsjqWNAu",
        "colab_type": "text"
      },
      "source": [
        "## 7.\n",
        "We'd like to host these wine reviews on our website, but a rating system ranging from 80 to 100 points is too hard to understand - we'd like to translate them into simple star ratings. A score of 95 or higher counts as 3 stars, a score of at least 85 but less than 95 is 2 stars. Any other score is 1 star.\n",
        "\n",
        "Also, the Canadian Vintners Association bought a lot of ads on the site, so any wines from Canada should automatically get 3 stars, regardless of points.\n",
        "\n",
        "Create a series `star_ratings` with the number of stars corresponding to each review in the dataset."
      ]
    },
    {
      "cell_type": "code",
      "metadata": {
        "id": "OZUkIzY-c9mT",
        "colab_type": "code",
        "colab": {
          "base_uri": "https://localhost:8080/",
          "height": 355
        },
        "outputId": "c1e003ea-cb4b-4939-d218-a491a55fccdf"
      },
      "source": [
        "def get_stars(row)-> str:\n",
        "    \"\"\"\n",
        "    Return the star ratings from the points and from the country.\n",
        "    \"\"\"\n",
        "    if row.country == 'Canada' or row.points >= 95:\n",
        "        return '***'\n",
        "    elif row.points >= 85:\n",
        "        return '**'\n",
        "    else:\n",
        "        return '*'\n",
        "\n",
        "df['star_ratings'] = df.apply(func=get_stars, axis='columns')\n",
        "\n",
        "df.sample(10).loc[:, ['country', 'points', 'star_ratings']]"
      ],
      "execution_count": 15,
      "outputs": [
        {
          "output_type": "execute_result",
          "data": {
            "text/html": [
              "<div>\n",
              "<style scoped>\n",
              "    .dataframe tbody tr th:only-of-type {\n",
              "        vertical-align: middle;\n",
              "    }\n",
              "\n",
              "    .dataframe tbody tr th {\n",
              "        vertical-align: top;\n",
              "    }\n",
              "\n",
              "    .dataframe thead th {\n",
              "        text-align: right;\n",
              "    }\n",
              "</style>\n",
              "<table border=\"1\" class=\"dataframe\">\n",
              "  <thead>\n",
              "    <tr style=\"text-align: right;\">\n",
              "      <th></th>\n",
              "      <th>country</th>\n",
              "      <th>points</th>\n",
              "      <th>star_ratings</th>\n",
              "    </tr>\n",
              "  </thead>\n",
              "  <tbody>\n",
              "    <tr>\n",
              "      <th>47746</th>\n",
              "      <td>Chile</td>\n",
              "      <td>87</td>\n",
              "      <td>**</td>\n",
              "    </tr>\n",
              "    <tr>\n",
              "      <th>103510</th>\n",
              "      <td>Chile</td>\n",
              "      <td>86</td>\n",
              "      <td>**</td>\n",
              "    </tr>\n",
              "    <tr>\n",
              "      <th>10210</th>\n",
              "      <td>US</td>\n",
              "      <td>86</td>\n",
              "      <td>**</td>\n",
              "    </tr>\n",
              "    <tr>\n",
              "      <th>21092</th>\n",
              "      <td>Austria</td>\n",
              "      <td>95</td>\n",
              "      <td>***</td>\n",
              "    </tr>\n",
              "    <tr>\n",
              "      <th>90218</th>\n",
              "      <td>France</td>\n",
              "      <td>84</td>\n",
              "      <td>*</td>\n",
              "    </tr>\n",
              "    <tr>\n",
              "      <th>126346</th>\n",
              "      <td>France</td>\n",
              "      <td>87</td>\n",
              "      <td>**</td>\n",
              "    </tr>\n",
              "    <tr>\n",
              "      <th>21468</th>\n",
              "      <td>US</td>\n",
              "      <td>92</td>\n",
              "      <td>**</td>\n",
              "    </tr>\n",
              "    <tr>\n",
              "      <th>41877</th>\n",
              "      <td>Italy</td>\n",
              "      <td>85</td>\n",
              "      <td>**</td>\n",
              "    </tr>\n",
              "    <tr>\n",
              "      <th>32894</th>\n",
              "      <td>France</td>\n",
              "      <td>91</td>\n",
              "      <td>**</td>\n",
              "    </tr>\n",
              "    <tr>\n",
              "      <th>112353</th>\n",
              "      <td>US</td>\n",
              "      <td>92</td>\n",
              "      <td>**</td>\n",
              "    </tr>\n",
              "  </tbody>\n",
              "</table>\n",
              "</div>"
            ],
            "text/plain": [
              "        country  points star_ratings\n",
              "47746     Chile      87           **\n",
              "103510    Chile      86           **\n",
              "10210        US      86           **\n",
              "21092   Austria      95          ***\n",
              "90218    France      84            *\n",
              "126346   France      87           **\n",
              "21468        US      92           **\n",
              "41877     Italy      85           **\n",
              "32894    France      91           **\n",
              "112353       US      92           **"
            ]
          },
          "metadata": {
            "tags": []
          },
          "execution_count": 15
        }
      ]
    },
    {
      "cell_type": "code",
      "metadata": {
        "id": "LYzB__gQWNAv",
        "colab_type": "code",
        "colab": {}
      },
      "source": [
        "# star_ratings = ____\n",
        "\n",
        "# Check your answer\n",
        "# q7.check()"
      ],
      "execution_count": 0,
      "outputs": []
    },
    {
      "cell_type": "code",
      "metadata": {
        "id": "zN9vwnfDWNAz",
        "colab_type": "code",
        "colab": {}
      },
      "source": [
        "#q7.hint()\n",
        "#q7.solution()"
      ],
      "execution_count": 0,
      "outputs": []
    },
    {
      "cell_type": "markdown",
      "metadata": {
        "id": "fuv1uLOqWNA3",
        "colab_type": "text"
      },
      "source": [
        "# Keep going\n",
        "Continue to **[grouping and sorting](https://www.kaggle.com/residentmario/grouping-and-sorting)**."
      ]
    },
    {
      "cell_type": "markdown",
      "metadata": {
        "id": "0ebsoFpeWNA4",
        "colab_type": "text"
      },
      "source": [
        "---\n",
        "**[Pandas Home Page](https://www.kaggle.com/learn/pandas)**\n",
        "\n",
        "\n",
        "\n",
        "\n",
        "\n",
        "*Have questions or comments? Visit the [Learn Discussion forum](https://www.kaggle.com/learn-forum) to chat with other Learners.*"
      ]
    }
  ]
}