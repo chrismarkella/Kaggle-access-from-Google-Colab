{
  "nbformat": 4,
  "nbformat_minor": 0,
  "metadata": {
    "kernelspec": {
      "display_name": "Python 3",
      "language": "python",
      "name": "python3"
    },
    "language_info": {
      "codemirror_mode": {
        "name": "ipython",
        "version": 3
      },
      "file_extension": ".py",
      "mimetype": "text/x-python",
      "name": "python",
      "nbconvert_exporter": "python",
      "pygments_lexer": "ipython3",
      "version": "3.6.5"
    },
    "colab": {
      "name": "pandas_groupby.ipynb",
      "provenance": [],
      "include_colab_link": true
    }
  },
  "cells": [
    {
      "cell_type": "markdown",
      "metadata": {
        "id": "view-in-github",
        "colab_type": "text"
      },
      "source": [
        "<a href=\"https://colab.research.google.com/github/chrismarkella/Kaggle-access-from-Google-Colab/blob/master/pandas_groupby.ipynb\" target=\"_parent\"><img src=\"https://colab.research.google.com/assets/colab-badge.svg\" alt=\"Open In Colab\"/></a>"
      ]
    },
    {
      "cell_type": "code",
      "metadata": {
        "id": "iYZ3Bte_CYxn",
        "colab_type": "code",
        "colab": {}
      },
      "source": [
        "import os\n",
        "\n",
        "import numpy as np\n",
        "import pandas as pd\n",
        "\n",
        "from getpass import getpass "
      ],
      "execution_count": 0,
      "outputs": []
    },
    {
      "cell_type": "code",
      "metadata": {
        "id": "bXlt3sSkCZp9",
        "colab_type": "code",
        "colab": {
          "base_uri": "https://localhost:8080/",
          "height": 69
        },
        "outputId": "4a13bd96-3b7e-4c39-f566-e0c064bbee55"
      },
      "source": [
        "def access_kaggle():\n",
        "    \"\"\"\n",
        "    Access Kaggle from Google Colab.\n",
        "    If the /root/.kaggle does not exist then prompt for\n",
        "    the username and for the Kaggle API key.\n",
        "    Creates the kaggle.json access file in the /root/.kaggle/ folder. \n",
        "    \"\"\"\n",
        "    KAGGLE_ROOT = os.path.join('/root', '.kaggle')\n",
        "    KAGGLE_PATH = os.path.join(KAGGLE_ROOT, 'kaggle.json')\n",
        "\n",
        "    if '.kaggle' not in os.listdir(path='/root'):\n",
        "        user = getpass(prompt='Kaggle username: ')\n",
        "        key  = getpass(prompt='Kaggle API key: ')\n",
        "        \n",
        "        !mkdir $KAGGLE_ROOT\n",
        "        !touch $KAGGLE_PATH\n",
        "        !chmod 666 $KAGGLE_PATH\n",
        "        with open(KAGGLE_PATH, mode='w') as f:\n",
        "            f.write('{\"username\":\"%s\", \"key\":\"%s\"}' %(user, key))\n",
        "            f.close()\n",
        "        !chmod 600 $KAGGLE_PATH\n",
        "        del user\n",
        "        del key\n",
        "        success_msg = \"Kaggle is successfully set up. Good to go.\"\n",
        "        print(f'{success_msg}')\n",
        "\n",
        "access_kaggle()\n"
      ],
      "execution_count": 2,
      "outputs": [
        {
          "output_type": "stream",
          "text": [
            "Kaggle username: ··········\n",
            "Kaggle API key: ··········\n",
            "Kaggle is successfully set up. Good to go.\n"
          ],
          "name": "stdout"
        }
      ]
    },
    {
      "cell_type": "code",
      "metadata": {
        "id": "uYy0nkjICyY7",
        "colab_type": "code",
        "colab": {
          "base_uri": "https://localhost:8080/",
          "height": 156
        },
        "outputId": "fc17e634-08e8-4f8f-ac15-817f93c9c161"
      },
      "source": [
        "!kaggle datasets download zynicide/wine-reviews --unzip -p datasets\n",
        "!ls -lh datasets\n",
        "\n",
        "df = pd.read_csv('datasets/winemag-data-130k-v2.csv', sep=\",\",\n",
        "                 index_col=0)\n",
        "df.shape"
      ],
      "execution_count": 12,
      "outputs": [
        {
          "output_type": "stream",
          "text": [
            "Downloading wine-reviews.zip to datasets\n",
            " 77% 39.0M/50.9M [00:00<00:00, 41.8MB/s]\n",
            "100% 50.9M/50.9M [00:00<00:00, 69.6MB/s]\n",
            "total 174M\n",
            "-rw-r--r-- 1 root root 51M Feb  4 07:19 winemag-data-130k-v2.csv\n",
            "-rw-r--r-- 1 root root 76M Feb  4 07:19 winemag-data-130k-v2.json\n",
            "-rw-r--r-- 1 root root 48M Feb  4 07:19 winemag-data_first150k.csv\n"
          ],
          "name": "stdout"
        },
        {
          "output_type": "execute_result",
          "data": {
            "text/plain": [
              "(129971, 13)"
            ]
          },
          "metadata": {
            "tags": []
          },
          "execution_count": 12
        }
      ]
    },
    {
      "cell_type": "code",
      "metadata": {
        "id": "uKIg59rHEJwj",
        "colab_type": "code",
        "colab": {
          "base_uri": "https://localhost:8080/",
          "height": 386
        },
        "outputId": "dc0ddca8-6c68-49d7-82ce-66eb94226958"
      },
      "source": [
        "df.head(3)"
      ],
      "execution_count": 13,
      "outputs": [
        {
          "output_type": "execute_result",
          "data": {
            "text/html": [
              "<div>\n",
              "<style scoped>\n",
              "    .dataframe tbody tr th:only-of-type {\n",
              "        vertical-align: middle;\n",
              "    }\n",
              "\n",
              "    .dataframe tbody tr th {\n",
              "        vertical-align: top;\n",
              "    }\n",
              "\n",
              "    .dataframe thead th {\n",
              "        text-align: right;\n",
              "    }\n",
              "</style>\n",
              "<table border=\"1\" class=\"dataframe\">\n",
              "  <thead>\n",
              "    <tr style=\"text-align: right;\">\n",
              "      <th></th>\n",
              "      <th>country</th>\n",
              "      <th>description</th>\n",
              "      <th>designation</th>\n",
              "      <th>points</th>\n",
              "      <th>price</th>\n",
              "      <th>province</th>\n",
              "      <th>region_1</th>\n",
              "      <th>region_2</th>\n",
              "      <th>taster_name</th>\n",
              "      <th>taster_twitter_handle</th>\n",
              "      <th>title</th>\n",
              "      <th>variety</th>\n",
              "      <th>winery</th>\n",
              "    </tr>\n",
              "  </thead>\n",
              "  <tbody>\n",
              "    <tr>\n",
              "      <th>0</th>\n",
              "      <td>Italy</td>\n",
              "      <td>Aromas include tropical fruit, broom, brimston...</td>\n",
              "      <td>Vulkà Bianco</td>\n",
              "      <td>87</td>\n",
              "      <td>NaN</td>\n",
              "      <td>Sicily &amp; Sardinia</td>\n",
              "      <td>Etna</td>\n",
              "      <td>NaN</td>\n",
              "      <td>Kerin O’Keefe</td>\n",
              "      <td>@kerinokeefe</td>\n",
              "      <td>Nicosia 2013 Vulkà Bianco  (Etna)</td>\n",
              "      <td>White Blend</td>\n",
              "      <td>Nicosia</td>\n",
              "    </tr>\n",
              "    <tr>\n",
              "      <th>1</th>\n",
              "      <td>Portugal</td>\n",
              "      <td>This is ripe and fruity, a wine that is smooth...</td>\n",
              "      <td>Avidagos</td>\n",
              "      <td>87</td>\n",
              "      <td>15.0</td>\n",
              "      <td>Douro</td>\n",
              "      <td>NaN</td>\n",
              "      <td>NaN</td>\n",
              "      <td>Roger Voss</td>\n",
              "      <td>@vossroger</td>\n",
              "      <td>Quinta dos Avidagos 2011 Avidagos Red (Douro)</td>\n",
              "      <td>Portuguese Red</td>\n",
              "      <td>Quinta dos Avidagos</td>\n",
              "    </tr>\n",
              "    <tr>\n",
              "      <th>2</th>\n",
              "      <td>US</td>\n",
              "      <td>Tart and snappy, the flavors of lime flesh and...</td>\n",
              "      <td>NaN</td>\n",
              "      <td>87</td>\n",
              "      <td>14.0</td>\n",
              "      <td>Oregon</td>\n",
              "      <td>Willamette Valley</td>\n",
              "      <td>Willamette Valley</td>\n",
              "      <td>Paul Gregutt</td>\n",
              "      <td>@paulgwine</td>\n",
              "      <td>Rainstorm 2013 Pinot Gris (Willamette Valley)</td>\n",
              "      <td>Pinot Gris</td>\n",
              "      <td>Rainstorm</td>\n",
              "    </tr>\n",
              "  </tbody>\n",
              "</table>\n",
              "</div>"
            ],
            "text/plain": [
              "    country  ...               winery\n",
              "0     Italy  ...              Nicosia\n",
              "1  Portugal  ...  Quinta dos Avidagos\n",
              "2        US  ...            Rainstorm\n",
              "\n",
              "[3 rows x 13 columns]"
            ]
          },
          "metadata": {
            "tags": []
          },
          "execution_count": 13
        }
      ]
    },
    {
      "cell_type": "markdown",
      "metadata": {
        "id": "q3X823QqCQqf",
        "colab_type": "text"
      },
      "source": [
        "# Introduction\n",
        "\n",
        "In these exercises we'll apply groupwise analysis to our dataset.\n",
        "\n",
        "Run the code cell below to load the data before running the exercises."
      ]
    },
    {
      "cell_type": "markdown",
      "metadata": {
        "id": "sRWMVZ7sCQqn",
        "colab_type": "text"
      },
      "source": [
        "# Exercises"
      ]
    },
    {
      "cell_type": "markdown",
      "metadata": {
        "id": "SNv1ehcOCQqo",
        "colab_type": "text"
      },
      "source": [
        "## 1.\n",
        "Who are the most common wine reviewers in the dataset? Create a `Series` whose index is the `taster_twitter_handle` category from the dataset, and whose values count how many reviews each person wrote."
      ]
    },
    {
      "cell_type": "code",
      "metadata": {
        "id": "UIb_lp5SCQqq",
        "colab_type": "code",
        "colab": {
          "base_uri": "https://localhost:8080/",
          "height": 87
        },
        "outputId": "5fc2914e-6cd4-4778-8c57-ca29a8695760"
      },
      "source": [
        "df.columns"
      ],
      "execution_count": 15,
      "outputs": [
        {
          "output_type": "execute_result",
          "data": {
            "text/plain": [
              "Index(['country', 'description', 'designation', 'points', 'price', 'province',\n",
              "       'region_1', 'region_2', 'taster_name', 'taster_twitter_handle', 'title',\n",
              "       'variety', 'winery'],\n",
              "      dtype='object')"
            ]
          },
          "metadata": {
            "tags": []
          },
          "execution_count": 15
        }
      ]
    },
    {
      "cell_type": "code",
      "metadata": {
        "id": "ukgoxpycCQqy",
        "colab_type": "code",
        "colab": {
          "base_uri": "https://localhost:8080/",
          "height": 312
        },
        "outputId": "cbe28510-f2ef-4301-fbba-4bb835128be3"
      },
      "source": [
        "df.groupby(by=['taster_twitter_handle']).size()"
      ],
      "execution_count": 16,
      "outputs": [
        {
          "output_type": "execute_result",
          "data": {
            "text/plain": [
              "taster_twitter_handle\n",
              "@AnneInVino          3685\n",
              "@JoeCz               5147\n",
              "@bkfiona               27\n",
              "@gordone_cellars     4177\n",
              "@kerinokeefe        10776\n",
              "@laurbuzz            1835\n",
              "@mattkettmann        6332\n",
              "@paulgwine           9532\n",
              "@suskostrzewa        1085\n",
              "@vboone              9537\n",
              "@vossroger          25514\n",
              "@wawinereport        4966\n",
              "@wineschach         15134\n",
              "@winewchristina         6\n",
              "@worldwineguys       1005\n",
              "dtype: int64"
            ]
          },
          "metadata": {
            "tags": []
          },
          "execution_count": 16
        }
      ]
    },
    {
      "cell_type": "markdown",
      "metadata": {
        "id": "9mGQd5WdCQq5",
        "colab_type": "text"
      },
      "source": [
        "## 2.\n",
        "What is the best wine I can buy for a given amount of money? Create a `Series` whose index is wine prices and whose values is the maximum number of points a wine costing that much was given in a review. Sort the values by price, ascending (so that `4.0` dollars is at the top and `3300.0` dollars is at the bottom)."
      ]
    },
    {
      "cell_type": "code",
      "metadata": {
        "id": "A9xnitZLCQq6",
        "colab_type": "code",
        "colab": {
          "base_uri": "https://localhost:8080/",
          "height": 243
        },
        "outputId": "da352fd4-7f0c-49da-9969-93455db7b64e"
      },
      "source": [
        "df.groupby(by=['price']).points.max().sort_index(ascending=True)"
      ],
      "execution_count": 18,
      "outputs": [
        {
          "output_type": "execute_result",
          "data": {
            "text/plain": [
              "price\n",
              "4.0       86\n",
              "5.0       87\n",
              "6.0       88\n",
              "7.0       91\n",
              "8.0       91\n",
              "          ..\n",
              "1900.0    98\n",
              "2000.0    97\n",
              "2013.0    91\n",
              "2500.0    96\n",
              "3300.0    88\n",
              "Name: points, Length: 390, dtype: int64"
            ]
          },
          "metadata": {
            "tags": []
          },
          "execution_count": 18
        }
      ]
    },
    {
      "cell_type": "markdown",
      "metadata": {
        "id": "9UckBZ9wCQrF",
        "colab_type": "text"
      },
      "source": [
        "## 3.\n",
        "What are the minimum and maximum prices for each `variety` of wine? Create a `DataFrame` whose index is the `variety` category from the dataset and whose values are the `min` and `max` values thereof."
      ]
    },
    {
      "cell_type": "code",
      "metadata": {
        "id": "XP2BO5LRCQrH",
        "colab_type": "code",
        "colab": {
          "base_uri": "https://localhost:8080/",
          "height": 446
        },
        "outputId": "8d086dae-70e3-44e2-800a-11db01934f0d"
      },
      "source": [
        "min_max_variety_df = df.groupby(by=['variety']).price.agg(['min', 'max'])\n",
        "min_max_variety_df"
      ],
      "execution_count": 20,
      "outputs": [
        {
          "output_type": "execute_result",
          "data": {
            "text/html": [
              "<div>\n",
              "<style scoped>\n",
              "    .dataframe tbody tr th:only-of-type {\n",
              "        vertical-align: middle;\n",
              "    }\n",
              "\n",
              "    .dataframe tbody tr th {\n",
              "        vertical-align: top;\n",
              "    }\n",
              "\n",
              "    .dataframe thead th {\n",
              "        text-align: right;\n",
              "    }\n",
              "</style>\n",
              "<table border=\"1\" class=\"dataframe\">\n",
              "  <thead>\n",
              "    <tr style=\"text-align: right;\">\n",
              "      <th></th>\n",
              "      <th>min</th>\n",
              "      <th>max</th>\n",
              "    </tr>\n",
              "    <tr>\n",
              "      <th>variety</th>\n",
              "      <th></th>\n",
              "      <th></th>\n",
              "    </tr>\n",
              "  </thead>\n",
              "  <tbody>\n",
              "    <tr>\n",
              "      <th>Abouriou</th>\n",
              "      <td>15.0</td>\n",
              "      <td>75.0</td>\n",
              "    </tr>\n",
              "    <tr>\n",
              "      <th>Agiorgitiko</th>\n",
              "      <td>10.0</td>\n",
              "      <td>66.0</td>\n",
              "    </tr>\n",
              "    <tr>\n",
              "      <th>Aglianico</th>\n",
              "      <td>6.0</td>\n",
              "      <td>180.0</td>\n",
              "    </tr>\n",
              "    <tr>\n",
              "      <th>Aidani</th>\n",
              "      <td>27.0</td>\n",
              "      <td>27.0</td>\n",
              "    </tr>\n",
              "    <tr>\n",
              "      <th>Airen</th>\n",
              "      <td>8.0</td>\n",
              "      <td>10.0</td>\n",
              "    </tr>\n",
              "    <tr>\n",
              "      <th>...</th>\n",
              "      <td>...</td>\n",
              "      <td>...</td>\n",
              "    </tr>\n",
              "    <tr>\n",
              "      <th>Zinfandel</th>\n",
              "      <td>5.0</td>\n",
              "      <td>100.0</td>\n",
              "    </tr>\n",
              "    <tr>\n",
              "      <th>Zlahtina</th>\n",
              "      <td>13.0</td>\n",
              "      <td>16.0</td>\n",
              "    </tr>\n",
              "    <tr>\n",
              "      <th>Zweigelt</th>\n",
              "      <td>9.0</td>\n",
              "      <td>70.0</td>\n",
              "    </tr>\n",
              "    <tr>\n",
              "      <th>Çalkarası</th>\n",
              "      <td>19.0</td>\n",
              "      <td>19.0</td>\n",
              "    </tr>\n",
              "    <tr>\n",
              "      <th>Žilavka</th>\n",
              "      <td>15.0</td>\n",
              "      <td>15.0</td>\n",
              "    </tr>\n",
              "  </tbody>\n",
              "</table>\n",
              "<p>707 rows × 2 columns</p>\n",
              "</div>"
            ],
            "text/plain": [
              "              min    max\n",
              "variety                 \n",
              "Abouriou     15.0   75.0\n",
              "Agiorgitiko  10.0   66.0\n",
              "Aglianico     6.0  180.0\n",
              "Aidani       27.0   27.0\n",
              "Airen         8.0   10.0\n",
              "...           ...    ...\n",
              "Zinfandel     5.0  100.0\n",
              "Zlahtina     13.0   16.0\n",
              "Zweigelt      9.0   70.0\n",
              "Çalkarası    19.0   19.0\n",
              "Žilavka      15.0   15.0\n",
              "\n",
              "[707 rows x 2 columns]"
            ]
          },
          "metadata": {
            "tags": []
          },
          "execution_count": 20
        }
      ]
    },
    {
      "cell_type": "markdown",
      "metadata": {
        "id": "U6chV1HUCQrQ",
        "colab_type": "text"
      },
      "source": [
        "## 4.\n",
        "What are the most expensive wine varieties? Create a variable `sorted_varieties` containing a copy of the dataframe from the previous question where varieties are sorted in descending order based on minimum price, then on maximum price (to break ties)."
      ]
    },
    {
      "cell_type": "code",
      "metadata": {
        "id": "mIfdY6OPCQrS",
        "colab_type": "code",
        "colab": {
          "base_uri": "https://localhost:8080/",
          "height": 446
        },
        "outputId": "ad09b1c6-511b-43a9-934b-6d7a65622d2d"
      },
      "source": [
        "sorted_varieties = min_max_variety_df.sort_values(by=['min', 'max'],\n",
        "                                                  ascending=[False, False])\n",
        "sorted_varieties"
      ],
      "execution_count": 22,
      "outputs": [
        {
          "output_type": "execute_result",
          "data": {
            "text/html": [
              "<div>\n",
              "<style scoped>\n",
              "    .dataframe tbody tr th:only-of-type {\n",
              "        vertical-align: middle;\n",
              "    }\n",
              "\n",
              "    .dataframe tbody tr th {\n",
              "        vertical-align: top;\n",
              "    }\n",
              "\n",
              "    .dataframe thead th {\n",
              "        text-align: right;\n",
              "    }\n",
              "</style>\n",
              "<table border=\"1\" class=\"dataframe\">\n",
              "  <thead>\n",
              "    <tr style=\"text-align: right;\">\n",
              "      <th></th>\n",
              "      <th>min</th>\n",
              "      <th>max</th>\n",
              "    </tr>\n",
              "    <tr>\n",
              "      <th>variety</th>\n",
              "      <th></th>\n",
              "      <th></th>\n",
              "    </tr>\n",
              "  </thead>\n",
              "  <tbody>\n",
              "    <tr>\n",
              "      <th>Ramisco</th>\n",
              "      <td>495.0</td>\n",
              "      <td>495.0</td>\n",
              "    </tr>\n",
              "    <tr>\n",
              "      <th>Terrantez</th>\n",
              "      <td>236.0</td>\n",
              "      <td>236.0</td>\n",
              "    </tr>\n",
              "    <tr>\n",
              "      <th>Francisa</th>\n",
              "      <td>160.0</td>\n",
              "      <td>160.0</td>\n",
              "    </tr>\n",
              "    <tr>\n",
              "      <th>Rosenmuskateller</th>\n",
              "      <td>150.0</td>\n",
              "      <td>150.0</td>\n",
              "    </tr>\n",
              "    <tr>\n",
              "      <th>Tinta Negra Mole</th>\n",
              "      <td>112.0</td>\n",
              "      <td>112.0</td>\n",
              "    </tr>\n",
              "    <tr>\n",
              "      <th>...</th>\n",
              "      <td>...</td>\n",
              "      <td>...</td>\n",
              "    </tr>\n",
              "    <tr>\n",
              "      <th>Roscetto</th>\n",
              "      <td>NaN</td>\n",
              "      <td>NaN</td>\n",
              "    </tr>\n",
              "    <tr>\n",
              "      <th>Sauvignon Blanc-Sauvignon Gris</th>\n",
              "      <td>NaN</td>\n",
              "      <td>NaN</td>\n",
              "    </tr>\n",
              "    <tr>\n",
              "      <th>Tempranillo-Malbec</th>\n",
              "      <td>NaN</td>\n",
              "      <td>NaN</td>\n",
              "    </tr>\n",
              "    <tr>\n",
              "      <th>Vital</th>\n",
              "      <td>NaN</td>\n",
              "      <td>NaN</td>\n",
              "    </tr>\n",
              "    <tr>\n",
              "      <th>Zelen</th>\n",
              "      <td>NaN</td>\n",
              "      <td>NaN</td>\n",
              "    </tr>\n",
              "  </tbody>\n",
              "</table>\n",
              "<p>707 rows × 2 columns</p>\n",
              "</div>"
            ],
            "text/plain": [
              "                                  min    max\n",
              "variety                                     \n",
              "Ramisco                         495.0  495.0\n",
              "Terrantez                       236.0  236.0\n",
              "Francisa                        160.0  160.0\n",
              "Rosenmuskateller                150.0  150.0\n",
              "Tinta Negra Mole                112.0  112.0\n",
              "...                               ...    ...\n",
              "Roscetto                          NaN    NaN\n",
              "Sauvignon Blanc-Sauvignon Gris    NaN    NaN\n",
              "Tempranillo-Malbec                NaN    NaN\n",
              "Vital                             NaN    NaN\n",
              "Zelen                             NaN    NaN\n",
              "\n",
              "[707 rows x 2 columns]"
            ]
          },
          "metadata": {
            "tags": []
          },
          "execution_count": 22
        }
      ]
    },
    {
      "cell_type": "markdown",
      "metadata": {
        "id": "2foPQZ2kCQrc",
        "colab_type": "text"
      },
      "source": [
        "## 5.\n",
        "Create a `Series` whose index is reviewers and whose values is the average review score given out by that reviewer. Hint: you will need the `taster_name` and `points` columns."
      ]
    },
    {
      "cell_type": "code",
      "metadata": {
        "id": "kuCWFvjtCQrd",
        "colab_type": "code",
        "colab": {
          "base_uri": "https://localhost:8080/",
          "height": 381
        },
        "outputId": "df685f9a-91c4-4399-9a70-312504d402d7"
      },
      "source": [
        "reviewer_mean_ratings = df.groupby(by=['taster_name']).points.mean()\n",
        "reviewer_mean_ratings"
      ],
      "execution_count": 25,
      "outputs": [
        {
          "output_type": "execute_result",
          "data": {
            "text/plain": [
              "taster_name\n",
              "Alexander Peartree    85.855422\n",
              "Anna Lee C. Iijima    88.415629\n",
              "Anne Krebiehl MW      90.562551\n",
              "Carrie Dykes          86.395683\n",
              "Christina Pickard     87.833333\n",
              "Fiona Adams           86.888889\n",
              "Jeff Jenssen          88.319756\n",
              "Jim Gordon            88.626287\n",
              "Joe Czerwinski        88.536235\n",
              "Kerin O’Keefe         88.867947\n",
              "Lauren Buzzeo         87.739510\n",
              "Matt Kettmann         90.008686\n",
              "Michael Schachner     86.907493\n",
              "Mike DeSimone         89.101167\n",
              "Paul Gregutt          89.082564\n",
              "Roger Voss            88.708003\n",
              "Sean P. Sullivan      88.755739\n",
              "Susan Kostrzewa       86.609217\n",
              "Virginie Boone        89.213379\n",
              "Name: points, dtype: float64"
            ]
          },
          "metadata": {
            "tags": []
          },
          "execution_count": 25
        }
      ]
    },
    {
      "cell_type": "markdown",
      "metadata": {
        "id": "aZ048I6nCQrm",
        "colab_type": "text"
      },
      "source": [
        "Are there significant differences in the average scores assigned by the various reviewers? Run the cell below to use the `describe()` method to see a summary of the range of values."
      ]
    },
    {
      "cell_type": "code",
      "metadata": {
        "id": "WIB24CSQCQrn",
        "colab_type": "code",
        "colab": {
          "base_uri": "https://localhost:8080/",
          "height": 173
        },
        "outputId": "564dcf6b-9bfd-479e-dd1b-eb7781b3f7ca"
      },
      "source": [
        "reviewer_mean_ratings.describe()"
      ],
      "execution_count": 26,
      "outputs": [
        {
          "output_type": "execute_result",
          "data": {
            "text/plain": [
              "count    19.000000\n",
              "mean     88.233026\n",
              "std       1.243610\n",
              "min      85.855422\n",
              "25%      87.323501\n",
              "50%      88.536235\n",
              "75%      88.975256\n",
              "max      90.562551\n",
              "Name: points, dtype: float64"
            ]
          },
          "metadata": {
            "tags": []
          },
          "execution_count": 26
        }
      ]
    },
    {
      "cell_type": "markdown",
      "metadata": {
        "id": "kIJ6sleECQrt",
        "colab_type": "text"
      },
      "source": [
        "## 6.\n",
        "What combination of countries and varieties are most common? Create a `Series` whose index is a `MultiIndex`of `{country, variety}` pairs. For example, a pinot noir produced in the US should map to `{\"US\", \"Pinot Noir\"}`. Sort the values in the `Series` in descending order based on wine count."
      ]
    },
    {
      "cell_type": "code",
      "metadata": {
        "id": "13wTTXXYCQru",
        "colab_type": "code",
        "colab": {
          "base_uri": "https://localhost:8080/",
          "height": 243
        },
        "outputId": "cb8f5409-9aed-48cb-a7ee-249dddb98df7"
      },
      "source": [
        "df.groupby(by=['country', 'variety']).size()\n",
        "# country_variety_counts = ____\n",
        "\n"
      ],
      "execution_count": 27,
      "outputs": [
        {
          "output_type": "execute_result",
          "data": {
            "text/plain": [
              "country    variety                   \n",
              "Argentina  Barbera                         1\n",
              "           Bonarda                       105\n",
              "           Bordeaux-style Red Blend       89\n",
              "           Bordeaux-style White Blend      1\n",
              "           Cabernet Blend                  8\n",
              "                                        ... \n",
              "Uruguay    Tannat-Cabernet Franc           2\n",
              "           Tannat-Merlot                   6\n",
              "           Tannat-Syrah                    1\n",
              "           Tempranillo-Tannat              1\n",
              "           White Blend                     1\n",
              "Length: 1612, dtype: int64"
            ]
          },
          "metadata": {
            "tags": []
          },
          "execution_count": 27
        }
      ]
    }
  ]
}