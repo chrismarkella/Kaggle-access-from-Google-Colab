{
  "nbformat": 4,
  "nbformat_minor": 0,
  "metadata": {
    "colab": {
      "name": "machine_learning_categorical.ipynb",
      "provenance": [],
      "collapsed_sections": [],
      "include_colab_link": true
    },
    "kernelspec": {
      "name": "python3",
      "display_name": "Python 3"
    }
  },
  "cells": [
    {
      "cell_type": "markdown",
      "metadata": {
        "id": "view-in-github",
        "colab_type": "text"
      },
      "source": [
        "<a href=\"https://colab.research.google.com/github/chrismarkella/Kaggle-access-from-Google-Colab/blob/master/machine_learning_categorical.ipynb\" target=\"_parent\"><img src=\"https://colab.research.google.com/assets/colab-badge.svg\" alt=\"Open In Colab\"/></a>"
      ]
    },
    {
      "cell_type": "code",
      "metadata": {
        "id": "V2c87jCbENol",
        "colab_type": "code",
        "colab": {
          "base_uri": "https://localhost:8080/",
          "height": 138
        },
        "outputId": "041f3239-ca8e-4872-c75f-493df733b67b"
      },
      "source": [
        "!apt-get -qq install tree"
      ],
      "execution_count": 1,
      "outputs": [
        {
          "output_type": "stream",
          "text": [
            "Selecting previously unselected package tree.\n",
            "(Reading database ... 135004 files and directories currently installed.)\n",
            "Preparing to unpack .../tree_1.7.0-5_amd64.deb ...\n",
            "Unpacking tree (1.7.0-5) ...\n",
            "Setting up tree (1.7.0-5) ...\n",
            "Processing triggers for man-db (2.8.3-2ubuntu0.1) ...\n"
          ],
          "name": "stdout"
        }
      ]
    },
    {
      "cell_type": "code",
      "metadata": {
        "id": "UfptiakkLVI7",
        "colab_type": "code",
        "colab": {}
      },
      "source": [
        "import os\n",
        "\n",
        "import numpy as np\n",
        "import pandas as pd\n",
        "\n",
        "from getpass import getpass "
      ],
      "execution_count": 0,
      "outputs": []
    },
    {
      "cell_type": "code",
      "metadata": {
        "id": "x_q48eW8LWd_",
        "colab_type": "code",
        "colab": {
          "base_uri": "https://localhost:8080/",
          "height": 67
        },
        "outputId": "f82b2182-bc16-4ce8-c317-67f278b0ce54"
      },
      "source": [
        "def access_kaggle():\n",
        "    \"\"\"\n",
        "    Access Kaggle from Google Colab.\n",
        "    If the /root/.kaggle does not exist then prompt for\n",
        "    the username and for the Kaggle API key.\n",
        "    Creates the kaggle.json access file in the /root/.kaggle/ folder. \n",
        "    \"\"\"\n",
        "    KAGGLE_ROOT = os.path.join('/root', '.kaggle')\n",
        "    KAGGLE_PATH = os.path.join(KAGGLE_ROOT, 'kaggle.json')\n",
        "\n",
        "    if '.kaggle' not in os.listdir(path='/root'):\n",
        "        user = getpass(prompt='Kaggle username: ')\n",
        "        key  = getpass(prompt='Kaggle API key: ')\n",
        "        \n",
        "        !mkdir $KAGGLE_ROOT\n",
        "        !touch $KAGGLE_PATH\n",
        "        !chmod 666 $KAGGLE_PATH\n",
        "        with open(KAGGLE_PATH, mode='w') as f:\n",
        "            f.write('{\"username\":\"%s\", \"key\":\"%s\"}' %(user, key))\n",
        "            f.close()\n",
        "        !chmod 600 $KAGGLE_PATH\n",
        "        del user\n",
        "        del key\n",
        "        success_msg = \"Kaggle is successfully set up. Good to go.\"\n",
        "        print(f'{success_msg}')\n",
        "\n",
        "access_kaggle()\n"
      ],
      "execution_count": 3,
      "outputs": [
        {
          "output_type": "stream",
          "text": [
            "Kaggle username: ··········\n",
            "Kaggle API key: ··········\n",
            "Kaggle is successfully set up. Good to go.\n"
          ],
          "name": "stdout"
        }
      ]
    },
    {
      "cell_type": "code",
      "metadata": {
        "id": "-dwhD2H5L1tz",
        "colab_type": "code",
        "colab": {
          "base_uri": "https://localhost:8080/",
          "height": 390
        },
        "outputId": "c35ab0a4-d8fa-45fb-b1df-6529178ca890"
      },
      "source": [
        "!kaggle datasets download gunjanpathak/melb-data --unzip\n",
        "!tree -sh ./\n",
        "!cat -n melb_data.csv|head -2\n",
        "df = pd.read_csv('melb_data.csv', sep=',', index_col=0)\n",
        "\n",
        "df.columns = df.columns.map(lambda c: c.lower())\n",
        "df.columns"
      ],
      "execution_count": 4,
      "outputs": [
        {
          "output_type": "stream",
          "text": [
            "Downloading melb-data.zip to /content\n",
            "\r  0% 0.00/614k [00:00<?, ?B/s]\n",
            "\r100% 614k/614k [00:00<00:00, 41.4MB/s]\n",
            "./\n",
            "├── [2.7M]  melb_data.csv\n",
            "└── [4.0K]  sample_data\n",
            "    ├── [1.7K]  anscombe.json\n",
            "    ├── [294K]  california_housing_test.csv\n",
            "    ├── [1.6M]  california_housing_train.csv\n",
            "    ├── [ 17M]  mnist_test.csv\n",
            "    ├── [ 35M]  mnist_train_small.csv\n",
            "    └── [ 930]  README.md\n",
            "\n",
            "1 directory, 7 files\n",
            "     1\t,Suburb,Address,Rooms,Type,Price,Method,SellerG,Date,Distance,Postcode,Bedroom2,Bathroom,Car,Landsize,BuildingArea,YearBuilt,CouncilArea,Lattitude,Longtitude,Regionname,Propertycount\n",
            "     2\t1,Abbotsford,85 Turner St,2,h,1480000.0,S,Biggin,3/12/2016,2.5,3067.0,2.0,1.0,1.0,202.0,,,Yarra,-37.7996,144.9984,Northern Metropolitan,4019.0\n"
          ],
          "name": "stdout"
        },
        {
          "output_type": "execute_result",
          "data": {
            "text/plain": [
              "Index(['suburb', 'address', 'rooms', 'type', 'price', 'method', 'sellerg',\n",
              "       'date', 'distance', 'postcode', 'bedroom2', 'bathroom', 'car',\n",
              "       'landsize', 'buildingarea', 'yearbuilt', 'councilarea', 'lattitude',\n",
              "       'longtitude', 'regionname', 'propertycount'],\n",
              "      dtype='object')"
            ]
          },
          "metadata": {
            "tags": []
          },
          "execution_count": 4
        }
      ]
    },
    {
      "cell_type": "code",
      "metadata": {
        "id": "U2WjJ7GEGNR0",
        "colab_type": "code",
        "colab": {
          "base_uri": "https://localhost:8080/",
          "height": 386
        },
        "outputId": "da45ea67-a554-43e5-dacc-14f8f8f2137d"
      },
      "source": [
        "df.isnull().sum()"
      ],
      "execution_count": 5,
      "outputs": [
        {
          "output_type": "execute_result",
          "data": {
            "text/plain": [
              "suburb               0\n",
              "address              0\n",
              "rooms                0\n",
              "type                 0\n",
              "price                0\n",
              "method               0\n",
              "sellerg              0\n",
              "date                 0\n",
              "distance             1\n",
              "postcode             1\n",
              "bedroom2          3469\n",
              "bathroom          3471\n",
              "car               3576\n",
              "landsize          4793\n",
              "buildingarea     10634\n",
              "yearbuilt         9438\n",
              "councilarea       6163\n",
              "lattitude         3332\n",
              "longtitude        3332\n",
              "regionname           1\n",
              "propertycount        1\n",
              "dtype: int64"
            ]
          },
          "metadata": {
            "tags": []
          },
          "execution_count": 5
        }
      ]
    },
    {
      "cell_type": "code",
      "metadata": {
        "id": "vHMAnoViIrks",
        "colab_type": "code",
        "colab": {}
      },
      "source": [
        "y = df.price\n",
        "\n",
        "X = df.drop(['price'], axis='columns')"
      ],
      "execution_count": 0,
      "outputs": []
    },
    {
      "cell_type": "code",
      "metadata": {
        "id": "kqsPnXncIzmh",
        "colab_type": "code",
        "colab": {}
      },
      "source": [
        "from sklearn.model_selection import train_test_split\n",
        "\n",
        "train_x_full, valid_x_full, train_y, valid_y = train_test_split(X, y, test_size=0.2,\n",
        "                                                                random_state=0)"
      ],
      "execution_count": 0,
      "outputs": []
    },
    {
      "cell_type": "code",
      "metadata": {
        "id": "X2CeNmP9I9Uw",
        "colab_type": "code",
        "colab": {
          "base_uri": "https://localhost:8080/",
          "height": 34
        },
        "outputId": "08567fcc-ab0a-43f7-b883-2461a6164601"
      },
      "source": [
        "len(X), len(train_x_full), len(valid_x_full)"
      ],
      "execution_count": 10,
      "outputs": [
        {
          "output_type": "execute_result",
          "data": {
            "text/plain": [
              "(18396, 14716, 3680)"
            ]
          },
          "metadata": {
            "tags": []
          },
          "execution_count": 10
        }
      ]
    },
    {
      "cell_type": "code",
      "metadata": {
        "id": "dyOFnoLBJVes",
        "colab_type": "code",
        "colab": {
          "base_uri": "https://localhost:8080/",
          "height": 235
        },
        "outputId": "167eb49b-6776-4e45-f4d3-ebf6465ddcb4"
      },
      "source": [
        "columns_with_NaN = [col for col in train_x_full.columns if train_x_full[col].isnull().any()]\n",
        "columns_with_NaN"
      ],
      "execution_count": 14,
      "outputs": [
        {
          "output_type": "execute_result",
          "data": {
            "text/plain": [
              "['distance',\n",
              " 'postcode',\n",
              " 'bedroom2',\n",
              " 'bathroom',\n",
              " 'car',\n",
              " 'landsize',\n",
              " 'buildingarea',\n",
              " 'yearbuilt',\n",
              " 'councilarea',\n",
              " 'lattitude',\n",
              " 'longtitude',\n",
              " 'regionname',\n",
              " 'propertycount']"
            ]
          },
          "metadata": {
            "tags": []
          },
          "execution_count": 14
        }
      ]
    },
    {
      "cell_type": "code",
      "metadata": {
        "id": "sD0A1Tm3Jp-O",
        "colab_type": "code",
        "colab": {
          "base_uri": "https://localhost:8080/",
          "height": 370
        },
        "outputId": "145fb4cd-26d8-4466-c45a-38ff6514ea99"
      },
      "source": [
        "train_x_full.isnull().sum()"
      ],
      "execution_count": 13,
      "outputs": [
        {
          "output_type": "execute_result",
          "data": {
            "text/plain": [
              "suburb              0\n",
              "address             0\n",
              "rooms               0\n",
              "type                0\n",
              "method              0\n",
              "sellerg             0\n",
              "date                0\n",
              "distance            1\n",
              "postcode            1\n",
              "bedroom2         2779\n",
              "bathroom         2780\n",
              "car              2860\n",
              "landsize         3829\n",
              "buildingarea     8516\n",
              "yearbuilt        7528\n",
              "councilarea      4900\n",
              "lattitude        2675\n",
              "longtitude       2675\n",
              "regionname          1\n",
              "propertycount       1\n",
              "dtype: int64"
            ]
          },
          "metadata": {
            "tags": []
          },
          "execution_count": 13
        }
      ]
    },
    {
      "cell_type": "code",
      "metadata": {
        "id": "B33lychFJtJe",
        "colab_type": "code",
        "colab": {
          "base_uri": "https://localhost:8080/",
          "height": 121
        },
        "outputId": "18845bb8-f68c-491d-ca24-a038932b5b6e"
      },
      "source": [
        "# Dropping columns with NaN.\n",
        "\n",
        "train_x_full.drop(columns_with_NaN, axis='columns', inplace=True)\n",
        "valid_x_full.drop(columns_with_NaN, axis='columns', inplace=True)"
      ],
      "execution_count": 15,
      "outputs": [
        {
          "output_type": "stream",
          "text": [
            "/usr/local/lib/python3.6/dist-packages/pandas/core/frame.py:4117: SettingWithCopyWarning: \n",
            "A value is trying to be set on a copy of a slice from a DataFrame\n",
            "\n",
            "See the caveats in the documentation: http://pandas.pydata.org/pandas-docs/stable/user_guide/indexing.html#returning-a-view-versus-a-copy\n",
            "  errors=errors,\n"
          ],
          "name": "stderr"
        }
      ]
    },
    {
      "cell_type": "code",
      "metadata": {
        "id": "_vzTDlVVKNTu",
        "colab_type": "code",
        "colab": {
          "base_uri": "https://localhost:8080/",
          "height": 54
        },
        "outputId": "eaaec6de-dfff-4f8b-e949-b5fed38253ee"
      },
      "source": [
        "train_x_full.columns"
      ],
      "execution_count": 17,
      "outputs": [
        {
          "output_type": "execute_result",
          "data": {
            "text/plain": [
              "Index(['suburb', 'address', 'rooms', 'type', 'method', 'sellerg', 'date'], dtype='object')"
            ]
          },
          "metadata": {
            "tags": []
          },
          "execution_count": 17
        }
      ]
    },
    {
      "cell_type": "code",
      "metadata": {
        "id": "xn4Mk0W2KbNo",
        "colab_type": "code",
        "colab": {
          "base_uri": "https://localhost:8080/",
          "height": 151
        },
        "outputId": "05bfd3f3-6f48-4bb4-dde6-04d8456cb12f"
      },
      "source": [
        "train_x_full.dtypes"
      ],
      "execution_count": 18,
      "outputs": [
        {
          "output_type": "execute_result",
          "data": {
            "text/plain": [
              "suburb     object\n",
              "address    object\n",
              "rooms       int64\n",
              "type       object\n",
              "method     object\n",
              "sellerg    object\n",
              "date       object\n",
              "dtype: object"
            ]
          },
          "metadata": {
            "tags": []
          },
          "execution_count": 18
        }
      ]
    },
    {
      "cell_type": "code",
      "metadata": {
        "id": "MATBQVuXKfno",
        "colab_type": "code",
        "colab": {
          "base_uri": "https://localhost:8080/",
          "height": 34
        },
        "outputId": "35d4750b-a3f5-4f09-f5a1-d426a7b6e400"
      },
      "source": [
        "numerical_columns = [col for col in train_x_full.columns if train_x_full[col].dtype in ['int64', 'float64']]\n",
        "numerical_columns"
      ],
      "execution_count": 26,
      "outputs": [
        {
          "output_type": "execute_result",
          "data": {
            "text/plain": [
              "['rooms']"
            ]
          },
          "metadata": {
            "tags": []
          },
          "execution_count": 26
        }
      ]
    },
    {
      "cell_type": "code",
      "metadata": {
        "id": "g_ezV9NwKwL0",
        "colab_type": "code",
        "colab": {
          "base_uri": "https://localhost:8080/",
          "height": 34
        },
        "outputId": "eb7e22c2-e058-454b-94fe-e676d8eb1a01"
      },
      "source": [
        "[col for col in train_x_full.columns if train_x_full[col].dtype == 'object']"
      ],
      "execution_count": 20,
      "outputs": [
        {
          "output_type": "execute_result",
          "data": {
            "text/plain": [
              "['suburb', 'address', 'type', 'method', 'sellerg', 'date']"
            ]
          },
          "metadata": {
            "tags": []
          },
          "execution_count": 20
        }
      ]
    },
    {
      "cell_type": "code",
      "metadata": {
        "id": "YRvraFBPLeUj",
        "colab_type": "code",
        "colab": {
          "base_uri": "https://localhost:8080/",
          "height": 134
        },
        "outputId": "cbced36e-16ea-4ebb-8776-49fa1cd0fd98"
      },
      "source": [
        "[f'{col}:{train_x_full[col].nunique()}' for col in train_x_full.columns]"
      ],
      "execution_count": 21,
      "outputs": [
        {
          "output_type": "execute_result",
          "data": {
            "text/plain": [
              "['suburb:327',\n",
              " 'address:14547',\n",
              " 'rooms:11',\n",
              " 'type:3',\n",
              " 'method:5',\n",
              " 'sellerg:285',\n",
              " 'date:58']"
            ]
          },
          "metadata": {
            "tags": []
          },
          "execution_count": 21
        }
      ]
    },
    {
      "cell_type": "code",
      "metadata": {
        "id": "9HwW6oeXL7HR",
        "colab_type": "code",
        "colab": {
          "base_uri": "https://localhost:8080/",
          "height": 34
        },
        "outputId": "cd297ae7-ad6d-4045-d366-8ec4ce9aea5e"
      },
      "source": [
        "low_cardinality_columns = [col for col in train_x_full.columns if train_x_full[col].dtype == 'object' and train_x_full[col].nunique() < 10]\n",
        "low_cardinality_columns"
      ],
      "execution_count": 24,
      "outputs": [
        {
          "output_type": "execute_result",
          "data": {
            "text/plain": [
              "['type', 'method']"
            ]
          },
          "metadata": {
            "tags": []
          },
          "execution_count": 24
        }
      ]
    },
    {
      "cell_type": "code",
      "metadata": {
        "id": "BoqDPQhHMHen",
        "colab_type": "code",
        "colab": {
          "base_uri": "https://localhost:8080/",
          "height": 34
        },
        "outputId": "c643cb5c-cb2c-4a38-8a88-eb4379d98cc0"
      },
      "source": [
        "my_columns = numerical_columns + low_cardinality_columns\n",
        "my_columns"
      ],
      "execution_count": 27,
      "outputs": [
        {
          "output_type": "execute_result",
          "data": {
            "text/plain": [
              "['rooms', 'type', 'method']"
            ]
          },
          "metadata": {
            "tags": []
          },
          "execution_count": 27
        }
      ]
    },
    {
      "cell_type": "code",
      "metadata": {
        "id": "CO_juyFYNAum",
        "colab_type": "code",
        "colab": {
          "base_uri": "https://localhost:8080/",
          "height": 106
        },
        "outputId": "e7782eee-bb82-4f1f-f9e1-f90f7844f6ec"
      },
      "source": [
        "train_x = train_x_full[my_columns].copy()\n",
        "valid_x = valid_x_full[my_columns].copy()\n",
        "\n",
        "train_x.head(2)"
      ],
      "execution_count": 28,
      "outputs": [
        {
          "output_type": "execute_result",
          "data": {
            "text/html": [
              "<div>\n",
              "<style scoped>\n",
              "    .dataframe tbody tr th:only-of-type {\n",
              "        vertical-align: middle;\n",
              "    }\n",
              "\n",
              "    .dataframe tbody tr th {\n",
              "        vertical-align: top;\n",
              "    }\n",
              "\n",
              "    .dataframe thead th {\n",
              "        text-align: right;\n",
              "    }\n",
              "</style>\n",
              "<table border=\"1\" class=\"dataframe\">\n",
              "  <thead>\n",
              "    <tr style=\"text-align: right;\">\n",
              "      <th></th>\n",
              "      <th>rooms</th>\n",
              "      <th>type</th>\n",
              "      <th>method</th>\n",
              "    </tr>\n",
              "  </thead>\n",
              "  <tbody>\n",
              "    <tr>\n",
              "      <th>3349</th>\n",
              "      <td>4</td>\n",
              "      <td>h</td>\n",
              "      <td>SP</td>\n",
              "    </tr>\n",
              "    <tr>\n",
              "      <th>2686</th>\n",
              "      <td>3</td>\n",
              "      <td>h</td>\n",
              "      <td>SP</td>\n",
              "    </tr>\n",
              "  </tbody>\n",
              "</table>\n",
              "</div>"
            ],
            "text/plain": [
              "      rooms type method\n",
              "3349      4    h     SP\n",
              "2686      3    h     SP"
            ]
          },
          "metadata": {
            "tags": []
          },
          "execution_count": 28
        }
      ]
    },
    {
      "cell_type": "code",
      "metadata": {
        "id": "saUenMMFNa5v",
        "colab_type": "code",
        "colab": {
          "base_uri": "https://localhost:8080/",
          "height": 84
        },
        "outputId": "fd4eb3dc-5eed-4b36-b8f4-030ee8615b78"
      },
      "source": [
        "train_x.dtypes == 'object'"
      ],
      "execution_count": 29,
      "outputs": [
        {
          "output_type": "execute_result",
          "data": {
            "text/plain": [
              "rooms     False\n",
              "type       True\n",
              "method     True\n",
              "dtype: bool"
            ]
          },
          "metadata": {
            "tags": []
          },
          "execution_count": 29
        }
      ]
    },
    {
      "cell_type": "code",
      "metadata": {
        "id": "Jqx6-olgNnx2",
        "colab_type": "code",
        "colab": {
          "base_uri": "https://localhost:8080/",
          "height": 67
        },
        "outputId": "9f276f55-5da8-4f21-93a0-64881e038a4d"
      },
      "source": [
        "categorical_columns_df = train_x.dtypes[train_x.dtypes == 'object']\n",
        "categorical_columns_df"
      ],
      "execution_count": 32,
      "outputs": [
        {
          "output_type": "execute_result",
          "data": {
            "text/plain": [
              "type      object\n",
              "method    object\n",
              "dtype: object"
            ]
          },
          "metadata": {
            "tags": []
          },
          "execution_count": 32
        }
      ]
    },
    {
      "cell_type": "code",
      "metadata": {
        "id": "xWPTy2UrNv6t",
        "colab_type": "code",
        "colab": {
          "base_uri": "https://localhost:8080/",
          "height": 34
        },
        "outputId": "3e234f6b-676a-492e-bc96-6cd4c088f6d1"
      },
      "source": [
        "categorical_columns_df.index"
      ],
      "execution_count": 33,
      "outputs": [
        {
          "output_type": "execute_result",
          "data": {
            "text/plain": [
              "Index(['type', 'method'], dtype='object')"
            ]
          },
          "metadata": {
            "tags": []
          },
          "execution_count": 33
        }
      ]
    },
    {
      "cell_type": "code",
      "metadata": {
        "id": "xFax3YCSOMKA",
        "colab_type": "code",
        "colab": {
          "base_uri": "https://localhost:8080/",
          "height": 34
        },
        "outputId": "c8d5db6f-edda-4e96-eede-3a0f21d8ef5f"
      },
      "source": [
        "list(categorical_columns_df.index)"
      ],
      "execution_count": 34,
      "outputs": [
        {
          "output_type": "execute_result",
          "data": {
            "text/plain": [
              "['type', 'method']"
            ]
          },
          "metadata": {
            "tags": []
          },
          "execution_count": 34
        }
      ]
    },
    {
      "cell_type": "code",
      "metadata": {
        "id": "PIFchXoQOPVe",
        "colab_type": "code",
        "colab": {}
      },
      "source": [
        "from sklearn.ensemble import RandomForestRegressor\n",
        "from sklearn.metrics import mean_absolute_error\n",
        "\n",
        "def score_dataset(train_x, valid_x, train_y, valid_y):\n",
        "    model = RandomForestRegressor(n_estimators=100, random_state=0)\n",
        "    model.fit(train_x, train_y)\n",
        "    preds = model.predict(valid_x)\n",
        "    return mean_absolute_error(y_true=valid_y, y_pred=preds)\n"
      ],
      "execution_count": 0,
      "outputs": []
    },
    {
      "cell_type": "code",
      "metadata": {
        "id": "7mKrEqyOOaiP",
        "colab_type": "code",
        "colab": {
          "base_uri": "https://localhost:8080/",
          "height": 34
        },
        "outputId": "55db2d94-7d85-493b-d313-275a89064cd2"
      },
      "source": [
        "# Approach 1(Drop the Categorical columns).\n",
        "\n",
        "drop_train_x = train_x.select_dtypes(exclude=['object'])\n",
        "drop_valid_x = valid_x.select_dtypes(exclude=['object'])\n",
        "\n",
        "score_dataset(train_x=drop_train_x, valid_x=drop_valid_x, train_y=train_y, valid_y=valid_y)"
      ],
      "execution_count": 38,
      "outputs": [
        {
          "output_type": "execute_result",
          "data": {
            "text/plain": [
              "388555.2328280485"
            ]
          },
          "metadata": {
            "tags": []
          },
          "execution_count": 38
        }
      ]
    },
    {
      "cell_type": "code",
      "metadata": {
        "id": "I17jEKYWPjt8",
        "colab_type": "code",
        "colab": {}
      },
      "source": [
        "# Approach 2(Label Encoding).\n",
        "\n",
        "from sklearn.preprocessing import LabelEncoder\n",
        "\n",
        "label_train_x = train_x.copy()\n",
        "label_valid_x = valid_x.copy()\n"
      ],
      "execution_count": 0,
      "outputs": []
    },
    {
      "cell_type": "code",
      "metadata": {
        "id": "JejsAEQ2Pz1W",
        "colab_type": "code",
        "colab": {
          "base_uri": "https://localhost:8080/",
          "height": 50
        },
        "outputId": "e40d003e-890c-417f-f56b-226f2ac25ed6"
      },
      "source": [
        "label_encoder = LabelEncoder()\n",
        "for col in list(categorical_columns_df.index):\n",
        "    print(col)"
      ],
      "execution_count": 43,
      "outputs": [
        {
          "output_type": "stream",
          "text": [
            "type\n",
            "method\n"
          ],
          "name": "stdout"
        }
      ]
    },
    {
      "cell_type": "code",
      "metadata": {
        "id": "2bJriCO5QavP",
        "colab_type": "code",
        "colab": {
          "base_uri": "https://localhost:8080/",
          "height": 50
        },
        "outputId": "26958a8c-9af5-4cf6-9507-0b64ec8be84c"
      },
      "source": [
        "for col in list(categorical_columns_df.index):\n",
        "    print(label_encoder.fit_transform(train_x[col]))"
      ],
      "execution_count": 45,
      "outputs": [
        {
          "output_type": "stream",
          "text": [
            "[0 0 2 ... 0 0 2]\n",
            "[3 3 1 ... 1 0 0]\n"
          ],
          "name": "stdout"
        }
      ]
    },
    {
      "cell_type": "code",
      "metadata": {
        "id": "_fmkFnX0QrKI",
        "colab_type": "code",
        "colab": {}
      },
      "source": [
        "for col in list(categorical_columns_df.index):\n",
        "    label_train_x[col] = label_encoder.fit_transform(train_x[col])\n",
        "    label_valid_x[col] = label_encoder.transform(y=valid_x[col])"
      ],
      "execution_count": 0,
      "outputs": []
    },
    {
      "cell_type": "code",
      "metadata": {
        "id": "inMS-_BzRH0J",
        "colab_type": "code",
        "colab": {
          "base_uri": "https://localhost:8080/",
          "height": 136
        },
        "outputId": "49834f1b-e042-4378-fcb5-8a0badbe6720"
      },
      "source": [
        "label_train_x.head(3)"
      ],
      "execution_count": 47,
      "outputs": [
        {
          "output_type": "execute_result",
          "data": {
            "text/html": [
              "<div>\n",
              "<style scoped>\n",
              "    .dataframe tbody tr th:only-of-type {\n",
              "        vertical-align: middle;\n",
              "    }\n",
              "\n",
              "    .dataframe tbody tr th {\n",
              "        vertical-align: top;\n",
              "    }\n",
              "\n",
              "    .dataframe thead th {\n",
              "        text-align: right;\n",
              "    }\n",
              "</style>\n",
              "<table border=\"1\" class=\"dataframe\">\n",
              "  <thead>\n",
              "    <tr style=\"text-align: right;\">\n",
              "      <th></th>\n",
              "      <th>rooms</th>\n",
              "      <th>type</th>\n",
              "      <th>method</th>\n",
              "    </tr>\n",
              "  </thead>\n",
              "  <tbody>\n",
              "    <tr>\n",
              "      <th>3349</th>\n",
              "      <td>4</td>\n",
              "      <td>0</td>\n",
              "      <td>3</td>\n",
              "    </tr>\n",
              "    <tr>\n",
              "      <th>2686</th>\n",
              "      <td>3</td>\n",
              "      <td>0</td>\n",
              "      <td>3</td>\n",
              "    </tr>\n",
              "    <tr>\n",
              "      <th>6065</th>\n",
              "      <td>2</td>\n",
              "      <td>2</td>\n",
              "      <td>1</td>\n",
              "    </tr>\n",
              "  </tbody>\n",
              "</table>\n",
              "</div>"
            ],
            "text/plain": [
              "      rooms  type  method\n",
              "3349      4     0       3\n",
              "2686      3     0       3\n",
              "6065      2     2       1"
            ]
          },
          "metadata": {
            "tags": []
          },
          "execution_count": 47
        }
      ]
    },
    {
      "cell_type": "code",
      "metadata": {
        "id": "0MYkxCscRKZx",
        "colab_type": "code",
        "colab": {
          "base_uri": "https://localhost:8080/",
          "height": 34
        },
        "outputId": "e90a83a0-a213-4fa6-b556-898ba20be167"
      },
      "source": [
        "score_dataset(label_train_x, label_valid_x, train_y, valid_y)"
      ],
      "execution_count": 48,
      "outputs": [
        {
          "output_type": "execute_result",
          "data": {
            "text/plain": [
              "366430.1048230841"
            ]
          },
          "metadata": {
            "tags": []
          },
          "execution_count": 48
        }
      ]
    },
    {
      "cell_type": "code",
      "metadata": {
        "id": "q5TjwvJaRczE",
        "colab_type": "code",
        "colab": {}
      },
      "source": [
        ""
      ],
      "execution_count": 0,
      "outputs": []
    }
  ]
}