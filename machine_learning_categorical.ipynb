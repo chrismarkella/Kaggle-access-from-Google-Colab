{
  "nbformat": 4,
  "nbformat_minor": 0,
  "metadata": {
    "colab": {
      "name": "machine_learning_categorical.ipynb",
      "provenance": [],
      "collapsed_sections": [],
      "include_colab_link": true
    },
    "kernelspec": {
      "name": "python3",
      "display_name": "Python 3"
    }
  },
  "cells": [
    {
      "cell_type": "markdown",
      "metadata": {
        "id": "view-in-github",
        "colab_type": "text"
      },
      "source": [
        "<a href=\"https://colab.research.google.com/github/chrismarkella/Kaggle-access-from-Google-Colab/blob/master/machine_learning_categorical.ipynb\" target=\"_parent\"><img src=\"https://colab.research.google.com/assets/colab-badge.svg\" alt=\"Open In Colab\"/></a>"
      ]
    },
    {
      "cell_type": "code",
      "metadata": {
        "id": "V2c87jCbENol",
        "colab_type": "code",
        "colab": {
          "base_uri": "https://localhost:8080/",
          "height": 138
        },
        "outputId": "041f3239-ca8e-4872-c75f-493df733b67b"
      },
      "source": [
        "!apt-get -qq install tree"
      ],
      "execution_count": 1,
      "outputs": [
        {
          "output_type": "stream",
          "text": [
            "Selecting previously unselected package tree.\n",
            "(Reading database ... 135004 files and directories currently installed.)\n",
            "Preparing to unpack .../tree_1.7.0-5_amd64.deb ...\n",
            "Unpacking tree (1.7.0-5) ...\n",
            "Setting up tree (1.7.0-5) ...\n",
            "Processing triggers for man-db (2.8.3-2ubuntu0.1) ...\n"
          ],
          "name": "stdout"
        }
      ]
    },
    {
      "cell_type": "code",
      "metadata": {
        "id": "UfptiakkLVI7",
        "colab_type": "code",
        "colab": {}
      },
      "source": [
        "import os\n",
        "\n",
        "import numpy as np\n",
        "import pandas as pd\n",
        "\n",
        "from getpass import getpass "
      ],
      "execution_count": 0,
      "outputs": []
    },
    {
      "cell_type": "code",
      "metadata": {
        "id": "x_q48eW8LWd_",
        "colab_type": "code",
        "colab": {
          "base_uri": "https://localhost:8080/",
          "height": 67
        },
        "outputId": "f82b2182-bc16-4ce8-c317-67f278b0ce54"
      },
      "source": [
        "def access_kaggle():\n",
        "    \"\"\"\n",
        "    Access Kaggle from Google Colab.\n",
        "    If the /root/.kaggle does not exist then prompt for\n",
        "    the username and for the Kaggle API key.\n",
        "    Creates the kaggle.json access file in the /root/.kaggle/ folder. \n",
        "    \"\"\"\n",
        "    KAGGLE_ROOT = os.path.join('/root', '.kaggle')\n",
        "    KAGGLE_PATH = os.path.join(KAGGLE_ROOT, 'kaggle.json')\n",
        "\n",
        "    if '.kaggle' not in os.listdir(path='/root'):\n",
        "        user = getpass(prompt='Kaggle username: ')\n",
        "        key  = getpass(prompt='Kaggle API key: ')\n",
        "        \n",
        "        !mkdir $KAGGLE_ROOT\n",
        "        !touch $KAGGLE_PATH\n",
        "        !chmod 666 $KAGGLE_PATH\n",
        "        with open(KAGGLE_PATH, mode='w') as f:\n",
        "            f.write('{\"username\":\"%s\", \"key\":\"%s\"}' %(user, key))\n",
        "            f.close()\n",
        "        !chmod 600 $KAGGLE_PATH\n",
        "        del user\n",
        "        del key\n",
        "        success_msg = \"Kaggle is successfully set up. Good to go.\"\n",
        "        print(f'{success_msg}')\n",
        "\n",
        "access_kaggle()\n"
      ],
      "execution_count": 3,
      "outputs": [
        {
          "output_type": "stream",
          "text": [
            "Kaggle username: ··········\n",
            "Kaggle API key: ··········\n",
            "Kaggle is successfully set up. Good to go.\n"
          ],
          "name": "stdout"
        }
      ]
    },
    {
      "cell_type": "code",
      "metadata": {
        "id": "-dwhD2H5L1tz",
        "colab_type": "code",
        "colab": {
          "base_uri": "https://localhost:8080/",
          "height": 390
        },
        "outputId": "c35ab0a4-d8fa-45fb-b1df-6529178ca890"
      },
      "source": [
        "!kaggle datasets download gunjanpathak/melb-data --unzip\n",
        "!tree -sh ./\n",
        "!cat -n melb_data.csv|head -2\n",
        "df = pd.read_csv('melb_data.csv', sep=',', index_col=0)\n",
        "\n",
        "df.columns = df.columns.map(lambda c: c.lower())\n",
        "df.columns"
      ],
      "execution_count": 4,
      "outputs": [
        {
          "output_type": "stream",
          "text": [
            "Downloading melb-data.zip to /content\n",
            "\r  0% 0.00/614k [00:00<?, ?B/s]\n",
            "\r100% 614k/614k [00:00<00:00, 41.4MB/s]\n",
            "./\n",
            "├── [2.7M]  melb_data.csv\n",
            "└── [4.0K]  sample_data\n",
            "    ├── [1.7K]  anscombe.json\n",
            "    ├── [294K]  california_housing_test.csv\n",
            "    ├── [1.6M]  california_housing_train.csv\n",
            "    ├── [ 17M]  mnist_test.csv\n",
            "    ├── [ 35M]  mnist_train_small.csv\n",
            "    └── [ 930]  README.md\n",
            "\n",
            "1 directory, 7 files\n",
            "     1\t,Suburb,Address,Rooms,Type,Price,Method,SellerG,Date,Distance,Postcode,Bedroom2,Bathroom,Car,Landsize,BuildingArea,YearBuilt,CouncilArea,Lattitude,Longtitude,Regionname,Propertycount\n",
            "     2\t1,Abbotsford,85 Turner St,2,h,1480000.0,S,Biggin,3/12/2016,2.5,3067.0,2.0,1.0,1.0,202.0,,,Yarra,-37.7996,144.9984,Northern Metropolitan,4019.0\n"
          ],
          "name": "stdout"
        },
        {
          "output_type": "execute_result",
          "data": {
            "text/plain": [
              "Index(['suburb', 'address', 'rooms', 'type', 'price', 'method', 'sellerg',\n",
              "       'date', 'distance', 'postcode', 'bedroom2', 'bathroom', 'car',\n",
              "       'landsize', 'buildingarea', 'yearbuilt', 'councilarea', 'lattitude',\n",
              "       'longtitude', 'regionname', 'propertycount'],\n",
              "      dtype='object')"
            ]
          },
          "metadata": {
            "tags": []
          },
          "execution_count": 4
        }
      ]
    },
    {
      "cell_type": "code",
      "metadata": {
        "id": "U2WjJ7GEGNR0",
        "colab_type": "code",
        "colab": {
          "base_uri": "https://localhost:8080/",
          "height": 386
        },
        "outputId": "da45ea67-a554-43e5-dacc-14f8f8f2137d"
      },
      "source": [
        "df.isnull().sum()"
      ],
      "execution_count": 5,
      "outputs": [
        {
          "output_type": "execute_result",
          "data": {
            "text/plain": [
              "suburb               0\n",
              "address              0\n",
              "rooms                0\n",
              "type                 0\n",
              "price                0\n",
              "method               0\n",
              "sellerg              0\n",
              "date                 0\n",
              "distance             1\n",
              "postcode             1\n",
              "bedroom2          3469\n",
              "bathroom          3471\n",
              "car               3576\n",
              "landsize          4793\n",
              "buildingarea     10634\n",
              "yearbuilt         9438\n",
              "councilarea       6163\n",
              "lattitude         3332\n",
              "longtitude        3332\n",
              "regionname           1\n",
              "propertycount        1\n",
              "dtype: int64"
            ]
          },
          "metadata": {
            "tags": []
          },
          "execution_count": 5
        }
      ]
    },
    {
      "cell_type": "code",
      "metadata": {
        "id": "vHMAnoViIrks",
        "colab_type": "code",
        "colab": {}
      },
      "source": [
        "y = df.price\n",
        "\n",
        "X = df.drop(['price'], axis='columns')"
      ],
      "execution_count": 0,
      "outputs": []
    },
    {
      "cell_type": "code",
      "metadata": {
        "id": "kqsPnXncIzmh",
        "colab_type": "code",
        "colab": {}
      },
      "source": [
        "from sklearn.model_selection import train_test_split\n",
        "\n",
        "train_x_full, valid_x_full, train_y, valid_y = train_test_split(X, y, test_size=0.2,\n",
        "                                                                random_state=0)"
      ],
      "execution_count": 0,
      "outputs": []
    },
    {
      "cell_type": "code",
      "metadata": {
        "id": "X2CeNmP9I9Uw",
        "colab_type": "code",
        "colab": {
          "base_uri": "https://localhost:8080/",
          "height": 34
        },
        "outputId": "08567fcc-ab0a-43f7-b883-2461a6164601"
      },
      "source": [
        "len(X), len(train_x_full), len(valid_x_full)"
      ],
      "execution_count": 10,
      "outputs": [
        {
          "output_type": "execute_result",
          "data": {
            "text/plain": [
              "(18396, 14716, 3680)"
            ]
          },
          "metadata": {
            "tags": []
          },
          "execution_count": 10
        }
      ]
    },
    {
      "cell_type": "code",
      "metadata": {
        "id": "dyOFnoLBJVes",
        "colab_type": "code",
        "colab": {
          "base_uri": "https://localhost:8080/",
          "height": 235
        },
        "outputId": "167eb49b-6776-4e45-f4d3-ebf6465ddcb4"
      },
      "source": [
        "columns_with_NaN = [col for col in train_x_full.columns if train_x_full[col].isnull().any()]\n",
        "columns_with_NaN"
      ],
      "execution_count": 14,
      "outputs": [
        {
          "output_type": "execute_result",
          "data": {
            "text/plain": [
              "['distance',\n",
              " 'postcode',\n",
              " 'bedroom2',\n",
              " 'bathroom',\n",
              " 'car',\n",
              " 'landsize',\n",
              " 'buildingarea',\n",
              " 'yearbuilt',\n",
              " 'councilarea',\n",
              " 'lattitude',\n",
              " 'longtitude',\n",
              " 'regionname',\n",
              " 'propertycount']"
            ]
          },
          "metadata": {
            "tags": []
          },
          "execution_count": 14
        }
      ]
    },
    {
      "cell_type": "code",
      "metadata": {
        "id": "sD0A1Tm3Jp-O",
        "colab_type": "code",
        "colab": {
          "base_uri": "https://localhost:8080/",
          "height": 370
        },
        "outputId": "145fb4cd-26d8-4466-c45a-38ff6514ea99"
      },
      "source": [
        "train_x_full.isnull().sum()"
      ],
      "execution_count": 13,
      "outputs": [
        {
          "output_type": "execute_result",
          "data": {
            "text/plain": [
              "suburb              0\n",
              "address             0\n",
              "rooms               0\n",
              "type                0\n",
              "method              0\n",
              "sellerg             0\n",
              "date                0\n",
              "distance            1\n",
              "postcode            1\n",
              "bedroom2         2779\n",
              "bathroom         2780\n",
              "car              2860\n",
              "landsize         3829\n",
              "buildingarea     8516\n",
              "yearbuilt        7528\n",
              "councilarea      4900\n",
              "lattitude        2675\n",
              "longtitude       2675\n",
              "regionname          1\n",
              "propertycount       1\n",
              "dtype: int64"
            ]
          },
          "metadata": {
            "tags": []
          },
          "execution_count": 13
        }
      ]
    },
    {
      "cell_type": "code",
      "metadata": {
        "id": "B33lychFJtJe",
        "colab_type": "code",
        "colab": {
          "base_uri": "https://localhost:8080/",
          "height": 121
        },
        "outputId": "18845bb8-f68c-491d-ca24-a038932b5b6e"
      },
      "source": [
        "# Dropping columns with NaN.\n",
        "\n",
        "train_x_full.drop(columns_with_NaN, axis='columns', inplace=True)\n",
        "valid_x_full.drop(columns_with_NaN, axis='columns', inplace=True)"
      ],
      "execution_count": 15,
      "outputs": [
        {
          "output_type": "stream",
          "text": [
            "/usr/local/lib/python3.6/dist-packages/pandas/core/frame.py:4117: SettingWithCopyWarning: \n",
            "A value is trying to be set on a copy of a slice from a DataFrame\n",
            "\n",
            "See the caveats in the documentation: http://pandas.pydata.org/pandas-docs/stable/user_guide/indexing.html#returning-a-view-versus-a-copy\n",
            "  errors=errors,\n"
          ],
          "name": "stderr"
        }
      ]
    },
    {
      "cell_type": "code",
      "metadata": {
        "id": "_vzTDlVVKNTu",
        "colab_type": "code",
        "colab": {
          "base_uri": "https://localhost:8080/",
          "height": 54
        },
        "outputId": "eaaec6de-dfff-4f8b-e949-b5fed38253ee"
      },
      "source": [
        "train_x_full.columns"
      ],
      "execution_count": 17,
      "outputs": [
        {
          "output_type": "execute_result",
          "data": {
            "text/plain": [
              "Index(['suburb', 'address', 'rooms', 'type', 'method', 'sellerg', 'date'], dtype='object')"
            ]
          },
          "metadata": {
            "tags": []
          },
          "execution_count": 17
        }
      ]
    },
    {
      "cell_type": "code",
      "metadata": {
        "id": "xn4Mk0W2KbNo",
        "colab_type": "code",
        "colab": {
          "base_uri": "https://localhost:8080/",
          "height": 151
        },
        "outputId": "05bfd3f3-6f48-4bb4-dde6-04d8456cb12f"
      },
      "source": [
        "train_x_full.dtypes"
      ],
      "execution_count": 18,
      "outputs": [
        {
          "output_type": "execute_result",
          "data": {
            "text/plain": [
              "suburb     object\n",
              "address    object\n",
              "rooms       int64\n",
              "type       object\n",
              "method     object\n",
              "sellerg    object\n",
              "date       object\n",
              "dtype: object"
            ]
          },
          "metadata": {
            "tags": []
          },
          "execution_count": 18
        }
      ]
    },
    {
      "cell_type": "code",
      "metadata": {
        "id": "MATBQVuXKfno",
        "colab_type": "code",
        "colab": {
          "base_uri": "https://localhost:8080/",
          "height": 34
        },
        "outputId": "f80a28bb-b944-4a85-d024-a13940c1e45b"
      },
      "source": [
        "numerical_columns = [col for col in train_x_full.columns if train_x_full[col].dtype in ['int64', 'float64']]\n",
        "numerical_columns"
      ],
      "execution_count": 19,
      "outputs": [
        {
          "output_type": "execute_result",
          "data": {
            "text/plain": [
              "['rooms']"
            ]
          },
          "metadata": {
            "tags": []
          },
          "execution_count": 19
        }
      ]
    },
    {
      "cell_type": "code",
      "metadata": {
        "id": "g_ezV9NwKwL0",
        "colab_type": "code",
        "colab": {
          "base_uri": "https://localhost:8080/",
          "height": 34
        },
        "outputId": "eb7e22c2-e058-454b-94fe-e676d8eb1a01"
      },
      "source": [
        "[col for col in train_x_full.columns if train_x_full[col].dtype == 'object']"
      ],
      "execution_count": 20,
      "outputs": [
        {
          "output_type": "execute_result",
          "data": {
            "text/plain": [
              "['suburb', 'address', 'type', 'method', 'sellerg', 'date']"
            ]
          },
          "metadata": {
            "tags": []
          },
          "execution_count": 20
        }
      ]
    },
    {
      "cell_type": "code",
      "metadata": {
        "id": "YRvraFBPLeUj",
        "colab_type": "code",
        "colab": {
          "base_uri": "https://localhost:8080/",
          "height": 134
        },
        "outputId": "cbced36e-16ea-4ebb-8776-49fa1cd0fd98"
      },
      "source": [
        "[f'{col}:{train_x_full[col].nunique()}' for col in train_x_full.columns]"
      ],
      "execution_count": 21,
      "outputs": [
        {
          "output_type": "execute_result",
          "data": {
            "text/plain": [
              "['suburb:327',\n",
              " 'address:14547',\n",
              " 'rooms:11',\n",
              " 'type:3',\n",
              " 'method:5',\n",
              " 'sellerg:285',\n",
              " 'date:58']"
            ]
          },
          "metadata": {
            "tags": []
          },
          "execution_count": 21
        }
      ]
    },
    {
      "cell_type": "code",
      "metadata": {
        "id": "9HwW6oeXL7HR",
        "colab_type": "code",
        "colab": {
          "base_uri": "https://localhost:8080/",
          "height": 34
        },
        "outputId": "cd297ae7-ad6d-4045-d366-8ec4ce9aea5e"
      },
      "source": [
        "low_cardinality_columns = [col for col in train_x_full.columns if train_x_full[col].dtype == 'object' and train_x_full[col].nunique() < 10]\n",
        "low_cardinality_columns"
      ],
      "execution_count": 24,
      "outputs": [
        {
          "output_type": "execute_result",
          "data": {
            "text/plain": [
              "['type', 'method']"
            ]
          },
          "metadata": {
            "tags": []
          },
          "execution_count": 24
        }
      ]
    },
    {
      "cell_type": "code",
      "metadata": {
        "id": "BoqDPQhHMHen",
        "colab_type": "code",
        "colab": {}
      },
      "source": [
        ""
      ],
      "execution_count": 0,
      "outputs": []
    }
  ]
}