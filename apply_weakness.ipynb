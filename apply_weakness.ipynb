{
  "nbformat": 4,
  "nbformat_minor": 0,
  "metadata": {
    "colab": {
      "name": "apply_weakness.ipynb",
      "provenance": [],
      "collapsed_sections": [],
      "machine_shape": "hm",
      "include_colab_link": true
    },
    "kernelspec": {
      "name": "python3",
      "display_name": "Python 3"
    }
  },
  "cells": [
    {
      "cell_type": "markdown",
      "metadata": {
        "id": "view-in-github",
        "colab_type": "text"
      },
      "source": [
        "<a href=\"https://colab.research.google.com/github/chrismarkella/Kaggle-access-from-Google-Colab/blob/master/apply_weakness.ipynb\" target=\"_parent\"><img src=\"https://colab.research.google.com/assets/colab-badge.svg\" alt=\"Open In Colab\"/></a>"
      ]
    },
    {
      "cell_type": "code",
      "metadata": {
        "id": "V2c87jCbENol",
        "colab_type": "code",
        "outputId": "33bd8c07-13e5-4df1-e138-2e01b47d9022",
        "colab": {
          "base_uri": "https://localhost:8080/",
          "height": 121
        }
      },
      "source": [
        "!apt-get -qq install tree"
      ],
      "execution_count": 2,
      "outputs": [
        {
          "output_type": "stream",
          "text": [
            "Selecting previously unselected package tree.\n",
            "(Reading database ... 135004 files and directories currently installed.)\n",
            "Preparing to unpack .../tree_1.7.0-5_amd64.deb ...\n",
            "Unpacking tree (1.7.0-5) ...\n",
            "Setting up tree (1.7.0-5) ...\n",
            "Processing triggers for man-db (2.8.3-2ubuntu0.1) ...\n"
          ],
          "name": "stdout"
        }
      ]
    },
    {
      "cell_type": "code",
      "metadata": {
        "id": "UfptiakkLVI7",
        "colab_type": "code",
        "colab": {}
      },
      "source": [
        "import os\n",
        "\n",
        "import numpy as np\n",
        "import pandas as pd\n",
        "\n",
        "from getpass import getpass "
      ],
      "execution_count": 0,
      "outputs": []
    },
    {
      "cell_type": "code",
      "metadata": {
        "id": "x_q48eW8LWd_",
        "colab_type": "code",
        "outputId": "ba837819-5100-4f27-d077-9e9563263142",
        "colab": {
          "base_uri": "https://localhost:8080/",
          "height": 69
        }
      },
      "source": [
        "def access_kaggle():\n",
        "    \"\"\"\n",
        "    Access Kaggle from Google Colab.\n",
        "    If the /root/.kaggle does not exist then prompt for\n",
        "    the username and for the Kaggle API key.\n",
        "    Creates the kaggle.json access file in the /root/.kaggle/ folder. \n",
        "    \"\"\"\n",
        "    KAGGLE_ROOT = os.path.join('/root', '.kaggle')\n",
        "    KAGGLE_PATH = os.path.join(KAGGLE_ROOT, 'kaggle.json')\n",
        "\n",
        "    if '.kaggle' not in os.listdir(path='/root'):\n",
        "        user = getpass(prompt='Kaggle username: ')\n",
        "        key  = getpass(prompt='Kaggle API key: ')\n",
        "        \n",
        "        !mkdir $KAGGLE_ROOT\n",
        "        !touch $KAGGLE_PATH\n",
        "        !chmod 666 $KAGGLE_PATH\n",
        "        with open(KAGGLE_PATH, mode='w') as f:\n",
        "            f.write('{\"username\":\"%s\", \"key\":\"%s\"}' %(user, key))\n",
        "            f.close()\n",
        "        !chmod 600 $KAGGLE_PATH\n",
        "        del user\n",
        "        del key\n",
        "        success_msg = \"Kaggle is successfully set up. Good to go.\"\n",
        "        print(f'{success_msg}')\n",
        "\n",
        "access_kaggle()\n"
      ],
      "execution_count": 4,
      "outputs": [
        {
          "output_type": "stream",
          "text": [
            "Kaggle username: ··········\n",
            "Kaggle API key: ··········\n",
            "Kaggle is successfully set up. Good to go.\n"
          ],
          "name": "stdout"
        }
      ]
    },
    {
      "cell_type": "code",
      "metadata": {
        "id": "4dZ1ELwzNOuk",
        "colab_type": "code",
        "colab": {
          "base_uri": "https://localhost:8080/",
          "height": 176
        },
        "outputId": "3c2dbddb-f7e2-4d46-91bc-d7467a44bfb4"
      },
      "source": [
        "!kaggle datasets files benhamner/sf-bay-area-bike-share"
      ],
      "execution_count": 5,
      "outputs": [
        {
          "output_type": "stream",
          "text": [
            "Warning: Looks like you're using an outdated API Version, please consider updating (server 1.5.6 / client 1.5.4)\n",
            "name              size  creationDate         \n",
            "---------------  -----  -------------------  \n",
            "station.csv        6KB  2019-11-14 06:26:55  \n",
            "trip.csv          76MB  2019-11-14 06:26:55  \n",
            "weather.csv      428KB  2019-11-14 06:26:55  \n",
            "database.sqlite    3GB  2019-11-14 06:26:55  \n",
            "status.csv         2GB  2019-11-14 06:26:55  \n"
          ],
          "name": "stdout"
        }
      ]
    },
    {
      "cell_type": "code",
      "metadata": {
        "id": "fdOD33r7NnQA",
        "colab_type": "code",
        "colab": {
          "base_uri": "https://localhost:8080/",
          "height": 69
        },
        "outputId": "7e49e6cd-8f7f-4e9a-b548-e954f4743282"
      },
      "source": [
        "!kaggle datasets download benhamner/sf-bay-area-bike-share -f status.csv"
      ],
      "execution_count": 6,
      "outputs": [
        {
          "output_type": "stream",
          "text": [
            "Downloading status.csv.zip to /content\n",
            " 97% 177M/182M [00:01<00:00, 98.3MB/s]\n",
            "100% 182M/182M [00:01<00:00, 114MB/s] \n"
          ],
          "name": "stdout"
        }
      ]
    },
    {
      "cell_type": "code",
      "metadata": {
        "id": "wpra5q6oPfiM",
        "colab_type": "code",
        "colab": {
          "base_uri": "https://localhost:8080/",
          "height": 208
        },
        "outputId": "acf58235-a560-48f6-f308-20f84df5d9a3"
      },
      "source": [
        "!tree -sh"
      ],
      "execution_count": 7,
      "outputs": [
        {
          "output_type": "stream",
          "text": [
            ".\n",
            "├── [4.0K]  sample_data\n",
            "│   ├── [1.7K]  anscombe.json\n",
            "│   ├── [294K]  california_housing_test.csv\n",
            "│   ├── [1.6M]  california_housing_train.csv\n",
            "│   ├── [ 17M]  mnist_test.csv\n",
            "│   ├── [ 35M]  mnist_train_small.csv\n",
            "│   └── [ 930]  README.md\n",
            "└── [182M]  status.csv.zip\n",
            "\n",
            "1 directory, 7 files\n"
          ],
          "name": "stdout"
        }
      ]
    },
    {
      "cell_type": "code",
      "metadata": {
        "id": "hRko-_kgPhrb",
        "colab_type": "code",
        "colab": {
          "base_uri": "https://localhost:8080/",
          "height": 243
        },
        "outputId": "7ec46887-154d-4433-a903-5667ecebee67"
      },
      "source": [
        "!unzip status.csv.zip\n",
        "!rm status.csv.zip\n",
        "!tree -sh"
      ],
      "execution_count": 8,
      "outputs": [
        {
          "output_type": "stream",
          "text": [
            "Archive:  status.csv.zip\n",
            "  inflating: status.csv              \n",
            ".\n",
            "├── [4.0K]  sample_data\n",
            "│   ├── [1.7K]  anscombe.json\n",
            "│   ├── [294K]  california_housing_test.csv\n",
            "│   ├── [1.6M]  california_housing_train.csv\n",
            "│   ├── [ 17M]  mnist_test.csv\n",
            "│   ├── [ 35M]  mnist_train_small.csv\n",
            "│   └── [ 930]  README.md\n",
            "└── [1.9G]  status.csv\n",
            "\n",
            "1 directory, 7 files\n"
          ],
          "name": "stdout"
        }
      ]
    },
    {
      "cell_type": "code",
      "metadata": {
        "id": "lUXPbmcchtDZ",
        "colab_type": "code",
        "colab": {
          "base_uri": "https://localhost:8080/",
          "height": 52
        },
        "outputId": "386bb802-4199-4d2c-db44-527d67a9c00c"
      },
      "source": [
        "import time\n",
        "\n",
        "def timer(func):\n",
        "    def wrapper(*args, **kwargs):\n",
        "        start = time.time()\n",
        "        rv = func(*args, **kwargs)\n",
        "        end = time.time()\n",
        "        return rv, end-start\n",
        "    return wrapper\n",
        "\n",
        "@timer\n",
        "def load_data(csv_path):\n",
        "    return pd.read_csv(csv_path, sep=',')\n",
        "\n",
        "df, time_elapsed = load_data('status.csv')\n",
        "print(f'time elapsed: {time_elapsed}')\n",
        "print(df.shape)"
      ],
      "execution_count": 26,
      "outputs": [
        {
          "output_type": "stream",
          "text": [
            "time elapsed: 82.98482918739319\n",
            "(71984434, 4)\n"
          ],
          "name": "stdout"
        }
      ]
    },
    {
      "cell_type": "code",
      "metadata": {
        "id": "ElUxZUNNcROO",
        "colab_type": "code",
        "colab": {
          "base_uri": "https://localhost:8080/",
          "height": 173
        },
        "outputId": "9c66ccc1-3ec3-47e3-e96e-66b317efb037"
      },
      "source": [
        "df.info()"
      ],
      "execution_count": 10,
      "outputs": [
        {
          "output_type": "stream",
          "text": [
            "<class 'pandas.core.frame.DataFrame'>\n",
            "RangeIndex: 71984434 entries, 0 to 71984433\n",
            "Data columns (total 4 columns):\n",
            "station_id         int64\n",
            "bikes_available    int64\n",
            "docks_available    int64\n",
            "time               object\n",
            "dtypes: int64(3), object(1)\n",
            "memory usage: 2.1+ GB\n"
          ],
          "name": "stdout"
        }
      ]
    },
    {
      "cell_type": "code",
      "metadata": {
        "id": "Rj4PbLS3cUuL",
        "colab_type": "code",
        "colab": {
          "base_uri": "https://localhost:8080/",
          "height": 156
        },
        "outputId": "b809fdaa-f1a5-46f5-9501-0e8f9a93ef7c"
      },
      "source": [
        "df_100k = df.iloc[:100*10**3]\n",
        "df_200k = df.iloc[:200*10**3]\n",
        "df_500k = df.iloc[:500*10**3]\n",
        "df_1M = df.iloc[:10**6]\n",
        "\n",
        "for _df in (df_100k, df_200k, df_500k, df_1M):\n",
        "    print(_df.shape)\n",
        "    print(f'size: {_df.shape[0]//1000}k')"
      ],
      "execution_count": 22,
      "outputs": [
        {
          "output_type": "stream",
          "text": [
            "(100000, 4)\n",
            "size: 100k\n",
            "(200000, 4)\n",
            "size: 200k\n",
            "(500000, 4)\n",
            "size: 500k\n",
            "(1000000, 4)\n",
            "size: 1000k\n"
          ],
          "name": "stdout"
        }
      ]
    },
    {
      "cell_type": "code",
      "metadata": {
        "id": "Zo0hG3qZdJzh",
        "colab_type": "code",
        "colab": {
          "base_uri": "https://localhost:8080/",
          "height": 156
        },
        "outputId": "7ab22435-6f11-4efd-b423-afbf4bdbe9e8"
      },
      "source": [
        "_mean = df.station_id.mean()\n",
        "\n",
        "def re_mean_for_apply(row):\n",
        "    row.station_id = row.station_id - _mean\n",
        "    return row\n",
        "\n",
        "@timer\n",
        "def re_mean(_df, method):\n",
        "    if method == 'series':\n",
        "        _df.station_id - _mean\n",
        "    elif method == 'map':\n",
        "        _df.station_id.map(lambda st_id: st_id - _mean)\n",
        "    elif method == 'apply':\n",
        "        _df.apply(func=re_mean_for_apply, axis='columns')\n",
        "    return 1\n",
        "\n",
        "methods = [\n",
        "    'series',\n",
        "    'map',\n",
        "    'apply',\n",
        "]\n",
        "\n",
        "dfs = [\n",
        "    df_100k,\n",
        "    df_200k,\n",
        "]\n",
        "\n",
        "for _df in dfs:\n",
        "    print(f'size: {_df.shape[0]//10**3}k')\n",
        "    for _method in methods:\n",
        "        _,time_elapsed = re_mean(_df, _method)\n",
        "        print(f'{_method:6}, time elapsed: {time_elapsed:7.3f}')"
      ],
      "execution_count": 29,
      "outputs": [
        {
          "output_type": "stream",
          "text": [
            "size: 100k\n",
            "series, time elapsed:   0.001\n",
            "map   , time elapsed:   0.023\n",
            "apply , time elapsed:  18.892\n",
            "size: 200k\n",
            "series, time elapsed:   0.001\n",
            "map   , time elapsed:   0.045\n",
            "apply , time elapsed:  37.668\n"
          ],
          "name": "stdout"
        }
      ]
    },
    {
      "cell_type": "markdown",
      "metadata": {
        "id": "jc6RVnxQARwP",
        "colab_type": "text"
      },
      "source": [
        "###`Series` operations are killing `mapping` and `apply`\n",
        "- `Series` is about 20-40 times faster then `mapping`\n",
        "- `Series` is **20,000-40,000** times faster then `apply`"
      ]
    },
    {
      "cell_type": "code",
      "metadata": {
        "id": "07OaMD9AdMx4",
        "colab_type": "code",
        "colab": {
          "base_uri": "https://localhost:8080/",
          "height": 173
        },
        "outputId": "7a8abd1e-2efa-466c-d48d-9fae1ed48249"
      },
      "source": [
        "methods = [\n",
        "    'series',\n",
        "    'map',\n",
        "]\n",
        "\n",
        "dfs = [\n",
        "    df_500k,\n",
        "    df_1M,\n",
        "    df,\n",
        "]\n",
        "\n",
        "for _df in dfs:\n",
        "    print(f'size: {_df.shape[0]//10**3}k')\n",
        "    for _method in methods:\n",
        "        _,time_elapsed = re_mean(_df, _method)\n",
        "        print(f'{_method:6}, time elapsed: {time_elapsed:7.3f}')"
      ],
      "execution_count": 30,
      "outputs": [
        {
          "output_type": "stream",
          "text": [
            "size: 500k\n",
            "series, time elapsed:   0.003\n",
            "map   , time elapsed:   0.123\n",
            "size: 1000k\n",
            "series, time elapsed:   0.002\n",
            "map   , time elapsed:   0.237\n",
            "size: 71984k\n",
            "series, time elapsed:   0.155\n",
            "map   , time elapsed:  17.716\n"
          ],
          "name": "stdout"
        }
      ]
    },
    {
      "cell_type": "markdown",
      "metadata": {
        "id": "jNkqcbZ-Ba51",
        "colab_type": "text"
      },
      "source": [
        "###Apply did not even make it this far\n",
        "- Series is just blazing fast.\n",
        "- Only **155** msec for **72 millions** of rows "
      ]
    },
    {
      "cell_type": "code",
      "metadata": {
        "id": "t6HcRARVuMx7",
        "colab_type": "code",
        "colab": {}
      },
      "source": [
        ""
      ],
      "execution_count": 0,
      "outputs": []
    }
  ]
}