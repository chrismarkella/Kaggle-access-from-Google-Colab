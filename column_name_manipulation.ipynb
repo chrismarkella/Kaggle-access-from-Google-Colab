{
  "nbformat": 4,
  "nbformat_minor": 0,
  "metadata": {
    "colab": {
      "name": "column_name_manipulation.ipynb",
      "provenance": [],
      "authorship_tag": "ABX9TyP6OTTDW2paU0g4oclIGH4h",
      "include_colab_link": true
    },
    "kernelspec": {
      "name": "python3",
      "display_name": "Python 3"
    }
  },
  "cells": [
    {
      "cell_type": "markdown",
      "metadata": {
        "id": "view-in-github",
        "colab_type": "text"
      },
      "source": [
        "<a href=\"https://colab.research.google.com/github/chrismarkella/Kaggle-access-from-Google-Colab/blob/master/column_name_manipulation.ipynb\" target=\"_parent\"><img src=\"https://colab.research.google.com/assets/colab-badge.svg\" alt=\"Open In Colab\"/></a>"
      ]
    },
    {
      "cell_type": "markdown",
      "metadata": {
        "id": "QdJ_2noxXZIX",
        "colab_type": "text"
      },
      "source": [
        "##Normalizing Pandas Column Names\n",
        "\n",
        "When we load a dataset to Pandas we could be lucky with nice column names.\n",
        "Alternatevelly we could see some formats that are not practical for our use.\n",
        "The common problems:\n",
        "- multiple word names with space between them: `First name`\n",
        "- all capicalized: `First Name`\n",
        "- leading spaces or trailing spaces"
      ]
    },
    {
      "cell_type": "code",
      "metadata": {
        "id": "JFxmwZYkFvVg",
        "colab_type": "code",
        "colab": {}
      },
      "source": [
        "import numpy as np\n",
        "import pandas as pd"
      ],
      "execution_count": 0,
      "outputs": []
    },
    {
      "cell_type": "code",
      "metadata": {
        "id": "OEdcUAR_F4c-",
        "colab_type": "code",
        "colab": {
          "base_uri": "https://localhost:8080/",
          "height": 79
        },
        "outputId": "ef6add1e-701e-41b3-e97e-d36ba273fde3"
      },
      "source": [
        "df = pd.DataFrame(\n",
        "    data={\n",
        "        ' First name': ['John'],\n",
        "        'last name  ': ['Doe'],\n",
        "        'median House value':[750*10**3],\n",
        "    }\n",
        ")\n",
        "df"
      ],
      "execution_count": 2,
      "outputs": [
        {
          "output_type": "execute_result",
          "data": {
            "text/html": [
              "<div>\n",
              "<style scoped>\n",
              "    .dataframe tbody tr th:only-of-type {\n",
              "        vertical-align: middle;\n",
              "    }\n",
              "\n",
              "    .dataframe tbody tr th {\n",
              "        vertical-align: top;\n",
              "    }\n",
              "\n",
              "    .dataframe thead th {\n",
              "        text-align: right;\n",
              "    }\n",
              "</style>\n",
              "<table border=\"1\" class=\"dataframe\">\n",
              "  <thead>\n",
              "    <tr style=\"text-align: right;\">\n",
              "      <th></th>\n",
              "      <th>First name</th>\n",
              "      <th>last name</th>\n",
              "      <th>median House value</th>\n",
              "    </tr>\n",
              "  </thead>\n",
              "  <tbody>\n",
              "    <tr>\n",
              "      <th>0</th>\n",
              "      <td>John</td>\n",
              "      <td>Doe</td>\n",
              "      <td>750000</td>\n",
              "    </tr>\n",
              "  </tbody>\n",
              "</table>\n",
              "</div>"
            ],
            "text/plain": [
              "   First name last name    median House value\n",
              "0        John         Doe              750000"
            ]
          },
          "metadata": {
            "tags": []
          },
          "execution_count": 2
        }
      ]
    },
    {
      "cell_type": "code",
      "metadata": {
        "id": "wuBMqteVGMSw",
        "colab_type": "code",
        "colab": {
          "base_uri": "https://localhost:8080/",
          "height": 35
        },
        "outputId": "4ce81f60-e6d8-4213-e942-00e2b3501881"
      },
      "source": [
        "df.columns"
      ],
      "execution_count": 3,
      "outputs": [
        {
          "output_type": "execute_result",
          "data": {
            "text/plain": [
              "Index([' First name', 'last name  ', 'median House value'], dtype='object')"
            ]
          },
          "metadata": {
            "tags": []
          },
          "execution_count": 3
        }
      ]
    },
    {
      "cell_type": "code",
      "metadata": {
        "id": "-ag32YkiGOXY",
        "colab_type": "code",
        "colab": {
          "base_uri": "https://localhost:8080/",
          "height": 35
        },
        "outputId": "124e3d3a-5899-40a8-f9a4-d578a00af312"
      },
      "source": [
        "df.columns.str.strip()"
      ],
      "execution_count": 4,
      "outputs": [
        {
          "output_type": "execute_result",
          "data": {
            "text/plain": [
              "Index(['First name', 'last name', 'median House value'], dtype='object')"
            ]
          },
          "metadata": {
            "tags": []
          },
          "execution_count": 4
        }
      ]
    },
    {
      "cell_type": "code",
      "metadata": {
        "id": "4jA2yHjcIXUa",
        "colab_type": "code",
        "colab": {
          "base_uri": "https://localhost:8080/",
          "height": 35
        },
        "outputId": "63b1bb81-ee3f-48c8-da16-fca66e8bddfa"
      },
      "source": [
        "df.columns.str.strip().str.lower()"
      ],
      "execution_count": 5,
      "outputs": [
        {
          "output_type": "execute_result",
          "data": {
            "text/plain": [
              "Index(['first name', 'last name', 'median house value'], dtype='object')"
            ]
          },
          "metadata": {
            "tags": []
          },
          "execution_count": 5
        }
      ]
    },
    {
      "cell_type": "code",
      "metadata": {
        "id": "VnR4bg-EGZWg",
        "colab_type": "code",
        "colab": {
          "base_uri": "https://localhost:8080/",
          "height": 35
        },
        "outputId": "daa0a8cd-97f9-425a-daa8-210d579935ce"
      },
      "source": [
        "df.columns.str.strip().str.capitalize()"
      ],
      "execution_count": 6,
      "outputs": [
        {
          "output_type": "execute_result",
          "data": {
            "text/plain": [
              "Index(['First name', 'Last name', 'Median house value'], dtype='object')"
            ]
          },
          "metadata": {
            "tags": []
          },
          "execution_count": 6
        }
      ]
    },
    {
      "cell_type": "code",
      "metadata": {
        "id": "krEKBGUBHCL4",
        "colab_type": "code",
        "colab": {
          "base_uri": "https://localhost:8080/",
          "height": 35
        },
        "outputId": "18f7af6f-3725-4e5f-ec11-fc403f68c140"
      },
      "source": [
        "df.columns.str.strip().str.title()"
      ],
      "execution_count": 7,
      "outputs": [
        {
          "output_type": "execute_result",
          "data": {
            "text/plain": [
              "Index(['First Name', 'Last Name', 'Median House Value'], dtype='object')"
            ]
          },
          "metadata": {
            "tags": []
          },
          "execution_count": 7
        }
      ]
    },
    {
      "cell_type": "code",
      "metadata": {
        "id": "vVAM1D4dHbwt",
        "colab_type": "code",
        "colab": {
          "base_uri": "https://localhost:8080/",
          "height": 35
        },
        "outputId": "79d1897c-8336-423b-853e-a4d5ae149b95"
      },
      "source": [
        "df.columns.str.strip().str.upper()"
      ],
      "execution_count": 8,
      "outputs": [
        {
          "output_type": "execute_result",
          "data": {
            "text/plain": [
              "Index(['FIRST NAME', 'LAST NAME', 'MEDIAN HOUSE VALUE'], dtype='object')"
            ]
          },
          "metadata": {
            "tags": []
          },
          "execution_count": 8
        }
      ]
    },
    {
      "cell_type": "code",
      "metadata": {
        "id": "l6_C7tOKHwqh",
        "colab_type": "code",
        "colab": {
          "base_uri": "https://localhost:8080/",
          "height": 35
        },
        "outputId": "3456b772-d120-45bb-bc0b-4bd0640e6a2c"
      },
      "source": [
        "df.columns.str.strip().str.upper().str.replace(' ', '_')"
      ],
      "execution_count": 9,
      "outputs": [
        {
          "output_type": "execute_result",
          "data": {
            "text/plain": [
              "Index(['FIRST_NAME', 'LAST_NAME', 'MEDIAN_HOUSE_VALUE'], dtype='object')"
            ]
          },
          "metadata": {
            "tags": []
          },
          "execution_count": 9
        }
      ]
    },
    {
      "cell_type": "code",
      "metadata": {
        "id": "e4sb8FeAJT2s",
        "colab_type": "code",
        "colab": {
          "base_uri": "https://localhost:8080/",
          "height": 35
        },
        "outputId": "3164e013-0cdc-4ac3-aa69-cdf4d1ba143f"
      },
      "source": [
        "df.columns.str.strip().str.lower().str.replace(' ', '_')"
      ],
      "execution_count": 10,
      "outputs": [
        {
          "output_type": "execute_result",
          "data": {
            "text/plain": [
              "Index(['first_name', 'last_name', 'median_house_value'], dtype='object')"
            ]
          },
          "metadata": {
            "tags": []
          },
          "execution_count": 10
        }
      ]
    },
    {
      "cell_type": "code",
      "metadata": {
        "id": "wdffEh3qJ4es",
        "colab_type": "code",
        "colab": {
          "base_uri": "https://localhost:8080/",
          "height": 295
        },
        "outputId": "8b55699a-4475-4b86-c66b-76e68dafdd61"
      },
      "source": [
        "capitalization_funcs = [\n",
        "    'lower',\n",
        "    'upper',\n",
        "    'title',\n",
        "    'capitalize',\n",
        "]\n",
        "\n",
        "gap_funcs = [\n",
        "    \"replace(' ', '_')\",\n",
        "    \"replace(' ', '')\",\n",
        "    \"replace(' ', ' ')\"\n",
        "]\n",
        "\n",
        "for cap_func in capitalization_funcs:\n",
        "    capitalization = f'df.columns.str.strip().str.{cap_func}()'\n",
        "    for gap_func in gap_funcs:\n",
        "        composit_func = f'{capitalization}.str.{gap_func}'\n",
        "        print(f'{list(eval(composit_func))}')\n",
        "    print()"
      ],
      "execution_count": 11,
      "outputs": [
        {
          "output_type": "stream",
          "text": [
            "['first_name', 'last_name', 'median_house_value']\n",
            "['firstname', 'lastname', 'medianhousevalue']\n",
            "['first name', 'last name', 'median house value']\n",
            "\n",
            "['FIRST_NAME', 'LAST_NAME', 'MEDIAN_HOUSE_VALUE']\n",
            "['FIRSTNAME', 'LASTNAME', 'MEDIANHOUSEVALUE']\n",
            "['FIRST NAME', 'LAST NAME', 'MEDIAN HOUSE VALUE']\n",
            "\n",
            "['First_Name', 'Last_Name', 'Median_House_Value']\n",
            "['FirstName', 'LastName', 'MedianHouseValue']\n",
            "['First Name', 'Last Name', 'Median House Value']\n",
            "\n",
            "['First_name', 'Last_name', 'Median_house_value']\n",
            "['Firstname', 'Lastname', 'Medianhousevalue']\n",
            "['First name', 'Last name', 'Median house value']\n",
            "\n"
          ],
          "name": "stdout"
        }
      ]
    },
    {
      "cell_type": "markdown",
      "metadata": {
        "id": "0CeUxPMoUEAH",
        "colab_type": "text"
      },
      "source": [
        "###What if we have multiple spaces or tabs between words\n",
        "- we could use `map` with `split` and `join`\n",
        "- `regular expressions`"
      ]
    },
    {
      "cell_type": "code",
      "metadata": {
        "id": "Kpcsc7xoKR05",
        "colab_type": "code",
        "colab": {
          "base_uri": "https://localhost:8080/",
          "height": 79
        },
        "outputId": "f41ee93b-62bb-4fc7-f3d2-3079822e9df2"
      },
      "source": [
        "df[' multiple   spaces'] = ['several']\n",
        "df"
      ],
      "execution_count": 12,
      "outputs": [
        {
          "output_type": "execute_result",
          "data": {
            "text/html": [
              "<div>\n",
              "<style scoped>\n",
              "    .dataframe tbody tr th:only-of-type {\n",
              "        vertical-align: middle;\n",
              "    }\n",
              "\n",
              "    .dataframe tbody tr th {\n",
              "        vertical-align: top;\n",
              "    }\n",
              "\n",
              "    .dataframe thead th {\n",
              "        text-align: right;\n",
              "    }\n",
              "</style>\n",
              "<table border=\"1\" class=\"dataframe\">\n",
              "  <thead>\n",
              "    <tr style=\"text-align: right;\">\n",
              "      <th></th>\n",
              "      <th>First name</th>\n",
              "      <th>last name</th>\n",
              "      <th>median House value</th>\n",
              "      <th>multiple   spaces</th>\n",
              "    </tr>\n",
              "  </thead>\n",
              "  <tbody>\n",
              "    <tr>\n",
              "      <th>0</th>\n",
              "      <td>John</td>\n",
              "      <td>Doe</td>\n",
              "      <td>750000</td>\n",
              "      <td>several</td>\n",
              "    </tr>\n",
              "  </tbody>\n",
              "</table>\n",
              "</div>"
            ],
            "text/plain": [
              "   First name last name    median House value  multiple   spaces\n",
              "0        John         Doe              750000            several"
            ]
          },
          "metadata": {
            "tags": []
          },
          "execution_count": 12
        }
      ]
    },
    {
      "cell_type": "code",
      "metadata": {
        "id": "36RcskcZVG2A",
        "colab_type": "code",
        "colab": {
          "base_uri": "https://localhost:8080/",
          "height": 69
        },
        "outputId": "48505af7-1186-4f08-ea3f-a34fb6d5cad4"
      },
      "source": [
        "df.columns"
      ],
      "execution_count": 13,
      "outputs": [
        {
          "output_type": "execute_result",
          "data": {
            "text/plain": [
              "Index([' First name', 'last name  ', 'median House value',\n",
              "       ' multiple   spaces'],\n",
              "      dtype='object')"
            ]
          },
          "metadata": {
            "tags": []
          },
          "execution_count": 13
        }
      ]
    },
    {
      "cell_type": "code",
      "metadata": {
        "id": "AzDVCTMneiV4",
        "colab_type": "code",
        "colab": {
          "base_uri": "https://localhost:8080/",
          "height": 35
        },
        "outputId": "dc8240d6-349a-4ecd-cb69-3b98a38bc48b"
      },
      "source": [
        "df.columns.str.strip().str.replace(' ', '_')"
      ],
      "execution_count": 17,
      "outputs": [
        {
          "output_type": "execute_result",
          "data": {
            "text/plain": [
              "Index(['First_name', 'last_name', 'median_House_value', 'multiple___spaces'], dtype='object')"
            ]
          },
          "metadata": {
            "tags": []
          },
          "execution_count": 17
        }
      ]
    },
    {
      "cell_type": "markdown",
      "metadata": {
        "id": "a8U01-QEaVst",
        "colab_type": "text"
      },
      "source": [
        "####Mapping\n",
        "- df.columns.`map`(`lambda function`)\n",
        "- df.columns.`map`(`mapper function name`)"
      ]
    },
    {
      "cell_type": "code",
      "metadata": {
        "id": "O9RgoIGgOPOG",
        "colab_type": "code",
        "colab": {
          "base_uri": "https://localhost:8080/",
          "height": 35
        },
        "outputId": "1a29dba8-c01f-4df0-f181-0f075c3a7eb7"
      },
      "source": [
        "df.columns.map(lambda c: ' '.join(c.strip().split()))"
      ],
      "execution_count": 14,
      "outputs": [
        {
          "output_type": "execute_result",
          "data": {
            "text/plain": [
              "Index(['First name', 'last name', 'median House value', 'multiple spaces'], dtype='object')"
            ]
          },
          "metadata": {
            "tags": []
          },
          "execution_count": 14
        }
      ]
    },
    {
      "cell_type": "code",
      "metadata": {
        "id": "S7r3VjHWQ8d4",
        "colab_type": "code",
        "colab": {
          "base_uri": "https://localhost:8080/",
          "height": 35
        },
        "outputId": "1612bf66-9700-44a3-c65d-75a769f79575"
      },
      "source": [
        "def normalizing_column_name(col_name:str)->str:\n",
        "    \"\"\"\n",
        "    Return the column name words as an str, joined with underscore(_).\n",
        "    >>> c_name = '   leading white space with     multiple      white spaces between'\n",
        "    >>> normalizing_column_name(c_name)\n",
        "    'leading_white_space_with_multiple_spaces_between'\n",
        "    \"\"\"\n",
        "    return '_'.join(col_name.split())\n",
        "\n",
        "c_name = '   hello there   '\n",
        "normalizing_column_name(c_name)"
      ],
      "execution_count": 15,
      "outputs": [
        {
          "output_type": "execute_result",
          "data": {
            "text/plain": [
              "'hello_there'"
            ]
          },
          "metadata": {
            "tags": []
          },
          "execution_count": 15
        }
      ]
    },
    {
      "cell_type": "code",
      "metadata": {
        "id": "Pb-edqUEQnoB",
        "colab_type": "code",
        "colab": {
          "base_uri": "https://localhost:8080/",
          "height": 35
        },
        "outputId": "1197ef7d-05f9-4fb2-e267-ab811d564537"
      },
      "source": [
        "df.columns.map(mapper=normalizing_column_name)"
      ],
      "execution_count": 16,
      "outputs": [
        {
          "output_type": "execute_result",
          "data": {
            "text/plain": [
              "Index(['First_name', 'last_name', 'median_House_value', 'multiple_spaces'], dtype='object')"
            ]
          },
          "metadata": {
            "tags": []
          },
          "execution_count": 16
        }
      ]
    }
  ]
}