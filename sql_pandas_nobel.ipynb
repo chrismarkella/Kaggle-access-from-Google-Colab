{
  "nbformat": 4,
  "nbformat_minor": 0,
  "metadata": {
    "colab": {
      "name": "sql_pandas_nobel.ipynb",
      "provenance": [],
      "authorship_tag": "ABX9TyMAbaphWjhHdyNEocYnnzoX",
      "include_colab_link": true
    },
    "kernelspec": {
      "name": "python3",
      "display_name": "Python 3"
    }
  },
  "cells": [
    {
      "cell_type": "markdown",
      "metadata": {
        "id": "view-in-github",
        "colab_type": "text"
      },
      "source": [
        "<a href=\"https://colab.research.google.com/github/chrismarkella/Kaggle-access-from-Google-Colab/blob/master/sql_pandas_nobel.ipynb\" target=\"_parent\"><img src=\"https://colab.research.google.com/assets/colab-badge.svg\" alt=\"Open In Colab\"/></a>"
      ]
    },
    {
      "cell_type": "code",
      "metadata": {
        "id": "GHwuueICVtBn",
        "colab_type": "code",
        "colab": {}
      },
      "source": [
        "import os\n",
        "\n",
        "import numpy as np\n",
        "import pandas as pd\n",
        "\n",
        "from getpass import getpass "
      ],
      "execution_count": 0,
      "outputs": []
    },
    {
      "cell_type": "code",
      "metadata": {
        "id": "G_JDTqCyXEIt",
        "colab_type": "code",
        "colab": {
          "base_uri": "https://localhost:8080/",
          "height": 69
        },
        "outputId": "9e110f07-7273-496b-cfc2-3eb2c7044e7a"
      },
      "source": [
        "def access_kaggle():\n",
        "    \"\"\"\n",
        "    Access Kaggle from Google Colab.\n",
        "    If the /root/.kaggle does not exist then prompt for\n",
        "    the username and for the Kaggle API key.\n",
        "    Creates the kaggle.json access file in the /root/.kaggle/ folder. \n",
        "    \"\"\"\n",
        "    KAGGLE_ROOT = os.path.join('/root', '.kaggle')\n",
        "    KAGGLE_PATH = os.path.join(KAGGLE_ROOT, 'kaggle.json')\n",
        "\n",
        "    if '.kaggle' not in os.listdir(path='/root'):\n",
        "        user = getpass(prompt='Kaggle username: ')\n",
        "        key  = getpass(prompt='Kaggle API key: ')\n",
        "        \n",
        "        !mkdir $KAGGLE_ROOT\n",
        "        !touch $KAGGLE_PATH\n",
        "        !chmod 666 $KAGGLE_PATH\n",
        "        with open(KAGGLE_PATH, mode='w') as f:\n",
        "            f.write('{\"username\":\"%s\", \"key\":\"%s\"}' %(user, key))\n",
        "            f.close()\n",
        "        !chmod 600 $KAGGLE_PATH\n",
        "        del user\n",
        "        del key\n",
        "        success_msg = \"Kaggle is successfully set up. Good to go.\"\n",
        "        print(f'{success_msg}')\n",
        "\n",
        "access_kaggle()\n"
      ],
      "execution_count": 2,
      "outputs": [
        {
          "output_type": "stream",
          "text": [
            "Kaggle username: ··········\n",
            "Kaggle API key: ··········\n",
            "Kaggle is successfully set up. Good to go.\n"
          ],
          "name": "stdout"
        }
      ]
    },
    {
      "cell_type": "code",
      "metadata": {
        "id": "pL1T2htuXPDR",
        "colab_type": "code",
        "colab": {
          "base_uri": "https://localhost:8080/",
          "height": 280
        },
        "outputId": "e0b6bcbe-7068-4fdf-b27a-2e6828ad435c"
      },
      "source": [
        "!kaggle datasets list -s nobel"
      ],
      "execution_count": 3,
      "outputs": [
        {
          "output_type": "stream",
          "text": [
            "Warning: Looks like you're using an outdated API Version, please consider updating (server 1.5.6 / client 1.5.4)\n",
            "ref                                        title                                 size  lastUpdated          downloadCount  \n",
            "-----------------------------------------  -----------------------------------  -----  -------------------  -------------  \n",
            "nobelfoundation/nobel-laureates            Nobel Laureates, 1901-Present         66KB  2017-02-16 00:31:00           2503  \n",
            "mbogernetto/women-in-nobel-prize-19012019  Women in Nobel Prize (1901-2019)      39KB  2020-01-08 17:08:24             24  \n",
            "nayansolanki2411/nobel-prize-19012017      Nobel prize (1901-2017)               35KB  2018-05-30 16:29:13            120  \n",
            "mpwolke/cusersmarildownloadsdeathscsv      Mortality among children               8KB  2019-10-17 23:48:09            112  \n",
            "cdc/mortality                              Death in the United States           731MB  2017-08-03 19:10:09          15145  \n",
            "eurostat/european-union                    Member States of the European Union    2KB  2017-03-14 18:12:13            670  \n",
            "vanshjatana/nobel-prize                    Nobel Prize                           65KB  2018-11-23 10:30:46             38  \n",
            "srishti280992/organizations-and-countries  organizations and countries           844B  2019-10-08 01:32:13             16  \n",
            "ipolas/btc-block                           BTC Block                              7KB  2019-11-14 05:35:12              3  \n",
            "hmnshu/nsfdataset                          NSFDataset                           342MB  2019-12-01 21:24:08             26  \n",
            "jessevent/all-kaggle-datasets              Complete Kaggle Datasets Collection  390KB  2018-01-16 12:32:58           1349  \n"
          ],
          "name": "stdout"
        }
      ]
    },
    {
      "cell_type": "code",
      "metadata": {
        "id": "rBGUCd_HXTtj",
        "colab_type": "code",
        "colab": {
          "base_uri": "https://localhost:8080/",
          "height": 107
        },
        "outputId": "ad4f60e4-5c1f-4c55-e7bd-fdb804d08b1e"
      },
      "source": [
        "!kaggle datasets files nobelfoundation/nobel-laureates"
      ],
      "execution_count": 4,
      "outputs": [
        {
          "output_type": "stream",
          "text": [
            "Warning: Looks like you're using an outdated API Version, please consider updating (server 1.5.6 / client 1.5.4)\n",
            "name          size  creationDate         \n",
            "-----------  -----  -------------------  \n",
            "archive.csv  283KB  2017-02-16 00:31:00  \n"
          ],
          "name": "stdout"
        }
      ]
    },
    {
      "cell_type": "code",
      "metadata": {
        "id": "ni8hd8qMXe6k",
        "colab_type": "code",
        "colab": {
          "base_uri": "https://localhost:8080/",
          "height": 104
        },
        "outputId": "3399732d-2012-46e4-de99-1bea888284ae"
      },
      "source": [
        "!kaggle datasets download nobelfoundation/nobel-laureates --unzip -p ./datasets\n",
        "!ls -lh ./datasets"
      ],
      "execution_count": 6,
      "outputs": [
        {
          "output_type": "stream",
          "text": [
            "Downloading nobel-laureates.zip to ./datasets\n",
            "\r  0% 0.00/66.2k [00:00<?, ?B/s]\n",
            "\r100% 66.2k/66.2k [00:00<00:00, 62.9MB/s]\n",
            "total 284K\n",
            "-rw-r--r-- 1 root root 284K Feb  3 04:46 archive.csv\n"
          ],
          "name": "stdout"
        }
      ]
    },
    {
      "cell_type": "code",
      "metadata": {
        "id": "FAQxxmsuXtaj",
        "colab_type": "code",
        "colab": {
          "base_uri": "https://localhost:8080/",
          "height": 124
        },
        "outputId": "1290de89-5f9d-4b1c-ca7a-267a31485c29"
      },
      "source": [
        "df = pd.read_csv('datasets/archive.csv', sep=',')\n",
        "df.columns"
      ],
      "execution_count": 7,
      "outputs": [
        {
          "output_type": "execute_result",
          "data": {
            "text/plain": [
              "Index(['Year', 'Category', 'Prize', 'Motivation', 'Prize Share', 'Laureate ID',\n",
              "       'Laureate Type', 'Full Name', 'Birth Date', 'Birth City',\n",
              "       'Birth Country', 'Sex', 'Organization Name', 'Organization City',\n",
              "       'Organization Country', 'Death Date', 'Death City', 'Death Country'],\n",
              "      dtype='object')"
            ]
          },
          "metadata": {
            "tags": []
          },
          "execution_count": 7
        }
      ]
    },
    {
      "cell_type": "code",
      "metadata": {
        "id": "GoWyNxnTX-dI",
        "colab_type": "code",
        "colab": {
          "base_uri": "https://localhost:8080/",
          "height": 141
        },
        "outputId": "77b7a43c-17d4-49b6-c886-26d0fddcf069"
      },
      "source": [
        "columns_to_load = [\n",
        "    'Year',\n",
        "    'Category',\n",
        "    'Full Name',\n",
        "]\n",
        "df = pd.read_csv('datasets/archive.csv', sep=',',\n",
        "                 usecols=columns_to_load)\n",
        "df.head(3)"
      ],
      "execution_count": 10,
      "outputs": [
        {
          "output_type": "execute_result",
          "data": {
            "text/html": [
              "<div>\n",
              "<style scoped>\n",
              "    .dataframe tbody tr th:only-of-type {\n",
              "        vertical-align: middle;\n",
              "    }\n",
              "\n",
              "    .dataframe tbody tr th {\n",
              "        vertical-align: top;\n",
              "    }\n",
              "\n",
              "    .dataframe thead th {\n",
              "        text-align: right;\n",
              "    }\n",
              "</style>\n",
              "<table border=\"1\" class=\"dataframe\">\n",
              "  <thead>\n",
              "    <tr style=\"text-align: right;\">\n",
              "      <th></th>\n",
              "      <th>Year</th>\n",
              "      <th>Category</th>\n",
              "      <th>Full Name</th>\n",
              "    </tr>\n",
              "  </thead>\n",
              "  <tbody>\n",
              "    <tr>\n",
              "      <th>0</th>\n",
              "      <td>1901</td>\n",
              "      <td>Chemistry</td>\n",
              "      <td>Jacobus Henricus van 't Hoff</td>\n",
              "    </tr>\n",
              "    <tr>\n",
              "      <th>1</th>\n",
              "      <td>1901</td>\n",
              "      <td>Literature</td>\n",
              "      <td>Sully Prudhomme</td>\n",
              "    </tr>\n",
              "    <tr>\n",
              "      <th>2</th>\n",
              "      <td>1901</td>\n",
              "      <td>Medicine</td>\n",
              "      <td>Emil Adolf von Behring</td>\n",
              "    </tr>\n",
              "  </tbody>\n",
              "</table>\n",
              "</div>"
            ],
            "text/plain": [
              "   Year    Category                     Full Name\n",
              "0  1901   Chemistry  Jacobus Henricus van 't Hoff\n",
              "1  1901  Literature               Sully Prudhomme\n",
              "2  1901    Medicine        Emil Adolf von Behring"
            ]
          },
          "metadata": {
            "tags": []
          },
          "execution_count": 10
        }
      ]
    },
    {
      "cell_type": "code",
      "metadata": {
        "id": "NFMd3PuSZc6i",
        "colab_type": "code",
        "colab": {
          "base_uri": "https://localhost:8080/",
          "height": 141
        },
        "outputId": "78f98592-d836-4157-cc15-426346f91f07"
      },
      "source": [
        "column_name_dict = {\n",
        "    'Year': 'yr',\n",
        "    'Category': 'subject',\n",
        "    'Full Name':'winner'\n",
        "}\n",
        "df.rename(mapper=column_name_dict, axis='columns',\n",
        "          inplace=True)\n",
        "df.head(3)"
      ],
      "execution_count": 17,
      "outputs": [
        {
          "output_type": "execute_result",
          "data": {
            "text/html": [
              "<div>\n",
              "<style scoped>\n",
              "    .dataframe tbody tr th:only-of-type {\n",
              "        vertical-align: middle;\n",
              "    }\n",
              "\n",
              "    .dataframe tbody tr th {\n",
              "        vertical-align: top;\n",
              "    }\n",
              "\n",
              "    .dataframe thead th {\n",
              "        text-align: right;\n",
              "    }\n",
              "</style>\n",
              "<table border=\"1\" class=\"dataframe\">\n",
              "  <thead>\n",
              "    <tr style=\"text-align: right;\">\n",
              "      <th></th>\n",
              "      <th>yr</th>\n",
              "      <th>subject</th>\n",
              "      <th>winner</th>\n",
              "    </tr>\n",
              "  </thead>\n",
              "  <tbody>\n",
              "    <tr>\n",
              "      <th>0</th>\n",
              "      <td>1901</td>\n",
              "      <td>Chemistry</td>\n",
              "      <td>Jacobus Henricus van 't Hoff</td>\n",
              "    </tr>\n",
              "    <tr>\n",
              "      <th>1</th>\n",
              "      <td>1901</td>\n",
              "      <td>Literature</td>\n",
              "      <td>Sully Prudhomme</td>\n",
              "    </tr>\n",
              "    <tr>\n",
              "      <th>2</th>\n",
              "      <td>1901</td>\n",
              "      <td>Medicine</td>\n",
              "      <td>Emil Adolf von Behring</td>\n",
              "    </tr>\n",
              "  </tbody>\n",
              "</table>\n",
              "</div>"
            ],
            "text/plain": [
              "     yr     subject                        winner\n",
              "0  1901   Chemistry  Jacobus Henricus van 't Hoff\n",
              "1  1901  Literature               Sully Prudhomme\n",
              "2  1901    Medicine        Emil Adolf von Behring"
            ]
          },
          "metadata": {
            "tags": []
          },
          "execution_count": 17
        }
      ]
    },
    {
      "cell_type": "markdown",
      "metadata": {
        "id": "zM7n3Zc-axn5",
        "colab_type": "text"
      },
      "source": [
        "\n",
        "\n",
        "```sql\n",
        "SELECT yr, subject, winner\n",
        "FROM nobel\n",
        "WHERE yr = 1950\n",
        "```\n",
        "\n"
      ]
    },
    {
      "cell_type": "code",
      "metadata": {
        "id": "NVbRQDxwaBfd",
        "colab_type": "code",
        "colab": {
          "base_uri": "https://localhost:8080/",
          "height": 294
        },
        "outputId": "536333ee-978d-4689-e098-882e00d37a93"
      },
      "source": [
        "filt_year = (df.yr == 1950)\n",
        "selected_columns = [\n",
        "    'yr',\n",
        "    'subject',\n",
        "    'winner',\n",
        "]\n",
        "\n",
        "df.loc[filt_year, selected_columns]"
      ],
      "execution_count": 19,
      "outputs": [
        {
          "output_type": "execute_result",
          "data": {
            "text/html": [
              "<div>\n",
              "<style scoped>\n",
              "    .dataframe tbody tr th:only-of-type {\n",
              "        vertical-align: middle;\n",
              "    }\n",
              "\n",
              "    .dataframe tbody tr th {\n",
              "        vertical-align: top;\n",
              "    }\n",
              "\n",
              "    .dataframe thead th {\n",
              "        text-align: right;\n",
              "    }\n",
              "</style>\n",
              "<table border=\"1\" class=\"dataframe\">\n",
              "  <thead>\n",
              "    <tr style=\"text-align: right;\">\n",
              "      <th></th>\n",
              "      <th>yr</th>\n",
              "      <th>subject</th>\n",
              "      <th>winner</th>\n",
              "    </tr>\n",
              "  </thead>\n",
              "  <tbody>\n",
              "    <tr>\n",
              "      <th>259</th>\n",
              "      <td>1950</td>\n",
              "      <td>Chemistry</td>\n",
              "      <td>Otto Paul Hermann Diels</td>\n",
              "    </tr>\n",
              "    <tr>\n",
              "      <th>260</th>\n",
              "      <td>1950</td>\n",
              "      <td>Chemistry</td>\n",
              "      <td>Kurt Alder</td>\n",
              "    </tr>\n",
              "    <tr>\n",
              "      <th>261</th>\n",
              "      <td>1950</td>\n",
              "      <td>Literature</td>\n",
              "      <td>Earl (Bertrand Arthur William) Russell</td>\n",
              "    </tr>\n",
              "    <tr>\n",
              "      <th>262</th>\n",
              "      <td>1950</td>\n",
              "      <td>Medicine</td>\n",
              "      <td>Edward Calvin Kendall</td>\n",
              "    </tr>\n",
              "    <tr>\n",
              "      <th>263</th>\n",
              "      <td>1950</td>\n",
              "      <td>Medicine</td>\n",
              "      <td>Tadeus Reichstein</td>\n",
              "    </tr>\n",
              "    <tr>\n",
              "      <th>264</th>\n",
              "      <td>1950</td>\n",
              "      <td>Medicine</td>\n",
              "      <td>Philip Showalter Hench</td>\n",
              "    </tr>\n",
              "    <tr>\n",
              "      <th>265</th>\n",
              "      <td>1950</td>\n",
              "      <td>Peace</td>\n",
              "      <td>Ralph Bunche</td>\n",
              "    </tr>\n",
              "    <tr>\n",
              "      <th>266</th>\n",
              "      <td>1950</td>\n",
              "      <td>Physics</td>\n",
              "      <td>Cecil Frank Powell</td>\n",
              "    </tr>\n",
              "  </tbody>\n",
              "</table>\n",
              "</div>"
            ],
            "text/plain": [
              "       yr     subject                                  winner\n",
              "259  1950   Chemistry                 Otto Paul Hermann Diels\n",
              "260  1950   Chemistry                              Kurt Alder\n",
              "261  1950  Literature  Earl (Bertrand Arthur William) Russell\n",
              "262  1950    Medicine                   Edward Calvin Kendall\n",
              "263  1950    Medicine                       Tadeus Reichstein\n",
              "264  1950    Medicine                  Philip Showalter Hench\n",
              "265  1950       Peace                            Ralph Bunche\n",
              "266  1950     Physics                      Cecil Frank Powell"
            ]
          },
          "metadata": {
            "tags": []
          },
          "execution_count": 19
        }
      ]
    },
    {
      "cell_type": "markdown",
      "metadata": {
        "id": "fKZYBw-ecBXs",
        "colab_type": "text"
      },
      "source": [
        "\n",
        "\n",
        "```sql\n",
        "SELECT winner\n",
        "FROM nobel\n",
        "WHERE yr = 1962 AND \n",
        "      subject = 'Literature'\n",
        "```\n",
        "\n"
      ]
    },
    {
      "cell_type": "code",
      "metadata": {
        "id": "kALSmJeecUKb",
        "colab_type": "code",
        "colab": {
          "base_uri": "https://localhost:8080/",
          "height": 52
        },
        "outputId": "d341175e-d2db-43f0-eced-5422f18dccec"
      },
      "source": [
        "filt_year = (df.yr == 1962)\n",
        "filt_subject = (df.subject == 'Literature')\n",
        "filt = (filt_year & filt_subject)\n",
        "\n",
        "df.loc[filt, 'winner']"
      ],
      "execution_count": 20,
      "outputs": [
        {
          "output_type": "execute_result",
          "data": {
            "text/plain": [
              "353    John Steinbeck\n",
              "Name: winner, dtype: object"
            ]
          },
          "metadata": {
            "tags": []
          },
          "execution_count": 20
        }
      ]
    },
    {
      "cell_type": "markdown",
      "metadata": {
        "id": "TFTtzm9vbS7W",
        "colab_type": "text"
      },
      "source": [
        "\n",
        "\n",
        "```sql\n",
        "SELECT yr, subject\n",
        "FROM nobel\n",
        "WHERE winner = 'Albert Einstein'\n",
        "```\n",
        "\n"
      ]
    },
    {
      "cell_type": "code",
      "metadata": {
        "id": "gUtT3GgCc7gy",
        "colab_type": "code",
        "colab": {
          "base_uri": "https://localhost:8080/",
          "height": 79
        },
        "outputId": "cd93f9b0-fb42-45ed-e454-f45e2c440f47"
      },
      "source": [
        "filt_winner = (df.winner == 'Albert Einstein')\n",
        "\n",
        "df.loc[filt_winner, ['yr', 'subject']]"
      ],
      "execution_count": 21,
      "outputs": [
        {
          "output_type": "execute_result",
          "data": {
            "text/html": [
              "<div>\n",
              "<style scoped>\n",
              "    .dataframe tbody tr th:only-of-type {\n",
              "        vertical-align: middle;\n",
              "    }\n",
              "\n",
              "    .dataframe tbody tr th {\n",
              "        vertical-align: top;\n",
              "    }\n",
              "\n",
              "    .dataframe thead th {\n",
              "        text-align: right;\n",
              "    }\n",
              "</style>\n",
              "<table border=\"1\" class=\"dataframe\">\n",
              "  <thead>\n",
              "    <tr style=\"text-align: right;\">\n",
              "      <th></th>\n",
              "      <th>yr</th>\n",
              "      <th>subject</th>\n",
              "    </tr>\n",
              "  </thead>\n",
              "  <tbody>\n",
              "    <tr>\n",
              "      <th>107</th>\n",
              "      <td>1921</td>\n",
              "      <td>Physics</td>\n",
              "    </tr>\n",
              "  </tbody>\n",
              "</table>\n",
              "</div>"
            ],
            "text/plain": [
              "       yr  subject\n",
              "107  1921  Physics"
            ]
          },
          "metadata": {
            "tags": []
          },
          "execution_count": 21
        }
      ]
    },
    {
      "cell_type": "markdown",
      "metadata": {
        "colab_type": "text",
        "id": "qr4IeDvtbjjA"
      },
      "source": [
        "\n",
        "\n",
        "```sql\n",
        "SELECT winner\n",
        "FROM nobel\n",
        "WHERE subject = 'Peace' AND\n",
        "      yr >= 2000\n",
        "```\n",
        "\n"
      ]
    },
    {
      "cell_type": "code",
      "metadata": {
        "id": "4ffi7tglbOdi",
        "colab_type": "code",
        "colab": {
          "base_uri": "https://localhost:8080/",
          "height": 451
        },
        "outputId": "240bbc43-5d7d-46de-ffae-be0c9e85e262"
      },
      "source": [
        "filt_subject = (df.subject == 'Peace')\n",
        "filt_year = (df.yr >= 2000)\n",
        "filt = (filt_subject & filt_year)\n",
        "\n",
        "df.loc[filt, 'winner']"
      ],
      "execution_count": 22,
      "outputs": [
        {
          "output_type": "execute_result",
          "data": {
            "text/plain": [
              "740                                         Kim Dae-jung\n",
              "754                                United Nations (U.N.)\n",
              "755                                           Kofi Annan\n",
              "769                                         Jimmy Carter\n",
              "781                                         Shirin Ebadi\n",
              "795                                 Wangari Muta Maathai\n",
              "808            International Atomic Energy Agency (IAEA)\n",
              "809                                    Mohamed ElBaradei\n",
              "820                                       Muhammad Yunus\n",
              "821                                         Grameen Bank\n",
              "833     Intergovernmental Panel on Climate Change (IPCC)\n",
              "834                          Albert Arnold (Al) Gore Jr.\n",
              "848                                     Martti Ahtisaari\n",
              "866                                      Barack H. Obama\n",
              "880                                           Liu Xiaobo\n",
              "891                                Ellen Johnson Sirleaf\n",
              "892                                        Leymah Gbowee\n",
              "893                                      Tawakkol Karman\n",
              "909                                  European Union (EU)\n",
              "927    Organisation for the Prohibition of Chemical W...\n",
              "939                                    Kailash Satyarthi\n",
              "940                                     Malala Yousafzai\n",
              "955                            National Dialogue Quartet\n",
              "965                                   Juan Manuel Santos\n",
              "Name: winner, dtype: object"
            ]
          },
          "metadata": {
            "tags": []
          },
          "execution_count": 22
        }
      ]
    },
    {
      "cell_type": "markdown",
      "metadata": {
        "colab_type": "text",
        "id": "A44sIYH7bnQ2"
      },
      "source": [
        "\n",
        "\n",
        "```sql\n",
        "SELECT *\n",
        "FROM nobel\n",
        "WHERE subject = 'Literature' AND yr  BETWEEN 1980 AND 1989\n",
        "```\n",
        "\n"
      ]
    },
    {
      "cell_type": "code",
      "metadata": {
        "id": "Uav1t9KDeKHn",
        "colab_type": "code",
        "colab": {
          "base_uri": "https://localhost:8080/",
          "height": 355
        },
        "outputId": "35ebeb17-19d7-4c1a-d378-584e6895666e"
      },
      "source": [
        "filt_year = (df.yr.between(1980, 1989))\n",
        "filt_subj = (df.subject == 'Literature')\n",
        "\n",
        "filt = (filt_year & filt_subj)\n",
        "\n",
        "df.loc[filt]"
      ],
      "execution_count": 23,
      "outputs": [
        {
          "output_type": "execute_result",
          "data": {
            "text/html": [
              "<div>\n",
              "<style scoped>\n",
              "    .dataframe tbody tr th:only-of-type {\n",
              "        vertical-align: middle;\n",
              "    }\n",
              "\n",
              "    .dataframe tbody tr th {\n",
              "        vertical-align: top;\n",
              "    }\n",
              "\n",
              "    .dataframe thead th {\n",
              "        text-align: right;\n",
              "    }\n",
              "</style>\n",
              "<table border=\"1\" class=\"dataframe\">\n",
              "  <thead>\n",
              "    <tr style=\"text-align: right;\">\n",
              "      <th></th>\n",
              "      <th>yr</th>\n",
              "      <th>subject</th>\n",
              "      <th>winner</th>\n",
              "    </tr>\n",
              "  </thead>\n",
              "  <tbody>\n",
              "    <tr>\n",
              "      <th>529</th>\n",
              "      <td>1980</td>\n",
              "      <td>Literature</td>\n",
              "      <td>Czeslaw Milosz</td>\n",
              "    </tr>\n",
              "    <tr>\n",
              "      <th>539</th>\n",
              "      <td>1981</td>\n",
              "      <td>Literature</td>\n",
              "      <td>Elias Canetti</td>\n",
              "    </tr>\n",
              "    <tr>\n",
              "      <th>549</th>\n",
              "      <td>1982</td>\n",
              "      <td>Literature</td>\n",
              "      <td>Gabriel García Márquez</td>\n",
              "    </tr>\n",
              "    <tr>\n",
              "      <th>558</th>\n",
              "      <td>1983</td>\n",
              "      <td>Literature</td>\n",
              "      <td>William Golding</td>\n",
              "    </tr>\n",
              "    <tr>\n",
              "      <th>565</th>\n",
              "      <td>1984</td>\n",
              "      <td>Literature</td>\n",
              "      <td>Jaroslav Seifert</td>\n",
              "    </tr>\n",
              "    <tr>\n",
              "      <th>575</th>\n",
              "      <td>1985</td>\n",
              "      <td>Literature</td>\n",
              "      <td>Claude Simon</td>\n",
              "    </tr>\n",
              "    <tr>\n",
              "      <th>584</th>\n",
              "      <td>1986</td>\n",
              "      <td>Literature</td>\n",
              "      <td>Wole Soyinka</td>\n",
              "    </tr>\n",
              "    <tr>\n",
              "      <th>596</th>\n",
              "      <td>1987</td>\n",
              "      <td>Literature</td>\n",
              "      <td>Joseph Brodsky</td>\n",
              "    </tr>\n",
              "    <tr>\n",
              "      <th>606</th>\n",
              "      <td>1988</td>\n",
              "      <td>Literature</td>\n",
              "      <td>Naguib Mahfouz</td>\n",
              "    </tr>\n",
              "    <tr>\n",
              "      <th>617</th>\n",
              "      <td>1989</td>\n",
              "      <td>Literature</td>\n",
              "      <td>Camilo José Cela</td>\n",
              "    </tr>\n",
              "  </tbody>\n",
              "</table>\n",
              "</div>"
            ],
            "text/plain": [
              "       yr     subject                  winner\n",
              "529  1980  Literature          Czeslaw Milosz\n",
              "539  1981  Literature           Elias Canetti\n",
              "549  1982  Literature  Gabriel García Márquez\n",
              "558  1983  Literature         William Golding\n",
              "565  1984  Literature        Jaroslav Seifert\n",
              "575  1985  Literature            Claude Simon\n",
              "584  1986  Literature            Wole Soyinka\n",
              "596  1987  Literature          Joseph Brodsky\n",
              "606  1988  Literature          Naguib Mahfouz\n",
              "617  1989  Literature        Camilo José Cela"
            ]
          },
          "metadata": {
            "tags": []
          },
          "execution_count": 23
        }
      ]
    },
    {
      "cell_type": "markdown",
      "metadata": {
        "id": "_gu1cm1ofxsY",
        "colab_type": "text"
      },
      "source": [
        "\n",
        "\n",
        "```sql\n",
        "SELECT * FROM nobel\n",
        "WHERE winner IN ('Theodore Roosevelt','Woodrow Wilson',\n",
        "                 'Jimmy Carter', 'Barack Obama')\n",
        "```\n",
        "\n"
      ]
    },
    {
      "cell_type": "code",
      "metadata": {
        "id": "vYbjmdDhf6hl",
        "colab_type": "code",
        "colab": {
          "base_uri": "https://localhost:8080/",
          "height": 141
        },
        "outputId": "f1048719-1524-4dc0-b8a4-ea9ea35dc709"
      },
      "source": [
        "president_lst = [\n",
        "    'Theodore Roosevelt',\n",
        "    'Woodrow Wilson',\n",
        "    'Jimmy Carter',\n",
        "    'Barack H. Obama',\n",
        "]\n",
        "filt_winner = (df.winner.isin(president_lst))\n",
        "\n",
        "df.loc[filt_winner]"
      ],
      "execution_count": 25,
      "outputs": [
        {
          "output_type": "execute_result",
          "data": {
            "text/html": [
              "<div>\n",
              "<style scoped>\n",
              "    .dataframe tbody tr th:only-of-type {\n",
              "        vertical-align: middle;\n",
              "    }\n",
              "\n",
              "    .dataframe tbody tr th {\n",
              "        vertical-align: top;\n",
              "    }\n",
              "\n",
              "    .dataframe thead th {\n",
              "        text-align: right;\n",
              "    }\n",
              "</style>\n",
              "<table border=\"1\" class=\"dataframe\">\n",
              "  <thead>\n",
              "    <tr style=\"text-align: right;\">\n",
              "      <th></th>\n",
              "      <th>yr</th>\n",
              "      <th>subject</th>\n",
              "      <th>winner</th>\n",
              "    </tr>\n",
              "  </thead>\n",
              "  <tbody>\n",
              "    <tr>\n",
              "      <th>35</th>\n",
              "      <td>1906</td>\n",
              "      <td>Peace</td>\n",
              "      <td>Theodore Roosevelt</td>\n",
              "    </tr>\n",
              "    <tr>\n",
              "      <th>769</th>\n",
              "      <td>2002</td>\n",
              "      <td>Peace</td>\n",
              "      <td>Jimmy Carter</td>\n",
              "    </tr>\n",
              "    <tr>\n",
              "      <th>866</th>\n",
              "      <td>2009</td>\n",
              "      <td>Peace</td>\n",
              "      <td>Barack H. Obama</td>\n",
              "    </tr>\n",
              "  </tbody>\n",
              "</table>\n",
              "</div>"
            ],
            "text/plain": [
              "       yr subject              winner\n",
              "35   1906   Peace  Theodore Roosevelt\n",
              "769  2002   Peace        Jimmy Carter\n",
              "866  2009   Peace     Barack H. Obama"
            ]
          },
          "metadata": {
            "tags": []
          },
          "execution_count": 25
        }
      ]
    }
  ]
}