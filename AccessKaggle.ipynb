{
  "nbformat": 4,
  "nbformat_minor": 0,
  "metadata": {
    "colab": {
      "name": "AccessKaggle.ipynb",
      "provenance": [],
      "include_colab_link": true
    },
    "kernelspec": {
      "name": "python3",
      "display_name": "Python 3"
    }
  },
  "cells": [
    {
      "cell_type": "markdown",
      "metadata": {
        "id": "view-in-github",
        "colab_type": "text"
      },
      "source": [
        "<a href=\"https://colab.research.google.com/github/chrismarkella/Kaggle-access-from-Google-Colab/blob/master/AccessKaggle.ipynb\" target=\"_parent\"><img src=\"https://colab.research.google.com/assets/colab-badge.svg\" alt=\"Open In Colab\"/></a>"
      ]
    },
    {
      "cell_type": "code",
      "metadata": {
        "id": "sLBrRjpSnfaC",
        "colab_type": "code",
        "colab": {}
      },
      "source": [
        "import os\n",
        "\n",
        "import numpy as np\n",
        "import pandas as pd\n",
        "\n",
        "from getpass import getpass"
      ],
      "execution_count": 0,
      "outputs": []
    },
    {
      "cell_type": "code",
      "metadata": {
        "id": "VKDyUY9znoXy",
        "colab_type": "code",
        "outputId": "c9108f8d-009d-4a1a-c8c1-72214cf5c970",
        "colab": {
          "base_uri": "https://localhost:8080/",
          "height": 67
        }
      },
      "source": [
        "def access_kaggle():\n",
        "    \"\"\"\n",
        "    Access Kaggle from Google Colab.\n",
        "    If the /root/.kaggle does not exist then prompt for\n",
        "    the username and for the Kaggle API key.\n",
        "    Creates the kaggle.json access file in the /root/.kaggle/ folder. \n",
        "    \"\"\"\n",
        "    KAGGLE_ROOT = os.path.join('/root', '.kaggle')\n",
        "    KAGGLE_PATH = os.path.join(KAGGLE_ROOT, 'kaggle.json')\n",
        "\n",
        "    if '.kaggle' not in os.listdir(path='/root'):\n",
        "        user = getpass(prompt='Kaggle username: ')\n",
        "        key  = getpass(prompt='Kaggle API key: ')\n",
        "        \n",
        "        !mkdir $KAGGLE_ROOT\n",
        "        !touch $KAGGLE_PATH\n",
        "        !chmod 666 $KAGGLE_PATH\n",
        "        with open(KAGGLE_PATH, mode='w') as f:\n",
        "            f.write('{\"username\":\"%s\", \"key\":\"%s\"}' %(user, key))\n",
        "            f.close()\n",
        "        !chmod 600 $KAGGLE_PATH\n",
        "        del user\n",
        "        del key\n",
        "        success_msg = \"Kaggle is successfully set up. Good to go.\"\n",
        "        print(f'{success_msg}')\n",
        "\n",
        "access_kaggle()\n"
      ],
      "execution_count": 0,
      "outputs": [
        {
          "output_type": "stream",
          "text": [
            "Kaggle username: ··········\n",
            "Kaggle API key: ··········\n",
            "Kaggle is successfully set up. Good to go.\n"
          ],
          "name": "stdout"
        }
      ]
    },
    {
      "cell_type": "markdown",
      "metadata": {
        "id": "X-lRPM4ZEDE6",
        "colab_type": "text"
      },
      "source": [
        "### Searching for \"iowa\" datasets.\n",
        "Using the `-s` command option for search."
      ]
    },
    {
      "cell_type": "code",
      "metadata": {
        "id": "tCTQR03gxPR7",
        "colab_type": "code",
        "outputId": "c3da5637-0f7d-45d0-be6a-07528869a3a3",
        "colab": {
          "base_uri": "https://localhost:8080/",
          "height": 423
        }
      },
      "source": [
        "!kaggle datasets list -s iowa"
      ],
      "execution_count": 0,
      "outputs": [
        {
          "output_type": "stream",
          "text": [
            "Warning: Looks like you're using an outdated API Version, please consider updating (server 1.5.6 / client 1.5.4)\n",
            "ref                                                        title                                       size  lastUpdated          downloadCount  \n",
            "---------------------------------------------------------  -----------------------------------------  -----  -------------------  -------------  \n",
            "residentmario/iowa-liquor-sales                            Iowa Liquor Sales                          731MB  2017-11-14 19:59:36           4500  \n",
            "nickptaylor/iowa-house-prices                              Iowa House Prices                          179KB  2018-02-21 22:16:19            729  \n",
            "naberhausj/ford-cars-in-iowa                               Ford Cars in Iowa                            3MB  2018-12-06 23:08:05             97  \n",
            "emurphy/ames-iowa-housing-prices-dataset                   Ames Iowa Housing Prices Dataset           190KB  2018-04-25 14:54:54            261  \n",
            "firmament11/iowa-farm-data                                 IOWA Farm Data                              13KB  2019-04-24 01:31:16             40  \n",
            "itsmuriuki/test-data                                       Predicting House Prices                    179KB  2018-03-05 16:19:15            274  \n",
            "shmoking02/drunk-in-ames-iowa                              Drunk In Ames, Iowa                         11KB  2019-12-14 16:04:37              2  \n",
            "dengjianbo/housing-price-in-iowa                           housing price in iowa                       94KB  2017-10-22 02:26:20            137  \n",
            "ksridevi/iowahousing                                       iowa-housing                               179KB  2018-04-24 22:46:18             42  \n",
            "mgmurray01/seizuredata                                     Seizure Data                                10KB  2018-05-14 18:09:45            230  \n",
            "jleibow27/fried-food-consumption-and-mortality             Fried food consumption and mortality         4KB  2019-08-02 19:28:52            472  \n",
            "rtatman/188-million-us-wildfires                           1.88 Million US Wildfires                  168MB  2017-09-13 22:41:53           7628  \n",
            "openaddresses/openaddresses-us-midwest                     OpenAddresses - U.S. Midwest               657MB  2017-08-01 23:08:28            291  \n",
            "snehachalla/iowa-house-prices                              iowa_house_prices                          179KB  2019-08-20 13:15:26             13  \n",
            "theriley106/university-statistics                          University Statistics                       33KB  2018-01-21 23:03:55           1282  \n",
            "yamsalm/state-of-iowa-salary-book                          State of Iowa Salary Book                   17MB  2018-11-04 16:35:56             21  \n",
            "ksridevi/iowa-housing                                      iowa_housing                               179KB  2018-04-24 22:50:52             89  \n",
            "tcai534/iowadata                                           IowaData                                    85KB  2018-02-15 02:55:28             15  \n",
            "theriley106/college-common-data-sets                       College Common Data Sets                   210MB  2018-01-20 22:14:19            661  \n",
            "fivethirtyeight/fivethirtyeight-poll-of-pollsters-dataset  FiveThirtyEight Poll Of Pollsters Dataset  154KB  2019-03-26 15:05:06             11  \n"
          ],
          "name": "stdout"
        }
      ]
    },
    {
      "cell_type": "markdown",
      "metadata": {
        "id": "F-ZTLCwEDafl",
        "colab_type": "text"
      },
      "source": [
        "### List the files in the dataset."
      ]
    },
    {
      "cell_type": "code",
      "metadata": {
        "id": "1uUZOY6N3-RE",
        "colab_type": "code",
        "outputId": "4b13ff20-4d50-4cb4-c0f4-eb70e76af745",
        "colab": {
          "base_uri": "https://localhost:8080/",
          "height": 121
        }
      },
      "source": [
        "!kaggle datasets files nickptaylor/iowa-house-prices"
      ],
      "execution_count": 0,
      "outputs": [
        {
          "output_type": "stream",
          "text": [
            "Warning: Looks like you're using an outdated API Version, please consider updating (server 1.5.6 / client 1.5.4)\n",
            "name        size  creationDate         \n",
            "---------  -----  -------------------  \n",
            "test.csv   441KB  2018-02-21 22:16:19  \n",
            "train.csv  450KB  2018-02-21 22:16:19  \n"
          ],
          "name": "stdout"
        }
      ]
    },
    {
      "cell_type": "markdown",
      "metadata": {
        "id": "wYLofTZo8mOf",
        "colab_type": "text"
      },
      "source": [
        "### Downloading only a specific file from the dataset.\n",
        "Using the `-f file_name`. "
      ]
    },
    {
      "cell_type": "code",
      "metadata": {
        "id": "L2yBp-5X4VeX",
        "colab_type": "code",
        "outputId": "54ac1f4d-5870-468f-c4b1-62bd522c8c30",
        "colab": {
          "base_uri": "https://localhost:8080/",
          "height": 168
        }
      },
      "source": [
        "!kaggle datasets download nickptaylor/iowa-house-prices -f train.csv\n",
        "!ls -lh\n",
        "!rm train.csv\n",
        "print(f'After deleting the \"train.csv\" file.')\n",
        "!ls -lh"
      ],
      "execution_count": 0,
      "outputs": [
        {
          "output_type": "stream",
          "text": [
            "Downloading train.csv to /content\n",
            "\r  0% 0.00/450k [00:00<?, ?B/s]\n",
            "\r100% 450k/450k [00:00<00:00, 66.8MB/s]\n",
            "total 456K\n",
            "drwxr-xr-x 1 root root 4.0K Dec 12 16:48 sample_data\n",
            "-rw-r--r-- 1 root root 450K Dec 18 22:21 train.csv\n",
            "After deleting the \"train.csv\" file.\n",
            "total 4.0K\n",
            "drwxr-xr-x 1 root root 4.0K Dec 12 16:48 sample_data\n"
          ],
          "name": "stdout"
        }
      ]
    },
    {
      "cell_type": "markdown",
      "metadata": {
        "id": "T6Ksz9x_9UjZ",
        "colab_type": "text"
      },
      "source": [
        "###Downloading the full dataset."
      ]
    },
    {
      "cell_type": "code",
      "metadata": {
        "id": "ZAch3kwg5UG9",
        "colab_type": "code",
        "outputId": "f65f0b88-da88-467c-9bbb-dd7ac1cc73ab",
        "colab": {
          "base_uri": "https://localhost:8080/",
          "height": 118
        }
      },
      "source": [
        "!kaggle datasets download nickptaylor/iowa-house-prices\n",
        "!ls -lh"
      ],
      "execution_count": 0,
      "outputs": [
        {
          "output_type": "stream",
          "text": [
            "Downloading iowa-house-prices.zip to /content\n",
            "\r  0% 0.00/179k [00:00<?, ?B/s]\n",
            "\r100% 179k/179k [00:00<00:00, 63.0MB/s]\n",
            "total 184K\n",
            "-rw-r--r-- 1 root root 180K Dec 18 22:21 iowa-house-prices.zip\n",
            "drwxr-xr-x 1 root root 4.0K Dec 12 16:48 sample_data\n"
          ],
          "name": "stdout"
        }
      ]
    },
    {
      "cell_type": "markdown",
      "metadata": {
        "id": "DfPK7Rh39iAl",
        "colab_type": "text"
      },
      "source": [
        "### It downloaded as a zip file. We unzip and delete the zip file."
      ]
    },
    {
      "cell_type": "code",
      "metadata": {
        "id": "9O8eJ8WN5lF9",
        "colab_type": "code",
        "outputId": "fcca4e5c-7493-4359-b51a-bf2a1040e63a",
        "colab": {
          "base_uri": "https://localhost:8080/",
          "height": 134
        }
      },
      "source": [
        "!unzip iowa-house-prices.zip\n",
        "!rm iowa-house-prices.zip\n",
        "!ls -lh"
      ],
      "execution_count": 0,
      "outputs": [
        {
          "output_type": "stream",
          "text": [
            "Archive:  iowa-house-prices.zip\n",
            "  inflating: test.csv                \n",
            "  inflating: train.csv               \n",
            "total 900K\n",
            "drwxr-xr-x 1 root root 4.0K Dec 12 16:48 sample_data\n",
            "-rw-r--r-- 1 root root 441K Sep 27 17:59 test.csv\n",
            "-rw-r--r-- 1 root root 450K Sep 27 17:59 train.csv\n"
          ],
          "name": "stdout"
        }
      ]
    },
    {
      "cell_type": "markdown",
      "metadata": {
        "id": "yjrWbGhg-hhd",
        "colab_type": "text"
      },
      "source": [
        "### We delete the CSV files."
      ]
    },
    {
      "cell_type": "code",
      "metadata": {
        "id": "9ofb_8KQ5nAd",
        "colab_type": "code",
        "outputId": "58fde398-815c-4b40-9af4-4b997d45392a",
        "colab": {
          "base_uri": "https://localhost:8080/",
          "height": 50
        }
      },
      "source": [
        "!rm *.csv\n",
        "!ls -lh"
      ],
      "execution_count": 0,
      "outputs": [
        {
          "output_type": "stream",
          "text": [
            "total 4.0K\n",
            "drwxr-xr-x 1 root root 4.0K Dec 12 16:48 sample_data\n"
          ],
          "name": "stdout"
        }
      ]
    },
    {
      "cell_type": "markdown",
      "metadata": {
        "id": "vchb8x3b-trw",
        "colab_type": "text"
      },
      "source": [
        "### We can download, unzip and delete the zip file in one step.\n",
        "\n",
        "Using the `--unzip` command option."
      ]
    },
    {
      "cell_type": "code",
      "metadata": {
        "id": "1LnNTyMr5sJy",
        "colab_type": "code",
        "outputId": "4145dd10-3ca1-4fd2-c605-b181e4391fc3",
        "colab": {
          "base_uri": "https://localhost:8080/",
          "height": 134
        }
      },
      "source": [
        "!kaggle datasets download nickptaylor/iowa-house-prices --unzip\n",
        "!ls -lh"
      ],
      "execution_count": 0,
      "outputs": [
        {
          "output_type": "stream",
          "text": [
            "Downloading iowa-house-prices.zip to /content\n",
            "\r  0% 0.00/179k [00:00<?, ?B/s]\n",
            "\r100% 179k/179k [00:00<00:00, 65.5MB/s]\n",
            "total 900K\n",
            "drwxr-xr-x 1 root root 4.0K Dec 12 16:48 sample_data\n",
            "-rw-r--r-- 1 root root 441K Dec 18 22:21 test.csv\n",
            "-rw-r--r-- 1 root root 450K Dec 18 22:21 train.csv\n"
          ],
          "name": "stdout"
        }
      ]
    },
    {
      "cell_type": "code",
      "metadata": {
        "id": "dWEQzwMD50hh",
        "colab_type": "code",
        "outputId": "2eef9019-615f-4f38-9c30-bee72b3889f1",
        "colab": {
          "base_uri": "https://localhost:8080/",
          "height": 50
        }
      },
      "source": [
        "!rm *.csv\n",
        "!ls -lh"
      ],
      "execution_count": 0,
      "outputs": [
        {
          "output_type": "stream",
          "text": [
            "total 4.0K\n",
            "drwxr-xr-x 1 root root 4.0K Dec 12 16:48 sample_data\n"
          ],
          "name": "stdout"
        }
      ]
    },
    {
      "cell_type": "markdown",
      "metadata": {
        "id": "nFQxy7TgEuAQ",
        "colab_type": "text"
      },
      "source": [
        "### Installing the \"tree\" command. We will use this soon."
      ]
    },
    {
      "cell_type": "code",
      "metadata": {
        "id": "WOIspjnpE_-D",
        "colab_type": "code",
        "outputId": "596a4b6a-2417-4480-cc22-2bdfaf55df92",
        "colab": {
          "base_uri": "https://localhost:8080/",
          "height": 171
        }
      },
      "source": [
        "!apt-get install tree"
      ],
      "execution_count": 0,
      "outputs": [
        {
          "output_type": "stream",
          "text": [
            "Reading package lists... Done\n",
            "Building dependency tree       \n",
            "Reading state information... Done\n",
            "tree is already the newest version (1.7.0-5).\n",
            "The following package was automatically installed and is no longer required:\n",
            "  libnvidia-common-430\n",
            "Use 'apt autoremove' to remove it.\n",
            "0 upgraded, 0 newly installed, 0 to remove and 7 not upgraded.\n"
          ],
          "name": "stdout"
        }
      ]
    },
    {
      "cell_type": "markdown",
      "metadata": {
        "id": "IDIB7qvAAooT",
        "colab_type": "text"
      },
      "source": [
        "### Downloading the zip and unzipping to a folder.\n",
        "Using the `-p path_to_the_desired_folder` command option."
      ]
    },
    {
      "cell_type": "code",
      "metadata": {
        "id": "ZTThKBmC6QBb",
        "colab_type": "code",
        "outputId": "12ca86d2-8883-4549-9e0e-29c820bdc4d6",
        "colab": {
          "base_uri": "https://localhost:8080/",
          "height": 168
        }
      },
      "source": [
        "!kaggle datasets download nickptaylor/iowa-house-prices -p ./dataset/housing/ --unzip\n",
        "!tree -sh dataset/"
      ],
      "execution_count": 0,
      "outputs": [
        {
          "output_type": "stream",
          "text": [
            "Downloading iowa-house-prices.zip to ./dataset/housing\n",
            "\r  0% 0.00/179k [00:00<?, ?B/s]\n",
            "\r100% 179k/179k [00:00<00:00, 65.2MB/s]\n",
            "dataset/\n",
            "└── [4.0K]  housing\n",
            "    ├── [441K]  test.csv\n",
            "    └── [450K]  train.csv\n",
            "\n",
            "1 directory, 2 files\n"
          ],
          "name": "stdout"
        }
      ]
    },
    {
      "cell_type": "code",
      "metadata": {
        "id": "8zPpDRhK6YLi",
        "colab_type": "code",
        "outputId": "40a77141-c330-48fb-ff11-7e6843f0a0e0",
        "colab": {
          "base_uri": "https://localhost:8080/",
          "height": 50
        }
      },
      "source": [
        "!rm -rf dataset/\n",
        "!ls -lh"
      ],
      "execution_count": 0,
      "outputs": [
        {
          "output_type": "stream",
          "text": [
            "total 4.0K\n",
            "drwxr-xr-x 1 root root 4.0K Dec 12 16:48 sample_data\n"
          ],
          "name": "stdout"
        }
      ]
    },
    {
      "cell_type": "markdown",
      "metadata": {
        "id": "2ebDhm4OBAns",
        "colab_type": "text"
      },
      "source": [
        "### Download, unzip to a folder, delete the zip file and do everything in \"quite\" mode.\n",
        "Using the `-q` command option for quite."
      ]
    },
    {
      "cell_type": "code",
      "metadata": {
        "id": "waokGrGA_1DQ",
        "colab_type": "code",
        "colab": {}
      },
      "source": [
        "!kaggle datasets download nickptaylor/iowa-house-prices -p ./dataset/housing/ --unzip -q"
      ],
      "execution_count": 0,
      "outputs": []
    },
    {
      "cell_type": "code",
      "metadata": {
        "id": "3Ao8BWPxCgvA",
        "colab_type": "code",
        "outputId": "309449a3-5014-40d7-fb01-b1d1d9ab4707",
        "colab": {
          "base_uri": "https://localhost:8080/",
          "height": 118
        }
      },
      "source": [
        "!tree -sh dataset/"
      ],
      "execution_count": 0,
      "outputs": [
        {
          "output_type": "stream",
          "text": [
            "dataset/\n",
            "└── [4.0K]  housing\n",
            "    ├── [441K]  test.csv\n",
            "    └── [450K]  train.csv\n",
            "\n",
            "1 directory, 2 files\n"
          ],
          "name": "stdout"
        }
      ]
    }
  ]
}