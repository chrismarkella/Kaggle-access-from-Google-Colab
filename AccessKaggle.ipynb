{
  "nbformat": 4,
  "nbformat_minor": 0,
  "metadata": {
    "colab": {
      "name": "AccessKaggle.ipynb",
      "provenance": [],
      "include_colab_link": true
    },
    "kernelspec": {
      "name": "python3",
      "display_name": "Python 3"
    }
  },
  "cells": [
    {
      "cell_type": "markdown",
      "metadata": {
        "id": "view-in-github",
        "colab_type": "text"
      },
      "source": [
        "<a href=\"https://colab.research.google.com/github/chrismarkella/Kaggle-access-from-Google-Colab/blob/master/AccessKaggle.ipynb\" target=\"_parent\"><img src=\"https://colab.research.google.com/assets/colab-badge.svg\" alt=\"Open In Colab\"/></a>"
      ]
    },
    {
      "cell_type": "code",
      "metadata": {
        "id": "sLBrRjpSnfaC",
        "colab_type": "code",
        "colab": {}
      },
      "source": [
        "import os\n",
        "\n",
        "import numpy as np\n",
        "import pandas as pd\n",
        "\n",
        "from getpass import getpass"
      ],
      "execution_count": 0,
      "outputs": []
    },
    {
      "cell_type": "code",
      "metadata": {
        "id": "VKDyUY9znoXy",
        "colab_type": "code",
        "colab": {
          "base_uri": "https://localhost:8080/",
          "height": 474
        },
        "outputId": "3df7228a-0bd1-4b54-8ff8-53300e5fa216"
      },
      "source": [
        "def access_kaggle():\n",
        "    user = getpass(prompt='Kaggle username: ')\n",
        "    key  = getpass(prompt='Kaggle API key: ')\n",
        "\n",
        "    KAGGLE_ROOT = os.path.join('/root', '.kaggle')\n",
        "    KAGGLE_PATH = os.path.join(KAGGLE_ROOT, 'kaggle.json')\n",
        "\n",
        "    if '.kaggle' not in os.listdir(path='/root'):\n",
        "        !mkdir $KAGGLE_ROOT\n",
        "        !touch $KAGGLE_PATH\n",
        "        !chmod 666 $KAGGLE_PATH\n",
        "        with open(KAGGLE_PATH, mode='w') as f:\n",
        "            f.write('{\"username\":\"%s\", \"key\":\"%s\"}' %(user, key))\n",
        "            f.close()\n",
        "        !chmod 600 $KAGGLE_PATH\n",
        "        del user\n",
        "        del key\n",
        "        success_msg = \"Kaggle is successfully set up. Good to go.\"\n",
        "        print(f'{success_msg}')\n",
        "\n",
        "access_kaggle()\n",
        "\n",
        "!kaggle datasets list -s iowa\n"
      ],
      "execution_count": 61,
      "outputs": [
        {
          "output_type": "stream",
          "text": [
            "Kaggle username: ··········\n",
            "Kaggle API key: ··········\n",
            "Kaggle is successfully set up. Good to go.\n",
            "Warning: Looks like you're using an outdated API Version, please consider updating (server 1.5.6 / client 1.5.4)\n",
            "ref                                                        title                                       size  lastUpdated          downloadCount  \n",
            "---------------------------------------------------------  -----------------------------------------  -----  -------------------  -------------  \n",
            "residentmario/iowa-liquor-sales                            Iowa Liquor Sales                          731MB  2017-11-14 19:59:36           4500  \n",
            "nickptaylor/iowa-house-prices                              Iowa House Prices                          179KB  2018-02-21 22:16:19            713  \n",
            "naberhausj/ford-cars-in-iowa                               Ford Cars in Iowa                            3MB  2018-12-06 23:08:05             97  \n",
            "emurphy/ames-iowa-housing-prices-dataset                   Ames Iowa Housing Prices Dataset           190KB  2018-04-25 14:54:54            261  \n",
            "firmament11/iowa-farm-data                                 IOWA Farm Data                              13KB  2019-04-24 01:31:16             40  \n",
            "itsmuriuki/test-data                                       Predicting House Prices                    179KB  2018-03-05 16:19:15            274  \n",
            "shmoking02/drunk-in-ames-iowa                              Drunk In Ames, Iowa                         11KB  2019-12-14 16:04:37              2  \n",
            "dengjianbo/housing-price-in-iowa                           housing price in iowa                       94KB  2017-10-22 02:26:20            137  \n",
            "ksridevi/iowahousing                                       iowa-housing                               179KB  2018-04-24 22:46:18             42  \n",
            "mgmurray01/seizuredata                                     Seizure Data                                10KB  2018-05-14 18:09:45            230  \n",
            "jleibow27/fried-food-consumption-and-mortality             Fried food consumption and mortality         4KB  2019-08-02 19:28:52            472  \n",
            "rtatman/188-million-us-wildfires                           1.88 Million US Wildfires                  168MB  2017-09-13 22:41:53           7628  \n",
            "openaddresses/openaddresses-us-midwest                     OpenAddresses - U.S. Midwest               657MB  2017-08-01 23:08:28            291  \n",
            "snehachalla/iowa-house-prices                              iowa_house_prices                          179KB  2019-08-20 13:15:26             13  \n",
            "theriley106/university-statistics                          University Statistics                       33KB  2018-01-21 23:03:55           1282  \n",
            "yamsalm/state-of-iowa-salary-book                          State of Iowa Salary Book                   17MB  2018-11-04 16:35:56             21  \n",
            "ksridevi/iowa-housing                                      iowa_housing                               179KB  2018-04-24 22:50:52             89  \n",
            "tcai534/iowadata                                           IowaData                                    85KB  2018-02-15 02:55:28             15  \n",
            "theriley106/college-common-data-sets                       College Common Data Sets                   210MB  2018-01-20 22:14:19            661  \n",
            "fivethirtyeight/fivethirtyeight-poll-of-pollsters-dataset  FiveThirtyEight Poll Of Pollsters Dataset  154KB  2019-03-26 15:05:06             11  \n"
          ],
          "name": "stdout"
        }
      ]
    },
    {
      "cell_type": "code",
      "metadata": {
        "id": "tCTQR03gxPR7",
        "colab_type": "code",
        "colab": {}
      },
      "source": [
        ""
      ],
      "execution_count": 0,
      "outputs": []
    }
  ]
}