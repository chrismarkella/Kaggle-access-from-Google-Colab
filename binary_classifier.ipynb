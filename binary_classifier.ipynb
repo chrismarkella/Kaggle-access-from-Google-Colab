{
  "nbformat": 4,
  "nbformat_minor": 0,
  "metadata": {
    "colab": {
      "name": "binary_classifier.ipynb",
      "provenance": [],
      "authorship_tag": "ABX9TyODYTYFA1UNL1EkeUk7sluD",
      "include_colab_link": true
    },
    "kernelspec": {
      "name": "python3",
      "display_name": "Python 3"
    }
  },
  "cells": [
    {
      "cell_type": "markdown",
      "metadata": {
        "id": "view-in-github",
        "colab_type": "text"
      },
      "source": [
        "<a href=\"https://colab.research.google.com/github/chrismarkella/Kaggle-access-from-Google-Colab/blob/master/binary_classifier.ipynb\" target=\"_parent\"><img src=\"https://colab.research.google.com/assets/colab-badge.svg\" alt=\"Open In Colab\"/></a>"
      ]
    },
    {
      "cell_type": "code",
      "metadata": {
        "id": "gVisv-GQnCn7",
        "colab_type": "code",
        "colab": {}
      },
      "source": [
        "import numpy as np\n",
        "\n",
        "from sklearn.metrics import confusion_matrix"
      ],
      "execution_count": 0,
      "outputs": []
    },
    {
      "cell_type": "markdown",
      "metadata": {
        "id": "-OR3K3GWhYtQ",
        "colab_type": "text"
      },
      "source": [
        "###Cats or dogs\n",
        "- two classes: `cat` and `dog`(not cat)\n",
        "- `actual` values vs `predicted` values"
      ]
    },
    {
      "cell_type": "code",
      "metadata": {
        "id": "KYXmU8Ug7px5",
        "colab_type": "code",
        "colab": {
          "base_uri": "https://localhost:8080/",
          "height": 52
        },
        "outputId": "b8f441db-64be-478d-c886-cf73402e7fa0"
      },
      "source": [
        "actual_animals =    np.array(['cat', 'cat', 'dog', 'cat', 'dog', 'dog'])\n",
        "predicted_animals = np.array(['cat', 'dog', 'cat', 'cat', 'dog', 'cat'])\n",
        "\n",
        "actual_cat = (actual_animals == 'cat')\n",
        "predicted_cat = (predicted_animals == 'cat')\n",
        "\n",
        "for _cat_set in (actual_cat, predicted_cat):\n",
        "    print(_cat_set)"
      ],
      "execution_count": 3,
      "outputs": [
        {
          "output_type": "stream",
          "text": [
            "[ True  True False  True False False]\n",
            "[ True False  True  True False  True]\n"
          ],
          "name": "stdout"
        }
      ]
    },
    {
      "cell_type": "code",
      "metadata": {
        "id": "WR6lRqTj8ut7",
        "colab_type": "code",
        "colab": {
          "base_uri": "https://localhost:8080/",
          "height": 52
        },
        "outputId": "a024bafc-10f1-482e-e8c6-4593fcb2484b"
      },
      "source": [
        "confusion_matrix(actual_cat, predicted_cat)"
      ],
      "execution_count": 4,
      "outputs": [
        {
          "output_type": "execute_result",
          "data": {
            "text/plain": [
              "array([[1, 2],\n",
              "       [1, 2]])"
            ]
          },
          "metadata": {
            "tags": []
          },
          "execution_count": 4
        }
      ]
    },
    {
      "cell_type": "markdown",
      "metadata": {
        "id": "kXbV_5PxiJGW",
        "colab_type": "text"
      },
      "source": [
        "###Fives and the rest\n",
        "- two classes: `fives` and `not fives`(0,1,2,3,4,6,7,8,9)\n"
      ]
    },
    {
      "cell_type": "code",
      "metadata": {
        "id": "-sIUk4JMnHcO",
        "colab_type": "code",
        "colab": {
          "base_uri": "https://localhost:8080/",
          "height": 52
        },
        "outputId": "2a65e5f0-4f65-4612-bbc5-4f5509c366ac"
      },
      "source": [
        "actual =     np.array([8, 7, 3, 9, 2, 5, 5, 6, 5, 5, 5])\n",
        "predicted =  np.array([6, 2, 4, 1, 1, 2, 3, 5, 5, 5, 5])\n",
        "\n",
        "actual_five = (actual == 5)\n",
        "predicted_five = (predicted == 5)\n",
        "\n",
        "confusion_matrix(actual_five, predicted_five)"
      ],
      "execution_count": 5,
      "outputs": [
        {
          "output_type": "execute_result",
          "data": {
            "text/plain": [
              "array([[5, 1],\n",
              "       [2, 3]])"
            ]
          },
          "metadata": {
            "tags": []
          },
          "execution_count": 5
        }
      ]
    },
    {
      "cell_type": "markdown",
      "metadata": {
        "id": "WmfmZMfvie3E",
        "colab_type": "text"
      },
      "source": [
        "####y-scores\n",
        "- the model assigns a score(`y-score`) to each elements during the training\n",
        "- if this `y-score` is at least as great as the `threshold` then that element will be predicted as a `five`."
      ]
    },
    {
      "cell_type": "code",
      "metadata": {
        "id": "3qi0X2Ra6gka",
        "colab_type": "code",
        "colab": {}
      },
      "source": [
        "y_scores =  np.array([10,11,12,15,16,23,24,26,51,52,56])\n",
        "\n",
        "threshold = 27"
      ],
      "execution_count": 0,
      "outputs": []
    },
    {
      "cell_type": "code",
      "metadata": {
        "id": "Z4w5Lo21rhae",
        "colab_type": "code",
        "colab": {}
      },
      "source": [
        "from sklearn.metrics import accuracy_score, precision_score, recall_score\n"
      ],
      "execution_count": 0,
      "outputs": []
    },
    {
      "cell_type": "code",
      "metadata": {
        "id": "ZYMcwYDSsSuQ",
        "colab_type": "code",
        "colab": {
          "base_uri": "https://localhost:8080/",
          "height": 139
        },
        "outputId": "00824712-397c-45da-d83e-a6b0ea914eb2"
      },
      "source": [
        "y_train_5 = (actual == 5)\n",
        "print(f'threshold precision recall') \n",
        "\n",
        "for threshold in range(0,60,10):\n",
        "    y_train_pred = (y_scores >= threshold)\n",
        "\n",
        "    precision = precision_score(y_true=y_train_5, y_pred=y_train_pred)\n",
        "    recall = recall_score(y_true=y_train_5, y_pred=y_train_pred)\n",
        "    precision_format = f'{precision:>4.0%}'\n",
        "    recall_format = f'{recall:>4.0%}'\n",
        "    print(f'{threshold:^10}{precision_format:^10}{recall_format:^6}')"
      ],
      "execution_count": 10,
      "outputs": [
        {
          "output_type": "stream",
          "text": [
            "threshold precision recall\n",
            "    0         45%    100% \n",
            "    10        45%    100% \n",
            "    20        83%    100% \n",
            "    30       100%     60% \n",
            "    40       100%     60% \n",
            "    50       100%     60% \n"
          ],
          "name": "stdout"
        }
      ]
    }
  ]
}