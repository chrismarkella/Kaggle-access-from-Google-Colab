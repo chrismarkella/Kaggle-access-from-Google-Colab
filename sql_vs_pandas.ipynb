{
  "nbformat": 4,
  "nbformat_minor": 0,
  "metadata": {
    "colab": {
      "name": "sql_vs_pandas.ipynb",
      "provenance": [],
      "toc_visible": true,
      "authorship_tag": "ABX9TyME5wxSRITfzYHGl5P3pMqf",
      "include_colab_link": true
    },
    "kernelspec": {
      "name": "python3",
      "display_name": "Python 3"
    }
  },
  "cells": [
    {
      "cell_type": "markdown",
      "metadata": {
        "id": "view-in-github",
        "colab_type": "text"
      },
      "source": [
        "<a href=\"https://colab.research.google.com/github/chrismarkella/Kaggle-access-from-Google-Colab/blob/master/sql_vs_pandas.ipynb\" target=\"_parent\"><img src=\"https://colab.research.google.com/assets/colab-badge.svg\" alt=\"Open In Colab\"/></a>"
      ]
    },
    {
      "cell_type": "code",
      "metadata": {
        "id": "ign3Eoitcmuf",
        "colab_type": "code",
        "colab": {}
      },
      "source": [
        "import os\n",
        "\n",
        "import numpy as np\n",
        "import pandas as pd\n",
        "\n",
        "from getpass import getpass "
      ],
      "execution_count": 0,
      "outputs": []
    },
    {
      "cell_type": "code",
      "metadata": {
        "id": "hBE93hbhcohi",
        "colab_type": "code",
        "outputId": "b4fd2b91-6845-492e-bef7-7e25a6cce224",
        "colab": {
          "base_uri": "https://localhost:8080/",
          "height": 69
        }
      },
      "source": [
        "def access_kaggle():\n",
        "    \"\"\"\n",
        "    Access Kaggle from Google Colab.\n",
        "    If the /root/.kaggle does not exist then prompt for\n",
        "    the username and for the Kaggle API key.\n",
        "    Creates the kaggle.json access file in the /root/.kaggle/ folder. \n",
        "    \"\"\"\n",
        "    KAGGLE_ROOT = os.path.join('/root', '.kaggle')\n",
        "    KAGGLE_PATH = os.path.join(KAGGLE_ROOT, 'kaggle.json')\n",
        "\n",
        "    if '.kaggle' not in os.listdir(path='/root'):\n",
        "        user = getpass(prompt='Kaggle username: ')\n",
        "        key  = getpass(prompt='Kaggle API key: ')\n",
        "        \n",
        "        !mkdir $KAGGLE_ROOT\n",
        "        !touch $KAGGLE_PATH\n",
        "        !chmod 666 $KAGGLE_PATH\n",
        "        with open(KAGGLE_PATH, mode='w') as f:\n",
        "            f.write('{\"username\":\"%s\", \"key\":\"%s\"}' %(user, key))\n",
        "            f.close()\n",
        "        !chmod 600 $KAGGLE_PATH\n",
        "        del user\n",
        "        del key\n",
        "        success_msg = \"Kaggle is successfully set up. Good to go.\"\n",
        "        print(f'{success_msg}')\n",
        "\n",
        "access_kaggle()\n"
      ],
      "execution_count": 2,
      "outputs": [
        {
          "output_type": "stream",
          "text": [
            "Kaggle username: ··········\n",
            "Kaggle API key: ··········\n",
            "Kaggle is successfully set up. Good to go.\n"
          ],
          "name": "stdout"
        }
      ]
    },
    {
      "cell_type": "code",
      "metadata": {
        "id": "0U1OaNsrcrsE",
        "colab_type": "code",
        "outputId": "354e956b-e4e6-4ebc-e217-8131f144ed9c",
        "colab": {
          "base_uri": "https://localhost:8080/",
          "height": 447
        }
      },
      "source": [
        "!kaggle datasets download fernandol/countries-of-the-world --unzip\n",
        "!mv countries\\ of\\ the\\ world.csv countries_of_the_world.csv\n",
        "\n",
        "df = pd.read_csv('countries_of_the_world.csv', sep=',')\n",
        "df.head()"
      ],
      "execution_count": 3,
      "outputs": [
        {
          "output_type": "stream",
          "text": [
            "Downloading countries-of-the-world.zip to /content\n",
            "\r  0% 0.00/13.4k [00:00<?, ?B/s]\n",
            "\r100% 13.4k/13.4k [00:00<00:00, 11.9MB/s]\n"
          ],
          "name": "stdout"
        },
        {
          "output_type": "execute_result",
          "data": {
            "text/html": [
              "<div>\n",
              "<style scoped>\n",
              "    .dataframe tbody tr th:only-of-type {\n",
              "        vertical-align: middle;\n",
              "    }\n",
              "\n",
              "    .dataframe tbody tr th {\n",
              "        vertical-align: top;\n",
              "    }\n",
              "\n",
              "    .dataframe thead th {\n",
              "        text-align: right;\n",
              "    }\n",
              "</style>\n",
              "<table border=\"1\" class=\"dataframe\">\n",
              "  <thead>\n",
              "    <tr style=\"text-align: right;\">\n",
              "      <th></th>\n",
              "      <th>Country</th>\n",
              "      <th>Region</th>\n",
              "      <th>Population</th>\n",
              "      <th>Area (sq. mi.)</th>\n",
              "      <th>Pop. Density (per sq. mi.)</th>\n",
              "      <th>Coastline (coast/area ratio)</th>\n",
              "      <th>Net migration</th>\n",
              "      <th>Infant mortality (per 1000 births)</th>\n",
              "      <th>GDP ($ per capita)</th>\n",
              "      <th>Literacy (%)</th>\n",
              "      <th>Phones (per 1000)</th>\n",
              "      <th>Arable (%)</th>\n",
              "      <th>Crops (%)</th>\n",
              "      <th>Other (%)</th>\n",
              "      <th>Climate</th>\n",
              "      <th>Birthrate</th>\n",
              "      <th>Deathrate</th>\n",
              "      <th>Agriculture</th>\n",
              "      <th>Industry</th>\n",
              "      <th>Service</th>\n",
              "    </tr>\n",
              "  </thead>\n",
              "  <tbody>\n",
              "    <tr>\n",
              "      <th>0</th>\n",
              "      <td>Afghanistan</td>\n",
              "      <td>ASIA (EX. NEAR EAST)</td>\n",
              "      <td>31056997</td>\n",
              "      <td>647500</td>\n",
              "      <td>48,0</td>\n",
              "      <td>0,00</td>\n",
              "      <td>23,06</td>\n",
              "      <td>163,07</td>\n",
              "      <td>700.0</td>\n",
              "      <td>36,0</td>\n",
              "      <td>3,2</td>\n",
              "      <td>12,13</td>\n",
              "      <td>0,22</td>\n",
              "      <td>87,65</td>\n",
              "      <td>1</td>\n",
              "      <td>46,6</td>\n",
              "      <td>20,34</td>\n",
              "      <td>0,38</td>\n",
              "      <td>0,24</td>\n",
              "      <td>0,38</td>\n",
              "    </tr>\n",
              "    <tr>\n",
              "      <th>1</th>\n",
              "      <td>Albania</td>\n",
              "      <td>EASTERN EUROPE</td>\n",
              "      <td>3581655</td>\n",
              "      <td>28748</td>\n",
              "      <td>124,6</td>\n",
              "      <td>1,26</td>\n",
              "      <td>-4,93</td>\n",
              "      <td>21,52</td>\n",
              "      <td>4500.0</td>\n",
              "      <td>86,5</td>\n",
              "      <td>71,2</td>\n",
              "      <td>21,09</td>\n",
              "      <td>4,42</td>\n",
              "      <td>74,49</td>\n",
              "      <td>3</td>\n",
              "      <td>15,11</td>\n",
              "      <td>5,22</td>\n",
              "      <td>0,232</td>\n",
              "      <td>0,188</td>\n",
              "      <td>0,579</td>\n",
              "    </tr>\n",
              "    <tr>\n",
              "      <th>2</th>\n",
              "      <td>Algeria</td>\n",
              "      <td>NORTHERN AFRICA</td>\n",
              "      <td>32930091</td>\n",
              "      <td>2381740</td>\n",
              "      <td>13,8</td>\n",
              "      <td>0,04</td>\n",
              "      <td>-0,39</td>\n",
              "      <td>31</td>\n",
              "      <td>6000.0</td>\n",
              "      <td>70,0</td>\n",
              "      <td>78,1</td>\n",
              "      <td>3,22</td>\n",
              "      <td>0,25</td>\n",
              "      <td>96,53</td>\n",
              "      <td>1</td>\n",
              "      <td>17,14</td>\n",
              "      <td>4,61</td>\n",
              "      <td>0,101</td>\n",
              "      <td>0,6</td>\n",
              "      <td>0,298</td>\n",
              "    </tr>\n",
              "    <tr>\n",
              "      <th>3</th>\n",
              "      <td>American Samoa</td>\n",
              "      <td>OCEANIA</td>\n",
              "      <td>57794</td>\n",
              "      <td>199</td>\n",
              "      <td>290,4</td>\n",
              "      <td>58,29</td>\n",
              "      <td>-20,71</td>\n",
              "      <td>9,27</td>\n",
              "      <td>8000.0</td>\n",
              "      <td>97,0</td>\n",
              "      <td>259,5</td>\n",
              "      <td>10</td>\n",
              "      <td>15</td>\n",
              "      <td>75</td>\n",
              "      <td>2</td>\n",
              "      <td>22,46</td>\n",
              "      <td>3,27</td>\n",
              "      <td>NaN</td>\n",
              "      <td>NaN</td>\n",
              "      <td>NaN</td>\n",
              "    </tr>\n",
              "    <tr>\n",
              "      <th>4</th>\n",
              "      <td>Andorra</td>\n",
              "      <td>WESTERN EUROPE</td>\n",
              "      <td>71201</td>\n",
              "      <td>468</td>\n",
              "      <td>152,1</td>\n",
              "      <td>0,00</td>\n",
              "      <td>6,6</td>\n",
              "      <td>4,05</td>\n",
              "      <td>19000.0</td>\n",
              "      <td>100,0</td>\n",
              "      <td>497,2</td>\n",
              "      <td>2,22</td>\n",
              "      <td>0</td>\n",
              "      <td>97,78</td>\n",
              "      <td>3</td>\n",
              "      <td>8,71</td>\n",
              "      <td>6,25</td>\n",
              "      <td>NaN</td>\n",
              "      <td>NaN</td>\n",
              "      <td>NaN</td>\n",
              "    </tr>\n",
              "  </tbody>\n",
              "</table>\n",
              "</div>"
            ],
            "text/plain": [
              "           Country                               Region  ...  Industry  Service\n",
              "0     Afghanistan         ASIA (EX. NEAR EAST)           ...      0,24     0,38\n",
              "1         Albania   EASTERN EUROPE                       ...     0,188    0,579\n",
              "2         Algeria   NORTHERN AFRICA                      ...       0,6    0,298\n",
              "3  American Samoa   OCEANIA                              ...       NaN      NaN\n",
              "4         Andorra   WESTERN EUROPE                       ...       NaN      NaN\n",
              "\n",
              "[5 rows x 20 columns]"
            ]
          },
          "metadata": {
            "tags": []
          },
          "execution_count": 3
        }
      ]
    },
    {
      "cell_type": "code",
      "metadata": {
        "id": "dx_TVWddeFW8",
        "colab_type": "code",
        "colab": {
          "base_uri": "https://localhost:8080/",
          "height": 35
        },
        "outputId": "8267a2dc-4989-490c-9b44-ab5304ac35ba"
      },
      "source": [
        "df.shape"
      ],
      "execution_count": 4,
      "outputs": [
        {
          "output_type": "execute_result",
          "data": {
            "text/plain": [
              "(227, 20)"
            ]
          },
          "metadata": {
            "tags": []
          },
          "execution_count": 4
        }
      ]
    },
    {
      "cell_type": "code",
      "metadata": {
        "id": "5WF8ALmpetch",
        "colab_type": "code",
        "colab": {
          "base_uri": "https://localhost:8080/",
          "height": 159
        },
        "outputId": "96c73946-6625-44e1-a3ec-07d2672d9355"
      },
      "source": [
        "df.columns"
      ],
      "execution_count": 5,
      "outputs": [
        {
          "output_type": "execute_result",
          "data": {
            "text/plain": [
              "Index(['Country', 'Region', 'Population', 'Area (sq. mi.)',\n",
              "       'Pop. Density (per sq. mi.)', 'Coastline (coast/area ratio)',\n",
              "       'Net migration', 'Infant mortality (per 1000 births)',\n",
              "       'GDP ($ per capita)', 'Literacy (%)', 'Phones (per 1000)', 'Arable (%)',\n",
              "       'Crops (%)', 'Other (%)', 'Climate', 'Birthrate', 'Deathrate',\n",
              "       'Agriculture', 'Industry', 'Service'],\n",
              "      dtype='object')"
            ]
          },
          "metadata": {
            "tags": []
          },
          "execution_count": 5
        }
      ]
    },
    {
      "cell_type": "code",
      "metadata": {
        "id": "Gc4nK4q5ewdA",
        "colab_type": "code",
        "colab": {
          "base_uri": "https://localhost:8080/",
          "height": 159
        },
        "outputId": "6df9d5cb-b7b8-4597-e214-e5ef9bd65d93"
      },
      "source": [
        "df.columns = df.columns.str.strip().str.lower()\n",
        "df.columns"
      ],
      "execution_count": 7,
      "outputs": [
        {
          "output_type": "execute_result",
          "data": {
            "text/plain": [
              "Index(['country', 'region', 'population', 'area (sq. mi.)',\n",
              "       'pop. density (per sq. mi.)', 'coastline (coast/area ratio)',\n",
              "       'net migration', 'infant mortality (per 1000 births)',\n",
              "       'gdp ($ per capita)', 'literacy (%)', 'phones (per 1000)', 'arable (%)',\n",
              "       'crops (%)', 'other (%)', 'climate', 'birthrate', 'deathrate',\n",
              "       'agriculture', 'industry', 'service'],\n",
              "      dtype='object')"
            ]
          },
          "metadata": {
            "tags": []
          },
          "execution_count": 7
        }
      ]
    },
    {
      "cell_type": "code",
      "metadata": {
        "id": "xdnIIukte73A",
        "colab_type": "code",
        "colab": {
          "base_uri": "https://localhost:8080/",
          "height": 124
        },
        "outputId": "70c1d267-cf1c-47a5-c88d-7d6e96134c7c"
      },
      "source": [
        "column_name_dict = {\n",
        "    'area (sq. mi.)':'area',\n",
        "    'pop. density (per sq. mi.)':'pop_density',\n",
        "    'coastline (coast/area ratio)':'coastline',\n",
        "    'infant mortality (per 1000 births)':'infant_mortality',\n",
        "    'gdp ($ per capita)':'gdp_per_capita',\n",
        "    'literacy (%)':'literacy',\n",
        "    'phones (per 1000)':'phones',\n",
        "    'arable (%)':'arable',\n",
        "    'crops (%)':'crops',\n",
        "    'other (%)':'other',\n",
        "}\n",
        "\n",
        "df.rename(columns=column_name_dict, inplace=True)\n",
        "df.columns"
      ],
      "execution_count": 9,
      "outputs": [
        {
          "output_type": "execute_result",
          "data": {
            "text/plain": [
              "Index(['country', 'region', 'population', 'area', 'pop_density', 'coastline',\n",
              "       'net migration', 'infant_mortality', 'gdp_per_capita', 'literacy',\n",
              "       'phones', 'arable', 'crops', 'other', 'climate', 'birthrate',\n",
              "       'deathrate', 'agriculture', 'industry', 'service'],\n",
              "      dtype='object')"
            ]
          },
          "metadata": {
            "tags": []
          },
          "execution_count": 9
        }
      ]
    },
    {
      "cell_type": "code",
      "metadata": {
        "id": "EchjtlHRgOmJ",
        "colab_type": "code",
        "colab": {
          "base_uri": "https://localhost:8080/",
          "height": 124
        },
        "outputId": "7a92ae23-e21f-4ae0-9def-fa878852e2db"
      },
      "source": [
        "df.columns = df.columns.map(lambda c: '_'.join(c.split()))\n",
        "df.columns"
      ],
      "execution_count": 11,
      "outputs": [
        {
          "output_type": "execute_result",
          "data": {
            "text/plain": [
              "Index(['country', 'region', 'population', 'area', 'pop_density', 'coastline',\n",
              "       'net_migration', 'infant_mortality', 'gdp_per_capita', 'literacy',\n",
              "       'phones', 'arable', 'crops', 'other', 'climate', 'birthrate',\n",
              "       'deathrate', 'agriculture', 'industry', 'service'],\n",
              "      dtype='object')"
            ]
          },
          "metadata": {
            "tags": []
          },
          "execution_count": 11
        }
      ]
    },
    {
      "cell_type": "markdown",
      "metadata": {
        "id": "CStFWPhxkQZn",
        "colab_type": "text"
      },
      "source": [
        "##SELECT"
      ]
    },
    {
      "cell_type": "markdown",
      "metadata": {
        "id": "Gz95-8yMhLPj",
        "colab_type": "text"
      },
      "source": [
        "\n",
        "###SELECT 1\n",
        "```SQL\n",
        "SELECT population FROM world\n",
        "  WHERE name = 'Germany'\n",
        "```\n",
        "\n"
      ]
    },
    {
      "cell_type": "code",
      "metadata": {
        "id": "MML5vj1zgkj4",
        "colab_type": "code",
        "colab": {
          "base_uri": "https://localhost:8080/",
          "height": 35
        },
        "outputId": "b56f2903-19e6-4b3c-fcd7-b65c3b6214f4"
      },
      "source": [
        "filt_germany = (df.country == 'Germany')\n",
        "df.loc[filt_germany, 'population']"
      ],
      "execution_count": 12,
      "outputs": [
        {
          "output_type": "execute_result",
          "data": {
            "text/plain": [
              "Series([], Name: population, dtype: int64)"
            ]
          },
          "metadata": {
            "tags": []
          },
          "execution_count": 12
        }
      ]
    },
    {
      "cell_type": "code",
      "metadata": {
        "id": "iZsfc7lehmXb",
        "colab_type": "code",
        "colab": {
          "base_uri": "https://localhost:8080/",
          "height": 69
        },
        "outputId": "d10101e8-920a-4446-f46b-bcc4f4fb1aae"
      },
      "source": [
        "df.country.unique()[:10]"
      ],
      "execution_count": 14,
      "outputs": [
        {
          "output_type": "execute_result",
          "data": {
            "text/plain": [
              "array(['Afghanistan ', 'Albania ', 'Algeria ', 'American Samoa ',\n",
              "       'Andorra ', 'Angola ', 'Anguilla ', 'Antigua & Barbuda ',\n",
              "       'Argentina ', 'Armenia '], dtype=object)"
            ]
          },
          "metadata": {
            "tags": []
          },
          "execution_count": 14
        }
      ]
    },
    {
      "cell_type": "code",
      "metadata": {
        "id": "dzqV0D9JhsgC",
        "colab_type": "code",
        "colab": {
          "base_uri": "https://localhost:8080/",
          "height": 69
        },
        "outputId": "aa6eada0-d2b4-45f4-8913-537f72613b9f"
      },
      "source": [
        "df.country.str.strip().unique()[:10]"
      ],
      "execution_count": 16,
      "outputs": [
        {
          "output_type": "execute_result",
          "data": {
            "text/plain": [
              "array(['Afghanistan', 'Albania', 'Algeria', 'American Samoa', 'Andorra',\n",
              "       'Angola', 'Anguilla', 'Antigua & Barbuda', 'Argentina', 'Armenia'],\n",
              "      dtype=object)"
            ]
          },
          "metadata": {
            "tags": []
          },
          "execution_count": 16
        }
      ]
    },
    {
      "cell_type": "code",
      "metadata": {
        "id": "pPzCnASAiEoi",
        "colab_type": "code",
        "colab": {
          "base_uri": "https://localhost:8080/",
          "height": 52
        },
        "outputId": "46210879-ddcc-48ca-f7a0-1951a040a109"
      },
      "source": [
        "df.country = df.country.str.strip()\n",
        "df.country.unique()[:5]"
      ],
      "execution_count": 17,
      "outputs": [
        {
          "output_type": "execute_result",
          "data": {
            "text/plain": [
              "array(['Afghanistan', 'Albania', 'Algeria', 'American Samoa', 'Andorra'],\n",
              "      dtype=object)"
            ]
          },
          "metadata": {
            "tags": []
          },
          "execution_count": 17
        }
      ]
    },
    {
      "cell_type": "code",
      "metadata": {
        "id": "SMBQvIGUiV3v",
        "colab_type": "code",
        "colab": {
          "base_uri": "https://localhost:8080/",
          "height": 52
        },
        "outputId": "c915302f-9fb5-4e57-f10b-8098ab4020f0"
      },
      "source": [
        "filt_germany = (df.country == 'Germany')\n",
        "df.loc[filt_germany, 'population']"
      ],
      "execution_count": 18,
      "outputs": [
        {
          "output_type": "execute_result",
          "data": {
            "text/plain": [
              "76    82422299\n",
              "Name: population, dtype: int64"
            ]
          },
          "metadata": {
            "tags": []
          },
          "execution_count": 18
        }
      ]
    },
    {
      "cell_type": "markdown",
      "metadata": {
        "id": "4_hf3u68ixG2",
        "colab_type": "text"
      },
      "source": [
        "###SELECT 2\n",
        "\n",
        "\n",
        "```SQL\n",
        "SELECT name, population FROM world\n",
        "  WHERE name IN ('Brazil', 'Russia', 'India', 'China');\n",
        "```\n",
        "\n"
      ]
    },
    {
      "cell_type": "code",
      "metadata": {
        "id": "6efQB3hyihX_",
        "colab_type": "code",
        "colab": {
          "base_uri": "https://localhost:8080/",
          "height": 171
        },
        "outputId": "79eefd9d-f9fd-4d81-b1b5-558aca349c11"
      },
      "source": [
        "selected_countries = [\n",
        "    'Brazil',\n",
        "    'Russia',\n",
        "    'India',\n",
        "    'China',\n",
        "]\n",
        "filt_country = (df.country.isin(selected_countries))\n",
        "\n",
        "df.loc[filt_country, ['country', 'population']]"
      ],
      "execution_count": 19,
      "outputs": [
        {
          "output_type": "execute_result",
          "data": {
            "text/html": [
              "<div>\n",
              "<style scoped>\n",
              "    .dataframe tbody tr th:only-of-type {\n",
              "        vertical-align: middle;\n",
              "    }\n",
              "\n",
              "    .dataframe tbody tr th {\n",
              "        vertical-align: top;\n",
              "    }\n",
              "\n",
              "    .dataframe thead th {\n",
              "        text-align: right;\n",
              "    }\n",
              "</style>\n",
              "<table border=\"1\" class=\"dataframe\">\n",
              "  <thead>\n",
              "    <tr style=\"text-align: right;\">\n",
              "      <th></th>\n",
              "      <th>country</th>\n",
              "      <th>population</th>\n",
              "    </tr>\n",
              "  </thead>\n",
              "  <tbody>\n",
              "    <tr>\n",
              "      <th>27</th>\n",
              "      <td>Brazil</td>\n",
              "      <td>188078227</td>\n",
              "    </tr>\n",
              "    <tr>\n",
              "      <th>42</th>\n",
              "      <td>China</td>\n",
              "      <td>1313973713</td>\n",
              "    </tr>\n",
              "    <tr>\n",
              "      <th>94</th>\n",
              "      <td>India</td>\n",
              "      <td>1095351995</td>\n",
              "    </tr>\n",
              "    <tr>\n",
              "      <th>169</th>\n",
              "      <td>Russia</td>\n",
              "      <td>142893540</td>\n",
              "    </tr>\n",
              "  </tbody>\n",
              "</table>\n",
              "</div>"
            ],
            "text/plain": [
              "    country  population\n",
              "27   Brazil   188078227\n",
              "42    China  1313973713\n",
              "94    India  1095351995\n",
              "169  Russia   142893540"
            ]
          },
          "metadata": {
            "tags": []
          },
          "execution_count": 19
        }
      ]
    },
    {
      "cell_type": "markdown",
      "metadata": {
        "id": "stBP5SqRjkEi",
        "colab_type": "text"
      },
      "source": [
        "###SELECT 3\n",
        "\n",
        "\n",
        "```SQL\n",
        "SELECT name, area FROM world\n",
        "  WHERE area BETWEEN 250000 AND 300000\n",
        "```\n",
        "\n"
      ]
    },
    {
      "cell_type": "code",
      "metadata": {
        "id": "XmwFAJ5zjchI",
        "colab_type": "code",
        "colab": {
          "base_uri": "https://localhost:8080/",
          "height": 233
        },
        "outputId": "d80f82b9-63b8-44e0-a839-b50a1d1775f1"
      },
      "source": [
        "filt_area = df.area.between(250*10**3, 300*10**3)\n",
        "\n",
        "selected_columns = [\n",
        "    'country',\n",
        "    'area',\n",
        "]\n",
        "\n",
        "df.loc[filt_area, selected_columns]"
      ],
      "execution_count": 20,
      "outputs": [
        {
          "output_type": "execute_result",
          "data": {
            "text/html": [
              "<div>\n",
              "<style scoped>\n",
              "    .dataframe tbody tr th:only-of-type {\n",
              "        vertical-align: middle;\n",
              "    }\n",
              "\n",
              "    .dataframe tbody tr th {\n",
              "        vertical-align: top;\n",
              "    }\n",
              "\n",
              "    .dataframe thead th {\n",
              "        text-align: right;\n",
              "    }\n",
              "</style>\n",
              "<table border=\"1\" class=\"dataframe\">\n",
              "  <thead>\n",
              "    <tr style=\"text-align: right;\">\n",
              "      <th></th>\n",
              "      <th>country</th>\n",
              "      <th>area</th>\n",
              "    </tr>\n",
              "  </thead>\n",
              "  <tbody>\n",
              "    <tr>\n",
              "      <th>31</th>\n",
              "      <td>Burkina Faso</td>\n",
              "      <td>274200</td>\n",
              "    </tr>\n",
              "    <tr>\n",
              "      <th>59</th>\n",
              "      <td>Ecuador</td>\n",
              "      <td>283560</td>\n",
              "    </tr>\n",
              "    <tr>\n",
              "      <th>72</th>\n",
              "      <td>Gabon</td>\n",
              "      <td>267667</td>\n",
              "    </tr>\n",
              "    <tr>\n",
              "      <th>149</th>\n",
              "      <td>New Zealand</td>\n",
              "      <td>268680</td>\n",
              "    </tr>\n",
              "    <tr>\n",
              "      <th>162</th>\n",
              "      <td>Philippines</td>\n",
              "      <td>300000</td>\n",
              "    </tr>\n",
              "    <tr>\n",
              "      <th>223</th>\n",
              "      <td>Western Sahara</td>\n",
              "      <td>266000</td>\n",
              "    </tr>\n",
              "  </tbody>\n",
              "</table>\n",
              "</div>"
            ],
            "text/plain": [
              "            country    area\n",
              "31     Burkina Faso  274200\n",
              "59          Ecuador  283560\n",
              "72            Gabon  267667\n",
              "149     New Zealand  268680\n",
              "162     Philippines  300000\n",
              "223  Western Sahara  266000"
            ]
          },
          "metadata": {
            "tags": []
          },
          "execution_count": 20
        }
      ]
    },
    {
      "cell_type": "markdown",
      "metadata": {
        "id": "QNvQxyRFktb3",
        "colab_type": "text"
      },
      "source": [
        "###SELECT 4\n",
        "\n",
        "\n",
        "```SQL\n",
        "SELECT name FROM world\n",
        "  WHERE name LIKE 'F%'\n",
        "```\n",
        "\n"
      ]
    },
    {
      "cell_type": "code",
      "metadata": {
        "id": "mBMY2BcGkK0d",
        "colab_type": "code",
        "colab": {
          "base_uri": "https://localhost:8080/",
          "height": 139
        },
        "outputId": "953f051e-c050-44ca-b427-1f28d1f1fd18"
      },
      "source": [
        "filt_country_f = (df.country.map(lambda c: c[0] == 'F'))\n",
        "\n",
        "df.loc[filt_country_f, 'country']"
      ],
      "execution_count": 21,
      "outputs": [
        {
          "output_type": "execute_result",
          "data": {
            "text/plain": [
              "66       Faroe Islands\n",
              "67                Fiji\n",
              "68             Finland\n",
              "69              France\n",
              "70       French Guiana\n",
              "71    French Polynesia\n",
              "Name: country, dtype: object"
            ]
          },
          "metadata": {
            "tags": []
          },
          "execution_count": 21
        }
      ]
    },
    {
      "cell_type": "markdown",
      "metadata": {
        "id": "-DFcz7WIpLQo",
        "colab_type": "text"
      },
      "source": [
        "###SELECT 5\n",
        "\n",
        "\n",
        "```SQL\n",
        "SELECT name FROM world\n",
        "  WHERE name LIKE '%Y'\n",
        "```\n",
        "\n"
      ]
    },
    {
      "cell_type": "code",
      "metadata": {
        "id": "stXJTj9ppG4v",
        "colab_type": "code",
        "colab": {
          "base_uri": "https://localhost:8080/",
          "height": 191
        },
        "outputId": "5c2467b9-2c32-4167-b177-386bd690eec2"
      },
      "source": [
        "filt_country_end_y = (df.country.map(lambda c: c[-1] == 'y'))\n",
        "\n",
        "df.loc[filt_country_end_y, 'country']"
      ],
      "execution_count": 22,
      "outputs": [
        {
          "output_type": "execute_result",
          "data": {
            "text/plain": [
              "76      Germany\n",
              "85     Guernsey\n",
              "92      Hungary\n",
              "101       Italy\n",
              "104      Jersey\n",
              "154      Norway\n",
              "160    Paraguay\n",
              "206      Turkey\n",
              "215     Uruguay\n",
              "Name: country, dtype: object"
            ]
          },
          "metadata": {
            "tags": []
          },
          "execution_count": 22
        }
      ]
    },
    {
      "cell_type": "markdown",
      "metadata": {
        "id": "eUIy62mXpxbk",
        "colab_type": "text"
      },
      "source": [
        "###SELECT 6\n",
        "\n",
        "\n",
        "```SQL\n",
        "SELECT name FROM world\n",
        "  WHERE name LIKE '%x%'\n",
        "```\n",
        "\n"
      ]
    },
    {
      "cell_type": "code",
      "metadata": {
        "id": "QMfJ8u7QpvOW",
        "colab_type": "code",
        "colab": {
          "base_uri": "https://localhost:8080/",
          "height": 69
        },
        "outputId": "400c9ec2-e74f-42f4-8330-67d60bca7a93"
      },
      "source": [
        "filt_country_contains = (df.country.map(lambda c: 'x' in c))\n",
        "\n",
        "df.loc[filt_country_contains, 'country']"
      ],
      "execution_count": 23,
      "outputs": [
        {
          "output_type": "execute_result",
          "data": {
            "text/plain": [
              "121    Luxembourg\n",
              "135        Mexico\n",
              "Name: country, dtype: object"
            ]
          },
          "metadata": {
            "tags": []
          },
          "execution_count": 23
        }
      ]
    },
    {
      "cell_type": "markdown",
      "metadata": {
        "id": "nGqH7Z0ZqX2k",
        "colab_type": "text"
      },
      "source": [
        "###SELECT 7\n",
        "\n",
        "\n",
        "\n",
        "```SQL\n",
        "SELECT name FROM world\n",
        "  WHERE name LIKE '%land'\n",
        "```\n",
        "\n"
      ]
    },
    {
      "cell_type": "code",
      "metadata": {
        "id": "VpnUGYBuqWAC",
        "colab_type": "code",
        "colab": {
          "base_uri": "https://localhost:8080/",
          "height": 191
        },
        "outputId": "dee55ef6-9220-4035-de14-7e49863806ad"
      },
      "source": [
        "filt_land = (df.country.map(lambda c: c[-4:] == 'land'))\n",
        "\n",
        "df.loc[filt_land, 'country']"
      ],
      "execution_count": 24,
      "outputs": [
        {
          "output_type": "execute_result",
          "data": {
            "text/plain": [
              "68         Finland\n",
              "80       Greenland\n",
              "93         Iceland\n",
              "98         Ireland\n",
              "149    New Zealand\n",
              "163         Poland\n",
              "194      Swaziland\n",
              "196    Switzerland\n",
              "201       Thailand\n",
              "Name: country, dtype: object"
            ]
          },
          "metadata": {
            "tags": []
          },
          "execution_count": 24
        }
      ]
    },
    {
      "cell_type": "markdown",
      "metadata": {
        "id": "EAzJIME9rSvT",
        "colab_type": "text"
      },
      "source": [
        "###SELECT 8\n",
        "\n",
        "\n",
        "```SQL\n",
        "SELECT name FROM world\n",
        "  WHERE name LIKE 'C%ia'\n",
        "```\n",
        "\n"
      ]
    },
    {
      "cell_type": "code",
      "metadata": {
        "id": "idguvkgTq_bU",
        "colab_type": "code",
        "colab": {
          "base_uri": "https://localhost:8080/",
          "height": 87
        },
        "outputId": "efc848f6-73d4-4055-efe6-ed74806b2860"
      },
      "source": [
        "filt_C_ia = (df.country.map(lambda c: c[0]=='C' and c[-2:]=='ia'))\n",
        "\n",
        "df.loc[filt_C_ia, 'country']"
      ],
      "execution_count": 25,
      "outputs": [
        {
          "output_type": "execute_result",
          "data": {
            "text/plain": [
              "34    Cambodia\n",
              "43    Colombia\n",
              "50     Croatia\n",
              "Name: country, dtype: object"
            ]
          },
          "metadata": {
            "tags": []
          },
          "execution_count": 25
        }
      ]
    },
    {
      "cell_type": "markdown",
      "metadata": {
        "id": "E3xOUBs4r2Nb",
        "colab_type": "text"
      },
      "source": [
        "###SELECT 9\n",
        "\n",
        "\n",
        "```SQL\n",
        "SELECT name FROM world\n",
        "  WHERE name LIKE '%oo%'\n",
        "```\n",
        "\n"
      ]
    },
    {
      "cell_type": "code",
      "metadata": {
        "id": "u5SIjIhCrz8K",
        "colab_type": "code",
        "colab": {
          "base_uri": "https://localhost:8080/",
          "height": 69
        },
        "outputId": "6414e346-81c9-4869-e53a-0135e75923c1"
      },
      "source": [
        "filt_oo = df.country.str.contains('oo')\n",
        "\n",
        "df.loc[filt_oo, 'country']"
      ],
      "execution_count": 26,
      "outputs": [
        {
          "output_type": "execute_result",
          "data": {
            "text/plain": [
              "35        Cameroon\n",
              "47    Cook Islands\n",
              "Name: country, dtype: object"
            ]
          },
          "metadata": {
            "tags": []
          },
          "execution_count": 26
        }
      ]
    },
    {
      "cell_type": "code",
      "metadata": {
        "id": "4tiDNZiLsqBH",
        "colab_type": "code",
        "colab": {
          "base_uri": "https://localhost:8080/",
          "height": 433
        },
        "outputId": "2c32b58b-5265-4b0f-d14b-186d0ed4f447"
      },
      "source": [
        "filt_three_a = df.country.str.contains('.*a.*a.*a.*')\n",
        "\n",
        "df.loc[filt_three_a, 'country']"
      ],
      "execution_count": 30,
      "outputs": [
        {
          "output_type": "execute_result",
          "data": {
            "text/plain": [
              "3                        American Samoa\n",
              "7                     Antigua & Barbuda\n",
              "14                         Bahamas, The\n",
              "36                               Canada\n",
              "38                       Cayman Islands\n",
              "62                    Equatorial Guinea\n",
              "84                            Guatemala\n",
              "102                             Jamaica\n",
              "106                          Kazakhstan\n",
              "124                          Madagascar\n",
              "126                            Malaysia\n",
              "130                    Marshall Islands\n",
              "132                          Mauritania\n",
              "150                           Nicaragua\n",
              "153                  N. Mariana Islands\n",
              "158                              Panama\n",
              "159                    Papua New Guinea\n",
              "160                            Paraguay\n",
              "175    Saint Vincent and the Grenadines\n",
              "179                        Saudi Arabia\n",
              "200                            Tanzania\n",
              "221                   Wallis and Futuna\n",
              "223                      Western Sahara\n",
              "Name: country, dtype: object"
            ]
          },
          "metadata": {
            "tags": []
          },
          "execution_count": 30
        }
      ]
    },
    {
      "cell_type": "markdown",
      "metadata": {
        "id": "N2sWGw0xuoN0",
        "colab_type": "text"
      },
      "source": [
        "###SELECT 10\n",
        "\n",
        "\n",
        "```SQL\n",
        "SELECT name FROM world\n",
        " WHERE name LIKE '_t%'\n",
        "```\n",
        "\n"
      ]
    },
    {
      "cell_type": "code",
      "metadata": {
        "id": "APl0euWNtWJJ",
        "colab_type": "code",
        "colab": {
          "base_uri": "https://localhost:8080/",
          "height": 87
        },
        "outputId": "1cf6ba13-a3ad-4e1d-9bcf-5cb7e2c05e21"
      },
      "source": [
        "filt_second_t = (df.country.str.contains('^.t.*'))\n",
        "\n",
        "df.loc[filt_second_t, 'country']"
      ],
      "execution_count": 32,
      "outputs": [
        {
          "output_type": "execute_result",
          "data": {
            "text/plain": [
              "65                 Ethiopia\n",
              "101                   Italy\n",
              "174    St Pierre & Miquelon\n",
              "Name: country, dtype: object"
            ]
          },
          "metadata": {
            "tags": []
          },
          "execution_count": 32
        }
      ]
    },
    {
      "cell_type": "markdown",
      "metadata": {
        "id": "ELN2osyQvaEB",
        "colab_type": "text"
      },
      "source": [
        "###SELECT 11\n",
        "\n",
        "\n",
        "```SQL\n",
        "SELECT name FROM world\n",
        " WHERE name LIKE '%o__o%'\n",
        "```\n",
        "\n"
      ]
    },
    {
      "cell_type": "code",
      "metadata": {
        "id": "soWQazdSu_Og",
        "colab_type": "code",
        "colab": {
          "base_uri": "https://localhost:8080/",
          "height": 156
        },
        "outputId": "b2e2e7d6-446e-477b-c213-6b8b5c9fd3c7"
      },
      "source": [
        "filt_o__o = (df.country.str.contains('.*o..o.*'))\n",
        "\n",
        "df.loc[filt_o__o, 'country']"
      ],
      "execution_count": 33,
      "outputs": [
        {
          "output_type": "execute_result",
          "data": {
            "text/plain": [
              "45         Congo, Dem. Rep.\n",
              "46     Congo, Repub. of the\n",
              "116                 Lesotho\n",
              "137                 Moldova\n",
              "139                Mongolia\n",
              "141                 Morocco\n",
              "178     Sao Tome & Principe\n",
              "Name: country, dtype: object"
            ]
          },
          "metadata": {
            "tags": []
          },
          "execution_count": 33
        }
      ]
    },
    {
      "cell_type": "markdown",
      "metadata": {
        "id": "i6mIRyvPwRVP",
        "colab_type": "text"
      },
      "source": [
        "###SELECT 12\n",
        "\n",
        "\n",
        "```\n",
        "SELECT name FROM world\n",
        " WHERE LEN(name) = 4\n",
        "```\n",
        "\n"
      ]
    },
    {
      "cell_type": "code",
      "metadata": {
        "id": "BNXlImT0vxlo",
        "colab_type": "code",
        "colab": {
          "base_uri": "https://localhost:8080/",
          "height": 225
        },
        "outputId": "6eb27d22-ad69-428c-d467-516da5ec0452"
      },
      "source": [
        "filt_len = (df.country.str.len() == 4)\n",
        "\n",
        "df.loc[filt_len, 'country']"
      ],
      "execution_count": 34,
      "outputs": [
        {
          "output_type": "execute_result",
          "data": {
            "text/plain": [
              "40     Chad\n",
              "51     Cuba\n",
              "67     Fiji\n",
              "83     Guam\n",
              "96     Iran\n",
              "97     Iraq\n",
              "113    Laos\n",
              "128    Mali\n",
              "155    Oman\n",
              "161    Peru\n",
              "202    Togo\n",
              "Name: country, dtype: object"
            ]
          },
          "metadata": {
            "tags": []
          },
          "execution_count": 34
        }
      ]
    },
    {
      "cell_type": "code",
      "metadata": {
        "id": "SNcYRFMcwpvi",
        "colab_type": "code",
        "colab": {
          "base_uri": "https://localhost:8080/",
          "height": 69
        },
        "outputId": "9fce0ccb-8ff9-4743-8aae-eec5ccb09a68"
      },
      "source": [
        "!ls -lh"
      ],
      "execution_count": 2,
      "outputs": [
        {
          "output_type": "stream",
          "text": [
            "total 72K\n",
            "-rw-r--r-- 1 root root  67K Feb  2 07:49 nobel-laureates.zip\n",
            "drwxr-xr-x 1 root root 4.0K Jan 13 16:38 sample_data\n"
          ],
          "name": "stdout"
        }
      ]
    },
    {
      "cell_type": "code",
      "metadata": {
        "id": "UjQjLvNq3aNx",
        "colab_type": "code",
        "colab": {
          "base_uri": "https://localhost:8080/",
          "height": 121
        },
        "outputId": "a33f79fe-9d9c-444d-c0fd-de647013ebde"
      },
      "source": [
        "!unzip nobel-laureates.zip\n",
        "!ls -lh"
      ],
      "execution_count": 3,
      "outputs": [
        {
          "output_type": "stream",
          "text": [
            "Archive:  nobel-laureates.zip\n",
            "  inflating: archive.csv             \n",
            "total 356K\n",
            "-rw-r--r-- 1 root root 284K Sep 20 08:34 archive.csv\n",
            "-rw-r--r-- 1 root root  67K Feb  2 07:49 nobel-laureates.zip\n",
            "drwxr-xr-x 1 root root 4.0K Jan 13 16:38 sample_data\n"
          ],
          "name": "stdout"
        }
      ]
    },
    {
      "cell_type": "code",
      "metadata": {
        "id": "RtInqfAq4QH-",
        "colab_type": "code",
        "colab": {
          "base_uri": "https://localhost:8080/",
          "height": 386
        },
        "outputId": "3caa9c1f-29e9-4833-9058-4d3a518166b7"
      },
      "source": [
        "df = pd.read_csv('archive.csv', sep=',')\n",
        "df.head(3)"
      ],
      "execution_count": 5,
      "outputs": [
        {
          "output_type": "execute_result",
          "data": {
            "text/html": [
              "<div>\n",
              "<style scoped>\n",
              "    .dataframe tbody tr th:only-of-type {\n",
              "        vertical-align: middle;\n",
              "    }\n",
              "\n",
              "    .dataframe tbody tr th {\n",
              "        vertical-align: top;\n",
              "    }\n",
              "\n",
              "    .dataframe thead th {\n",
              "        text-align: right;\n",
              "    }\n",
              "</style>\n",
              "<table border=\"1\" class=\"dataframe\">\n",
              "  <thead>\n",
              "    <tr style=\"text-align: right;\">\n",
              "      <th></th>\n",
              "      <th>Year</th>\n",
              "      <th>Category</th>\n",
              "      <th>Prize</th>\n",
              "      <th>Motivation</th>\n",
              "      <th>Prize Share</th>\n",
              "      <th>Laureate ID</th>\n",
              "      <th>Laureate Type</th>\n",
              "      <th>Full Name</th>\n",
              "      <th>Birth Date</th>\n",
              "      <th>Birth City</th>\n",
              "      <th>Birth Country</th>\n",
              "      <th>Sex</th>\n",
              "      <th>Organization Name</th>\n",
              "      <th>Organization City</th>\n",
              "      <th>Organization Country</th>\n",
              "      <th>Death Date</th>\n",
              "      <th>Death City</th>\n",
              "      <th>Death Country</th>\n",
              "    </tr>\n",
              "  </thead>\n",
              "  <tbody>\n",
              "    <tr>\n",
              "      <th>0</th>\n",
              "      <td>1901</td>\n",
              "      <td>Chemistry</td>\n",
              "      <td>The Nobel Prize in Chemistry 1901</td>\n",
              "      <td>\"in recognition of the extraordinary services ...</td>\n",
              "      <td>1/1</td>\n",
              "      <td>160</td>\n",
              "      <td>Individual</td>\n",
              "      <td>Jacobus Henricus van 't Hoff</td>\n",
              "      <td>1852-08-30</td>\n",
              "      <td>Rotterdam</td>\n",
              "      <td>Netherlands</td>\n",
              "      <td>Male</td>\n",
              "      <td>Berlin University</td>\n",
              "      <td>Berlin</td>\n",
              "      <td>Germany</td>\n",
              "      <td>1911-03-01</td>\n",
              "      <td>Berlin</td>\n",
              "      <td>Germany</td>\n",
              "    </tr>\n",
              "    <tr>\n",
              "      <th>1</th>\n",
              "      <td>1901</td>\n",
              "      <td>Literature</td>\n",
              "      <td>The Nobel Prize in Literature 1901</td>\n",
              "      <td>\"in special recognition of his poetic composit...</td>\n",
              "      <td>1/1</td>\n",
              "      <td>569</td>\n",
              "      <td>Individual</td>\n",
              "      <td>Sully Prudhomme</td>\n",
              "      <td>1839-03-16</td>\n",
              "      <td>Paris</td>\n",
              "      <td>France</td>\n",
              "      <td>Male</td>\n",
              "      <td>NaN</td>\n",
              "      <td>NaN</td>\n",
              "      <td>NaN</td>\n",
              "      <td>1907-09-07</td>\n",
              "      <td>Châtenay</td>\n",
              "      <td>France</td>\n",
              "    </tr>\n",
              "    <tr>\n",
              "      <th>2</th>\n",
              "      <td>1901</td>\n",
              "      <td>Medicine</td>\n",
              "      <td>The Nobel Prize in Physiology or Medicine 1901</td>\n",
              "      <td>\"for his work on serum therapy, especially its...</td>\n",
              "      <td>1/1</td>\n",
              "      <td>293</td>\n",
              "      <td>Individual</td>\n",
              "      <td>Emil Adolf von Behring</td>\n",
              "      <td>1854-03-15</td>\n",
              "      <td>Hansdorf (Lawice)</td>\n",
              "      <td>Prussia (Poland)</td>\n",
              "      <td>Male</td>\n",
              "      <td>Marburg University</td>\n",
              "      <td>Marburg</td>\n",
              "      <td>Germany</td>\n",
              "      <td>1917-03-31</td>\n",
              "      <td>Marburg</td>\n",
              "      <td>Germany</td>\n",
              "    </tr>\n",
              "  </tbody>\n",
              "</table>\n",
              "</div>"
            ],
            "text/plain": [
              "   Year    Category  ... Death City Death Country\n",
              "0  1901   Chemistry  ...     Berlin       Germany\n",
              "1  1901  Literature  ...   Châtenay        France\n",
              "2  1901    Medicine  ...    Marburg       Germany\n",
              "\n",
              "[3 rows x 18 columns]"
            ]
          },
          "metadata": {
            "tags": []
          },
          "execution_count": 5
        }
      ]
    },
    {
      "cell_type": "code",
      "metadata": {
        "id": "42eSNYcc4jLG",
        "colab_type": "code",
        "colab": {
          "base_uri": "https://localhost:8080/",
          "height": 124
        },
        "outputId": "949cba39-93ab-4c07-8064-525b5a2c2bad"
      },
      "source": [
        "df.columns"
      ],
      "execution_count": 6,
      "outputs": [
        {
          "output_type": "execute_result",
          "data": {
            "text/plain": [
              "Index(['Year', 'Category', 'Prize', 'Motivation', 'Prize Share', 'Laureate ID',\n",
              "       'Laureate Type', 'Full Name', 'Birth Date', 'Birth City',\n",
              "       'Birth Country', 'Sex', 'Organization Name', 'Organization City',\n",
              "       'Organization Country', 'Death Date', 'Death City', 'Death Country'],\n",
              "      dtype='object')"
            ]
          },
          "metadata": {
            "tags": []
          },
          "execution_count": 6
        }
      ]
    },
    {
      "cell_type": "code",
      "metadata": {
        "id": "6mWFWSEU4oBN",
        "colab_type": "code",
        "colab": {
          "base_uri": "https://localhost:8080/",
          "height": 124
        },
        "outputId": "35810eed-68cc-4df7-a475-17186f5dc278"
      },
      "source": [
        "df.columns = df.columns.map(lambda c: '_'.join(c.lower().split()))\n",
        "df.columns"
      ],
      "execution_count": 8,
      "outputs": [
        {
          "output_type": "execute_result",
          "data": {
            "text/plain": [
              "Index(['year', 'category', 'prize', 'motivation', 'prize_share', 'laureate_id',\n",
              "       'laureate_type', 'full_name', 'birth_date', 'birth_city',\n",
              "       'birth_country', 'sex', 'organization_name', 'organization_city',\n",
              "       'organization_country', 'death_date', 'death_city', 'death_country'],\n",
              "      dtype='object')"
            ]
          },
          "metadata": {
            "tags": []
          },
          "execution_count": 8
        }
      ]
    },
    {
      "cell_type": "markdown",
      "metadata": {
        "id": "hM2C6d4m5OlD",
        "colab_type": "text"
      },
      "source": [
        "###SELECT 13\n",
        "\n",
        "\n",
        "```SQL\n",
        "SELECT yr, subject, winner\n",
        "  FROM nobel\n",
        " WHERE yr = 1960\n",
        "```\n",
        "\n"
      ]
    },
    {
      "cell_type": "code",
      "metadata": {
        "id": "E-JTG_wl410d",
        "colab_type": "code",
        "colab": {
          "base_uri": "https://localhost:8080/",
          "height": 233
        },
        "outputId": "3cc08c30-bbdf-41c2-a7be-75afab944a45"
      },
      "source": [
        "filt_year = (df.year == 1960)\n",
        "selected_columns = [\n",
        "    'year',\n",
        "    'category',\n",
        "    'full_name',\n",
        "]\n",
        "\n",
        "df.loc[filt_year, selected_columns]"
      ],
      "execution_count": 9,
      "outputs": [
        {
          "output_type": "execute_result",
          "data": {
            "text/html": [
              "<div>\n",
              "<style scoped>\n",
              "    .dataframe tbody tr th:only-of-type {\n",
              "        vertical-align: middle;\n",
              "    }\n",
              "\n",
              "    .dataframe tbody tr th {\n",
              "        vertical-align: top;\n",
              "    }\n",
              "\n",
              "    .dataframe thead th {\n",
              "        text-align: right;\n",
              "    }\n",
              "</style>\n",
              "<table border=\"1\" class=\"dataframe\">\n",
              "  <thead>\n",
              "    <tr style=\"text-align: right;\">\n",
              "      <th></th>\n",
              "      <th>year</th>\n",
              "      <th>category</th>\n",
              "      <th>full_name</th>\n",
              "    </tr>\n",
              "  </thead>\n",
              "  <tbody>\n",
              "    <tr>\n",
              "      <th>338</th>\n",
              "      <td>1960</td>\n",
              "      <td>Chemistry</td>\n",
              "      <td>Willard Frank Libby</td>\n",
              "    </tr>\n",
              "    <tr>\n",
              "      <th>339</th>\n",
              "      <td>1960</td>\n",
              "      <td>Literature</td>\n",
              "      <td>Saint-John Perse</td>\n",
              "    </tr>\n",
              "    <tr>\n",
              "      <th>340</th>\n",
              "      <td>1960</td>\n",
              "      <td>Medicine</td>\n",
              "      <td>Sir Frank Macfarlane Burnet</td>\n",
              "    </tr>\n",
              "    <tr>\n",
              "      <th>341</th>\n",
              "      <td>1960</td>\n",
              "      <td>Medicine</td>\n",
              "      <td>Peter Brian Medawar</td>\n",
              "    </tr>\n",
              "    <tr>\n",
              "      <th>342</th>\n",
              "      <td>1960</td>\n",
              "      <td>Peace</td>\n",
              "      <td>Albert John Lutuli</td>\n",
              "    </tr>\n",
              "    <tr>\n",
              "      <th>343</th>\n",
              "      <td>1960</td>\n",
              "      <td>Physics</td>\n",
              "      <td>Donald Arthur Glaser</td>\n",
              "    </tr>\n",
              "  </tbody>\n",
              "</table>\n",
              "</div>"
            ],
            "text/plain": [
              "     year    category                    full_name\n",
              "338  1960   Chemistry          Willard Frank Libby\n",
              "339  1960  Literature             Saint-John Perse\n",
              "340  1960    Medicine  Sir Frank Macfarlane Burnet\n",
              "341  1960    Medicine          Peter Brian Medawar\n",
              "342  1960       Peace           Albert John Lutuli\n",
              "343  1960     Physics         Donald Arthur Glaser"
            ]
          },
          "metadata": {
            "tags": []
          },
          "execution_count": 9
        }
      ]
    },
    {
      "cell_type": "code",
      "metadata": {
        "id": "7W-EbXrw5vuV",
        "colab_type": "code",
        "colab": {}
      },
      "source": [
        ""
      ],
      "execution_count": 0,
      "outputs": []
    }
  ]
}