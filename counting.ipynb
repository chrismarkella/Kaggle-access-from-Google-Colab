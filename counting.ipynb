{
  "nbformat": 4,
  "nbformat_minor": 0,
  "metadata": {
    "colab": {
      "name": "counting.ipynb",
      "provenance": [],
      "authorship_tag": "ABX9TyMRdpcwO1noEVDJkiBnDnR9",
      "include_colab_link": true
    },
    "kernelspec": {
      "name": "python3",
      "display_name": "Python 3"
    }
  },
  "cells": [
    {
      "cell_type": "markdown",
      "metadata": {
        "id": "view-in-github",
        "colab_type": "text"
      },
      "source": [
        "<a href=\"https://colab.research.google.com/github/chrismarkella/Kaggle-access-from-Google-Colab/blob/master/counting.ipynb\" target=\"_parent\"><img src=\"https://colab.research.google.com/assets/colab-badge.svg\" alt=\"Open In Colab\"/></a>"
      ]
    },
    {
      "cell_type": "markdown",
      "metadata": {
        "id": "KBi1VHavG0HI",
        "colab_type": "text"
      },
      "source": [
        "#Counting elements of a list\n",
        "Four versions of counting elements of a list."
      ]
    },
    {
      "cell_type": "markdown",
      "metadata": {
        "id": "Mk__p9QSHL7c",
        "colab_type": "text"
      },
      "source": [
        "##Setup"
      ]
    },
    {
      "cell_type": "code",
      "metadata": {
        "id": "W2PI25I--YhT",
        "colab_type": "code",
        "colab": {
          "base_uri": "https://localhost:8080/",
          "height": 35
        },
        "outputId": "960fa675-445b-45e7-e8ac-8b00689f02fe"
      },
      "source": [
        "lst = [\n",
        "    'yes',\n",
        "    'no',\n",
        "    'maybe',\n",
        "    'no',\n",
        "    'yes',\n",
        "    'no',\n",
        "]\n",
        "lst"
      ],
      "execution_count": 1,
      "outputs": [
        {
          "output_type": "execute_result",
          "data": {
            "text/plain": [
              "['yes', 'no', 'maybe', 'no', 'yes', 'no']"
            ]
          },
          "metadata": {
            "tags": []
          },
          "execution_count": 1
        }
      ]
    },
    {
      "cell_type": "markdown",
      "metadata": {
        "id": "_6BVtmyZ-rnP",
        "colab_type": "text"
      },
      "source": [
        "##Approaches\n",
        "- counting `variables` with `if` conditionals\n",
        "- using a dictionary with default values zero\n",
        "- using a `defaultdict` dictionary from the `collections`\n",
        "- using the `Counter` class from the `collections` "
      ]
    },
    {
      "cell_type": "markdown",
      "metadata": {
        "id": "SJ6XpGZK_dL8",
        "colab_type": "text"
      },
      "source": [
        "###Approach 1\n",
        "- counting variables and if conditionals"
      ]
    },
    {
      "cell_type": "code",
      "metadata": {
        "id": "Rbaa68ph-plH",
        "colab_type": "code",
        "colab": {
          "base_uri": "https://localhost:8080/",
          "height": 69
        },
        "outputId": "251a383e-fdec-4b78-836b-b473c422d2c8"
      },
      "source": [
        "yes_count = 0\n",
        "no_count = 0\n",
        "maybe_count = 0\n",
        "\n",
        "for word in lst:\n",
        "    if word == 'yes':\n",
        "        yes_count += 1\n",
        "    elif word == 'no':\n",
        "        no_count += 1\n",
        "    elif word == 'maybe':\n",
        "        maybe_count += 1\n",
        "\n",
        "print(f'yes count: {yes_count}')\n",
        "print(f'no count: {no_count}')\n",
        "print(f'maybe count: {maybe_count}')\n"
      ],
      "execution_count": 2,
      "outputs": [
        {
          "output_type": "stream",
          "text": [
            "yes count: 2\n",
            "no count: 3\n",
            "maybe count: 1\n"
          ],
          "name": "stdout"
        }
      ]
    },
    {
      "cell_type": "markdown",
      "metadata": {
        "id": "eEFC-Xq6Azxu",
        "colab_type": "text"
      },
      "source": [
        "###Approach 2\n",
        "- using a dictionary with default values of zero"
      ]
    },
    {
      "cell_type": "code",
      "metadata": {
        "id": "bwQRBBcKAQnS",
        "colab_type": "code",
        "colab": {
          "base_uri": "https://localhost:8080/",
          "height": 69
        },
        "outputId": "542006b3-109d-48dd-829f-6cee440eb32e"
      },
      "source": [
        "count_dict = {\n",
        "    'yes':0,\n",
        "    'no':0,\n",
        "    'maybe':0,\n",
        "}\n",
        "\n",
        "for key in lst:\n",
        "    count_dict[key] += 1\n",
        "\n",
        "for key, value in count_dict.items():\n",
        "    print(f'{key}: {value}')"
      ],
      "execution_count": 3,
      "outputs": [
        {
          "output_type": "stream",
          "text": [
            "yes: 2\n",
            "no: 3\n",
            "maybe: 1\n"
          ],
          "name": "stdout"
        }
      ]
    },
    {
      "cell_type": "markdown",
      "metadata": {
        "id": "ucP-jwZiBvY9",
        "colab_type": "text"
      },
      "source": [
        "###Approach 3\n",
        "- using a `defaultdict` dictionary from the `collections`"
      ]
    },
    {
      "cell_type": "code",
      "metadata": {
        "id": "mSlEYyyKBbRy",
        "colab_type": "code",
        "colab": {
          "base_uri": "https://localhost:8080/",
          "height": 69
        },
        "outputId": "1ae4d289-c4ea-4abd-8637-8b2baa3aa225"
      },
      "source": [
        "from collections import defaultdict\n",
        "\n",
        "count_default_dict = defaultdict(int)\n",
        "\n",
        "for key in lst:\n",
        "    count_default_dict[key] += 1\n",
        "\n",
        "for key, value in count_default_dict.items():\n",
        "    print(f'{key}: {value}')"
      ],
      "execution_count": 4,
      "outputs": [
        {
          "output_type": "stream",
          "text": [
            "yes: 2\n",
            "no: 3\n",
            "maybe: 1\n"
          ],
          "name": "stdout"
        }
      ]
    },
    {
      "cell_type": "markdown",
      "metadata": {
        "id": "u0DgUzUYBveb",
        "colab_type": "text"
      },
      "source": [
        "###Approach 4\n",
        "- using the `Counter` class from the `collections`\n",
        " \n",
        "\n",
        "1.   default `counter[key] += 1` in `each iteration`\n",
        "2.   using the `update` method of the `Counter` class\n",
        "\n"
      ]
    },
    {
      "cell_type": "markdown",
      "metadata": {
        "id": "tP9DHMQQDdUj",
        "colab_type": "text"
      },
      "source": [
        "####Approach 4.1\n",
        "Using the default `counter[key] += 1` in `each iterations` as before.\n"
      ]
    },
    {
      "cell_type": "code",
      "metadata": {
        "id": "jxR2bPpWDHQi",
        "colab_type": "code",
        "colab": {
          "base_uri": "https://localhost:8080/",
          "height": 87
        },
        "outputId": "5f8c4f3d-bb92-4a92-dedd-8c7e48dff45b"
      },
      "source": [
        "from collections import Counter\n",
        "\n",
        "counter = Counter()\n",
        "\n",
        "for key in lst:\n",
        "    counter[key] += 1\n",
        "\n",
        "print(counter.most_common())\n",
        "for key, value in counter.most_common():\n",
        "    print(f'{key}, {value}')"
      ],
      "execution_count": 5,
      "outputs": [
        {
          "output_type": "stream",
          "text": [
            "[('no', 3), ('yes', 2), ('maybe', 1)]\n",
            "no, 3\n",
            "yes, 2\n",
            "maybe, 1\n"
          ],
          "name": "stdout"
        }
      ]
    },
    {
      "cell_type": "markdown",
      "metadata": {
        "id": "ETf8YPUKERPU",
        "colab_type": "text"
      },
      "source": [
        "####Approach 4.2\n",
        "Using the `update` method of the `Counter` class\n",
        "\n",
        "\n",
        "- We **do not need** a `for loop` since we can pass the `entire list` to the `update` method."
      ]
    },
    {
      "cell_type": "code",
      "metadata": {
        "id": "NHsNVte8DLCB",
        "colab_type": "code",
        "colab": {
          "base_uri": "https://localhost:8080/",
          "height": 69
        },
        "outputId": "ecd03dfa-83ad-49d1-cd20-8528c21f5b58"
      },
      "source": [
        "counter_update = Counter()\n",
        "\n",
        "counter_update.update(lst)\n",
        "\n",
        "for key, value in counter_update.most_common():\n",
        "    print(f'{key}: {value}')"
      ],
      "execution_count": 6,
      "outputs": [
        {
          "output_type": "stream",
          "text": [
            "no: 3\n",
            "yes: 2\n",
            "maybe: 1\n"
          ],
          "name": "stdout"
        }
      ]
    },
    {
      "cell_type": "markdown",
      "metadata": {
        "id": "DT7hDNW5IeFD",
        "colab_type": "text"
      },
      "source": [
        "####in the background the update is iterating through those items... so that for loop is still there in the background"
      ]
    }
  ]
}