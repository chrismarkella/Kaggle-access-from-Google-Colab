{
  "nbformat": 4,
  "nbformat_minor": 0,
  "metadata": {
    "colab": {
      "name": "machine_learning_categorical_monday.ipynb",
      "provenance": [],
      "collapsed_sections": [],
      "include_colab_link": true
    },
    "kernelspec": {
      "name": "python3",
      "display_name": "Python 3"
    }
  },
  "cells": [
    {
      "cell_type": "markdown",
      "metadata": {
        "id": "view-in-github",
        "colab_type": "text"
      },
      "source": [
        "<a href=\"https://colab.research.google.com/github/chrismarkella/Kaggle-access-from-Google-Colab/blob/master/machine_learning_categorical_monday.ipynb\" target=\"_parent\"><img src=\"https://colab.research.google.com/assets/colab-badge.svg\" alt=\"Open In Colab\"/></a>"
      ]
    },
    {
      "cell_type": "code",
      "metadata": {
        "id": "V2c87jCbENol",
        "colab_type": "code",
        "colab": {}
      },
      "source": [
        "!apt-get -qq install tree"
      ],
      "execution_count": 0,
      "outputs": []
    },
    {
      "cell_type": "code",
      "metadata": {
        "id": "UfptiakkLVI7",
        "colab_type": "code",
        "colab": {}
      },
      "source": [
        "import os\n",
        "\n",
        "import numpy as np\n",
        "import pandas as pd\n",
        "\n",
        "from getpass import getpass "
      ],
      "execution_count": 0,
      "outputs": []
    },
    {
      "cell_type": "code",
      "metadata": {
        "id": "x_q48eW8LWd_",
        "colab_type": "code",
        "colab": {}
      },
      "source": [
        "def access_kaggle():\n",
        "    \"\"\"\n",
        "    Access Kaggle from Google Colab.\n",
        "    If the /root/.kaggle does not exist then prompt for\n",
        "    the username and for the Kaggle API key.\n",
        "    Creates the kaggle.json access file in the /root/.kaggle/ folder. \n",
        "    \"\"\"\n",
        "    KAGGLE_ROOT = os.path.join('/root', '.kaggle')\n",
        "    KAGGLE_PATH = os.path.join(KAGGLE_ROOT, 'kaggle.json')\n",
        "\n",
        "    if '.kaggle' not in os.listdir(path='/root'):\n",
        "        user = getpass(prompt='Kaggle username: ')\n",
        "        key  = getpass(prompt='Kaggle API key: ')\n",
        "        \n",
        "        !mkdir $KAGGLE_ROOT\n",
        "        !touch $KAGGLE_PATH\n",
        "        !chmod 666 $KAGGLE_PATH\n",
        "        with open(KAGGLE_PATH, mode='w') as f:\n",
        "            f.write('{\"username\":\"%s\", \"key\":\"%s\"}' %(user, key))\n",
        "            f.close()\n",
        "        !chmod 600 $KAGGLE_PATH\n",
        "        del user\n",
        "        del key\n",
        "        success_msg = \"Kaggle is successfully set up. Good to go.\"\n",
        "        print(f'{success_msg}')\n",
        "\n",
        "access_kaggle()\n"
      ],
      "execution_count": 0,
      "outputs": []
    },
    {
      "cell_type": "code",
      "metadata": {
        "id": "-dwhD2H5L1tz",
        "colab_type": "code",
        "colab": {}
      },
      "source": [
        "!kaggle competitions download -c home-data-for-ml-course -p datasets/ml-course\n",
        "!tree -sh ./\n",
        "!cat -n datasets/ml-course/train.csv|head -2\n",
        "df = pd.read_csv('datasets/ml-course/train.csv', sep=',', index_col=0)\n",
        "\n",
        "df.columns = df.columns.map(lambda c: c.lower())\n",
        "df.columns"
      ],
      "execution_count": 0,
      "outputs": []
    },
    {
      "cell_type": "markdown",
      "metadata": {
        "id": "NjOeUlrj1dFU",
        "colab_type": "text"
      },
      "source": [
        "### Steps:\n",
        "\n",
        "\n",
        "*   step 1: `target`, `predictors` separation\n",
        "\n",
        "*    step 2: `train`, `test` separation\n",
        "\n",
        "*    step 3: drop columns with `missing values`\n",
        "\n",
        "*    step 4: `numerical` and `categorical` columns\n",
        "\n",
        "\n",
        "*    step 5: `train_x`, `valid_x` with `my_columns`\n",
        "\n",
        "\n"
      ]
    },
    {
      "cell_type": "markdown",
      "metadata": {
        "id": "GAgNFW-N3x5U",
        "colab_type": "text"
      },
      "source": [
        "### Three approaches:\n",
        "\n",
        "\n",
        "\n",
        "*   Approach 1: Simply `drop` the `categorical columns`.\n",
        "*   Approach 2: `Label encoding`\n",
        "*   Approach 3: `One-Hot` Encoding\n",
        "\n",
        "\n",
        "\n"
      ]
    },
    {
      "cell_type": "code",
      "metadata": {
        "id": "Ij2437hw0lwS",
        "colab_type": "code",
        "colab": {
          "base_uri": "https://localhost:8080/",
          "height": 34
        },
        "outputId": "e9e56cb3-7a7b-40d9-f99b-4e8371df092d"
      },
      "source": [
        "# step 1: target, predictors separation\n",
        "\n",
        "# Before we separate the target column we need to know that it\n",
        "# does not have any missing values.\n",
        "print(f'# of missing values in the salesprice column: {df.saleprice.isnull().sum()}')"
      ],
      "execution_count": 19,
      "outputs": [
        {
          "output_type": "stream",
          "text": [
            "# of missing values in the salesprice column: 0\n"
          ],
          "name": "stdout"
        }
      ]
    },
    {
      "cell_type": "code",
      "metadata": {
        "id": "IoC8ojab5DU2",
        "colab_type": "code",
        "colab": {}
      },
      "source": [
        "# We are good to go with the salesprice column as a target.\n",
        "y = df.saleprice\n",
        "\n",
        "# Predictors in X.\n",
        "X = df.drop(['saleprice'], axis='columns')"
      ],
      "execution_count": 0,
      "outputs": []
    },
    {
      "cell_type": "code",
      "metadata": {
        "id": "f9xLTrjs5ch1",
        "colab_type": "code",
        "colab": {
          "base_uri": "https://localhost:8080/",
          "height": 34
        },
        "outputId": "e231ef93-6b37-42a7-a499-82426ed86ee3"
      },
      "source": [
        "# step 2: train, test separation\n",
        "from sklearn.model_selection import train_test_split\n",
        "\n",
        "train_x_full, valid_x_full, train_y, valid_y = train_test_split(X, y, test_size=0.2,\n",
        "                                                                random_state=42)\n",
        "# checking that shape of train_x_full and valid_x_full:\n",
        "X.shape, train_x_full.shape, valid_x_full.shape"
      ],
      "execution_count": 59,
      "outputs": [
        {
          "output_type": "execute_result",
          "data": {
            "text/plain": [
              "((1460, 79), (1168, 79), (292, 79))"
            ]
          },
          "metadata": {
            "tags": []
          },
          "execution_count": 59
        }
      ]
    },
    {
      "cell_type": "markdown",
      "metadata": {
        "id": "JJskJ2TJ6Mgc",
        "colab_type": "text"
      },
      "source": [
        "\n",
        "\n",
        "```python\n",
        ">>> train_x_full.shape\n",
        "```\n",
        "gives us `1168` records out of the total `1460` records.\n",
        "\n",
        "```python\n",
        ">>> valid_x_full.shape\n",
        "```\n",
        "gives us `292` records out of the total `1460` records.\n",
        "\n",
        "This allines with the 20/80 percent test/train data split.\n",
        "\n"
      ]
    },
    {
      "cell_type": "code",
      "metadata": {
        "id": "Q1YnuXXO5xd5",
        "colab_type": "code",
        "colab": {
          "base_uri": "https://localhost:8080/",
          "height": 353
        },
        "outputId": "c21bab4c-ffa5-4fed-b467-36656ac9084c"
      },
      "source": [
        "# step 3: dropping all the missing value columns\n",
        "\n",
        "# One way to see all the missing value columns:\n",
        "nullcolumns = train_x_full.isnull().sum()\n",
        "nullcolumns[nullcolumns > 0]"
      ],
      "execution_count": 60,
      "outputs": [
        {
          "output_type": "execute_result",
          "data": {
            "text/plain": [
              "lotfrontage      217\n",
              "alley           1094\n",
              "masvnrtype         6\n",
              "masvnrarea         6\n",
              "bsmtqual          28\n",
              "bsmtcond          28\n",
              "bsmtexposure      28\n",
              "bsmtfintype1      28\n",
              "bsmtfintype2      28\n",
              "electrical         1\n",
              "fireplacequ      547\n",
              "garagetype        64\n",
              "garageyrblt       64\n",
              "garagefinish      64\n",
              "garagequal        64\n",
              "garagecond        64\n",
              "poolqc          1162\n",
              "fence            935\n",
              "miscfeature     1122\n",
              "dtype: int64"
            ]
          },
          "metadata": {
            "tags": []
          },
          "execution_count": 60
        }
      ]
    },
    {
      "cell_type": "code",
      "metadata": {
        "id": "szwOBnbe9P1O",
        "colab_type": "code",
        "colab": {
          "base_uri": "https://localhost:8080/",
          "height": 336
        },
        "outputId": "36b0fb8d-30c2-4003-ee63-016886075588"
      },
      "source": [
        "# Another way to get the list of the missing value columns:\n",
        "columns_with_NaN = [col for col in train_x_full.columns if train_x_full[col].isnull().any()]\n",
        "columns_with_NaN"
      ],
      "execution_count": 61,
      "outputs": [
        {
          "output_type": "execute_result",
          "data": {
            "text/plain": [
              "['lotfrontage',\n",
              " 'alley',\n",
              " 'masvnrtype',\n",
              " 'masvnrarea',\n",
              " 'bsmtqual',\n",
              " 'bsmtcond',\n",
              " 'bsmtexposure',\n",
              " 'bsmtfintype1',\n",
              " 'bsmtfintype2',\n",
              " 'electrical',\n",
              " 'fireplacequ',\n",
              " 'garagetype',\n",
              " 'garageyrblt',\n",
              " 'garagefinish',\n",
              " 'garagequal',\n",
              " 'garagecond',\n",
              " 'poolqc',\n",
              " 'fence',\n",
              " 'miscfeature']"
            ]
          },
          "metadata": {
            "tags": []
          },
          "execution_count": 61
        }
      ]
    },
    {
      "cell_type": "code",
      "metadata": {
        "id": "bXOUMtCv_RSp",
        "colab_type": "code",
        "colab": {
          "base_uri": "https://localhost:8080/",
          "height": 138
        },
        "outputId": "4b3004f3-f38c-4371-923f-f09e99f64623"
      },
      "source": [
        "# dropping all the missing value columns:\n",
        "train_x_full.drop(columns_with_NaN, axis='columns', inplace=True)\n",
        "valid_x_full.drop(columns_with_NaN, axis='columns', inplace=True)\n",
        "\n",
        "# checking the shape of train_x_full after dropping the columns:\n",
        "train_x_full.shape, valid_x_full.shape"
      ],
      "execution_count": 62,
      "outputs": [
        {
          "output_type": "stream",
          "text": [
            "/usr/local/lib/python3.6/dist-packages/pandas/core/frame.py:4117: SettingWithCopyWarning: \n",
            "A value is trying to be set on a copy of a slice from a DataFrame\n",
            "\n",
            "See the caveats in the documentation: http://pandas.pydata.org/pandas-docs/stable/user_guide/indexing.html#returning-a-view-versus-a-copy\n",
            "  errors=errors,\n"
          ],
          "name": "stderr"
        },
        {
          "output_type": "execute_result",
          "data": {
            "text/plain": [
              "((1168, 60), (292, 60))"
            ]
          },
          "metadata": {
            "tags": []
          },
          "execution_count": 62
        }
      ]
    },
    {
      "cell_type": "markdown",
      "metadata": {
        "id": "bt65uIsF_4Nh",
        "colab_type": "text"
      },
      "source": [
        "### Only `60` columns left from the `79` predictors."
      ]
    },
    {
      "cell_type": "code",
      "metadata": {
        "id": "fD9MfidN_0DE",
        "colab_type": "code",
        "colab": {
          "base_uri": "https://localhost:8080/",
          "height": 1000
        },
        "outputId": "0f5c9966-cd71-44af-de30-6be960e0f518"
      },
      "source": [
        "# step 4: numerical and categorical columns:\n",
        "\n",
        "# first let's see the remaining columns' types:\n",
        "train_x_full.dtypes"
      ],
      "execution_count": 63,
      "outputs": [
        {
          "output_type": "execute_result",
          "data": {
            "text/plain": [
              "mssubclass        int64\n",
              "mszoning         object\n",
              "lotarea           int64\n",
              "street           object\n",
              "lotshape         object\n",
              "landcontour      object\n",
              "utilities        object\n",
              "lotconfig        object\n",
              "landslope        object\n",
              "neighborhood     object\n",
              "condition1       object\n",
              "condition2       object\n",
              "bldgtype         object\n",
              "housestyle       object\n",
              "overallqual       int64\n",
              "overallcond       int64\n",
              "yearbuilt         int64\n",
              "yearremodadd      int64\n",
              "roofstyle        object\n",
              "roofmatl         object\n",
              "exterior1st      object\n",
              "exterior2nd      object\n",
              "exterqual        object\n",
              "extercond        object\n",
              "foundation       object\n",
              "bsmtfinsf1        int64\n",
              "bsmtfinsf2        int64\n",
              "bsmtunfsf         int64\n",
              "totalbsmtsf       int64\n",
              "heating          object\n",
              "heatingqc        object\n",
              "centralair       object\n",
              "1stflrsf          int64\n",
              "2ndflrsf          int64\n",
              "lowqualfinsf      int64\n",
              "grlivarea         int64\n",
              "bsmtfullbath      int64\n",
              "bsmthalfbath      int64\n",
              "fullbath          int64\n",
              "halfbath          int64\n",
              "bedroomabvgr      int64\n",
              "kitchenabvgr      int64\n",
              "kitchenqual      object\n",
              "totrmsabvgrd      int64\n",
              "functional       object\n",
              "fireplaces        int64\n",
              "garagecars        int64\n",
              "garagearea        int64\n",
              "paveddrive       object\n",
              "wooddecksf        int64\n",
              "openporchsf       int64\n",
              "enclosedporch     int64\n",
              "3ssnporch         int64\n",
              "screenporch       int64\n",
              "poolarea          int64\n",
              "miscval           int64\n",
              "mosold            int64\n",
              "yrsold            int64\n",
              "saletype         object\n",
              "salecondition    object\n",
              "dtype: object"
            ]
          },
          "metadata": {
            "tags": []
          },
          "execution_count": 63
        }
      ]
    },
    {
      "cell_type": "code",
      "metadata": {
        "id": "FZ3YlRM0Al6G",
        "colab_type": "code",
        "colab": {
          "base_uri": "https://localhost:8080/",
          "height": 571
        },
        "outputId": "8ec085fb-bd93-4bba-ffdd-33260b6d7044"
      },
      "source": [
        "[f'{col:15}{train_x_full[col].dtype}' for col in train_x_full.columns if train_x_full[col].dtype in ['int64', 'float64']]"
      ],
      "execution_count": 64,
      "outputs": [
        {
          "output_type": "execute_result",
          "data": {
            "text/plain": [
              "['mssubclass     int64',\n",
              " 'lotarea        int64',\n",
              " 'overallqual    int64',\n",
              " 'overallcond    int64',\n",
              " 'yearbuilt      int64',\n",
              " 'yearremodadd   int64',\n",
              " 'bsmtfinsf1     int64',\n",
              " 'bsmtfinsf2     int64',\n",
              " 'bsmtunfsf      int64',\n",
              " 'totalbsmtsf    int64',\n",
              " '1stflrsf       int64',\n",
              " '2ndflrsf       int64',\n",
              " 'lowqualfinsf   int64',\n",
              " 'grlivarea      int64',\n",
              " 'bsmtfullbath   int64',\n",
              " 'bsmthalfbath   int64',\n",
              " 'fullbath       int64',\n",
              " 'halfbath       int64',\n",
              " 'bedroomabvgr   int64',\n",
              " 'kitchenabvgr   int64',\n",
              " 'totrmsabvgrd   int64',\n",
              " 'fireplaces     int64',\n",
              " 'garagecars     int64',\n",
              " 'garagearea     int64',\n",
              " 'wooddecksf     int64',\n",
              " 'openporchsf    int64',\n",
              " 'enclosedporch  int64',\n",
              " '3ssnporch      int64',\n",
              " 'screenporch    int64',\n",
              " 'poolarea       int64',\n",
              " 'miscval        int64',\n",
              " 'mosold         int64',\n",
              " 'yrsold         int64']"
            ]
          },
          "metadata": {
            "tags": []
          },
          "execution_count": 64
        }
      ]
    },
    {
      "cell_type": "code",
      "metadata": {
        "id": "Rj5o3sVPAz-m",
        "colab_type": "code",
        "colab": {
          "base_uri": "https://localhost:8080/",
          "height": 470
        },
        "outputId": "95de016e-0aca-4493-cb8b-d020c84bf9c4"
      },
      "source": [
        "[f'{col:15}{train_x_full[col].nunique()}' for col in train_x_full.columns if train_x_full[col].dtype == 'object']"
      ],
      "execution_count": 65,
      "outputs": [
        {
          "output_type": "execute_result",
          "data": {
            "text/plain": [
              "['mszoning       5',\n",
              " 'street         2',\n",
              " 'lotshape       4',\n",
              " 'landcontour    4',\n",
              " 'utilities      2',\n",
              " 'lotconfig      5',\n",
              " 'landslope      3',\n",
              " 'neighborhood   25',\n",
              " 'condition1     9',\n",
              " 'condition2     8',\n",
              " 'bldgtype       5',\n",
              " 'housestyle     8',\n",
              " 'roofstyle      6',\n",
              " 'roofmatl       7',\n",
              " 'exterior1st    15',\n",
              " 'exterior2nd    16',\n",
              " 'exterqual      4',\n",
              " 'extercond      5',\n",
              " 'foundation     6',\n",
              " 'heating        6',\n",
              " 'heatingqc      5',\n",
              " 'centralair     2',\n",
              " 'kitchenqual    4',\n",
              " 'functional     7',\n",
              " 'paveddrive     3',\n",
              " 'saletype       9',\n",
              " 'salecondition  6']"
            ]
          },
          "metadata": {
            "tags": []
          },
          "execution_count": 65
        }
      ]
    },
    {
      "cell_type": "code",
      "metadata": {
        "id": "Z1rKPljCBsRo",
        "colab_type": "code",
        "colab": {
          "base_uri": "https://localhost:8080/",
          "height": 571
        },
        "outputId": "ea26e7f2-44fe-4981-e8ec-9e0ada96d2bb"
      },
      "source": [
        "numerical_columns = [col for col in train_x_full.columns if train_x_full[col].dtype in ['int64', 'float64']]\n",
        "numerical_columns"
      ],
      "execution_count": 66,
      "outputs": [
        {
          "output_type": "execute_result",
          "data": {
            "text/plain": [
              "['mssubclass',\n",
              " 'lotarea',\n",
              " 'overallqual',\n",
              " 'overallcond',\n",
              " 'yearbuilt',\n",
              " 'yearremodadd',\n",
              " 'bsmtfinsf1',\n",
              " 'bsmtfinsf2',\n",
              " 'bsmtunfsf',\n",
              " 'totalbsmtsf',\n",
              " '1stflrsf',\n",
              " '2ndflrsf',\n",
              " 'lowqualfinsf',\n",
              " 'grlivarea',\n",
              " 'bsmtfullbath',\n",
              " 'bsmthalfbath',\n",
              " 'fullbath',\n",
              " 'halfbath',\n",
              " 'bedroomabvgr',\n",
              " 'kitchenabvgr',\n",
              " 'totrmsabvgrd',\n",
              " 'fireplaces',\n",
              " 'garagecars',\n",
              " 'garagearea',\n",
              " 'wooddecksf',\n",
              " 'openporchsf',\n",
              " 'enclosedporch',\n",
              " '3ssnporch',\n",
              " 'screenporch',\n",
              " 'poolarea',\n",
              " 'miscval',\n",
              " 'mosold',\n",
              " 'yrsold']"
            ]
          },
          "metadata": {
            "tags": []
          },
          "execution_count": 66
        }
      ]
    },
    {
      "cell_type": "code",
      "metadata": {
        "id": "YbLYGnxyB9wT",
        "colab_type": "code",
        "colab": {
          "base_uri": "https://localhost:8080/",
          "height": 420
        },
        "outputId": "77b8e0a0-0f23-42d1-d217-74ae54cb4c86"
      },
      "source": [
        "low_cardinality_columns = [col for col in train_x_full.columns if train_x_full[col].dtype == 'object' and train_x_full[col].nunique() < 10]\n",
        "low_cardinality_columns"
      ],
      "execution_count": 67,
      "outputs": [
        {
          "output_type": "execute_result",
          "data": {
            "text/plain": [
              "['mszoning',\n",
              " 'street',\n",
              " 'lotshape',\n",
              " 'landcontour',\n",
              " 'utilities',\n",
              " 'lotconfig',\n",
              " 'landslope',\n",
              " 'condition1',\n",
              " 'condition2',\n",
              " 'bldgtype',\n",
              " 'housestyle',\n",
              " 'roofstyle',\n",
              " 'roofmatl',\n",
              " 'exterqual',\n",
              " 'extercond',\n",
              " 'foundation',\n",
              " 'heating',\n",
              " 'heatingqc',\n",
              " 'centralair',\n",
              " 'kitchenqual',\n",
              " 'functional',\n",
              " 'paveddrive',\n",
              " 'saletype',\n",
              " 'salecondition']"
            ]
          },
          "metadata": {
            "tags": []
          },
          "execution_count": 67
        }
      ]
    },
    {
      "cell_type": "code",
      "metadata": {
        "id": "859bRSzECRSJ",
        "colab_type": "code",
        "colab": {
          "base_uri": "https://localhost:8080/",
          "height": 974
        },
        "outputId": "d93adedf-ae57-4dd0-8bf3-1d98eb1c6806"
      },
      "source": [
        "selected_columns = low_cardinality_columns + numerical_columns\n",
        "selected_columns"
      ],
      "execution_count": 68,
      "outputs": [
        {
          "output_type": "execute_result",
          "data": {
            "text/plain": [
              "['mszoning',\n",
              " 'street',\n",
              " 'lotshape',\n",
              " 'landcontour',\n",
              " 'utilities',\n",
              " 'lotconfig',\n",
              " 'landslope',\n",
              " 'condition1',\n",
              " 'condition2',\n",
              " 'bldgtype',\n",
              " 'housestyle',\n",
              " 'roofstyle',\n",
              " 'roofmatl',\n",
              " 'exterqual',\n",
              " 'extercond',\n",
              " 'foundation',\n",
              " 'heating',\n",
              " 'heatingqc',\n",
              " 'centralair',\n",
              " 'kitchenqual',\n",
              " 'functional',\n",
              " 'paveddrive',\n",
              " 'saletype',\n",
              " 'salecondition',\n",
              " 'mssubclass',\n",
              " 'lotarea',\n",
              " 'overallqual',\n",
              " 'overallcond',\n",
              " 'yearbuilt',\n",
              " 'yearremodadd',\n",
              " 'bsmtfinsf1',\n",
              " 'bsmtfinsf2',\n",
              " 'bsmtunfsf',\n",
              " 'totalbsmtsf',\n",
              " '1stflrsf',\n",
              " '2ndflrsf',\n",
              " 'lowqualfinsf',\n",
              " 'grlivarea',\n",
              " 'bsmtfullbath',\n",
              " 'bsmthalfbath',\n",
              " 'fullbath',\n",
              " 'halfbath',\n",
              " 'bedroomabvgr',\n",
              " 'kitchenabvgr',\n",
              " 'totrmsabvgrd',\n",
              " 'fireplaces',\n",
              " 'garagecars',\n",
              " 'garagearea',\n",
              " 'wooddecksf',\n",
              " 'openporchsf',\n",
              " 'enclosedporch',\n",
              " '3ssnporch',\n",
              " 'screenporch',\n",
              " 'poolarea',\n",
              " 'miscval',\n",
              " 'mosold',\n",
              " 'yrsold']"
            ]
          },
          "metadata": {
            "tags": []
          },
          "execution_count": 68
        }
      ]
    },
    {
      "cell_type": "code",
      "metadata": {
        "id": "-CGLY_1LCVPg",
        "colab_type": "code",
        "colab": {
          "base_uri": "https://localhost:8080/",
          "height": 34
        },
        "outputId": "18c306c1-5e88-4aec-d647-1e2cdc7198f5"
      },
      "source": [
        "# step 5: keep only the selected columns\n",
        "train_x = train_x_full[selected_columns].copy()\n",
        "valid_x = valid_x_full[selected_columns].copy()\n",
        "\n",
        "train_x.shape, valid_x.shape"
      ],
      "execution_count": 69,
      "outputs": [
        {
          "output_type": "execute_result",
          "data": {
            "text/plain": [
              "((1168, 57), (292, 57))"
            ]
          },
          "metadata": {
            "tags": []
          },
          "execution_count": 69
        }
      ]
    },
    {
      "cell_type": "code",
      "metadata": {
        "id": "vGCUB2vVDjs0",
        "colab_type": "code",
        "colab": {
          "base_uri": "https://localhost:8080/",
          "height": 186
        },
        "outputId": "06e5324a-64ae-428a-b1de-4c0ae8af9d1f"
      },
      "source": [
        "train_x.head(3)"
      ],
      "execution_count": 70,
      "outputs": [
        {
          "output_type": "execute_result",
          "data": {
            "text/html": [
              "<div>\n",
              "<style scoped>\n",
              "    .dataframe tbody tr th:only-of-type {\n",
              "        vertical-align: middle;\n",
              "    }\n",
              "\n",
              "    .dataframe tbody tr th {\n",
              "        vertical-align: top;\n",
              "    }\n",
              "\n",
              "    .dataframe thead th {\n",
              "        text-align: right;\n",
              "    }\n",
              "</style>\n",
              "<table border=\"1\" class=\"dataframe\">\n",
              "  <thead>\n",
              "    <tr style=\"text-align: right;\">\n",
              "      <th></th>\n",
              "      <th>mszoning</th>\n",
              "      <th>street</th>\n",
              "      <th>lotshape</th>\n",
              "      <th>landcontour</th>\n",
              "      <th>utilities</th>\n",
              "      <th>lotconfig</th>\n",
              "      <th>landslope</th>\n",
              "      <th>condition1</th>\n",
              "      <th>condition2</th>\n",
              "      <th>bldgtype</th>\n",
              "      <th>housestyle</th>\n",
              "      <th>roofstyle</th>\n",
              "      <th>roofmatl</th>\n",
              "      <th>exterqual</th>\n",
              "      <th>extercond</th>\n",
              "      <th>foundation</th>\n",
              "      <th>heating</th>\n",
              "      <th>heatingqc</th>\n",
              "      <th>centralair</th>\n",
              "      <th>kitchenqual</th>\n",
              "      <th>functional</th>\n",
              "      <th>paveddrive</th>\n",
              "      <th>saletype</th>\n",
              "      <th>salecondition</th>\n",
              "      <th>mssubclass</th>\n",
              "      <th>lotarea</th>\n",
              "      <th>overallqual</th>\n",
              "      <th>overallcond</th>\n",
              "      <th>yearbuilt</th>\n",
              "      <th>yearremodadd</th>\n",
              "      <th>bsmtfinsf1</th>\n",
              "      <th>bsmtfinsf2</th>\n",
              "      <th>bsmtunfsf</th>\n",
              "      <th>totalbsmtsf</th>\n",
              "      <th>1stflrsf</th>\n",
              "      <th>2ndflrsf</th>\n",
              "      <th>lowqualfinsf</th>\n",
              "      <th>grlivarea</th>\n",
              "      <th>bsmtfullbath</th>\n",
              "      <th>bsmthalfbath</th>\n",
              "      <th>fullbath</th>\n",
              "      <th>halfbath</th>\n",
              "      <th>bedroomabvgr</th>\n",
              "      <th>kitchenabvgr</th>\n",
              "      <th>totrmsabvgrd</th>\n",
              "      <th>fireplaces</th>\n",
              "      <th>garagecars</th>\n",
              "      <th>garagearea</th>\n",
              "      <th>wooddecksf</th>\n",
              "      <th>openporchsf</th>\n",
              "      <th>enclosedporch</th>\n",
              "      <th>3ssnporch</th>\n",
              "      <th>screenporch</th>\n",
              "      <th>poolarea</th>\n",
              "      <th>miscval</th>\n",
              "      <th>mosold</th>\n",
              "      <th>yrsold</th>\n",
              "    </tr>\n",
              "    <tr>\n",
              "      <th>Id</th>\n",
              "      <th></th>\n",
              "      <th></th>\n",
              "      <th></th>\n",
              "      <th></th>\n",
              "      <th></th>\n",
              "      <th></th>\n",
              "      <th></th>\n",
              "      <th></th>\n",
              "      <th></th>\n",
              "      <th></th>\n",
              "      <th></th>\n",
              "      <th></th>\n",
              "      <th></th>\n",
              "      <th></th>\n",
              "      <th></th>\n",
              "      <th></th>\n",
              "      <th></th>\n",
              "      <th></th>\n",
              "      <th></th>\n",
              "      <th></th>\n",
              "      <th></th>\n",
              "      <th></th>\n",
              "      <th></th>\n",
              "      <th></th>\n",
              "      <th></th>\n",
              "      <th></th>\n",
              "      <th></th>\n",
              "      <th></th>\n",
              "      <th></th>\n",
              "      <th></th>\n",
              "      <th></th>\n",
              "      <th></th>\n",
              "      <th></th>\n",
              "      <th></th>\n",
              "      <th></th>\n",
              "      <th></th>\n",
              "      <th></th>\n",
              "      <th></th>\n",
              "      <th></th>\n",
              "      <th></th>\n",
              "      <th></th>\n",
              "      <th></th>\n",
              "      <th></th>\n",
              "      <th></th>\n",
              "      <th></th>\n",
              "      <th></th>\n",
              "      <th></th>\n",
              "      <th></th>\n",
              "      <th></th>\n",
              "      <th></th>\n",
              "      <th></th>\n",
              "      <th></th>\n",
              "      <th></th>\n",
              "      <th></th>\n",
              "      <th></th>\n",
              "      <th></th>\n",
              "      <th></th>\n",
              "    </tr>\n",
              "  </thead>\n",
              "  <tbody>\n",
              "    <tr>\n",
              "      <th>255</th>\n",
              "      <td>RL</td>\n",
              "      <td>Pave</td>\n",
              "      <td>Reg</td>\n",
              "      <td>Lvl</td>\n",
              "      <td>AllPub</td>\n",
              "      <td>Inside</td>\n",
              "      <td>Gtl</td>\n",
              "      <td>Norm</td>\n",
              "      <td>Norm</td>\n",
              "      <td>1Fam</td>\n",
              "      <td>1Story</td>\n",
              "      <td>Gable</td>\n",
              "      <td>CompShg</td>\n",
              "      <td>TA</td>\n",
              "      <td>Gd</td>\n",
              "      <td>CBlock</td>\n",
              "      <td>GasA</td>\n",
              "      <td>TA</td>\n",
              "      <td>Y</td>\n",
              "      <td>TA</td>\n",
              "      <td>Typ</td>\n",
              "      <td>Y</td>\n",
              "      <td>WD</td>\n",
              "      <td>Normal</td>\n",
              "      <td>20</td>\n",
              "      <td>8400</td>\n",
              "      <td>5</td>\n",
              "      <td>6</td>\n",
              "      <td>1957</td>\n",
              "      <td>1957</td>\n",
              "      <td>922</td>\n",
              "      <td>0</td>\n",
              "      <td>392</td>\n",
              "      <td>1314</td>\n",
              "      <td>1314</td>\n",
              "      <td>0</td>\n",
              "      <td>0</td>\n",
              "      <td>1314</td>\n",
              "      <td>1</td>\n",
              "      <td>0</td>\n",
              "      <td>1</td>\n",
              "      <td>0</td>\n",
              "      <td>3</td>\n",
              "      <td>1</td>\n",
              "      <td>5</td>\n",
              "      <td>0</td>\n",
              "      <td>1</td>\n",
              "      <td>294</td>\n",
              "      <td>250</td>\n",
              "      <td>0</td>\n",
              "      <td>0</td>\n",
              "      <td>0</td>\n",
              "      <td>0</td>\n",
              "      <td>0</td>\n",
              "      <td>0</td>\n",
              "      <td>6</td>\n",
              "      <td>2010</td>\n",
              "    </tr>\n",
              "    <tr>\n",
              "      <th>1067</th>\n",
              "      <td>RL</td>\n",
              "      <td>Pave</td>\n",
              "      <td>IR1</td>\n",
              "      <td>Lvl</td>\n",
              "      <td>AllPub</td>\n",
              "      <td>Inside</td>\n",
              "      <td>Gtl</td>\n",
              "      <td>Norm</td>\n",
              "      <td>Norm</td>\n",
              "      <td>1Fam</td>\n",
              "      <td>2Story</td>\n",
              "      <td>Gable</td>\n",
              "      <td>CompShg</td>\n",
              "      <td>Gd</td>\n",
              "      <td>TA</td>\n",
              "      <td>PConc</td>\n",
              "      <td>GasA</td>\n",
              "      <td>Gd</td>\n",
              "      <td>Y</td>\n",
              "      <td>TA</td>\n",
              "      <td>Typ</td>\n",
              "      <td>Y</td>\n",
              "      <td>WD</td>\n",
              "      <td>Normal</td>\n",
              "      <td>60</td>\n",
              "      <td>7837</td>\n",
              "      <td>6</td>\n",
              "      <td>7</td>\n",
              "      <td>1993</td>\n",
              "      <td>1994</td>\n",
              "      <td>0</td>\n",
              "      <td>0</td>\n",
              "      <td>799</td>\n",
              "      <td>799</td>\n",
              "      <td>799</td>\n",
              "      <td>772</td>\n",
              "      <td>0</td>\n",
              "      <td>1571</td>\n",
              "      <td>0</td>\n",
              "      <td>0</td>\n",
              "      <td>2</td>\n",
              "      <td>1</td>\n",
              "      <td>3</td>\n",
              "      <td>1</td>\n",
              "      <td>7</td>\n",
              "      <td>1</td>\n",
              "      <td>2</td>\n",
              "      <td>380</td>\n",
              "      <td>0</td>\n",
              "      <td>40</td>\n",
              "      <td>0</td>\n",
              "      <td>0</td>\n",
              "      <td>0</td>\n",
              "      <td>0</td>\n",
              "      <td>0</td>\n",
              "      <td>5</td>\n",
              "      <td>2009</td>\n",
              "    </tr>\n",
              "    <tr>\n",
              "      <th>639</th>\n",
              "      <td>RL</td>\n",
              "      <td>Pave</td>\n",
              "      <td>Reg</td>\n",
              "      <td>Lvl</td>\n",
              "      <td>AllPub</td>\n",
              "      <td>Inside</td>\n",
              "      <td>Gtl</td>\n",
              "      <td>Feedr</td>\n",
              "      <td>Norm</td>\n",
              "      <td>1Fam</td>\n",
              "      <td>1Story</td>\n",
              "      <td>Gable</td>\n",
              "      <td>CompShg</td>\n",
              "      <td>TA</td>\n",
              "      <td>TA</td>\n",
              "      <td>CBlock</td>\n",
              "      <td>GasA</td>\n",
              "      <td>Gd</td>\n",
              "      <td>Y</td>\n",
              "      <td>TA</td>\n",
              "      <td>Typ</td>\n",
              "      <td>P</td>\n",
              "      <td>WD</td>\n",
              "      <td>Normal</td>\n",
              "      <td>30</td>\n",
              "      <td>8777</td>\n",
              "      <td>5</td>\n",
              "      <td>7</td>\n",
              "      <td>1910</td>\n",
              "      <td>1950</td>\n",
              "      <td>0</td>\n",
              "      <td>0</td>\n",
              "      <td>796</td>\n",
              "      <td>796</td>\n",
              "      <td>796</td>\n",
              "      <td>0</td>\n",
              "      <td>0</td>\n",
              "      <td>796</td>\n",
              "      <td>0</td>\n",
              "      <td>0</td>\n",
              "      <td>1</td>\n",
              "      <td>0</td>\n",
              "      <td>2</td>\n",
              "      <td>1</td>\n",
              "      <td>4</td>\n",
              "      <td>0</td>\n",
              "      <td>0</td>\n",
              "      <td>0</td>\n",
              "      <td>328</td>\n",
              "      <td>0</td>\n",
              "      <td>164</td>\n",
              "      <td>0</td>\n",
              "      <td>0</td>\n",
              "      <td>0</td>\n",
              "      <td>0</td>\n",
              "      <td>5</td>\n",
              "      <td>2008</td>\n",
              "    </tr>\n",
              "  </tbody>\n",
              "</table>\n",
              "</div>"
            ],
            "text/plain": [
              "     mszoning street lotshape landcontour  ... poolarea miscval mosold yrsold\n",
              "Id                                         ...                               \n",
              "255        RL   Pave      Reg         Lvl  ...        0       0      6   2010\n",
              "1067       RL   Pave      IR1         Lvl  ...        0       0      5   2009\n",
              "639        RL   Pave      Reg         Lvl  ...        0       0      5   2008\n",
              "\n",
              "[3 rows x 57 columns]"
            ]
          },
          "metadata": {
            "tags": []
          },
          "execution_count": 70
        }
      ]
    },
    {
      "cell_type": "code",
      "metadata": {
        "id": "oanJV_MTDsnt",
        "colab_type": "code",
        "colab": {
          "base_uri": "https://localhost:8080/",
          "height": 437
        },
        "outputId": "022c002c-e8fd-48d6-d539-2a6d786cd306"
      },
      "source": [
        "condition_obj = train_x.dtypes == 'object'\n",
        "train_x.dtypes[condition_obj]"
      ],
      "execution_count": 71,
      "outputs": [
        {
          "output_type": "execute_result",
          "data": {
            "text/plain": [
              "mszoning         object\n",
              "street           object\n",
              "lotshape         object\n",
              "landcontour      object\n",
              "utilities        object\n",
              "lotconfig        object\n",
              "landslope        object\n",
              "condition1       object\n",
              "condition2       object\n",
              "bldgtype         object\n",
              "housestyle       object\n",
              "roofstyle        object\n",
              "roofmatl         object\n",
              "exterqual        object\n",
              "extercond        object\n",
              "foundation       object\n",
              "heating          object\n",
              "heatingqc        object\n",
              "centralair       object\n",
              "kitchenqual      object\n",
              "functional       object\n",
              "paveddrive       object\n",
              "saletype         object\n",
              "salecondition    object\n",
              "dtype: object"
            ]
          },
          "metadata": {
            "tags": []
          },
          "execution_count": 71
        }
      ]
    },
    {
      "cell_type": "code",
      "metadata": {
        "id": "SOWivAomEPew",
        "colab_type": "code",
        "colab": {
          "base_uri": "https://localhost:8080/",
          "height": 420
        },
        "outputId": "c4c74b6d-4f99-4b83-93a4-a30ac2f35db5"
      },
      "source": [
        "categorical_columns = list(train_x.dtypes[condition_obj].index)\n",
        "categorical_columns"
      ],
      "execution_count": 72,
      "outputs": [
        {
          "output_type": "execute_result",
          "data": {
            "text/plain": [
              "['mszoning',\n",
              " 'street',\n",
              " 'lotshape',\n",
              " 'landcontour',\n",
              " 'utilities',\n",
              " 'lotconfig',\n",
              " 'landslope',\n",
              " 'condition1',\n",
              " 'condition2',\n",
              " 'bldgtype',\n",
              " 'housestyle',\n",
              " 'roofstyle',\n",
              " 'roofmatl',\n",
              " 'exterqual',\n",
              " 'extercond',\n",
              " 'foundation',\n",
              " 'heating',\n",
              " 'heatingqc',\n",
              " 'centralair',\n",
              " 'kitchenqual',\n",
              " 'functional',\n",
              " 'paveddrive',\n",
              " 'saletype',\n",
              " 'salecondition']"
            ]
          },
          "metadata": {
            "tags": []
          },
          "execution_count": 72
        }
      ]
    },
    {
      "cell_type": "code",
      "metadata": {
        "id": "yOO4cQfzEe61",
        "colab_type": "code",
        "colab": {}
      },
      "source": [
        "from sklearn.ensemble import RandomForestRegressor\n",
        "from sklearn.metrics import mean_absolute_error\n",
        "\n",
        "def score_dataset(train_x, valid_x, train_y, valid_y):\n",
        "    \"\"\"Return the MAE of the dataset.\n",
        "    \"\"\"\n",
        "    model = RandomForestRegressor(n_estimators=100, random_state=42)\n",
        "    model.fit(train_x, train_y)\n",
        "    preds = model.predict(valid_x)\n",
        "    return mean_absolute_error(y_true=valid_y, y_pred=preds)\n"
      ],
      "execution_count": 0,
      "outputs": []
    },
    {
      "cell_type": "markdown",
      "metadata": {
        "id": "jAtWSMtsFevt",
        "colab_type": "text"
      },
      "source": [
        "### Approach 1: Simply drop the `categorical` columns."
      ]
    },
    {
      "cell_type": "code",
      "metadata": {
        "id": "Am4PFGKcExnT",
        "colab_type": "code",
        "colab": {
          "base_uri": "https://localhost:8080/",
          "height": 34
        },
        "outputId": "1c022519-d155-41e1-a9a1-e9ab198d9117"
      },
      "source": [
        "drop_train_x = train_x.select_dtypes(exclude=['object'])\n",
        "drop_valid_x = valid_x.select_dtypes(exclude=['object'])\n",
        "\n",
        "score_dataset(train_x=drop_train_x, valid_x=drop_valid_x,\n",
        "              train_y=train_y, valid_y=valid_y)"
      ],
      "execution_count": 74,
      "outputs": [
        {
          "output_type": "execute_result",
          "data": {
            "text/plain": [
              "17877.492979452054"
            ]
          },
          "metadata": {
            "tags": []
          },
          "execution_count": 74
        }
      ]
    },
    {
      "cell_type": "markdown",
      "metadata": {
        "id": "uYUaoP0aGQuW",
        "colab_type": "text"
      },
      "source": [
        "### Approach 2: Label Encoding using `LabelEncoder`."
      ]
    },
    {
      "cell_type": "code",
      "metadata": {
        "id": "vK-7nYZ8GNWj",
        "colab_type": "code",
        "colab": {
          "base_uri": "https://localhost:8080/",
          "height": 442
        },
        "outputId": "3e28a1e6-27d1-41ab-85da-d91fbc50c7bc"
      },
      "source": [
        "from sklearn.preprocessing import LabelEncoder\n",
        "\n",
        "label_train_x = train_x.copy()\n",
        "label_valid_x = valid_x.copy()\n",
        "\n",
        "label_encoder = LabelEncoder()\n",
        "for col in categorical_columns:\n",
        "    label_train_x[col] = label_encoder.fit_transform(train_x[col])\n",
        "    label_valid_x[col] = label_encoder.transform(valid_x[col])\n",
        "\n",
        "label_train_x.head(3)"
      ],
      "execution_count": 75,
      "outputs": [
        {
          "output_type": "error",
          "ename": "ValueError",
          "evalue": "ignored",
          "traceback": [
            "\u001b[0;31m---------------------------------------------------------------------------\u001b[0m",
            "\u001b[0;31mKeyError\u001b[0m                                  Traceback (most recent call last)",
            "\u001b[0;32m/usr/local/lib/python3.6/dist-packages/sklearn/preprocessing/label.py\u001b[0m in \u001b[0;36m_encode_python\u001b[0;34m(values, uniques, encode)\u001b[0m\n\u001b[1;32m     63\u001b[0m         \u001b[0;32mtry\u001b[0m\u001b[0;34m:\u001b[0m\u001b[0;34m\u001b[0m\u001b[0;34m\u001b[0m\u001b[0m\n\u001b[0;32m---> 64\u001b[0;31m             \u001b[0mencoded\u001b[0m \u001b[0;34m=\u001b[0m \u001b[0mnp\u001b[0m\u001b[0;34m.\u001b[0m\u001b[0marray\u001b[0m\u001b[0;34m(\u001b[0m\u001b[0;34m[\u001b[0m\u001b[0mtable\u001b[0m\u001b[0;34m[\u001b[0m\u001b[0mv\u001b[0m\u001b[0;34m]\u001b[0m \u001b[0;32mfor\u001b[0m \u001b[0mv\u001b[0m \u001b[0;32min\u001b[0m \u001b[0mvalues\u001b[0m\u001b[0;34m]\u001b[0m\u001b[0;34m)\u001b[0m\u001b[0;34m\u001b[0m\u001b[0;34m\u001b[0m\u001b[0m\n\u001b[0m\u001b[1;32m     65\u001b[0m         \u001b[0;32mexcept\u001b[0m \u001b[0mKeyError\u001b[0m \u001b[0;32mas\u001b[0m \u001b[0me\u001b[0m\u001b[0;34m:\u001b[0m\u001b[0;34m\u001b[0m\u001b[0;34m\u001b[0m\u001b[0m\n",
            "\u001b[0;32m/usr/local/lib/python3.6/dist-packages/sklearn/preprocessing/label.py\u001b[0m in \u001b[0;36m<listcomp>\u001b[0;34m(.0)\u001b[0m\n\u001b[1;32m     63\u001b[0m         \u001b[0;32mtry\u001b[0m\u001b[0;34m:\u001b[0m\u001b[0;34m\u001b[0m\u001b[0;34m\u001b[0m\u001b[0m\n\u001b[0;32m---> 64\u001b[0;31m             \u001b[0mencoded\u001b[0m \u001b[0;34m=\u001b[0m \u001b[0mnp\u001b[0m\u001b[0;34m.\u001b[0m\u001b[0marray\u001b[0m\u001b[0;34m(\u001b[0m\u001b[0;34m[\u001b[0m\u001b[0mtable\u001b[0m\u001b[0;34m[\u001b[0m\u001b[0mv\u001b[0m\u001b[0;34m]\u001b[0m \u001b[0;32mfor\u001b[0m \u001b[0mv\u001b[0m \u001b[0;32min\u001b[0m \u001b[0mvalues\u001b[0m\u001b[0;34m]\u001b[0m\u001b[0;34m)\u001b[0m\u001b[0;34m\u001b[0m\u001b[0;34m\u001b[0m\u001b[0m\n\u001b[0m\u001b[1;32m     65\u001b[0m         \u001b[0;32mexcept\u001b[0m \u001b[0mKeyError\u001b[0m \u001b[0;32mas\u001b[0m \u001b[0me\u001b[0m\u001b[0;34m:\u001b[0m\u001b[0;34m\u001b[0m\u001b[0;34m\u001b[0m\u001b[0m\n",
            "\u001b[0;31mKeyError\u001b[0m: 'Membran'",
            "\nDuring handling of the above exception, another exception occurred:\n",
            "\u001b[0;31mValueError\u001b[0m                                Traceback (most recent call last)",
            "\u001b[0;32m<ipython-input-75-c8f27c08804f>\u001b[0m in \u001b[0;36m<module>\u001b[0;34m()\u001b[0m\n\u001b[1;32m      7\u001b[0m \u001b[0;32mfor\u001b[0m \u001b[0mcol\u001b[0m \u001b[0;32min\u001b[0m \u001b[0mcategorical_columns\u001b[0m\u001b[0;34m:\u001b[0m\u001b[0;34m\u001b[0m\u001b[0;34m\u001b[0m\u001b[0m\n\u001b[1;32m      8\u001b[0m     \u001b[0mlabel_train_x\u001b[0m\u001b[0;34m[\u001b[0m\u001b[0mcol\u001b[0m\u001b[0;34m]\u001b[0m \u001b[0;34m=\u001b[0m \u001b[0mlabel_encoder\u001b[0m\u001b[0;34m.\u001b[0m\u001b[0mfit_transform\u001b[0m\u001b[0;34m(\u001b[0m\u001b[0mtrain_x\u001b[0m\u001b[0;34m[\u001b[0m\u001b[0mcol\u001b[0m\u001b[0;34m]\u001b[0m\u001b[0;34m)\u001b[0m\u001b[0;34m\u001b[0m\u001b[0;34m\u001b[0m\u001b[0m\n\u001b[0;32m----> 9\u001b[0;31m     \u001b[0mlabel_valid_x\u001b[0m\u001b[0;34m[\u001b[0m\u001b[0mcol\u001b[0m\u001b[0;34m]\u001b[0m \u001b[0;34m=\u001b[0m \u001b[0mlabel_encoder\u001b[0m\u001b[0;34m.\u001b[0m\u001b[0mtransform\u001b[0m\u001b[0;34m(\u001b[0m\u001b[0mvalid_x\u001b[0m\u001b[0;34m[\u001b[0m\u001b[0mcol\u001b[0m\u001b[0;34m]\u001b[0m\u001b[0;34m)\u001b[0m\u001b[0;34m\u001b[0m\u001b[0;34m\u001b[0m\u001b[0m\n\u001b[0m\u001b[1;32m     10\u001b[0m \u001b[0;34m\u001b[0m\u001b[0m\n\u001b[1;32m     11\u001b[0m \u001b[0mlabel_train_x\u001b[0m\u001b[0;34m.\u001b[0m\u001b[0mhead\u001b[0m\u001b[0;34m(\u001b[0m\u001b[0;36m3\u001b[0m\u001b[0;34m)\u001b[0m\u001b[0;34m\u001b[0m\u001b[0;34m\u001b[0m\u001b[0m\n",
            "\u001b[0;32m/usr/local/lib/python3.6/dist-packages/sklearn/preprocessing/label.py\u001b[0m in \u001b[0;36mtransform\u001b[0;34m(self, y)\u001b[0m\n\u001b[1;32m    255\u001b[0m             \u001b[0;32mreturn\u001b[0m \u001b[0mnp\u001b[0m\u001b[0;34m.\u001b[0m\u001b[0marray\u001b[0m\u001b[0;34m(\u001b[0m\u001b[0;34m[\u001b[0m\u001b[0;34m]\u001b[0m\u001b[0;34m)\u001b[0m\u001b[0;34m\u001b[0m\u001b[0;34m\u001b[0m\u001b[0m\n\u001b[1;32m    256\u001b[0m \u001b[0;34m\u001b[0m\u001b[0m\n\u001b[0;32m--> 257\u001b[0;31m         \u001b[0m_\u001b[0m\u001b[0;34m,\u001b[0m \u001b[0my\u001b[0m \u001b[0;34m=\u001b[0m \u001b[0m_encode\u001b[0m\u001b[0;34m(\u001b[0m\u001b[0my\u001b[0m\u001b[0;34m,\u001b[0m \u001b[0muniques\u001b[0m\u001b[0;34m=\u001b[0m\u001b[0mself\u001b[0m\u001b[0;34m.\u001b[0m\u001b[0mclasses_\u001b[0m\u001b[0;34m,\u001b[0m \u001b[0mencode\u001b[0m\u001b[0;34m=\u001b[0m\u001b[0;32mTrue\u001b[0m\u001b[0;34m)\u001b[0m\u001b[0;34m\u001b[0m\u001b[0;34m\u001b[0m\u001b[0m\n\u001b[0m\u001b[1;32m    258\u001b[0m         \u001b[0;32mreturn\u001b[0m \u001b[0my\u001b[0m\u001b[0;34m\u001b[0m\u001b[0;34m\u001b[0m\u001b[0m\n\u001b[1;32m    259\u001b[0m \u001b[0;34m\u001b[0m\u001b[0m\n",
            "\u001b[0;32m/usr/local/lib/python3.6/dist-packages/sklearn/preprocessing/label.py\u001b[0m in \u001b[0;36m_encode\u001b[0;34m(values, uniques, encode)\u001b[0m\n\u001b[1;32m    103\u001b[0m     \u001b[0;32mif\u001b[0m \u001b[0mvalues\u001b[0m\u001b[0;34m.\u001b[0m\u001b[0mdtype\u001b[0m \u001b[0;34m==\u001b[0m \u001b[0mobject\u001b[0m\u001b[0;34m:\u001b[0m\u001b[0;34m\u001b[0m\u001b[0;34m\u001b[0m\u001b[0m\n\u001b[1;32m    104\u001b[0m         \u001b[0;32mtry\u001b[0m\u001b[0;34m:\u001b[0m\u001b[0;34m\u001b[0m\u001b[0;34m\u001b[0m\u001b[0m\n\u001b[0;32m--> 105\u001b[0;31m             \u001b[0mres\u001b[0m \u001b[0;34m=\u001b[0m \u001b[0m_encode_python\u001b[0m\u001b[0;34m(\u001b[0m\u001b[0mvalues\u001b[0m\u001b[0;34m,\u001b[0m \u001b[0muniques\u001b[0m\u001b[0;34m,\u001b[0m \u001b[0mencode\u001b[0m\u001b[0;34m)\u001b[0m\u001b[0;34m\u001b[0m\u001b[0;34m\u001b[0m\u001b[0m\n\u001b[0m\u001b[1;32m    106\u001b[0m         \u001b[0;32mexcept\u001b[0m \u001b[0mTypeError\u001b[0m\u001b[0;34m:\u001b[0m\u001b[0;34m\u001b[0m\u001b[0;34m\u001b[0m\u001b[0m\n\u001b[1;32m    107\u001b[0m             \u001b[0;32mraise\u001b[0m \u001b[0mTypeError\u001b[0m\u001b[0;34m(\u001b[0m\u001b[0;34m\"argument must be a string or number\"\u001b[0m\u001b[0;34m)\u001b[0m\u001b[0;34m\u001b[0m\u001b[0;34m\u001b[0m\u001b[0m\n",
            "\u001b[0;32m/usr/local/lib/python3.6/dist-packages/sklearn/preprocessing/label.py\u001b[0m in \u001b[0;36m_encode_python\u001b[0;34m(values, uniques, encode)\u001b[0m\n\u001b[1;32m     65\u001b[0m         \u001b[0;32mexcept\u001b[0m \u001b[0mKeyError\u001b[0m \u001b[0;32mas\u001b[0m \u001b[0me\u001b[0m\u001b[0;34m:\u001b[0m\u001b[0;34m\u001b[0m\u001b[0;34m\u001b[0m\u001b[0m\n\u001b[1;32m     66\u001b[0m             raise ValueError(\"y contains previously unseen labels: %s\"\n\u001b[0;32m---> 67\u001b[0;31m                              % str(e))\n\u001b[0m\u001b[1;32m     68\u001b[0m         \u001b[0;32mreturn\u001b[0m \u001b[0muniques\u001b[0m\u001b[0;34m,\u001b[0m \u001b[0mencoded\u001b[0m\u001b[0;34m\u001b[0m\u001b[0;34m\u001b[0m\u001b[0m\n\u001b[1;32m     69\u001b[0m     \u001b[0;32melse\u001b[0m\u001b[0;34m:\u001b[0m\u001b[0;34m\u001b[0m\u001b[0;34m\u001b[0m\u001b[0m\n",
            "\u001b[0;31mValueError\u001b[0m: y contains previously unseen labels: 'Membran'"
          ]
        }
      ]
    },
    {
      "cell_type": "markdown",
      "metadata": {
        "id": "FIavHll4QA5z",
        "colab_type": "text"
      },
      "source": [
        "### Something is fishy. Let's investigate it.\n",
        "\n",
        "\n",
        "```\n",
        "label_train_x.head(3)\n",
        "```\n",
        "shows that the categorical columns are transfromed to numerical values up to the `roofmatl` column.\n"
      ]
    },
    {
      "cell_type": "code",
      "metadata": {
        "id": "TdBwzOquGe0S",
        "colab_type": "code",
        "colab": {
          "base_uri": "https://localhost:8080/",
          "height": 186
        },
        "outputId": "da13f88e-2efb-46c8-fcce-16fbad39322e"
      },
      "source": [
        "label_train_x.head(3)"
      ],
      "execution_count": 76,
      "outputs": [
        {
          "output_type": "execute_result",
          "data": {
            "text/html": [
              "<div>\n",
              "<style scoped>\n",
              "    .dataframe tbody tr th:only-of-type {\n",
              "        vertical-align: middle;\n",
              "    }\n",
              "\n",
              "    .dataframe tbody tr th {\n",
              "        vertical-align: top;\n",
              "    }\n",
              "\n",
              "    .dataframe thead th {\n",
              "        text-align: right;\n",
              "    }\n",
              "</style>\n",
              "<table border=\"1\" class=\"dataframe\">\n",
              "  <thead>\n",
              "    <tr style=\"text-align: right;\">\n",
              "      <th></th>\n",
              "      <th>mszoning</th>\n",
              "      <th>street</th>\n",
              "      <th>lotshape</th>\n",
              "      <th>landcontour</th>\n",
              "      <th>utilities</th>\n",
              "      <th>lotconfig</th>\n",
              "      <th>landslope</th>\n",
              "      <th>condition1</th>\n",
              "      <th>condition2</th>\n",
              "      <th>bldgtype</th>\n",
              "      <th>housestyle</th>\n",
              "      <th>roofstyle</th>\n",
              "      <th>roofmatl</th>\n",
              "      <th>exterqual</th>\n",
              "      <th>extercond</th>\n",
              "      <th>foundation</th>\n",
              "      <th>heating</th>\n",
              "      <th>heatingqc</th>\n",
              "      <th>centralair</th>\n",
              "      <th>kitchenqual</th>\n",
              "      <th>functional</th>\n",
              "      <th>paveddrive</th>\n",
              "      <th>saletype</th>\n",
              "      <th>salecondition</th>\n",
              "      <th>mssubclass</th>\n",
              "      <th>lotarea</th>\n",
              "      <th>overallqual</th>\n",
              "      <th>overallcond</th>\n",
              "      <th>yearbuilt</th>\n",
              "      <th>yearremodadd</th>\n",
              "      <th>bsmtfinsf1</th>\n",
              "      <th>bsmtfinsf2</th>\n",
              "      <th>bsmtunfsf</th>\n",
              "      <th>totalbsmtsf</th>\n",
              "      <th>1stflrsf</th>\n",
              "      <th>2ndflrsf</th>\n",
              "      <th>lowqualfinsf</th>\n",
              "      <th>grlivarea</th>\n",
              "      <th>bsmtfullbath</th>\n",
              "      <th>bsmthalfbath</th>\n",
              "      <th>fullbath</th>\n",
              "      <th>halfbath</th>\n",
              "      <th>bedroomabvgr</th>\n",
              "      <th>kitchenabvgr</th>\n",
              "      <th>totrmsabvgrd</th>\n",
              "      <th>fireplaces</th>\n",
              "      <th>garagecars</th>\n",
              "      <th>garagearea</th>\n",
              "      <th>wooddecksf</th>\n",
              "      <th>openporchsf</th>\n",
              "      <th>enclosedporch</th>\n",
              "      <th>3ssnporch</th>\n",
              "      <th>screenporch</th>\n",
              "      <th>poolarea</th>\n",
              "      <th>miscval</th>\n",
              "      <th>mosold</th>\n",
              "      <th>yrsold</th>\n",
              "    </tr>\n",
              "    <tr>\n",
              "      <th>Id</th>\n",
              "      <th></th>\n",
              "      <th></th>\n",
              "      <th></th>\n",
              "      <th></th>\n",
              "      <th></th>\n",
              "      <th></th>\n",
              "      <th></th>\n",
              "      <th></th>\n",
              "      <th></th>\n",
              "      <th></th>\n",
              "      <th></th>\n",
              "      <th></th>\n",
              "      <th></th>\n",
              "      <th></th>\n",
              "      <th></th>\n",
              "      <th></th>\n",
              "      <th></th>\n",
              "      <th></th>\n",
              "      <th></th>\n",
              "      <th></th>\n",
              "      <th></th>\n",
              "      <th></th>\n",
              "      <th></th>\n",
              "      <th></th>\n",
              "      <th></th>\n",
              "      <th></th>\n",
              "      <th></th>\n",
              "      <th></th>\n",
              "      <th></th>\n",
              "      <th></th>\n",
              "      <th></th>\n",
              "      <th></th>\n",
              "      <th></th>\n",
              "      <th></th>\n",
              "      <th></th>\n",
              "      <th></th>\n",
              "      <th></th>\n",
              "      <th></th>\n",
              "      <th></th>\n",
              "      <th></th>\n",
              "      <th></th>\n",
              "      <th></th>\n",
              "      <th></th>\n",
              "      <th></th>\n",
              "      <th></th>\n",
              "      <th></th>\n",
              "      <th></th>\n",
              "      <th></th>\n",
              "      <th></th>\n",
              "      <th></th>\n",
              "      <th></th>\n",
              "      <th></th>\n",
              "      <th></th>\n",
              "      <th></th>\n",
              "      <th></th>\n",
              "      <th></th>\n",
              "      <th></th>\n",
              "    </tr>\n",
              "  </thead>\n",
              "  <tbody>\n",
              "    <tr>\n",
              "      <th>255</th>\n",
              "      <td>3</td>\n",
              "      <td>1</td>\n",
              "      <td>3</td>\n",
              "      <td>3</td>\n",
              "      <td>0</td>\n",
              "      <td>4</td>\n",
              "      <td>0</td>\n",
              "      <td>2</td>\n",
              "      <td>2</td>\n",
              "      <td>0</td>\n",
              "      <td>2</td>\n",
              "      <td>1</td>\n",
              "      <td>1</td>\n",
              "      <td>TA</td>\n",
              "      <td>Gd</td>\n",
              "      <td>CBlock</td>\n",
              "      <td>GasA</td>\n",
              "      <td>TA</td>\n",
              "      <td>Y</td>\n",
              "      <td>TA</td>\n",
              "      <td>Typ</td>\n",
              "      <td>Y</td>\n",
              "      <td>WD</td>\n",
              "      <td>Normal</td>\n",
              "      <td>20</td>\n",
              "      <td>8400</td>\n",
              "      <td>5</td>\n",
              "      <td>6</td>\n",
              "      <td>1957</td>\n",
              "      <td>1957</td>\n",
              "      <td>922</td>\n",
              "      <td>0</td>\n",
              "      <td>392</td>\n",
              "      <td>1314</td>\n",
              "      <td>1314</td>\n",
              "      <td>0</td>\n",
              "      <td>0</td>\n",
              "      <td>1314</td>\n",
              "      <td>1</td>\n",
              "      <td>0</td>\n",
              "      <td>1</td>\n",
              "      <td>0</td>\n",
              "      <td>3</td>\n",
              "      <td>1</td>\n",
              "      <td>5</td>\n",
              "      <td>0</td>\n",
              "      <td>1</td>\n",
              "      <td>294</td>\n",
              "      <td>250</td>\n",
              "      <td>0</td>\n",
              "      <td>0</td>\n",
              "      <td>0</td>\n",
              "      <td>0</td>\n",
              "      <td>0</td>\n",
              "      <td>0</td>\n",
              "      <td>6</td>\n",
              "      <td>2010</td>\n",
              "    </tr>\n",
              "    <tr>\n",
              "      <th>1067</th>\n",
              "      <td>3</td>\n",
              "      <td>1</td>\n",
              "      <td>0</td>\n",
              "      <td>3</td>\n",
              "      <td>0</td>\n",
              "      <td>4</td>\n",
              "      <td>0</td>\n",
              "      <td>2</td>\n",
              "      <td>2</td>\n",
              "      <td>0</td>\n",
              "      <td>5</td>\n",
              "      <td>1</td>\n",
              "      <td>1</td>\n",
              "      <td>Gd</td>\n",
              "      <td>TA</td>\n",
              "      <td>PConc</td>\n",
              "      <td>GasA</td>\n",
              "      <td>Gd</td>\n",
              "      <td>Y</td>\n",
              "      <td>TA</td>\n",
              "      <td>Typ</td>\n",
              "      <td>Y</td>\n",
              "      <td>WD</td>\n",
              "      <td>Normal</td>\n",
              "      <td>60</td>\n",
              "      <td>7837</td>\n",
              "      <td>6</td>\n",
              "      <td>7</td>\n",
              "      <td>1993</td>\n",
              "      <td>1994</td>\n",
              "      <td>0</td>\n",
              "      <td>0</td>\n",
              "      <td>799</td>\n",
              "      <td>799</td>\n",
              "      <td>799</td>\n",
              "      <td>772</td>\n",
              "      <td>0</td>\n",
              "      <td>1571</td>\n",
              "      <td>0</td>\n",
              "      <td>0</td>\n",
              "      <td>2</td>\n",
              "      <td>1</td>\n",
              "      <td>3</td>\n",
              "      <td>1</td>\n",
              "      <td>7</td>\n",
              "      <td>1</td>\n",
              "      <td>2</td>\n",
              "      <td>380</td>\n",
              "      <td>0</td>\n",
              "      <td>40</td>\n",
              "      <td>0</td>\n",
              "      <td>0</td>\n",
              "      <td>0</td>\n",
              "      <td>0</td>\n",
              "      <td>0</td>\n",
              "      <td>5</td>\n",
              "      <td>2009</td>\n",
              "    </tr>\n",
              "    <tr>\n",
              "      <th>639</th>\n",
              "      <td>3</td>\n",
              "      <td>1</td>\n",
              "      <td>3</td>\n",
              "      <td>3</td>\n",
              "      <td>0</td>\n",
              "      <td>4</td>\n",
              "      <td>0</td>\n",
              "      <td>1</td>\n",
              "      <td>2</td>\n",
              "      <td>0</td>\n",
              "      <td>2</td>\n",
              "      <td>1</td>\n",
              "      <td>1</td>\n",
              "      <td>TA</td>\n",
              "      <td>TA</td>\n",
              "      <td>CBlock</td>\n",
              "      <td>GasA</td>\n",
              "      <td>Gd</td>\n",
              "      <td>Y</td>\n",
              "      <td>TA</td>\n",
              "      <td>Typ</td>\n",
              "      <td>P</td>\n",
              "      <td>WD</td>\n",
              "      <td>Normal</td>\n",
              "      <td>30</td>\n",
              "      <td>8777</td>\n",
              "      <td>5</td>\n",
              "      <td>7</td>\n",
              "      <td>1910</td>\n",
              "      <td>1950</td>\n",
              "      <td>0</td>\n",
              "      <td>0</td>\n",
              "      <td>796</td>\n",
              "      <td>796</td>\n",
              "      <td>796</td>\n",
              "      <td>0</td>\n",
              "      <td>0</td>\n",
              "      <td>796</td>\n",
              "      <td>0</td>\n",
              "      <td>0</td>\n",
              "      <td>1</td>\n",
              "      <td>0</td>\n",
              "      <td>2</td>\n",
              "      <td>1</td>\n",
              "      <td>4</td>\n",
              "      <td>0</td>\n",
              "      <td>0</td>\n",
              "      <td>0</td>\n",
              "      <td>328</td>\n",
              "      <td>0</td>\n",
              "      <td>164</td>\n",
              "      <td>0</td>\n",
              "      <td>0</td>\n",
              "      <td>0</td>\n",
              "      <td>0</td>\n",
              "      <td>5</td>\n",
              "      <td>2008</td>\n",
              "    </tr>\n",
              "  </tbody>\n",
              "</table>\n",
              "</div>"
            ],
            "text/plain": [
              "      mszoning  street  lotshape  ...  miscval  mosold  yrsold\n",
              "Id                                ...                         \n",
              "255          3       1         3  ...        0       6    2010\n",
              "1067         3       1         0  ...        0       5    2009\n",
              "639          3       1         3  ...        0       5    2008\n",
              "\n",
              "[3 rows x 57 columns]"
            ]
          },
          "metadata": {
            "tags": []
          },
          "execution_count": 76
        }
      ]
    },
    {
      "cell_type": "code",
      "metadata": {
        "id": "hvAqLXy7NXtR",
        "colab_type": "code",
        "colab": {
          "base_uri": "https://localhost:8080/",
          "height": 643
        },
        "outputId": "6dbd3b48-c3be-4f16-84d5-d610ed3703ee"
      },
      "source": [
        "# Let's try this Label encoding again:\n",
        "label_train_x = train_x.copy()\n",
        "label_valid_x = valid_x.copy()\n",
        "\n",
        "label_encoder = LabelEncoder()\n",
        "for col in categorical_columns:\n",
        "    label_train_x[col] = label_encoder.fit_transform(train_x[col])\n",
        "    label_valid_x[col] = label_encoder.transform(valid_x[col])\n",
        "    print(f'{col} OK')\n"
      ],
      "execution_count": 77,
      "outputs": [
        {
          "output_type": "stream",
          "text": [
            "mszoning OK\n",
            "street OK\n",
            "lotshape OK\n",
            "landcontour OK\n",
            "utilities OK\n",
            "lotconfig OK\n",
            "landslope OK\n",
            "condition1 OK\n",
            "condition2 OK\n",
            "bldgtype OK\n",
            "housestyle OK\n",
            "roofstyle OK\n"
          ],
          "name": "stdout"
        },
        {
          "output_type": "error",
          "ename": "ValueError",
          "evalue": "ignored",
          "traceback": [
            "\u001b[0;31m---------------------------------------------------------------------------\u001b[0m",
            "\u001b[0;31mKeyError\u001b[0m                                  Traceback (most recent call last)",
            "\u001b[0;32m/usr/local/lib/python3.6/dist-packages/sklearn/preprocessing/label.py\u001b[0m in \u001b[0;36m_encode_python\u001b[0;34m(values, uniques, encode)\u001b[0m\n\u001b[1;32m     63\u001b[0m         \u001b[0;32mtry\u001b[0m\u001b[0;34m:\u001b[0m\u001b[0;34m\u001b[0m\u001b[0;34m\u001b[0m\u001b[0m\n\u001b[0;32m---> 64\u001b[0;31m             \u001b[0mencoded\u001b[0m \u001b[0;34m=\u001b[0m \u001b[0mnp\u001b[0m\u001b[0;34m.\u001b[0m\u001b[0marray\u001b[0m\u001b[0;34m(\u001b[0m\u001b[0;34m[\u001b[0m\u001b[0mtable\u001b[0m\u001b[0;34m[\u001b[0m\u001b[0mv\u001b[0m\u001b[0;34m]\u001b[0m \u001b[0;32mfor\u001b[0m \u001b[0mv\u001b[0m \u001b[0;32min\u001b[0m \u001b[0mvalues\u001b[0m\u001b[0;34m]\u001b[0m\u001b[0;34m)\u001b[0m\u001b[0;34m\u001b[0m\u001b[0;34m\u001b[0m\u001b[0m\n\u001b[0m\u001b[1;32m     65\u001b[0m         \u001b[0;32mexcept\u001b[0m \u001b[0mKeyError\u001b[0m \u001b[0;32mas\u001b[0m \u001b[0me\u001b[0m\u001b[0;34m:\u001b[0m\u001b[0;34m\u001b[0m\u001b[0;34m\u001b[0m\u001b[0m\n",
            "\u001b[0;32m/usr/local/lib/python3.6/dist-packages/sklearn/preprocessing/label.py\u001b[0m in \u001b[0;36m<listcomp>\u001b[0;34m(.0)\u001b[0m\n\u001b[1;32m     63\u001b[0m         \u001b[0;32mtry\u001b[0m\u001b[0;34m:\u001b[0m\u001b[0;34m\u001b[0m\u001b[0;34m\u001b[0m\u001b[0m\n\u001b[0;32m---> 64\u001b[0;31m             \u001b[0mencoded\u001b[0m \u001b[0;34m=\u001b[0m \u001b[0mnp\u001b[0m\u001b[0;34m.\u001b[0m\u001b[0marray\u001b[0m\u001b[0;34m(\u001b[0m\u001b[0;34m[\u001b[0m\u001b[0mtable\u001b[0m\u001b[0;34m[\u001b[0m\u001b[0mv\u001b[0m\u001b[0;34m]\u001b[0m \u001b[0;32mfor\u001b[0m \u001b[0mv\u001b[0m \u001b[0;32min\u001b[0m \u001b[0mvalues\u001b[0m\u001b[0;34m]\u001b[0m\u001b[0;34m)\u001b[0m\u001b[0;34m\u001b[0m\u001b[0;34m\u001b[0m\u001b[0m\n\u001b[0m\u001b[1;32m     65\u001b[0m         \u001b[0;32mexcept\u001b[0m \u001b[0mKeyError\u001b[0m \u001b[0;32mas\u001b[0m \u001b[0me\u001b[0m\u001b[0;34m:\u001b[0m\u001b[0;34m\u001b[0m\u001b[0;34m\u001b[0m\u001b[0m\n",
            "\u001b[0;31mKeyError\u001b[0m: 'Membran'",
            "\nDuring handling of the above exception, another exception occurred:\n",
            "\u001b[0;31mValueError\u001b[0m                                Traceback (most recent call last)",
            "\u001b[0;32m<ipython-input-77-c2bf12a847d0>\u001b[0m in \u001b[0;36m<module>\u001b[0;34m()\u001b[0m\n\u001b[1;32m      5\u001b[0m \u001b[0;32mfor\u001b[0m \u001b[0mcol\u001b[0m \u001b[0;32min\u001b[0m \u001b[0mcategorical_columns\u001b[0m\u001b[0;34m:\u001b[0m\u001b[0;34m\u001b[0m\u001b[0;34m\u001b[0m\u001b[0m\n\u001b[1;32m      6\u001b[0m     \u001b[0mlabel_train_x\u001b[0m\u001b[0;34m[\u001b[0m\u001b[0mcol\u001b[0m\u001b[0;34m]\u001b[0m \u001b[0;34m=\u001b[0m \u001b[0mlabel_encoder\u001b[0m\u001b[0;34m.\u001b[0m\u001b[0mfit_transform\u001b[0m\u001b[0;34m(\u001b[0m\u001b[0mtrain_x\u001b[0m\u001b[0;34m[\u001b[0m\u001b[0mcol\u001b[0m\u001b[0;34m]\u001b[0m\u001b[0;34m)\u001b[0m\u001b[0;34m\u001b[0m\u001b[0;34m\u001b[0m\u001b[0m\n\u001b[0;32m----> 7\u001b[0;31m     \u001b[0mlabel_valid_x\u001b[0m\u001b[0;34m[\u001b[0m\u001b[0mcol\u001b[0m\u001b[0;34m]\u001b[0m \u001b[0;34m=\u001b[0m \u001b[0mlabel_encoder\u001b[0m\u001b[0;34m.\u001b[0m\u001b[0mtransform\u001b[0m\u001b[0;34m(\u001b[0m\u001b[0mvalid_x\u001b[0m\u001b[0;34m[\u001b[0m\u001b[0mcol\u001b[0m\u001b[0;34m]\u001b[0m\u001b[0;34m)\u001b[0m\u001b[0;34m\u001b[0m\u001b[0;34m\u001b[0m\u001b[0m\n\u001b[0m\u001b[1;32m      8\u001b[0m     \u001b[0mprint\u001b[0m\u001b[0;34m(\u001b[0m\u001b[0;34mf'{col} OK'\u001b[0m\u001b[0;34m)\u001b[0m\u001b[0;34m\u001b[0m\u001b[0;34m\u001b[0m\u001b[0m\n",
            "\u001b[0;32m/usr/local/lib/python3.6/dist-packages/sklearn/preprocessing/label.py\u001b[0m in \u001b[0;36mtransform\u001b[0;34m(self, y)\u001b[0m\n\u001b[1;32m    255\u001b[0m             \u001b[0;32mreturn\u001b[0m \u001b[0mnp\u001b[0m\u001b[0;34m.\u001b[0m\u001b[0marray\u001b[0m\u001b[0;34m(\u001b[0m\u001b[0;34m[\u001b[0m\u001b[0;34m]\u001b[0m\u001b[0;34m)\u001b[0m\u001b[0;34m\u001b[0m\u001b[0;34m\u001b[0m\u001b[0m\n\u001b[1;32m    256\u001b[0m \u001b[0;34m\u001b[0m\u001b[0m\n\u001b[0;32m--> 257\u001b[0;31m         \u001b[0m_\u001b[0m\u001b[0;34m,\u001b[0m \u001b[0my\u001b[0m \u001b[0;34m=\u001b[0m \u001b[0m_encode\u001b[0m\u001b[0;34m(\u001b[0m\u001b[0my\u001b[0m\u001b[0;34m,\u001b[0m \u001b[0muniques\u001b[0m\u001b[0;34m=\u001b[0m\u001b[0mself\u001b[0m\u001b[0;34m.\u001b[0m\u001b[0mclasses_\u001b[0m\u001b[0;34m,\u001b[0m \u001b[0mencode\u001b[0m\u001b[0;34m=\u001b[0m\u001b[0;32mTrue\u001b[0m\u001b[0;34m)\u001b[0m\u001b[0;34m\u001b[0m\u001b[0;34m\u001b[0m\u001b[0m\n\u001b[0m\u001b[1;32m    258\u001b[0m         \u001b[0;32mreturn\u001b[0m \u001b[0my\u001b[0m\u001b[0;34m\u001b[0m\u001b[0;34m\u001b[0m\u001b[0m\n\u001b[1;32m    259\u001b[0m \u001b[0;34m\u001b[0m\u001b[0m\n",
            "\u001b[0;32m/usr/local/lib/python3.6/dist-packages/sklearn/preprocessing/label.py\u001b[0m in \u001b[0;36m_encode\u001b[0;34m(values, uniques, encode)\u001b[0m\n\u001b[1;32m    103\u001b[0m     \u001b[0;32mif\u001b[0m \u001b[0mvalues\u001b[0m\u001b[0;34m.\u001b[0m\u001b[0mdtype\u001b[0m \u001b[0;34m==\u001b[0m \u001b[0mobject\u001b[0m\u001b[0;34m:\u001b[0m\u001b[0;34m\u001b[0m\u001b[0;34m\u001b[0m\u001b[0m\n\u001b[1;32m    104\u001b[0m         \u001b[0;32mtry\u001b[0m\u001b[0;34m:\u001b[0m\u001b[0;34m\u001b[0m\u001b[0;34m\u001b[0m\u001b[0m\n\u001b[0;32m--> 105\u001b[0;31m             \u001b[0mres\u001b[0m \u001b[0;34m=\u001b[0m \u001b[0m_encode_python\u001b[0m\u001b[0;34m(\u001b[0m\u001b[0mvalues\u001b[0m\u001b[0;34m,\u001b[0m \u001b[0muniques\u001b[0m\u001b[0;34m,\u001b[0m \u001b[0mencode\u001b[0m\u001b[0;34m)\u001b[0m\u001b[0;34m\u001b[0m\u001b[0;34m\u001b[0m\u001b[0m\n\u001b[0m\u001b[1;32m    106\u001b[0m         \u001b[0;32mexcept\u001b[0m \u001b[0mTypeError\u001b[0m\u001b[0;34m:\u001b[0m\u001b[0;34m\u001b[0m\u001b[0;34m\u001b[0m\u001b[0m\n\u001b[1;32m    107\u001b[0m             \u001b[0;32mraise\u001b[0m \u001b[0mTypeError\u001b[0m\u001b[0;34m(\u001b[0m\u001b[0;34m\"argument must be a string or number\"\u001b[0m\u001b[0;34m)\u001b[0m\u001b[0;34m\u001b[0m\u001b[0;34m\u001b[0m\u001b[0m\n",
            "\u001b[0;32m/usr/local/lib/python3.6/dist-packages/sklearn/preprocessing/label.py\u001b[0m in \u001b[0;36m_encode_python\u001b[0;34m(values, uniques, encode)\u001b[0m\n\u001b[1;32m     65\u001b[0m         \u001b[0;32mexcept\u001b[0m \u001b[0mKeyError\u001b[0m \u001b[0;32mas\u001b[0m \u001b[0me\u001b[0m\u001b[0;34m:\u001b[0m\u001b[0;34m\u001b[0m\u001b[0;34m\u001b[0m\u001b[0m\n\u001b[1;32m     66\u001b[0m             raise ValueError(\"y contains previously unseen labels: %s\"\n\u001b[0;32m---> 67\u001b[0;31m                              % str(e))\n\u001b[0m\u001b[1;32m     68\u001b[0m         \u001b[0;32mreturn\u001b[0m \u001b[0muniques\u001b[0m\u001b[0;34m,\u001b[0m \u001b[0mencoded\u001b[0m\u001b[0;34m\u001b[0m\u001b[0;34m\u001b[0m\u001b[0m\n\u001b[1;32m     69\u001b[0m     \u001b[0;32melse\u001b[0m\u001b[0;34m:\u001b[0m\u001b[0;34m\u001b[0m\u001b[0;34m\u001b[0m\u001b[0m\n",
            "\u001b[0;31mValueError\u001b[0m: y contains previously unseen labels: 'Membran'"
          ]
        }
      ]
    },
    {
      "cell_type": "markdown",
      "metadata": {
        "id": "O_oxBCFGQp5A",
        "colab_type": "text"
      },
      "source": [
        "### We can see that our intuition about the problem location is right.\n",
        "\n",
        "`roofstyle` is the last column that is processed fully.\n",
        "\n",
        "The error message says: \n",
        "\n",
        "*ValueError: y contains previously unseen labels: 'Membran'*\n",
        "\n",
        "Let's see what is missing from the `train_x` that is in `valid_x`."
      ]
    },
    {
      "cell_type": "code",
      "metadata": {
        "id": "2MT_uILXNw-G",
        "colab_type": "code",
        "colab": {
          "base_uri": "https://localhost:8080/",
          "height": 101
        },
        "outputId": "fd916838-cb7e-45b6-bf67-d2a7d151f242"
      },
      "source": [
        "for category in valid_x['roofmatl'].unique():\n",
        "    print(f\"{category} {category in train_x['roofmatl'].unique()}\")"
      ],
      "execution_count": 79,
      "outputs": [
        {
          "output_type": "stream",
          "text": [
            "CompShg True\n",
            "WdShake True\n",
            "WdShngl True\n",
            "Membran False\n",
            "Tar&Grv True\n"
          ],
          "name": "stdout"
        }
      ]
    },
    {
      "cell_type": "markdown",
      "metadata": {
        "id": "mLuoXln-Spbg",
        "colab_type": "text"
      },
      "source": [
        "### The row `Membran False` clearly shows that `Membran` is not in the `train_x` category.\n",
        "\n",
        "One solution would be if we drop the columns where the training set does not have all the corresponding validation labels.\n",
        "\n",
        "Before we drop this column, let's see if there are any other columns with the same problem."
      ]
    },
    {
      "cell_type": "code",
      "metadata": {
        "id": "Ms5zcDlzN-vP",
        "colab_type": "code",
        "colab": {
          "base_uri": "https://localhost:8080/",
          "height": 34
        },
        "outputId": "2eae6c26-dc7b-450c-8416-b2e37d84661b"
      },
      "source": [
        "for col in categorical_columns:\n",
        "    for category in valid_x[col].unique():\n",
        "        if category not in train_x[col].unique():\n",
        "            print(f'{col} is missing {category}')"
      ],
      "execution_count": 82,
      "outputs": [
        {
          "output_type": "stream",
          "text": [
            "roofmatl is missing Membran\n"
          ],
          "name": "stdout"
        }
      ]
    },
    {
      "cell_type": "markdown",
      "metadata": {
        "id": "s1oZ6GTtU_iy",
        "colab_type": "text"
      },
      "source": [
        "### Only the `roofmatl` column is affected.\n",
        "\n",
        "For now, we will drop this column.\n",
        "\n",
        "Another solution could be if we drop `only the rows` that are affected."
      ]
    },
    {
      "cell_type": "code",
      "metadata": {
        "id": "Yz9yJ12mOYNB",
        "colab_type": "code",
        "colab": {
          "base_uri": "https://localhost:8080/",
          "height": 34
        },
        "outputId": "b95908c4-2b71-473a-e336-df6704ad72c2"
      },
      "source": [
        "no_roofmatl_train_x = train_x.drop(['roofmatl'], axis='columns').copy()\n",
        "no_roofmatl_valid_x = valid_x.drop(['roofmatl'], axis='columns').copy()\n",
        "\n",
        "label_train_x = no_roofmatl_train_x.copy()\n",
        "label_valid_x = no_roofmatl_valid_x.copy()\n",
        "\n",
        "label_train_x.shape, label_valid_x.shape"
      ],
      "execution_count": 84,
      "outputs": [
        {
          "output_type": "execute_result",
          "data": {
            "text/plain": [
              "((1168, 56), (292, 56))"
            ]
          },
          "metadata": {
            "tags": []
          },
          "execution_count": 84
        }
      ]
    },
    {
      "cell_type": "code",
      "metadata": {
        "id": "plvE2q8yOeb8",
        "colab_type": "code",
        "colab": {
          "base_uri": "https://localhost:8080/",
          "height": 186
        },
        "outputId": "4a71ec6c-fe26-4f1e-bcba-05e5f82a4fdd"
      },
      "source": [
        "label_encoder = LabelEncoder()\n",
        "reduced_categorical_columns = categorical_columns[:]\n",
        "reduced_categorical_columns.remove('roofmatl')\n",
        "for col in reduced_categorical_columns:\n",
        "    label_train_x[col] = label_encoder.fit_transform(no_roofmatl_train_x[col])\n",
        "    label_valid_x[col] = label_encoder.transform(no_roofmatl_valid_x[col])\n",
        "\n",
        "label_train_x.head(3)"
      ],
      "execution_count": 93,
      "outputs": [
        {
          "output_type": "execute_result",
          "data": {
            "text/html": [
              "<div>\n",
              "<style scoped>\n",
              "    .dataframe tbody tr th:only-of-type {\n",
              "        vertical-align: middle;\n",
              "    }\n",
              "\n",
              "    .dataframe tbody tr th {\n",
              "        vertical-align: top;\n",
              "    }\n",
              "\n",
              "    .dataframe thead th {\n",
              "        text-align: right;\n",
              "    }\n",
              "</style>\n",
              "<table border=\"1\" class=\"dataframe\">\n",
              "  <thead>\n",
              "    <tr style=\"text-align: right;\">\n",
              "      <th></th>\n",
              "      <th>mszoning</th>\n",
              "      <th>street</th>\n",
              "      <th>lotshape</th>\n",
              "      <th>landcontour</th>\n",
              "      <th>utilities</th>\n",
              "      <th>lotconfig</th>\n",
              "      <th>landslope</th>\n",
              "      <th>condition1</th>\n",
              "      <th>condition2</th>\n",
              "      <th>bldgtype</th>\n",
              "      <th>housestyle</th>\n",
              "      <th>roofstyle</th>\n",
              "      <th>exterqual</th>\n",
              "      <th>extercond</th>\n",
              "      <th>foundation</th>\n",
              "      <th>heating</th>\n",
              "      <th>heatingqc</th>\n",
              "      <th>centralair</th>\n",
              "      <th>kitchenqual</th>\n",
              "      <th>functional</th>\n",
              "      <th>paveddrive</th>\n",
              "      <th>saletype</th>\n",
              "      <th>salecondition</th>\n",
              "      <th>mssubclass</th>\n",
              "      <th>lotarea</th>\n",
              "      <th>overallqual</th>\n",
              "      <th>overallcond</th>\n",
              "      <th>yearbuilt</th>\n",
              "      <th>yearremodadd</th>\n",
              "      <th>bsmtfinsf1</th>\n",
              "      <th>bsmtfinsf2</th>\n",
              "      <th>bsmtunfsf</th>\n",
              "      <th>totalbsmtsf</th>\n",
              "      <th>1stflrsf</th>\n",
              "      <th>2ndflrsf</th>\n",
              "      <th>lowqualfinsf</th>\n",
              "      <th>grlivarea</th>\n",
              "      <th>bsmtfullbath</th>\n",
              "      <th>bsmthalfbath</th>\n",
              "      <th>fullbath</th>\n",
              "      <th>halfbath</th>\n",
              "      <th>bedroomabvgr</th>\n",
              "      <th>kitchenabvgr</th>\n",
              "      <th>totrmsabvgrd</th>\n",
              "      <th>fireplaces</th>\n",
              "      <th>garagecars</th>\n",
              "      <th>garagearea</th>\n",
              "      <th>wooddecksf</th>\n",
              "      <th>openporchsf</th>\n",
              "      <th>enclosedporch</th>\n",
              "      <th>3ssnporch</th>\n",
              "      <th>screenporch</th>\n",
              "      <th>poolarea</th>\n",
              "      <th>miscval</th>\n",
              "      <th>mosold</th>\n",
              "      <th>yrsold</th>\n",
              "    </tr>\n",
              "    <tr>\n",
              "      <th>Id</th>\n",
              "      <th></th>\n",
              "      <th></th>\n",
              "      <th></th>\n",
              "      <th></th>\n",
              "      <th></th>\n",
              "      <th></th>\n",
              "      <th></th>\n",
              "      <th></th>\n",
              "      <th></th>\n",
              "      <th></th>\n",
              "      <th></th>\n",
              "      <th></th>\n",
              "      <th></th>\n",
              "      <th></th>\n",
              "      <th></th>\n",
              "      <th></th>\n",
              "      <th></th>\n",
              "      <th></th>\n",
              "      <th></th>\n",
              "      <th></th>\n",
              "      <th></th>\n",
              "      <th></th>\n",
              "      <th></th>\n",
              "      <th></th>\n",
              "      <th></th>\n",
              "      <th></th>\n",
              "      <th></th>\n",
              "      <th></th>\n",
              "      <th></th>\n",
              "      <th></th>\n",
              "      <th></th>\n",
              "      <th></th>\n",
              "      <th></th>\n",
              "      <th></th>\n",
              "      <th></th>\n",
              "      <th></th>\n",
              "      <th></th>\n",
              "      <th></th>\n",
              "      <th></th>\n",
              "      <th></th>\n",
              "      <th></th>\n",
              "      <th></th>\n",
              "      <th></th>\n",
              "      <th></th>\n",
              "      <th></th>\n",
              "      <th></th>\n",
              "      <th></th>\n",
              "      <th></th>\n",
              "      <th></th>\n",
              "      <th></th>\n",
              "      <th></th>\n",
              "      <th></th>\n",
              "      <th></th>\n",
              "      <th></th>\n",
              "      <th></th>\n",
              "      <th></th>\n",
              "    </tr>\n",
              "  </thead>\n",
              "  <tbody>\n",
              "    <tr>\n",
              "      <th>255</th>\n",
              "      <td>3</td>\n",
              "      <td>1</td>\n",
              "      <td>3</td>\n",
              "      <td>3</td>\n",
              "      <td>0</td>\n",
              "      <td>4</td>\n",
              "      <td>0</td>\n",
              "      <td>2</td>\n",
              "      <td>2</td>\n",
              "      <td>0</td>\n",
              "      <td>2</td>\n",
              "      <td>1</td>\n",
              "      <td>3</td>\n",
              "      <td>2</td>\n",
              "      <td>1</td>\n",
              "      <td>1</td>\n",
              "      <td>4</td>\n",
              "      <td>1</td>\n",
              "      <td>3</td>\n",
              "      <td>6</td>\n",
              "      <td>2</td>\n",
              "      <td>8</td>\n",
              "      <td>4</td>\n",
              "      <td>20</td>\n",
              "      <td>8400</td>\n",
              "      <td>5</td>\n",
              "      <td>6</td>\n",
              "      <td>1957</td>\n",
              "      <td>1957</td>\n",
              "      <td>922</td>\n",
              "      <td>0</td>\n",
              "      <td>392</td>\n",
              "      <td>1314</td>\n",
              "      <td>1314</td>\n",
              "      <td>0</td>\n",
              "      <td>0</td>\n",
              "      <td>1314</td>\n",
              "      <td>1</td>\n",
              "      <td>0</td>\n",
              "      <td>1</td>\n",
              "      <td>0</td>\n",
              "      <td>3</td>\n",
              "      <td>1</td>\n",
              "      <td>5</td>\n",
              "      <td>0</td>\n",
              "      <td>1</td>\n",
              "      <td>294</td>\n",
              "      <td>250</td>\n",
              "      <td>0</td>\n",
              "      <td>0</td>\n",
              "      <td>0</td>\n",
              "      <td>0</td>\n",
              "      <td>0</td>\n",
              "      <td>0</td>\n",
              "      <td>6</td>\n",
              "      <td>2010</td>\n",
              "    </tr>\n",
              "    <tr>\n",
              "      <th>1067</th>\n",
              "      <td>3</td>\n",
              "      <td>1</td>\n",
              "      <td>0</td>\n",
              "      <td>3</td>\n",
              "      <td>0</td>\n",
              "      <td>4</td>\n",
              "      <td>0</td>\n",
              "      <td>2</td>\n",
              "      <td>2</td>\n",
              "      <td>0</td>\n",
              "      <td>5</td>\n",
              "      <td>1</td>\n",
              "      <td>2</td>\n",
              "      <td>4</td>\n",
              "      <td>2</td>\n",
              "      <td>1</td>\n",
              "      <td>2</td>\n",
              "      <td>1</td>\n",
              "      <td>3</td>\n",
              "      <td>6</td>\n",
              "      <td>2</td>\n",
              "      <td>8</td>\n",
              "      <td>4</td>\n",
              "      <td>60</td>\n",
              "      <td>7837</td>\n",
              "      <td>6</td>\n",
              "      <td>7</td>\n",
              "      <td>1993</td>\n",
              "      <td>1994</td>\n",
              "      <td>0</td>\n",
              "      <td>0</td>\n",
              "      <td>799</td>\n",
              "      <td>799</td>\n",
              "      <td>799</td>\n",
              "      <td>772</td>\n",
              "      <td>0</td>\n",
              "      <td>1571</td>\n",
              "      <td>0</td>\n",
              "      <td>0</td>\n",
              "      <td>2</td>\n",
              "      <td>1</td>\n",
              "      <td>3</td>\n",
              "      <td>1</td>\n",
              "      <td>7</td>\n",
              "      <td>1</td>\n",
              "      <td>2</td>\n",
              "      <td>380</td>\n",
              "      <td>0</td>\n",
              "      <td>40</td>\n",
              "      <td>0</td>\n",
              "      <td>0</td>\n",
              "      <td>0</td>\n",
              "      <td>0</td>\n",
              "      <td>0</td>\n",
              "      <td>5</td>\n",
              "      <td>2009</td>\n",
              "    </tr>\n",
              "    <tr>\n",
              "      <th>639</th>\n",
              "      <td>3</td>\n",
              "      <td>1</td>\n",
              "      <td>3</td>\n",
              "      <td>3</td>\n",
              "      <td>0</td>\n",
              "      <td>4</td>\n",
              "      <td>0</td>\n",
              "      <td>1</td>\n",
              "      <td>2</td>\n",
              "      <td>0</td>\n",
              "      <td>2</td>\n",
              "      <td>1</td>\n",
              "      <td>3</td>\n",
              "      <td>4</td>\n",
              "      <td>1</td>\n",
              "      <td>1</td>\n",
              "      <td>2</td>\n",
              "      <td>1</td>\n",
              "      <td>3</td>\n",
              "      <td>6</td>\n",
              "      <td>1</td>\n",
              "      <td>8</td>\n",
              "      <td>4</td>\n",
              "      <td>30</td>\n",
              "      <td>8777</td>\n",
              "      <td>5</td>\n",
              "      <td>7</td>\n",
              "      <td>1910</td>\n",
              "      <td>1950</td>\n",
              "      <td>0</td>\n",
              "      <td>0</td>\n",
              "      <td>796</td>\n",
              "      <td>796</td>\n",
              "      <td>796</td>\n",
              "      <td>0</td>\n",
              "      <td>0</td>\n",
              "      <td>796</td>\n",
              "      <td>0</td>\n",
              "      <td>0</td>\n",
              "      <td>1</td>\n",
              "      <td>0</td>\n",
              "      <td>2</td>\n",
              "      <td>1</td>\n",
              "      <td>4</td>\n",
              "      <td>0</td>\n",
              "      <td>0</td>\n",
              "      <td>0</td>\n",
              "      <td>328</td>\n",
              "      <td>0</td>\n",
              "      <td>164</td>\n",
              "      <td>0</td>\n",
              "      <td>0</td>\n",
              "      <td>0</td>\n",
              "      <td>0</td>\n",
              "      <td>5</td>\n",
              "      <td>2008</td>\n",
              "    </tr>\n",
              "  </tbody>\n",
              "</table>\n",
              "</div>"
            ],
            "text/plain": [
              "      mszoning  street  lotshape  ...  miscval  mosold  yrsold\n",
              "Id                                ...                         \n",
              "255          3       1         3  ...        0       6    2010\n",
              "1067         3       1         0  ...        0       5    2009\n",
              "639          3       1         3  ...        0       5    2008\n",
              "\n",
              "[3 rows x 56 columns]"
            ]
          },
          "metadata": {
            "tags": []
          },
          "execution_count": 93
        }
      ]
    },
    {
      "cell_type": "code",
      "metadata": {
        "id": "2ifacc7HOzOk",
        "colab_type": "code",
        "colab": {
          "base_uri": "https://localhost:8080/",
          "height": 255
        },
        "outputId": "7100f9e1-3d1d-4b14-bfc8-35d457087356"
      },
      "source": [
        "train_x.columns"
      ],
      "execution_count": 86,
      "outputs": [
        {
          "output_type": "execute_result",
          "data": {
            "text/plain": [
              "Index(['mszoning', 'street', 'lotshape', 'landcontour', 'utilities',\n",
              "       'lotconfig', 'landslope', 'condition1', 'condition2', 'bldgtype',\n",
              "       'housestyle', 'roofstyle', 'roofmatl', 'exterqual', 'extercond',\n",
              "       'foundation', 'heating', 'heatingqc', 'centralair', 'kitchenqual',\n",
              "       'functional', 'paveddrive', 'saletype', 'salecondition', 'mssubclass',\n",
              "       'lotarea', 'overallqual', 'overallcond', 'yearbuilt', 'yearremodadd',\n",
              "       'bsmtfinsf1', 'bsmtfinsf2', 'bsmtunfsf', 'totalbsmtsf', '1stflrsf',\n",
              "       '2ndflrsf', 'lowqualfinsf', 'grlivarea', 'bsmtfullbath', 'bsmthalfbath',\n",
              "       'fullbath', 'halfbath', 'bedroomabvgr', 'kitchenabvgr', 'totrmsabvgrd',\n",
              "       'fireplaces', 'garagecars', 'garagearea', 'wooddecksf', 'openporchsf',\n",
              "       'enclosedporch', '3ssnporch', 'screenporch', 'poolarea', 'miscval',\n",
              "       'mosold', 'yrsold'],\n",
              "      dtype='object')"
            ]
          },
          "metadata": {
            "tags": []
          },
          "execution_count": 86
        }
      ]
    },
    {
      "cell_type": "code",
      "metadata": {
        "id": "hvnnvCrLXrcH",
        "colab_type": "code",
        "colab": {
          "base_uri": "https://localhost:8080/",
          "height": 34
        },
        "outputId": "0c9743a4-1f57-4245-82a4-bd06e3573cf1"
      },
      "source": [
        "score_dataset(train_x=label_train_x, valid_x=label_valid_x,\n",
        "              train_y=train_y, valid_y=valid_y)"
      ],
      "execution_count": 94,
      "outputs": [
        {
          "output_type": "execute_result",
          "data": {
            "text/plain": [
              "17653.243493150687"
            ]
          },
          "metadata": {
            "tags": []
          },
          "execution_count": 94
        }
      ]
    },
    {
      "cell_type": "markdown",
      "metadata": {
        "id": "FQaYhewDZma7",
        "colab_type": "text"
      },
      "source": [
        "### All this hussle for so little return...\n",
        "\n",
        "`Approcach 1` vs. `Approach 2`\n",
        "\n",
        "`17877.492979452054` vs. `17653.243493150687`"
      ]
    },
    {
      "cell_type": "code",
      "metadata": {
        "id": "BTX51X-nX5II",
        "colab_type": "code",
        "colab": {}
      },
      "source": [
        ""
      ],
      "execution_count": 0,
      "outputs": []
    }
  ]
}