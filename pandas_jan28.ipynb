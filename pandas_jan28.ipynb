{
  "nbformat": 4,
  "nbformat_minor": 0,
  "metadata": {
    "colab": {
      "name": "pandas_jan28.ipynb",
      "provenance": [],
      "authorship_tag": "ABX9TyOYdKaNNU9hUjFLj9saUuWj",
      "include_colab_link": true
    },
    "kernelspec": {
      "name": "python3",
      "display_name": "Python 3"
    }
  },
  "cells": [
    {
      "cell_type": "markdown",
      "metadata": {
        "id": "view-in-github",
        "colab_type": "text"
      },
      "source": [
        "<a href=\"https://colab.research.google.com/github/chrismarkella/Kaggle-access-from-Google-Colab/blob/master/pandas_jan28.ipynb\" target=\"_parent\"><img src=\"https://colab.research.google.com/assets/colab-badge.svg\" alt=\"Open In Colab\"/></a>"
      ]
    },
    {
      "cell_type": "code",
      "metadata": {
        "id": "GzsxQeZIo2Uq",
        "colab_type": "code",
        "colab": {
          "base_uri": "https://localhost:8080/",
          "height": 69
        },
        "outputId": "901cf163-5c1b-47fb-c713-54ecf718b05f"
      },
      "source": [
        "!ls -lh"
      ],
      "execution_count": 3,
      "outputs": [
        {
          "output_type": "stream",
          "text": [
            "total 18M\n",
            "-rw-r--r-- 1 root root  18M Jan 28 19:32 'developer_survey_2019 (1).zip'\n",
            "drwxr-xr-x 1 root root 4.0K Jan 13 16:38  sample_data\n"
          ],
          "name": "stdout"
        }
      ]
    },
    {
      "cell_type": "code",
      "metadata": {
        "id": "23L7ku-Ao6il",
        "colab_type": "code",
        "colab": {
          "base_uri": "https://localhost:8080/",
          "height": 69
        },
        "outputId": "a2c2735a-7cd4-4966-aa8d-7aa5d0dfdbc9"
      },
      "source": [
        "!mv developer_survey_2019\\ \\(1\\).zip developer_survey_2019.zip\n",
        "!ls -lh"
      ],
      "execution_count": 4,
      "outputs": [
        {
          "output_type": "stream",
          "text": [
            "total 18M\n",
            "-rw-r--r-- 1 root root  18M Jan 28 19:32 developer_survey_2019.zip\n",
            "drwxr-xr-x 1 root root 4.0K Jan 13 16:38 sample_data\n"
          ],
          "name": "stdout"
        }
      ]
    },
    {
      "cell_type": "code",
      "metadata": {
        "id": "6m_3EL88pKG7",
        "colab_type": "code",
        "colab": {
          "base_uri": "https://localhost:8080/",
          "height": 156
        },
        "outputId": "41512030-19e4-4d0a-db0b-f434e33aea18"
      },
      "source": [
        "!unzip developer_survey_2019.zip"
      ],
      "execution_count": 5,
      "outputs": [
        {
          "output_type": "stream",
          "text": [
            "Archive:  developer_survey_2019.zip\n",
            "  inflating: survey_results_public.csv  \n",
            "  inflating: survey_results_schema.csv  \n",
            "  inflating: so_survey_2019.pdf      \n",
            "   creating: __MACOSX/\n",
            "  inflating: __MACOSX/._so_survey_2019.pdf  \n",
            "  inflating: README_2019.txt         \n",
            "  inflating: __MACOSX/._README_2019.txt  \n"
          ],
          "name": "stdout"
        }
      ]
    },
    {
      "cell_type": "code",
      "metadata": {
        "id": "NxjeeK_ypOAi",
        "colab_type": "code",
        "colab": {
          "base_uri": "https://localhost:8080/",
          "height": 347
        },
        "outputId": "08488405-7115-4e69-dbf0-adc1d4c1c05e"
      },
      "source": [
        "!apt-get install tree"
      ],
      "execution_count": 6,
      "outputs": [
        {
          "output_type": "stream",
          "text": [
            "Reading package lists... Done\n",
            "Building dependency tree       \n",
            "Reading state information... Done\n",
            "The following package was automatically installed and is no longer required:\n",
            "  libnvidia-common-430\n",
            "Use 'apt autoremove' to remove it.\n",
            "The following NEW packages will be installed:\n",
            "  tree\n",
            "0 upgraded, 1 newly installed, 0 to remove and 7 not upgraded.\n",
            "Need to get 40.7 kB of archives.\n",
            "After this operation, 105 kB of additional disk space will be used.\n",
            "Get:1 http://archive.ubuntu.com/ubuntu bionic/universe amd64 tree amd64 1.7.0-5 [40.7 kB]\n",
            "Fetched 40.7 kB in 0s (764 kB/s)\n",
            "Selecting previously unselected package tree.\n",
            "(Reading database ... 135004 files and directories currently installed.)\n",
            "Preparing to unpack .../tree_1.7.0-5_amd64.deb ...\n",
            "Unpacking tree (1.7.0-5) ...\n",
            "Setting up tree (1.7.0-5) ...\n",
            "Processing triggers for man-db (2.8.3-2ubuntu0.1) ...\n"
          ],
          "name": "stdout"
        }
      ]
    },
    {
      "cell_type": "code",
      "metadata": {
        "id": "X4pv566rpThZ",
        "colab_type": "code",
        "colab": {
          "base_uri": "https://localhost:8080/",
          "height": 295
        },
        "outputId": "1759691a-b4f6-4fd2-9844-843a13003015"
      },
      "source": [
        "!tree -sh ."
      ],
      "execution_count": 7,
      "outputs": [
        {
          "output_type": "stream",
          "text": [
            ".\n",
            "├── [ 18M]  developer_survey_2019.zip\n",
            "├── [4.0K]  __MACOSX\n",
            "├── [2.2K]  README_2019.txt\n",
            "├── [4.0K]  sample_data\n",
            "│   ├── [1.7K]  anscombe.json\n",
            "│   ├── [294K]  california_housing_test.csv\n",
            "│   ├── [1.6M]  california_housing_train.csv\n",
            "│   ├── [ 17M]  mnist_test.csv\n",
            "│   ├── [ 35M]  mnist_train_small.csv\n",
            "│   └── [ 930]  README.md\n",
            "├── [411K]  so_survey_2019.pdf\n",
            "├── [187M]  survey_results_public.csv\n",
            "└── [9.6K]  survey_results_schema.csv\n",
            "\n",
            "2 directories, 11 files\n"
          ],
          "name": "stdout"
        }
      ]
    },
    {
      "cell_type": "code",
      "metadata": {
        "id": "is0-0-LypXfx",
        "colab_type": "code",
        "colab": {
          "base_uri": "https://localhost:8080/",
          "height": 89
        },
        "outputId": "65e76e52-20a5-4509-acc3-7788e853e2b4"
      },
      "source": [
        "cat survey_results_schema.csv|head -3"
      ],
      "execution_count": 12,
      "outputs": [
        {
          "output_type": "stream",
          "text": [
            "Column,QuestionText\n",
            "Respondent,Randomized respondent ID number (not in order of survey response time)\n",
            "MainBranch,\"Which of the following options best describes you today? Here, by \"\"developer\"\" we mean \"\"someone who writes code.\"\"\"\n"
          ],
          "name": "stdout"
        }
      ]
    },
    {
      "cell_type": "code",
      "metadata": {
        "id": "R9waMQippeAN",
        "colab_type": "code",
        "colab": {
          "base_uri": "https://localhost:8080/",
          "height": 233
        },
        "outputId": "bfa121a0-ebc1-437b-c180-9d1b6b7558ae"
      },
      "source": [
        "import numpy as np\n",
        "import pandas as pd\n",
        "\n",
        "schema_df = pd.read_csv('survey_results_schema.csv', sep=',',\n",
        "                        index_col=0)\n",
        "schema_df.head()"
      ],
      "execution_count": 16,
      "outputs": [
        {
          "output_type": "execute_result",
          "data": {
            "text/html": [
              "<div>\n",
              "<style scoped>\n",
              "    .dataframe tbody tr th:only-of-type {\n",
              "        vertical-align: middle;\n",
              "    }\n",
              "\n",
              "    .dataframe tbody tr th {\n",
              "        vertical-align: top;\n",
              "    }\n",
              "\n",
              "    .dataframe thead th {\n",
              "        text-align: right;\n",
              "    }\n",
              "</style>\n",
              "<table border=\"1\" class=\"dataframe\">\n",
              "  <thead>\n",
              "    <tr style=\"text-align: right;\">\n",
              "      <th></th>\n",
              "      <th>QuestionText</th>\n",
              "    </tr>\n",
              "    <tr>\n",
              "      <th>Column</th>\n",
              "      <th></th>\n",
              "    </tr>\n",
              "  </thead>\n",
              "  <tbody>\n",
              "    <tr>\n",
              "      <th>Respondent</th>\n",
              "      <td>Randomized respondent ID number (not in order ...</td>\n",
              "    </tr>\n",
              "    <tr>\n",
              "      <th>MainBranch</th>\n",
              "      <td>Which of the following options best describes ...</td>\n",
              "    </tr>\n",
              "    <tr>\n",
              "      <th>Hobbyist</th>\n",
              "      <td>Do you code as a hobby?</td>\n",
              "    </tr>\n",
              "    <tr>\n",
              "      <th>OpenSourcer</th>\n",
              "      <td>How often do you contribute to open source?</td>\n",
              "    </tr>\n",
              "    <tr>\n",
              "      <th>OpenSource</th>\n",
              "      <td>How do you feel about the quality of open sour...</td>\n",
              "    </tr>\n",
              "  </tbody>\n",
              "</table>\n",
              "</div>"
            ],
            "text/plain": [
              "                                                  QuestionText\n",
              "Column                                                        \n",
              "Respondent   Randomized respondent ID number (not in order ...\n",
              "MainBranch   Which of the following options best describes ...\n",
              "Hobbyist                               Do you code as a hobby?\n",
              "OpenSourcer        How often do you contribute to open source?\n",
              "OpenSource   How do you feel about the quality of open sour..."
            ]
          },
          "metadata": {
            "tags": []
          },
          "execution_count": 16
        }
      ]
    },
    {
      "cell_type": "code",
      "metadata": {
        "id": "09zx6amdqfSc",
        "colab_type": "code",
        "colab": {
          "base_uri": "https://localhost:8080/",
          "height": 288
        },
        "outputId": "1521b4dd-bc1a-4efb-d949-a73851175837"
      },
      "source": [
        "pd.get_option()"
      ],
      "execution_count": 18,
      "outputs": [
        {
          "output_type": "error",
          "ename": "TypeError",
          "evalue": "ignored",
          "traceback": [
            "\u001b[0;31m---------------------------------------------------------------------------\u001b[0m",
            "\u001b[0;31mTypeError\u001b[0m                                 Traceback (most recent call last)",
            "\u001b[0;32m<ipython-input-18-9f5d1b37bf0a>\u001b[0m in \u001b[0;36m<module>\u001b[0;34m()\u001b[0m\n\u001b[0;32m----> 1\u001b[0;31m \u001b[0mpd\u001b[0m\u001b[0;34m.\u001b[0m\u001b[0mget_option\u001b[0m\u001b[0;34m(\u001b[0m\u001b[0;34m)\u001b[0m\u001b[0;34m\u001b[0m\u001b[0;34m\u001b[0m\u001b[0m\n\u001b[0m",
            "\u001b[0;32m/usr/local/lib/python3.6/dist-packages/pandas/_config/config.py\u001b[0m in \u001b[0;36m__call__\u001b[0;34m(self, *args, **kwds)\u001b[0m\n\u001b[1;32m    231\u001b[0m \u001b[0;34m\u001b[0m\u001b[0m\n\u001b[1;32m    232\u001b[0m     \u001b[0;32mdef\u001b[0m \u001b[0m__call__\u001b[0m\u001b[0;34m(\u001b[0m\u001b[0mself\u001b[0m\u001b[0;34m,\u001b[0m \u001b[0;34m*\u001b[0m\u001b[0margs\u001b[0m\u001b[0;34m,\u001b[0m \u001b[0;34m**\u001b[0m\u001b[0mkwds\u001b[0m\u001b[0;34m)\u001b[0m\u001b[0;34m:\u001b[0m\u001b[0;34m\u001b[0m\u001b[0;34m\u001b[0m\u001b[0m\n\u001b[0;32m--> 233\u001b[0;31m         \u001b[0;32mreturn\u001b[0m \u001b[0mself\u001b[0m\u001b[0;34m.\u001b[0m\u001b[0m__func__\u001b[0m\u001b[0;34m(\u001b[0m\u001b[0;34m*\u001b[0m\u001b[0margs\u001b[0m\u001b[0;34m,\u001b[0m \u001b[0;34m**\u001b[0m\u001b[0mkwds\u001b[0m\u001b[0;34m)\u001b[0m\u001b[0;34m\u001b[0m\u001b[0;34m\u001b[0m\u001b[0m\n\u001b[0m\u001b[1;32m    234\u001b[0m \u001b[0;34m\u001b[0m\u001b[0m\n\u001b[1;32m    235\u001b[0m     \u001b[0;34m@\u001b[0m\u001b[0mproperty\u001b[0m\u001b[0;34m\u001b[0m\u001b[0;34m\u001b[0m\u001b[0m\n",
            "\u001b[0;31mTypeError\u001b[0m: _get_option() missing 1 required positional argument: 'pat'"
          ]
        }
      ]
    },
    {
      "cell_type": "code",
      "metadata": {
        "id": "qZHjvqvdrqWl",
        "colab_type": "code",
        "colab": {
          "base_uri": "https://localhost:8080/",
          "height": 386
        },
        "outputId": "017e0cb6-dae9-400a-910d-d374f9746963"
      },
      "source": [
        "pd.set_option('max_colwidth', 100)\n",
        "schema_df.head(10)"
      ],
      "execution_count": 23,
      "outputs": [
        {
          "output_type": "execute_result",
          "data": {
            "text/html": [
              "<div>\n",
              "<style scoped>\n",
              "    .dataframe tbody tr th:only-of-type {\n",
              "        vertical-align: middle;\n",
              "    }\n",
              "\n",
              "    .dataframe tbody tr th {\n",
              "        vertical-align: top;\n",
              "    }\n",
              "\n",
              "    .dataframe thead th {\n",
              "        text-align: right;\n",
              "    }\n",
              "</style>\n",
              "<table border=\"1\" class=\"dataframe\">\n",
              "  <thead>\n",
              "    <tr style=\"text-align: right;\">\n",
              "      <th></th>\n",
              "      <th>QuestionText</th>\n",
              "    </tr>\n",
              "    <tr>\n",
              "      <th>Column</th>\n",
              "      <th></th>\n",
              "    </tr>\n",
              "  </thead>\n",
              "  <tbody>\n",
              "    <tr>\n",
              "      <th>Respondent</th>\n",
              "      <td>Randomized respondent ID number (not in order of survey response time)</td>\n",
              "    </tr>\n",
              "    <tr>\n",
              "      <th>MainBranch</th>\n",
              "      <td>Which of the following options best describes you today? Here, by \"developer\" we mean \"someone w...</td>\n",
              "    </tr>\n",
              "    <tr>\n",
              "      <th>Hobbyist</th>\n",
              "      <td>Do you code as a hobby?</td>\n",
              "    </tr>\n",
              "    <tr>\n",
              "      <th>OpenSourcer</th>\n",
              "      <td>How often do you contribute to open source?</td>\n",
              "    </tr>\n",
              "    <tr>\n",
              "      <th>OpenSource</th>\n",
              "      <td>How do you feel about the quality of open source software (OSS)?</td>\n",
              "    </tr>\n",
              "    <tr>\n",
              "      <th>Employment</th>\n",
              "      <td>Which of the following best describes your current employment status?</td>\n",
              "    </tr>\n",
              "    <tr>\n",
              "      <th>Country</th>\n",
              "      <td>In which country do you currently reside?</td>\n",
              "    </tr>\n",
              "    <tr>\n",
              "      <th>Student</th>\n",
              "      <td>Are you currently enrolled in a formal, degree-granting college or university program?</td>\n",
              "    </tr>\n",
              "    <tr>\n",
              "      <th>EdLevel</th>\n",
              "      <td>Which of the following best describes the highest level of formal education that you’ve completed?</td>\n",
              "    </tr>\n",
              "    <tr>\n",
              "      <th>UndergradMajor</th>\n",
              "      <td>What was your main or most important field of study?</td>\n",
              "    </tr>\n",
              "  </tbody>\n",
              "</table>\n",
              "</div>"
            ],
            "text/plain": [
              "                                                                                                       QuestionText\n",
              "Column                                                                                                             \n",
              "Respondent                                   Randomized respondent ID number (not in order of survey response time)\n",
              "MainBranch      Which of the following options best describes you today? Here, by \"developer\" we mean \"someone w...\n",
              "Hobbyist                                                                                    Do you code as a hobby?\n",
              "OpenSourcer                                                             How often do you contribute to open source?\n",
              "OpenSource                                         How do you feel about the quality of open source software (OSS)?\n",
              "Employment                                    Which of the following best describes your current employment status?\n",
              "Country                                                                   In which country do you currently reside?\n",
              "Student                      Are you currently enrolled in a formal, degree-granting college or university program?\n",
              "EdLevel          Which of the following best describes the highest level of formal education that you’ve completed?\n",
              "UndergradMajor                                                 What was your main or most important field of study?"
            ]
          },
          "metadata": {
            "tags": []
          },
          "execution_count": 23
        }
      ]
    },
    {
      "cell_type": "code",
      "metadata": {
        "id": "lbRdwxxwsZsJ",
        "colab_type": "code",
        "colab": {
          "base_uri": "https://localhost:8080/",
          "height": 295
        },
        "outputId": "024510d0-b755-4e9e-ca68-1504f6aaea50"
      },
      "source": [
        "!tree -sh"
      ],
      "execution_count": 24,
      "outputs": [
        {
          "output_type": "stream",
          "text": [
            ".\n",
            "├── [ 18M]  developer_survey_2019.zip\n",
            "├── [4.0K]  __MACOSX\n",
            "├── [2.2K]  README_2019.txt\n",
            "├── [4.0K]  sample_data\n",
            "│   ├── [1.7K]  anscombe.json\n",
            "│   ├── [294K]  california_housing_test.csv\n",
            "│   ├── [1.6M]  california_housing_train.csv\n",
            "│   ├── [ 17M]  mnist_test.csv\n",
            "│   ├── [ 35M]  mnist_train_small.csv\n",
            "│   └── [ 930]  README.md\n",
            "├── [411K]  so_survey_2019.pdf\n",
            "├── [187M]  survey_results_public.csv\n",
            "└── [9.6K]  survey_results_schema.csv\n",
            "\n",
            "2 directories, 11 files\n"
          ],
          "name": "stdout"
        }
      ]
    },
    {
      "cell_type": "code",
      "metadata": {
        "id": "-gVm6F5hsqZC",
        "colab_type": "code",
        "colab": {
          "base_uri": "https://localhost:8080/",
          "height": 89
        },
        "outputId": "f0de254a-5b80-4f3d-b477-1af1c09e2ed8"
      },
      "source": [
        "!cat survey_results_public.csv|head -3"
      ],
      "execution_count": 25,
      "outputs": [
        {
          "output_type": "stream",
          "text": [
            "Respondent,MainBranch,Hobbyist,OpenSourcer,OpenSource,Employment,Country,Student,EdLevel,UndergradMajor,EduOther,OrgSize,DevType,YearsCode,Age1stCode,YearsCodePro,CareerSat,JobSat,MgrIdiot,MgrMoney,MgrWant,JobSeek,LastHireDate,LastInt,FizzBuzz,JobFactors,ResumeUpdate,CurrencySymbol,CurrencyDesc,CompTotal,CompFreq,ConvertedComp,WorkWeekHrs,WorkPlan,WorkChallenge,WorkRemote,WorkLoc,ImpSyn,CodeRev,CodeRevHrs,UnitTests,PurchaseHow,PurchaseWhat,LanguageWorkedWith,LanguageDesireNextYear,DatabaseWorkedWith,DatabaseDesireNextYear,PlatformWorkedWith,PlatformDesireNextYear,WebFrameWorkedWith,WebFrameDesireNextYear,MiscTechWorkedWith,MiscTechDesireNextYear,DevEnviron,OpSys,Containers,BlockchainOrg,BlockchainIs,BetterLife,ITperson,OffOn,SocialMedia,Extraversion,ScreenName,SOVisit1st,SOVisitFreq,SOVisitTo,SOFindAnswer,SOTimeSaved,SOHowMuchTime,SOAccount,SOPartFreq,SOJobs,EntTeams,SOComm,WelcomeChange,SONewContent,Age,Gender,Trans,Sexuality,Ethnicity,Dependents,SurveyLength,SurveyEase\n",
            "1,I am a student who is learning to code,Yes,Never,The quality of OSS and closed source software is about the same,\"Not employed, and not looking for work\",United Kingdom,No,Primary/elementary school,NA,\"Taught yourself a new language, framework, or tool without taking a formal course\",NA,NA,4,10,NA,NA,NA,NA,NA,NA,NA,NA,NA,NA,NA,NA,NA,NA,NA,NA,NA,NA,NA,NA,NA,NA,NA,NA,NA,NA,NA,NA,HTML/CSS;Java;JavaScript;Python,C;C++;C#;Go;HTML/CSS;Java;JavaScript;Python;SQL,SQLite,MySQL,MacOS;Windows,Android;Arduino;Windows,Django;Flask,Flask;jQuery,Node.js,Node.js,IntelliJ;Notepad++;PyCharm,Windows,I do not use containers,NA,NA,Yes,\"Fortunately, someone else has that title\",Yes,Twitter,Online,Username,2017,A few times per month or weekly,Find answers to specific questions;Learn how to do things I didn’t necessarily look for,3-5 times per week,Stack Overflow was much faster,31-60 minutes,No,NA,\"No, I didn't know that Stack Overflow had a job board\",\"No, and I don't know what those are\",Neutral,Just as welcome now as I felt last year,Tech articles written by other developers;Industry news about technologies you're interested in;Courses on technologies you're interested in,14,Man,No,Straight / Heterosexual,NA,No,Appropriate in length,Neither easy nor difficult\n",
            "2,I am a student who is learning to code,No,Less than once per year,The quality of OSS and closed source software is about the same,\"Not employed, but looking for work\",Bosnia and Herzegovina,\"Yes, full-time\",\"Secondary school (e.g. American high school, German Realschule or Gymnasium, etc.)\",NA,Taken an online course in programming or software development (e.g. a MOOC),NA,\"Developer, desktop or enterprise applications;Developer, front-end\",NA,17,NA,NA,NA,NA,NA,NA,I am actively looking for a job,I've never had a job,NA,NA,\"Financial performance or funding status of the company or organization;Specific department or team I'd be working on;Languages, frameworks, and other technologies I'd be working with\",\"Something else changed (education, award, media, etc.)\",NA,NA,NA,NA,NA,NA,NA,NA,NA,NA,NA,NA,NA,NA,NA,NA,C++;HTML/CSS;Python,C++;HTML/CSS;JavaScript;SQL,NA,MySQL,Windows,Windows,Django,Django,NA,NA,Atom;PyCharm,Windows,I do not use containers,NA,Useful across many domains and could change many aspects of our lives,Yes,Yes,Yes,Instagram,Online,Username,2017,Daily or almost daily,Find answers to specific questions;Learn how to do things I didn’t necessarily look for,3-5 times per week,Stack Overflow was much faster,11-30 minutes,Yes,A few times per month or weekly,\"No, I knew that Stack Overflow had a job board but have never used or visited it\",\"No, and I don't know what those are\",\"Yes, somewhat\",Just as welcome now as I felt last year,Tech articles written by other developers;Industry news about technologies you're interested in;Tech meetups or events in your area;Courses on technologies you're interested in,19,Man,No,Straight / Heterosexual,NA,No,Appropriate in length,Neither easy nor difficult\n"
          ],
          "name": "stdout"
        }
      ]
    },
    {
      "cell_type": "code",
      "metadata": {
        "id": "0otZu_Tvsycp",
        "colab_type": "code",
        "colab": {
          "base_uri": "https://localhost:8080/",
          "height": 1000
        },
        "outputId": "1193c049-4488-4a6b-c916-ef77f5cd27f9"
      },
      "source": [
        "df = pd.read_csv('survey_results_public.csv', sep=',')\n",
        "df.head()"
      ],
      "execution_count": 26,
      "outputs": [
        {
          "output_type": "execute_result",
          "data": {
            "text/html": [
              "<div>\n",
              "<style scoped>\n",
              "    .dataframe tbody tr th:only-of-type {\n",
              "        vertical-align: middle;\n",
              "    }\n",
              "\n",
              "    .dataframe tbody tr th {\n",
              "        vertical-align: top;\n",
              "    }\n",
              "\n",
              "    .dataframe thead th {\n",
              "        text-align: right;\n",
              "    }\n",
              "</style>\n",
              "<table border=\"1\" class=\"dataframe\">\n",
              "  <thead>\n",
              "    <tr style=\"text-align: right;\">\n",
              "      <th></th>\n",
              "      <th>Respondent</th>\n",
              "      <th>MainBranch</th>\n",
              "      <th>Hobbyist</th>\n",
              "      <th>OpenSourcer</th>\n",
              "      <th>OpenSource</th>\n",
              "      <th>Employment</th>\n",
              "      <th>Country</th>\n",
              "      <th>Student</th>\n",
              "      <th>EdLevel</th>\n",
              "      <th>UndergradMajor</th>\n",
              "      <th>EduOther</th>\n",
              "      <th>OrgSize</th>\n",
              "      <th>DevType</th>\n",
              "      <th>YearsCode</th>\n",
              "      <th>Age1stCode</th>\n",
              "      <th>YearsCodePro</th>\n",
              "      <th>CareerSat</th>\n",
              "      <th>JobSat</th>\n",
              "      <th>MgrIdiot</th>\n",
              "      <th>MgrMoney</th>\n",
              "      <th>MgrWant</th>\n",
              "      <th>JobSeek</th>\n",
              "      <th>LastHireDate</th>\n",
              "      <th>LastInt</th>\n",
              "      <th>FizzBuzz</th>\n",
              "      <th>JobFactors</th>\n",
              "      <th>ResumeUpdate</th>\n",
              "      <th>CurrencySymbol</th>\n",
              "      <th>CurrencyDesc</th>\n",
              "      <th>CompTotal</th>\n",
              "      <th>CompFreq</th>\n",
              "      <th>ConvertedComp</th>\n",
              "      <th>WorkWeekHrs</th>\n",
              "      <th>WorkPlan</th>\n",
              "      <th>WorkChallenge</th>\n",
              "      <th>WorkRemote</th>\n",
              "      <th>WorkLoc</th>\n",
              "      <th>ImpSyn</th>\n",
              "      <th>CodeRev</th>\n",
              "      <th>CodeRevHrs</th>\n",
              "      <th>...</th>\n",
              "      <th>DatabaseWorkedWith</th>\n",
              "      <th>DatabaseDesireNextYear</th>\n",
              "      <th>PlatformWorkedWith</th>\n",
              "      <th>PlatformDesireNextYear</th>\n",
              "      <th>WebFrameWorkedWith</th>\n",
              "      <th>WebFrameDesireNextYear</th>\n",
              "      <th>MiscTechWorkedWith</th>\n",
              "      <th>MiscTechDesireNextYear</th>\n",
              "      <th>DevEnviron</th>\n",
              "      <th>OpSys</th>\n",
              "      <th>Containers</th>\n",
              "      <th>BlockchainOrg</th>\n",
              "      <th>BlockchainIs</th>\n",
              "      <th>BetterLife</th>\n",
              "      <th>ITperson</th>\n",
              "      <th>OffOn</th>\n",
              "      <th>SocialMedia</th>\n",
              "      <th>Extraversion</th>\n",
              "      <th>ScreenName</th>\n",
              "      <th>SOVisit1st</th>\n",
              "      <th>SOVisitFreq</th>\n",
              "      <th>SOVisitTo</th>\n",
              "      <th>SOFindAnswer</th>\n",
              "      <th>SOTimeSaved</th>\n",
              "      <th>SOHowMuchTime</th>\n",
              "      <th>SOAccount</th>\n",
              "      <th>SOPartFreq</th>\n",
              "      <th>SOJobs</th>\n",
              "      <th>EntTeams</th>\n",
              "      <th>SOComm</th>\n",
              "      <th>WelcomeChange</th>\n",
              "      <th>SONewContent</th>\n",
              "      <th>Age</th>\n",
              "      <th>Gender</th>\n",
              "      <th>Trans</th>\n",
              "      <th>Sexuality</th>\n",
              "      <th>Ethnicity</th>\n",
              "      <th>Dependents</th>\n",
              "      <th>SurveyLength</th>\n",
              "      <th>SurveyEase</th>\n",
              "    </tr>\n",
              "  </thead>\n",
              "  <tbody>\n",
              "    <tr>\n",
              "      <th>0</th>\n",
              "      <td>1</td>\n",
              "      <td>I am a student who is learning to code</td>\n",
              "      <td>Yes</td>\n",
              "      <td>Never</td>\n",
              "      <td>The quality of OSS and closed source software is about the same</td>\n",
              "      <td>Not employed, and not looking for work</td>\n",
              "      <td>United Kingdom</td>\n",
              "      <td>No</td>\n",
              "      <td>Primary/elementary school</td>\n",
              "      <td>NaN</td>\n",
              "      <td>Taught yourself a new language, framework, or tool without taking a formal course</td>\n",
              "      <td>NaN</td>\n",
              "      <td>NaN</td>\n",
              "      <td>4</td>\n",
              "      <td>10</td>\n",
              "      <td>NaN</td>\n",
              "      <td>NaN</td>\n",
              "      <td>NaN</td>\n",
              "      <td>NaN</td>\n",
              "      <td>NaN</td>\n",
              "      <td>NaN</td>\n",
              "      <td>NaN</td>\n",
              "      <td>NaN</td>\n",
              "      <td>NaN</td>\n",
              "      <td>NaN</td>\n",
              "      <td>NaN</td>\n",
              "      <td>NaN</td>\n",
              "      <td>NaN</td>\n",
              "      <td>NaN</td>\n",
              "      <td>NaN</td>\n",
              "      <td>NaN</td>\n",
              "      <td>NaN</td>\n",
              "      <td>NaN</td>\n",
              "      <td>NaN</td>\n",
              "      <td>NaN</td>\n",
              "      <td>NaN</td>\n",
              "      <td>NaN</td>\n",
              "      <td>NaN</td>\n",
              "      <td>NaN</td>\n",
              "      <td>NaN</td>\n",
              "      <td>...</td>\n",
              "      <td>SQLite</td>\n",
              "      <td>MySQL</td>\n",
              "      <td>MacOS;Windows</td>\n",
              "      <td>Android;Arduino;Windows</td>\n",
              "      <td>Django;Flask</td>\n",
              "      <td>Flask;jQuery</td>\n",
              "      <td>Node.js</td>\n",
              "      <td>Node.js</td>\n",
              "      <td>IntelliJ;Notepad++;PyCharm</td>\n",
              "      <td>Windows</td>\n",
              "      <td>I do not use containers</td>\n",
              "      <td>NaN</td>\n",
              "      <td>NaN</td>\n",
              "      <td>Yes</td>\n",
              "      <td>Fortunately, someone else has that title</td>\n",
              "      <td>Yes</td>\n",
              "      <td>Twitter</td>\n",
              "      <td>Online</td>\n",
              "      <td>Username</td>\n",
              "      <td>2017</td>\n",
              "      <td>A few times per month or weekly</td>\n",
              "      <td>Find answers to specific questions;Learn how to do things I didn’t necessarily look for</td>\n",
              "      <td>3-5 times per week</td>\n",
              "      <td>Stack Overflow was much faster</td>\n",
              "      <td>31-60 minutes</td>\n",
              "      <td>No</td>\n",
              "      <td>NaN</td>\n",
              "      <td>No, I didn't know that Stack Overflow had a job board</td>\n",
              "      <td>No, and I don't know what those are</td>\n",
              "      <td>Neutral</td>\n",
              "      <td>Just as welcome now as I felt last year</td>\n",
              "      <td>Tech articles written by other developers;Industry news about technologies you're interested in;...</td>\n",
              "      <td>14.0</td>\n",
              "      <td>Man</td>\n",
              "      <td>No</td>\n",
              "      <td>Straight / Heterosexual</td>\n",
              "      <td>NaN</td>\n",
              "      <td>No</td>\n",
              "      <td>Appropriate in length</td>\n",
              "      <td>Neither easy nor difficult</td>\n",
              "    </tr>\n",
              "    <tr>\n",
              "      <th>1</th>\n",
              "      <td>2</td>\n",
              "      <td>I am a student who is learning to code</td>\n",
              "      <td>No</td>\n",
              "      <td>Less than once per year</td>\n",
              "      <td>The quality of OSS and closed source software is about the same</td>\n",
              "      <td>Not employed, but looking for work</td>\n",
              "      <td>Bosnia and Herzegovina</td>\n",
              "      <td>Yes, full-time</td>\n",
              "      <td>Secondary school (e.g. American high school, German Realschule or Gymnasium, etc.)</td>\n",
              "      <td>NaN</td>\n",
              "      <td>Taken an online course in programming or software development (e.g. a MOOC)</td>\n",
              "      <td>NaN</td>\n",
              "      <td>Developer, desktop or enterprise applications;Developer, front-end</td>\n",
              "      <td>NaN</td>\n",
              "      <td>17</td>\n",
              "      <td>NaN</td>\n",
              "      <td>NaN</td>\n",
              "      <td>NaN</td>\n",
              "      <td>NaN</td>\n",
              "      <td>NaN</td>\n",
              "      <td>NaN</td>\n",
              "      <td>I am actively looking for a job</td>\n",
              "      <td>I've never had a job</td>\n",
              "      <td>NaN</td>\n",
              "      <td>NaN</td>\n",
              "      <td>Financial performance or funding status of the company or organization;Specific department or te...</td>\n",
              "      <td>Something else changed (education, award, media, etc.)</td>\n",
              "      <td>NaN</td>\n",
              "      <td>NaN</td>\n",
              "      <td>NaN</td>\n",
              "      <td>NaN</td>\n",
              "      <td>NaN</td>\n",
              "      <td>NaN</td>\n",
              "      <td>NaN</td>\n",
              "      <td>NaN</td>\n",
              "      <td>NaN</td>\n",
              "      <td>NaN</td>\n",
              "      <td>NaN</td>\n",
              "      <td>NaN</td>\n",
              "      <td>NaN</td>\n",
              "      <td>...</td>\n",
              "      <td>NaN</td>\n",
              "      <td>MySQL</td>\n",
              "      <td>Windows</td>\n",
              "      <td>Windows</td>\n",
              "      <td>Django</td>\n",
              "      <td>Django</td>\n",
              "      <td>NaN</td>\n",
              "      <td>NaN</td>\n",
              "      <td>Atom;PyCharm</td>\n",
              "      <td>Windows</td>\n",
              "      <td>I do not use containers</td>\n",
              "      <td>NaN</td>\n",
              "      <td>Useful across many domains and could change many aspects of our lives</td>\n",
              "      <td>Yes</td>\n",
              "      <td>Yes</td>\n",
              "      <td>Yes</td>\n",
              "      <td>Instagram</td>\n",
              "      <td>Online</td>\n",
              "      <td>Username</td>\n",
              "      <td>2017</td>\n",
              "      <td>Daily or almost daily</td>\n",
              "      <td>Find answers to specific questions;Learn how to do things I didn’t necessarily look for</td>\n",
              "      <td>3-5 times per week</td>\n",
              "      <td>Stack Overflow was much faster</td>\n",
              "      <td>11-30 minutes</td>\n",
              "      <td>Yes</td>\n",
              "      <td>A few times per month or weekly</td>\n",
              "      <td>No, I knew that Stack Overflow had a job board but have never used or visited it</td>\n",
              "      <td>No, and I don't know what those are</td>\n",
              "      <td>Yes, somewhat</td>\n",
              "      <td>Just as welcome now as I felt last year</td>\n",
              "      <td>Tech articles written by other developers;Industry news about technologies you're interested in;...</td>\n",
              "      <td>19.0</td>\n",
              "      <td>Man</td>\n",
              "      <td>No</td>\n",
              "      <td>Straight / Heterosexual</td>\n",
              "      <td>NaN</td>\n",
              "      <td>No</td>\n",
              "      <td>Appropriate in length</td>\n",
              "      <td>Neither easy nor difficult</td>\n",
              "    </tr>\n",
              "    <tr>\n",
              "      <th>2</th>\n",
              "      <td>3</td>\n",
              "      <td>I am not primarily a developer, but I write code sometimes as part of my work</td>\n",
              "      <td>Yes</td>\n",
              "      <td>Never</td>\n",
              "      <td>The quality of OSS and closed source software is about the same</td>\n",
              "      <td>Employed full-time</td>\n",
              "      <td>Thailand</td>\n",
              "      <td>No</td>\n",
              "      <td>Bachelor’s degree (BA, BS, B.Eng., etc.)</td>\n",
              "      <td>Web development or web design</td>\n",
              "      <td>Taught yourself a new language, framework, or tool without taking a formal course</td>\n",
              "      <td>100 to 499 employees</td>\n",
              "      <td>Designer;Developer, back-end;Developer, front-end;Developer, full-stack</td>\n",
              "      <td>3</td>\n",
              "      <td>22</td>\n",
              "      <td>1</td>\n",
              "      <td>Slightly satisfied</td>\n",
              "      <td>Slightly satisfied</td>\n",
              "      <td>Not at all confident</td>\n",
              "      <td>Not sure</td>\n",
              "      <td>Not sure</td>\n",
              "      <td>I’m not actively looking, but I am open to new opportunities</td>\n",
              "      <td>1-2 years ago</td>\n",
              "      <td>Interview with people in peer roles</td>\n",
              "      <td>No</td>\n",
              "      <td>Languages, frameworks, and other technologies I'd be working with;Remote work options;Flex time ...</td>\n",
              "      <td>I was preparing for a job search</td>\n",
              "      <td>THB</td>\n",
              "      <td>Thai baht</td>\n",
              "      <td>23000.0</td>\n",
              "      <td>Monthly</td>\n",
              "      <td>8820.0</td>\n",
              "      <td>40.0</td>\n",
              "      <td>There's no schedule or spec; I work on what seems most important or urgent</td>\n",
              "      <td>Distracting work environment;Inadequate access to necessary tools;Lack of support from management</td>\n",
              "      <td>Less than once per month / Never</td>\n",
              "      <td>Home</td>\n",
              "      <td>Average</td>\n",
              "      <td>No</td>\n",
              "      <td>NaN</td>\n",
              "      <td>...</td>\n",
              "      <td>PostgreSQL</td>\n",
              "      <td>PostgreSQL</td>\n",
              "      <td>NaN</td>\n",
              "      <td>NaN</td>\n",
              "      <td>NaN</td>\n",
              "      <td>Other(s):</td>\n",
              "      <td>NaN</td>\n",
              "      <td>NaN</td>\n",
              "      <td>Vim;Visual Studio Code</td>\n",
              "      <td>Linux-based</td>\n",
              "      <td>I do not use containers</td>\n",
              "      <td>NaN</td>\n",
              "      <td>NaN</td>\n",
              "      <td>Yes</td>\n",
              "      <td>Yes</td>\n",
              "      <td>Yes</td>\n",
              "      <td>Reddit</td>\n",
              "      <td>In real life (in person)</td>\n",
              "      <td>Username</td>\n",
              "      <td>2011</td>\n",
              "      <td>A few times per week</td>\n",
              "      <td>Find answers to specific questions;Learn how to do things I didn’t necessarily look for</td>\n",
              "      <td>6-10 times per week</td>\n",
              "      <td>They were about the same</td>\n",
              "      <td>NaN</td>\n",
              "      <td>Yes</td>\n",
              "      <td>Less than once per month or monthly</td>\n",
              "      <td>Yes</td>\n",
              "      <td>No, I've heard of them, but I am not part of a private Q&amp;A instance</td>\n",
              "      <td>Neutral</td>\n",
              "      <td>Just as welcome now as I felt last year</td>\n",
              "      <td>Tech meetups or events in your area;Courses on technologies you're interested in</td>\n",
              "      <td>28.0</td>\n",
              "      <td>Man</td>\n",
              "      <td>No</td>\n",
              "      <td>Straight / Heterosexual</td>\n",
              "      <td>NaN</td>\n",
              "      <td>Yes</td>\n",
              "      <td>Appropriate in length</td>\n",
              "      <td>Neither easy nor difficult</td>\n",
              "    </tr>\n",
              "    <tr>\n",
              "      <th>3</th>\n",
              "      <td>4</td>\n",
              "      <td>I am a developer by profession</td>\n",
              "      <td>No</td>\n",
              "      <td>Never</td>\n",
              "      <td>The quality of OSS and closed source software is about the same</td>\n",
              "      <td>Employed full-time</td>\n",
              "      <td>United States</td>\n",
              "      <td>No</td>\n",
              "      <td>Bachelor’s degree (BA, BS, B.Eng., etc.)</td>\n",
              "      <td>Computer science, computer engineering, or software engineering</td>\n",
              "      <td>Taken an online course in programming or software development (e.g. a MOOC);Received on-the-job ...</td>\n",
              "      <td>100 to 499 employees</td>\n",
              "      <td>Developer, full-stack</td>\n",
              "      <td>3</td>\n",
              "      <td>16</td>\n",
              "      <td>Less than 1 year</td>\n",
              "      <td>Very satisfied</td>\n",
              "      <td>Slightly satisfied</td>\n",
              "      <td>Very confident</td>\n",
              "      <td>No</td>\n",
              "      <td>Not sure</td>\n",
              "      <td>I am not interested in new job opportunities</td>\n",
              "      <td>Less than a year ago</td>\n",
              "      <td>Write code by hand (e.g., on a whiteboard);Interview with people in senior / management roles</td>\n",
              "      <td>No</td>\n",
              "      <td>Languages, frameworks, and other technologies I'd be working with;Office environment or company ...</td>\n",
              "      <td>I was preparing for a job search</td>\n",
              "      <td>USD</td>\n",
              "      <td>United States dollar</td>\n",
              "      <td>61000.0</td>\n",
              "      <td>Yearly</td>\n",
              "      <td>61000.0</td>\n",
              "      <td>80.0</td>\n",
              "      <td>There's no schedule or spec; I work on what seems most important or urgent</td>\n",
              "      <td>NaN</td>\n",
              "      <td>Less than once per month / Never</td>\n",
              "      <td>Home</td>\n",
              "      <td>A little below average</td>\n",
              "      <td>No</td>\n",
              "      <td>NaN</td>\n",
              "      <td>...</td>\n",
              "      <td>MySQL;SQLite</td>\n",
              "      <td>MySQL;SQLite</td>\n",
              "      <td>Linux;Windows</td>\n",
              "      <td>Linux;Windows</td>\n",
              "      <td>NaN</td>\n",
              "      <td>NaN</td>\n",
              "      <td>.NET</td>\n",
              "      <td>.NET</td>\n",
              "      <td>Eclipse;Vim;Visual Studio;Visual Studio Code</td>\n",
              "      <td>Windows</td>\n",
              "      <td>I do not use containers</td>\n",
              "      <td>Not at all</td>\n",
              "      <td>Useful for decentralized currency (i.e., Bitcoin)</td>\n",
              "      <td>Yes</td>\n",
              "      <td>SIGH</td>\n",
              "      <td>Yes</td>\n",
              "      <td>Reddit</td>\n",
              "      <td>In real life (in person)</td>\n",
              "      <td>Username</td>\n",
              "      <td>2014</td>\n",
              "      <td>Daily or almost daily</td>\n",
              "      <td>Find answers to specific questions;Pass the time / relax</td>\n",
              "      <td>1-2 times per week</td>\n",
              "      <td>Stack Overflow was much faster</td>\n",
              "      <td>31-60 minutes</td>\n",
              "      <td>Yes</td>\n",
              "      <td>Less than once per month or monthly</td>\n",
              "      <td>Yes</td>\n",
              "      <td>No, and I don't know what those are</td>\n",
              "      <td>No, not really</td>\n",
              "      <td>Just as welcome now as I felt last year</td>\n",
              "      <td>Tech articles written by other developers;Industry news about technologies you're interested in;...</td>\n",
              "      <td>22.0</td>\n",
              "      <td>Man</td>\n",
              "      <td>No</td>\n",
              "      <td>Straight / Heterosexual</td>\n",
              "      <td>White or of European descent</td>\n",
              "      <td>No</td>\n",
              "      <td>Appropriate in length</td>\n",
              "      <td>Easy</td>\n",
              "    </tr>\n",
              "    <tr>\n",
              "      <th>4</th>\n",
              "      <td>5</td>\n",
              "      <td>I am a developer by profession</td>\n",
              "      <td>Yes</td>\n",
              "      <td>Once a month or more often</td>\n",
              "      <td>OSS is, on average, of HIGHER quality than proprietary / closed source software</td>\n",
              "      <td>Employed full-time</td>\n",
              "      <td>Ukraine</td>\n",
              "      <td>No</td>\n",
              "      <td>Bachelor’s degree (BA, BS, B.Eng., etc.)</td>\n",
              "      <td>Computer science, computer engineering, or software engineering</td>\n",
              "      <td>Taken an online course in programming or software development (e.g. a MOOC);Received on-the-job ...</td>\n",
              "      <td>10,000 or more employees</td>\n",
              "      <td>Academic researcher;Developer, desktop or enterprise applications;Developer, full-stack;Develope...</td>\n",
              "      <td>16</td>\n",
              "      <td>14</td>\n",
              "      <td>9</td>\n",
              "      <td>Very dissatisfied</td>\n",
              "      <td>Slightly dissatisfied</td>\n",
              "      <td>Somewhat confident</td>\n",
              "      <td>Yes</td>\n",
              "      <td>No</td>\n",
              "      <td>I am not interested in new job opportunities</td>\n",
              "      <td>Less than a year ago</td>\n",
              "      <td>Write any code;Write code by hand (e.g., on a whiteboard);Solve a brain-teaser style puzzle;Inte...</td>\n",
              "      <td>No</td>\n",
              "      <td>Industry that I'd be working in;Languages, frameworks, and other technologies I'd be working wit...</td>\n",
              "      <td>I was preparing for a job search</td>\n",
              "      <td>UAH</td>\n",
              "      <td>Ukrainian hryvnia</td>\n",
              "      <td>NaN</td>\n",
              "      <td>NaN</td>\n",
              "      <td>NaN</td>\n",
              "      <td>55.0</td>\n",
              "      <td>There is a schedule and/or spec (made by me or by a colleague), and I follow it very closely</td>\n",
              "      <td>Being tasked with non-development work;Inadequate access to necessary tools;Non-work commitments...</td>\n",
              "      <td>A few days each month</td>\n",
              "      <td>Office</td>\n",
              "      <td>A little above average</td>\n",
              "      <td>Yes, because I see value in code review</td>\n",
              "      <td>NaN</td>\n",
              "      <td>...</td>\n",
              "      <td>Couchbase;MongoDB;MySQL;Oracle;PostgreSQL;SQLite</td>\n",
              "      <td>Couchbase;Firebase;MongoDB;MySQL;Oracle;PostgreSQL;SQLite</td>\n",
              "      <td>Android;Linux;MacOS;Slack;Windows</td>\n",
              "      <td>Android;Docker;Kubernetes;Linux;Slack</td>\n",
              "      <td>Django;Express;Flask;jQuery;React.js;Spring</td>\n",
              "      <td>Flask;jQuery;React.js;Spring</td>\n",
              "      <td>Cordova;Node.js</td>\n",
              "      <td>Apache Spark;Hadoop;Node.js;React Native</td>\n",
              "      <td>IntelliJ;Notepad++;Vim</td>\n",
              "      <td>Linux-based</td>\n",
              "      <td>Outside of work, for personal projects</td>\n",
              "      <td>Not at all</td>\n",
              "      <td>NaN</td>\n",
              "      <td>Yes</td>\n",
              "      <td>Also Yes</td>\n",
              "      <td>Yes</td>\n",
              "      <td>Facebook</td>\n",
              "      <td>In real life (in person)</td>\n",
              "      <td>Username</td>\n",
              "      <td>I don't remember</td>\n",
              "      <td>Multiple times per day</td>\n",
              "      <td>Find answers to specific questions</td>\n",
              "      <td>More than 10 times per week</td>\n",
              "      <td>Stack Overflow was much faster</td>\n",
              "      <td>NaN</td>\n",
              "      <td>Yes</td>\n",
              "      <td>A few times per month or weekly</td>\n",
              "      <td>No, I knew that Stack Overflow had a job board but have never used or visited it</td>\n",
              "      <td>No, I've heard of them, but I am not part of a private Q&amp;A instance</td>\n",
              "      <td>Yes, definitely</td>\n",
              "      <td>Just as welcome now as I felt last year</td>\n",
              "      <td>Tech meetups or events in your area;Courses on technologies you're interested in</td>\n",
              "      <td>30.0</td>\n",
              "      <td>Man</td>\n",
              "      <td>No</td>\n",
              "      <td>Straight / Heterosexual</td>\n",
              "      <td>White or of European descent;Multiracial</td>\n",
              "      <td>No</td>\n",
              "      <td>Appropriate in length</td>\n",
              "      <td>Easy</td>\n",
              "    </tr>\n",
              "  </tbody>\n",
              "</table>\n",
              "<p>5 rows × 85 columns</p>\n",
              "</div>"
            ],
            "text/plain": [
              "   Respondent  ...                  SurveyEase\n",
              "0           1  ...  Neither easy nor difficult\n",
              "1           2  ...  Neither easy nor difficult\n",
              "2           3  ...  Neither easy nor difficult\n",
              "3           4  ...                        Easy\n",
              "4           5  ...                        Easy\n",
              "\n",
              "[5 rows x 85 columns]"
            ]
          },
          "metadata": {
            "tags": []
          },
          "execution_count": 26
        }
      ]
    },
    {
      "cell_type": "code",
      "metadata": {
        "id": "YhHn32GQtA-A",
        "colab_type": "code",
        "colab": {
          "base_uri": "https://localhost:8080/",
          "height": 381
        },
        "outputId": "776ff41e-5b89-43e6-bad0-d547f4fef820"
      },
      "source": [
        "df.columns"
      ],
      "execution_count": 27,
      "outputs": [
        {
          "output_type": "execute_result",
          "data": {
            "text/plain": [
              "Index(['Respondent', 'MainBranch', 'Hobbyist', 'OpenSourcer', 'OpenSource',\n",
              "       'Employment', 'Country', 'Student', 'EdLevel', 'UndergradMajor',\n",
              "       'EduOther', 'OrgSize', 'DevType', 'YearsCode', 'Age1stCode',\n",
              "       'YearsCodePro', 'CareerSat', 'JobSat', 'MgrIdiot', 'MgrMoney',\n",
              "       'MgrWant', 'JobSeek', 'LastHireDate', 'LastInt', 'FizzBuzz',\n",
              "       'JobFactors', 'ResumeUpdate', 'CurrencySymbol', 'CurrencyDesc',\n",
              "       'CompTotal', 'CompFreq', 'ConvertedComp', 'WorkWeekHrs', 'WorkPlan',\n",
              "       'WorkChallenge', 'WorkRemote', 'WorkLoc', 'ImpSyn', 'CodeRev',\n",
              "       'CodeRevHrs', 'UnitTests', 'PurchaseHow', 'PurchaseWhat',\n",
              "       'LanguageWorkedWith', 'LanguageDesireNextYear', 'DatabaseWorkedWith',\n",
              "       'DatabaseDesireNextYear', 'PlatformWorkedWith',\n",
              "       'PlatformDesireNextYear', 'WebFrameWorkedWith',\n",
              "       'WebFrameDesireNextYear', 'MiscTechWorkedWith',\n",
              "       'MiscTechDesireNextYear', 'DevEnviron', 'OpSys', 'Containers',\n",
              "       'BlockchainOrg', 'BlockchainIs', 'BetterLife', 'ITperson', 'OffOn',\n",
              "       'SocialMedia', 'Extraversion', 'ScreenName', 'SOVisit1st',\n",
              "       'SOVisitFreq', 'SOVisitTo', 'SOFindAnswer', 'SOTimeSaved',\n",
              "       'SOHowMuchTime', 'SOAccount', 'SOPartFreq', 'SOJobs', 'EntTeams',\n",
              "       'SOComm', 'WelcomeChange', 'SONewContent', 'Age', 'Gender', 'Trans',\n",
              "       'Sexuality', 'Ethnicity', 'Dependents', 'SurveyLength', 'SurveyEase'],\n",
              "      dtype='object')"
            ]
          },
          "metadata": {
            "tags": []
          },
          "execution_count": 27
        }
      ]
    },
    {
      "cell_type": "code",
      "metadata": {
        "id": "Zmf2mTD6tS2O",
        "colab_type": "code",
        "colab": {
          "base_uri": "https://localhost:8080/",
          "height": 110
        },
        "outputId": "995d7284-5b8d-47c5-d155-2b37d45a9020"
      },
      "source": [
        "test_df = pd.DataFrame(\n",
        "    data={\n",
        "        'Housing Price': [100*10**3, 250*10**3],\n",
        "        'First Name': ['Chris', 'Mark'],\n",
        "        'Last Name': ['Markella', 'Markella'],\n",
        "    }\n",
        ")\n",
        "test_df"
      ],
      "execution_count": 28,
      "outputs": [
        {
          "output_type": "execute_result",
          "data": {
            "text/html": [
              "<div>\n",
              "<style scoped>\n",
              "    .dataframe tbody tr th:only-of-type {\n",
              "        vertical-align: middle;\n",
              "    }\n",
              "\n",
              "    .dataframe tbody tr th {\n",
              "        vertical-align: top;\n",
              "    }\n",
              "\n",
              "    .dataframe thead th {\n",
              "        text-align: right;\n",
              "    }\n",
              "</style>\n",
              "<table border=\"1\" class=\"dataframe\">\n",
              "  <thead>\n",
              "    <tr style=\"text-align: right;\">\n",
              "      <th></th>\n",
              "      <th>Housing Price</th>\n",
              "      <th>First Name</th>\n",
              "      <th>Last Name</th>\n",
              "    </tr>\n",
              "  </thead>\n",
              "  <tbody>\n",
              "    <tr>\n",
              "      <th>0</th>\n",
              "      <td>100000</td>\n",
              "      <td>Chris</td>\n",
              "      <td>Markella</td>\n",
              "    </tr>\n",
              "    <tr>\n",
              "      <th>1</th>\n",
              "      <td>250000</td>\n",
              "      <td>Mark</td>\n",
              "      <td>Markella</td>\n",
              "    </tr>\n",
              "  </tbody>\n",
              "</table>\n",
              "</div>"
            ],
            "text/plain": [
              "   Housing Price First Name Last Name\n",
              "0         100000      Chris  Markella\n",
              "1         250000       Mark  Markella"
            ]
          },
          "metadata": {
            "tags": []
          },
          "execution_count": 28
        }
      ]
    },
    {
      "cell_type": "code",
      "metadata": {
        "id": "xqW6eUJ8uIpM",
        "colab_type": "code",
        "colab": {
          "base_uri": "https://localhost:8080/",
          "height": 35
        },
        "outputId": "f4e963cc-fc1f-4c30-8870-9b5a09453536"
      },
      "source": [
        "test_df.columns"
      ],
      "execution_count": 29,
      "outputs": [
        {
          "output_type": "execute_result",
          "data": {
            "text/plain": [
              "Index(['Housing Price', 'First Name', 'Last Name'], dtype='object')"
            ]
          },
          "metadata": {
            "tags": []
          },
          "execution_count": 29
        }
      ]
    },
    {
      "cell_type": "code",
      "metadata": {
        "id": "2rmJvRj_uMrO",
        "colab_type": "code",
        "colab": {
          "base_uri": "https://localhost:8080/",
          "height": 35
        },
        "outputId": "49ed5334-c190-4368-c576-b5a16267d7c3"
      },
      "source": [
        "['_'.join(col.lower().split(' ')) for col in test_df.columns]"
      ],
      "execution_count": 42,
      "outputs": [
        {
          "output_type": "execute_result",
          "data": {
            "text/plain": [
              "['housing_price', 'first_name', 'last_name']"
            ]
          },
          "metadata": {
            "tags": []
          },
          "execution_count": 42
        }
      ]
    },
    {
      "cell_type": "code",
      "metadata": {
        "id": "Xtp_mQAauVDz",
        "colab_type": "code",
        "colab": {
          "base_uri": "https://localhost:8080/",
          "height": 184
        },
        "outputId": "ea02e806-5004-4ef6-b411-a4a46f01cc9a"
      },
      "source": [
        "lst = ['Hello There', 'Here am I']\n",
        "list(lst.map(lambda c: c.lower))"
      ],
      "execution_count": 30,
      "outputs": [
        {
          "output_type": "error",
          "ename": "AttributeError",
          "evalue": "ignored",
          "traceback": [
            "\u001b[0;31m---------------------------------------------------------------------------\u001b[0m",
            "\u001b[0;31mAttributeError\u001b[0m                            Traceback (most recent call last)",
            "\u001b[0;32m<ipython-input-30-779af5eff204>\u001b[0m in \u001b[0;36m<module>\u001b[0;34m()\u001b[0m\n\u001b[1;32m      1\u001b[0m \u001b[0mlst\u001b[0m \u001b[0;34m=\u001b[0m \u001b[0;34m[\u001b[0m\u001b[0;34m'Hello There'\u001b[0m\u001b[0;34m,\u001b[0m \u001b[0;34m'Here am I'\u001b[0m\u001b[0;34m]\u001b[0m\u001b[0;34m\u001b[0m\u001b[0;34m\u001b[0m\u001b[0m\n\u001b[0;32m----> 2\u001b[0;31m \u001b[0mlist\u001b[0m\u001b[0;34m(\u001b[0m\u001b[0mlst\u001b[0m\u001b[0;34m.\u001b[0m\u001b[0mmap\u001b[0m\u001b[0;34m(\u001b[0m\u001b[0;32mlambda\u001b[0m \u001b[0mc\u001b[0m\u001b[0;34m:\u001b[0m \u001b[0mc\u001b[0m\u001b[0;34m.\u001b[0m\u001b[0mlower\u001b[0m\u001b[0;34m)\u001b[0m\u001b[0;34m)\u001b[0m\u001b[0;34m\u001b[0m\u001b[0;34m\u001b[0m\u001b[0m\n\u001b[0m",
            "\u001b[0;31mAttributeError\u001b[0m: 'list' object has no attribute 'map'"
          ]
        }
      ]
    },
    {
      "cell_type": "code",
      "metadata": {
        "id": "DPnA4Doyv31U",
        "colab_type": "code",
        "colab": {
          "base_uri": "https://localhost:8080/",
          "height": 35
        },
        "outputId": "3e45991a-8b99-49d2-c6cb-4ea100a84cf7"
      },
      "source": [
        "lst = ['First Name', 'Last Name']\n",
        "lst"
      ],
      "execution_count": 44,
      "outputs": [
        {
          "output_type": "execute_result",
          "data": {
            "text/plain": [
              "['First Name', 'Last Name']"
            ]
          },
          "metadata": {
            "tags": []
          },
          "execution_count": 44
        }
      ]
    },
    {
      "cell_type": "code",
      "metadata": {
        "id": "ESJVQjL5C15d",
        "colab_type": "code",
        "colab": {
          "base_uri": "https://localhost:8080/",
          "height": 35
        },
        "outputId": "2836204e-74f3-40c7-bf63-b265264bc208"
      },
      "source": [
        "[_.replace(' ', '_') for _ in lst]"
      ],
      "execution_count": 46,
      "outputs": [
        {
          "output_type": "execute_result",
          "data": {
            "text/plain": [
              "['First_Name', 'Last_Name']"
            ]
          },
          "metadata": {
            "tags": []
          },
          "execution_count": 46
        }
      ]
    },
    {
      "cell_type": "code",
      "metadata": {
        "id": "5VnPrenpDFab",
        "colab_type": "code",
        "colab": {
          "base_uri": "https://localhost:8080/",
          "height": 35
        },
        "outputId": "36042396-b9d4-42c0-ccdb-014ddc7bc1f9"
      },
      "source": [
        "cc_str = 'CamelCaseVariableName'\n",
        "cc_str"
      ],
      "execution_count": 61,
      "outputs": [
        {
          "output_type": "execute_result",
          "data": {
            "text/plain": [
              "'CamelCaseVariableName'"
            ]
          },
          "metadata": {
            "tags": []
          },
          "execution_count": 61
        }
      ]
    },
    {
      "cell_type": "code",
      "metadata": {
        "id": "Iaa1HfL_EHSY",
        "colab_type": "code",
        "colab": {
          "base_uri": "https://localhost:8080/",
          "height": 55
        },
        "outputId": "1020c1d4-4d11-4961-d372-a08cf49d26ae"
      },
      "source": [
        "print([_ for _ in cc_str], end=', ')"
      ],
      "execution_count": 63,
      "outputs": [
        {
          "output_type": "stream",
          "text": [
            "['C', 'a', 'm', 'e', 'l', 'C', 'a', 's', 'e', 'V', 'a', 'r', 'i', 'a', 'b', 'l', 'e', 'N', 'a', 'm', 'e'], "
          ],
          "name": "stdout"
        }
      ]
    },
    {
      "cell_type": "code",
      "metadata": {
        "id": "EFr6N7MSELqd",
        "colab_type": "code",
        "colab": {
          "base_uri": "https://localhost:8080/",
          "height": 35
        },
        "outputId": "9c3b5036-97d1-4098-8ed1-baf36fefa84d"
      },
      "source": [
        "''.join(['_'+_.lower() if _.isupper() else _ for _ in cc_str])[1:]"
      ],
      "execution_count": 65,
      "outputs": [
        {
          "output_type": "execute_result",
          "data": {
            "text/plain": [
              "'camel_case_variable_name'"
            ]
          },
          "metadata": {
            "tags": []
          },
          "execution_count": 65
        }
      ]
    },
    {
      "cell_type": "code",
      "metadata": {
        "id": "HRboMwA0Ei-X",
        "colab_type": "code",
        "colab": {
          "base_uri": "https://localhost:8080/",
          "height": 35
        },
        "outputId": "7a55ffa6-2219-4159-ac5c-7ceb1cebe68f"
      },
      "source": [
        "[_ if _ >= 2 else 'small' for _ in [1,2,3,4]]"
      ],
      "execution_count": 58,
      "outputs": [
        {
          "output_type": "execute_result",
          "data": {
            "text/plain": [
              "['small', 2, 3, 4]"
            ]
          },
          "metadata": {
            "tags": []
          },
          "execution_count": 58
        }
      ]
    },
    {
      "cell_type": "code",
      "metadata": {
        "id": "g1l0z_TqJn3q",
        "colab_type": "code",
        "colab": {
          "base_uri": "https://localhost:8080/",
          "height": 35
        },
        "outputId": "9c2836b5-9a00-4712-d984-d3b5633ea449"
      },
      "source": [
        "def camelcase_to_snake_case(camelCaseStr: str) -> str:\n",
        "    \"\"\"\n",
        "    Return the snake_case version of camelCaseStr.\n",
        "    \"\"\"\n",
        "    return ''.join(['_'+ch.lower() if ch.isupper() else ch for ch in camelCaseStr])[1:]\n",
        "\n",
        "snake_case_str = camelcase_to_snake_case(cc_str)\n",
        "snake_case_str"
      ],
      "execution_count": 68,
      "outputs": [
        {
          "output_type": "execute_result",
          "data": {
            "text/plain": [
              "'camel_case_variable_name'"
            ]
          },
          "metadata": {
            "tags": []
          },
          "execution_count": 68
        }
      ]
    },
    {
      "cell_type": "code",
      "metadata": {
        "id": "mG32lXh4L_og",
        "colab_type": "code",
        "colab": {
          "base_uri": "https://localhost:8080/",
          "height": 1000
        },
        "outputId": "4219b089-3d3d-4b17-a6b7-7032f4f59c2e"
      },
      "source": [
        "almost_lst = list(df.columns.map(lambda c: camelcase_to_snake_case(c)))\n",
        "list(map(lambda c: c.replace('s_o', 'so'), almost_lst))"
      ],
      "execution_count": 75,
      "outputs": [
        {
          "output_type": "execute_result",
          "data": {
            "text/plain": [
              "['respondent',\n",
              " 'main_branch',\n",
              " 'hobbyist',\n",
              " 'open_sourcer',\n",
              " 'open_source',\n",
              " 'employment',\n",
              " 'country',\n",
              " 'student',\n",
              " 'ed_level',\n",
              " 'undergrad_major',\n",
              " 'edu_other',\n",
              " 'org_size',\n",
              " 'dev_type',\n",
              " 'years_code',\n",
              " 'age1st_code',\n",
              " 'years_code_pro',\n",
              " 'career_sat',\n",
              " 'job_sat',\n",
              " 'mgr_idiot',\n",
              " 'mgr_money',\n",
              " 'mgr_want',\n",
              " 'job_seek',\n",
              " 'last_hire_date',\n",
              " 'last_int',\n",
              " 'fizz_buzz',\n",
              " 'job_factors',\n",
              " 'resume_update',\n",
              " 'currency_symbol',\n",
              " 'currency_desc',\n",
              " 'comp_total',\n",
              " 'comp_freq',\n",
              " 'converted_comp',\n",
              " 'work_week_hrs',\n",
              " 'work_plan',\n",
              " 'work_challenge',\n",
              " 'work_remote',\n",
              " 'work_loc',\n",
              " 'imp_syn',\n",
              " 'code_rev',\n",
              " 'code_rev_hrs',\n",
              " 'unit_tests',\n",
              " 'purchase_how',\n",
              " 'purchase_what',\n",
              " 'language_worked_with',\n",
              " 'language_desire_next_year',\n",
              " 'database_worked_with',\n",
              " 'database_desire_next_year',\n",
              " 'platform_worked_with',\n",
              " 'platform_desire_next_year',\n",
              " 'web_frame_worked_with',\n",
              " 'web_frame_desire_next_year',\n",
              " 'misc_tech_worked_with',\n",
              " 'misc_tech_desire_next_year',\n",
              " 'dev_environ',\n",
              " 'op_sys',\n",
              " 'containers',\n",
              " 'blockchain_org',\n",
              " 'blockchain_is',\n",
              " 'better_life',\n",
              " 'i_tperson',\n",
              " 'off_on',\n",
              " 'social_media',\n",
              " 'extraversion',\n",
              " 'screen_name',\n",
              " 'so_visit1st',\n",
              " 'so_visit_freq',\n",
              " 'so_visit_to',\n",
              " 'so_find_answer',\n",
              " 'so_time_saved',\n",
              " 'so_how_much_time',\n",
              " 'so_account',\n",
              " 'so_part_freq',\n",
              " 'so_jobs',\n",
              " 'ent_teams',\n",
              " 'so_comm',\n",
              " 'welcome_change',\n",
              " 'so_new_content',\n",
              " 'age',\n",
              " 'gender',\n",
              " 'trans',\n",
              " 'sexuality',\n",
              " 'ethnicity',\n",
              " 'dependents',\n",
              " 'survey_length',\n",
              " 'survey_ease']"
            ]
          },
          "metadata": {
            "tags": []
          },
          "execution_count": 75
        }
      ]
    },
    {
      "cell_type": "code",
      "metadata": {
        "id": "t8ar7dxnN6AP",
        "colab_type": "code",
        "colab": {}
      },
      "source": [
        ""
      ],
      "execution_count": 0,
      "outputs": []
    }
  ]
}