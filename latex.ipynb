{
  "nbformat": 4,
  "nbformat_minor": 0,
  "metadata": {
    "colab": {
      "name": "latex.ipynb",
      "provenance": [],
      "authorship_tag": "ABX9TyO2bzUlfLSCWqoQes2tg68q",
      "include_colab_link": true
    },
    "kernelspec": {
      "name": "python3",
      "display_name": "Python 3"
    }
  },
  "cells": [
    {
      "cell_type": "markdown",
      "metadata": {
        "id": "view-in-github",
        "colab_type": "text"
      },
      "source": [
        "<a href=\"https://colab.research.google.com/github/chrismarkella/Kaggle-access-from-Google-Colab/blob/master/latex.ipynb\" target=\"_parent\"><img src=\"https://colab.research.google.com/assets/colab-badge.svg\" alt=\"Open In Colab\"/></a>"
      ]
    },
    {
      "cell_type": "markdown",
      "metadata": {
        "id": "7mzJL2w5S4HI",
        "colab_type": "text"
      },
      "source": [
        "#LaTeX\n",
        "\n",
        "Mixing $LaTeX$ and `Jupyter` in `Colab`"
      ]
    },
    {
      "cell_type": "markdown",
      "metadata": {
        "id": "r5GcjWajiO3L",
        "colab_type": "text"
      },
      "source": [
        "$\\forall x \\in X, \\quad \\exists y \\leq \\epsilon$\n",
        "\n",
        "$\\lim\\limits_{x \\to \\infty} \\exp(-x) = 0$\n",
        "\n",
        "$\\sqrt[n]{1+x+x^2+x^3+\\dots+x^n}$\n",
        "\n",
        "$\\int_a^b \\mathrm{e}^{-x}\\,\\mathrm{d}x$\n",
        "\n",
        "$\\left(\\frac{x^2}{y^3}\\right)$\n",
        "\n",
        "$\\left.\\frac{a}{b}\\right|_0^1$\n",
        "\n",
        "$\n",
        " fib(n) =\n",
        "  \\begin{cases}\n",
        "    0       & \\quad \\text{,if } n = 0\\\\\n",
        "    1       & \\quad \\text{,if } n = 1\\\\\n",
        "    fib(n-1) + fib(n-2)  & \\quad \\text{,if } n \\geq 2\n",
        "  \\end{cases}\n",
        "$\n",
        "\n",
        "$\\begin{pmatrix}\n",
        "1 & 2 & 3 \\\\\n",
        "4 & 5 & 6 \\\\\n",
        "\\end{pmatrix}_{2x3}\n",
        "$\n",
        "\n",
        "\n",
        "\n",
        "$\n",
        "\\begin{array}{c|c}\n",
        "1 & 2 \\\\\n",
        "\\hline\n",
        "3 & 4 \\\\\n",
        "\\end{array}$\n",
        "\n",
        "$\n",
        "M = \\bordermatrix{~ & x & y \\cr\n",
        "                  A & 1 & 0 \\cr\n",
        "                  B & 0 & 1 \\cr}$\n",
        "\n",
        "A matrix in text must be set smaller:\n",
        "$\\bigl(\\begin{smallmatrix}\n",
        "{\\color{red}a}&{\\color{blue}b} \\\\ \n",
        "{\\color{yellow}c}&{\\color{green}d}\n",
        "\\end{smallmatrix} \\bigr)$\n",
        "to not increase leading in a portion of text."
      ]
    },
    {
      "cell_type": "code",
      "metadata": {
        "id": "mDTlWuIhq2uH",
        "colab_type": "code",
        "colab": {}
      },
      "source": [
        "start=r\"$\\bigl(\\begin{smallmatrix}\"\n",
        "one=r'{\\color{red}a}&{\\color{blue}b} \\\\' \n",
        "two=r'{\\color{yellow}c}&{\\color{green}d}'\n",
        "\n",
        "start=r\"$\\bigl(\\begin{smallmatrix}\"\n",
        "finish=r'\\end{smallmatrix} \\bigr)$'\n",
        "\n",
        "element = r'{\\color{red}a}'"
      ],
      "execution_count": 0,
      "outputs": []
    },
    {
      "cell_type": "code",
      "metadata": {
        "id": "UhI0Mmqzq-UN",
        "colab_type": "code",
        "colab": {
          "base_uri": "https://localhost:8080/",
          "height": 87
        },
        "outputId": "0a1b436e-b5bf-4c91-e902-704418ccc6c8"
      },
      "source": [
        "print('\\n'.join([start, one, two, finish]))"
      ],
      "execution_count": 9,
      "outputs": [
        {
          "output_type": "stream",
          "text": [
            "$\\bigl(\\begin{smallmatrix}\n",
            "{\\color{red}a}&{\\color{blue}b} \\\\\n",
            "{\\color{yellow}c}&{\\color{green}d}\n",
            "\\end{smallmatrix} \\bigr)$\n"
          ],
          "name": "stdout"
        }
      ]
    },
    {
      "cell_type": "code",
      "metadata": {
        "id": "TNSTn0ShrSUB",
        "colab_type": "code",
        "colab": {
          "base_uri": "https://localhost:8080/",
          "height": 35
        },
        "outputId": "cc896056-6c74-4e7f-cf1a-490d049318d6"
      },
      "source": [
        "print(start)"
      ],
      "execution_count": 8,
      "outputs": [
        {
          "output_type": "stream",
          "text": [
            "$\\bigl(\\begin{smallmatrix}\n"
          ],
          "name": "stdout"
        }
      ]
    },
    {
      "cell_type": "code",
      "metadata": {
        "id": "h7Fe1Ux7s0cJ",
        "colab_type": "code",
        "colab": {
          "base_uri": "https://localhost:8080/",
          "height": 35
        },
        "outputId": "a8ea544e-27b8-47cc-b142-3acd839ee8ef"
      },
      "source": [
        "[element]*2"
      ],
      "execution_count": 13,
      "outputs": [
        {
          "output_type": "execute_result",
          "data": {
            "text/plain": [
              "['{\\\\color{red}a}', '{\\\\color{red}a}']"
            ]
          },
          "metadata": {
            "tags": []
          },
          "execution_count": 13
        }
      ]
    },
    {
      "cell_type": "code",
      "metadata": {
        "id": "UHr-X37ptIKt",
        "colab_type": "code",
        "colab": {
          "base_uri": "https://localhost:8080/",
          "height": 35
        },
        "outputId": "adf57e14-d145-45fb-e7db-0369cc2b61a3"
      },
      "source": [
        "row = '&'.join([element]*3) + r' \\\\'\n",
        "print(row)"
      ],
      "execution_count": 18,
      "outputs": [
        {
          "output_type": "stream",
          "text": [
            "{\\color{red}a}&{\\color{red}a}&{\\color{red}a} \\\\\n"
          ],
          "name": "stdout"
        }
      ]
    },
    {
      "cell_type": "code",
      "metadata": {
        "id": "lX4wIU8ntddx",
        "colab_type": "code",
        "colab": {
          "base_uri": "https://localhost:8080/",
          "height": 87
        },
        "outputId": "1a9f7a92-b323-4be3-d8f4-60323f7d7149"
      },
      "source": [
        "rows = '\\n'.join([row]*4)\n",
        "print(rows)"
      ],
      "execution_count": 22,
      "outputs": [
        {
          "output_type": "stream",
          "text": [
            "{\\color{red}a}&{\\color{red}a}&{\\color{red}a} \\\\\n",
            "{\\color{red}a}&{\\color{red}a}&{\\color{red}a} \\\\\n",
            "{\\color{red}a}&{\\color{red}a}&{\\color{red}a} \\\\\n",
            "{\\color{red}a}&{\\color{red}a}&{\\color{red}a} \\\\\n"
          ],
          "name": "stdout"
        }
      ]
    },
    {
      "cell_type": "code",
      "metadata": {
        "id": "nIMAUOtMuLdo",
        "colab_type": "code",
        "colab": {
          "base_uri": "https://localhost:8080/",
          "height": 121
        },
        "outputId": "d80ee749-94df-4ce0-8002-da9f46fba02d"
      },
      "source": [
        "matrix = '\\n'.join([start, rows, finish])\n",
        "print(matrix)"
      ],
      "execution_count": 24,
      "outputs": [
        {
          "output_type": "stream",
          "text": [
            "$\\bigl(\\begin{smallmatrix}\n",
            "{\\color{red}a}&{\\color{red}a}&{\\color{red}a} \\\\\n",
            "{\\color{red}a}&{\\color{red}a}&{\\color{red}a} \\\\\n",
            "{\\color{red}a}&{\\color{red}a}&{\\color{red}a} \\\\\n",
            "{\\color{red}a}&{\\color{red}a}&{\\color{red}a} \\\\\n",
            "\\end{smallmatrix} \\bigr)$\n"
          ],
          "name": "stdout"
        }
      ]
    },
    {
      "cell_type": "markdown",
      "metadata": {
        "id": "59W60FFHu_pc",
        "colab_type": "text"
      },
      "source": [
        "$\\bigl(\\begin{smallmatrix}\n",
        "{\\color{red}a}&{\\color{red}a}&{\\color{red}a} \\\\\n",
        "{\\color{red}a}&{\\color{red}a}&{\\color{red}a} \\\\\n",
        "{\\color{red}a}&{\\color{red}a}&{\\color{red}a} \\\\\n",
        "{\\color{red}a}&{\\color{red}a}&{\\color{red}a} \\\\\n",
        "\\end{smallmatrix} \\bigr)$"
      ]
    },
    {
      "cell_type": "code",
      "metadata": {
        "id": "JM7cVFGQu1xb",
        "colab_type": "code",
        "colab": {
          "base_uri": "https://localhost:8080/",
          "height": 225
        },
        "outputId": "1b061da3-42b2-4248-94c1-a10086a35cae"
      },
      "source": [
        "lst = [element]*12\n",
        "lst"
      ],
      "execution_count": 50,
      "outputs": [
        {
          "output_type": "execute_result",
          "data": {
            "text/plain": [
              "['{\\\\color{red}a}',\n",
              " '{\\\\color{red}a}',\n",
              " '{\\\\color{red}a}',\n",
              " '{\\\\color{red}a}',\n",
              " '{\\\\color{red}a}',\n",
              " '{\\\\color{red}a}',\n",
              " '{\\\\color{red}a}',\n",
              " '{\\\\color{red}a}',\n",
              " '{\\\\color{red}a}',\n",
              " '{\\\\color{red}a}',\n",
              " '{\\\\color{red}a}',\n",
              " '{\\\\color{red}a}']"
            ]
          },
          "metadata": {
            "tags": []
          },
          "execution_count": 50
        }
      ]
    },
    {
      "cell_type": "code",
      "metadata": {
        "id": "oKjaiC74vM1h",
        "colab_type": "code",
        "colab": {
          "base_uri": "https://localhost:8080/",
          "height": 35
        },
        "outputId": "8777b1e3-7259-4e38-f6e4-8483f27df131"
      },
      "source": [
        "def create_element(color, variable):\n",
        "    return '{\\color{' + color + '}' + variable + '}'\n",
        "\n",
        "create_element('green', 'x')"
      ],
      "execution_count": 37,
      "outputs": [
        {
          "output_type": "execute_result",
          "data": {
            "text/plain": [
              "'{\\\\color{green}x}'"
            ]
          },
          "metadata": {
            "tags": []
          },
          "execution_count": 37
        }
      ]
    },
    {
      "cell_type": "code",
      "metadata": {
        "id": "1nn_ST3BvgbC",
        "colab_type": "code",
        "colab": {
          "base_uri": "https://localhost:8080/",
          "height": 72
        },
        "outputId": "e2f8106a-5443-4108-e069-415080f5bd6f"
      },
      "source": [
        "variable_lst = list('abcdefghijkl')\n",
        "print(variable_lst)\n",
        "color_lst = ['black', 'blue', 'brown', 'cyan', 'darkgray', 'gray', 'green', \n",
        "             'lightgray', 'lime', 'magenta', 'olive', 'orange', 'pink', \n",
        "             'purple', 'red', 'teal', 'violet', 'yellow',]\n",
        "\n",
        "for index in range(12):\n",
        "    # i,j = index//3, index%3\n",
        "    # print(f'{index},{i},{j},{variable_lst[index]}')\n",
        "    lst[index] = (create_element(color_lst[index], variable_lst[index]))\n",
        "\n",
        "print(lst)"
      ],
      "execution_count": 51,
      "outputs": [
        {
          "output_type": "stream",
          "text": [
            "['a', 'b', 'c', 'd', 'e', 'f', 'g', 'h', 'i', 'j', 'k', 'l']\n",
            "['{\\\\color{black}a}', '{\\\\color{blue}b}', '{\\\\color{brown}c}', '{\\\\color{cyan}d}', '{\\\\color{darkgray}e}', '{\\\\color{gray}f}', '{\\\\color{green}g}', '{\\\\color{lightgray}h}', '{\\\\color{lime}i}', '{\\\\color{magenta}j}', '{\\\\color{olive}k}', '{\\\\color{orange}l}']\n"
          ],
          "name": "stdout"
        }
      ]
    },
    {
      "cell_type": "code",
      "metadata": {
        "id": "BXs_1EufwCcR",
        "colab_type": "code",
        "colab": {
          "base_uri": "https://localhost:8080/",
          "height": 52
        },
        "outputId": "1d926e15-ad5c-4c21-99fa-93f8e5f134e9"
      },
      "source": [
        "row1 = '&'.join(lst[:3]) + r' \\\\'\n",
        "print(row1)\n",
        "\n",
        "row2 = '&'.join(lst[3:6]) + r' \\\\'\n",
        "print(row2)"
      ],
      "execution_count": 62,
      "outputs": [
        {
          "output_type": "stream",
          "text": [
            "{\\color{black}a}&{\\color{blue}b}&{\\color{brown}c} \\\\\n",
            "{\\color{cyan}d}&{\\color{darkgray}e}&{\\color{gray}f} \\\\\n"
          ],
          "name": "stdout"
        }
      ]
    },
    {
      "cell_type": "code",
      "metadata": {
        "id": "WVI29iwB8pn3",
        "colab_type": "code",
        "colab": {
          "base_uri": "https://localhost:8080/",
          "height": 104
        },
        "outputId": "5ae0265c-96a6-4571-f9ef-f23104937a74"
      },
      "source": [
        "num_rows = 4\n",
        "num_cols = 3\n",
        "\n",
        "rows = ''\n",
        "for i in range(num_rows):\n",
        "    row = '&'.join(lst[i*num_cols:(i+1)*num_cols]) + r' \\\\'\n",
        "    rows = '\\n'.join([rows, row])\n",
        "\n",
        "print(rows)"
      ],
      "execution_count": 63,
      "outputs": [
        {
          "output_type": "stream",
          "text": [
            "\n",
            "{\\color{black}a}&{\\color{blue}b}&{\\color{brown}c} \\\\\n",
            "{\\color{cyan}d}&{\\color{darkgray}e}&{\\color{gray}f} \\\\\n",
            "{\\color{green}g}&{\\color{lightgray}h}&{\\color{lime}i} \\\\\n",
            "{\\color{magenta}j}&{\\color{olive}k}&{\\color{orange}l} \\\\\n"
          ],
          "name": "stdout"
        }
      ]
    },
    {
      "cell_type": "code",
      "metadata": {
        "id": "PRrv2Pfq8yQ0",
        "colab_type": "code",
        "colab": {
          "base_uri": "https://localhost:8080/",
          "height": 87
        },
        "outputId": "c2f2c322-ca06-43cf-91d9-4a4f55a34352"
      },
      "source": [
        "def create_rows(lst, num_rows, num_cols):\n",
        "    rows = ''\n",
        "    for i in range(num_rows):\n",
        "        row = '&'.join(lst[i*num_cols:(i+1)*num_cols]) + r' \\\\'\n",
        "        rows = '\\n'.join([rows, row])\n",
        "    return rows\n",
        "\n",
        "print(create_rows(lst, 3, 4))"
      ],
      "execution_count": 66,
      "outputs": [
        {
          "output_type": "stream",
          "text": [
            "\n",
            "{\\color{black}a}&{\\color{blue}b}&{\\color{brown}c}&{\\color{cyan}d} \\\\\n",
            "{\\color{darkgray}e}&{\\color{gray}f}&{\\color{green}g}&{\\color{lightgray}h} \\\\\n",
            "{\\color{lime}i}&{\\color{magenta}j}&{\\color{olive}k}&{\\color{orange}l} \\\\\n"
          ],
          "name": "stdout"
        }
      ]
    },
    {
      "cell_type": "code",
      "metadata": {
        "id": "XICEpF2P954s",
        "colab_type": "code",
        "colab": {
          "base_uri": "https://localhost:8080/",
          "height": 104
        },
        "outputId": "ce543d07-be28-4e54-949b-c00f14f3805d"
      },
      "source": [
        "def create_rows(element, num_rows, num_cols):\n",
        "    lst = [element]*12\n",
        "\n",
        "    rows = ''\n",
        "    for i in range(num_rows):\n",
        "        row = '&'.join(lst[i*num_cols:(i+1)*num_cols]) + r' \\\\'\n",
        "        rows = '\\n'.join([rows, row])\n",
        "    return rows\n",
        "\n",
        "print(create_rows(element, 4, 3))"
      ],
      "execution_count": 68,
      "outputs": [
        {
          "output_type": "stream",
          "text": [
            "\n",
            "{\\color{red}a}&{\\color{red}a}&{\\color{red}a} \\\\\n",
            "{\\color{red}a}&{\\color{red}a}&{\\color{red}a} \\\\\n",
            "{\\color{red}a}&{\\color{red}a}&{\\color{red}a} \\\\\n",
            "{\\color{red}a}&{\\color{red}a}&{\\color{red}a} \\\\\n"
          ],
          "name": "stdout"
        }
      ]
    },
    {
      "cell_type": "code",
      "metadata": {
        "id": "j8MN7YLO-rBz",
        "colab_type": "code",
        "colab": {
          "base_uri": "https://localhost:8080/",
          "height": 139
        },
        "outputId": "43d03e92-533f-4af2-894e-1906ce2b8a19"
      },
      "source": [
        "variable_lst = list('abcdefghijkl')\n",
        "color_lst = ['black', 'blue', 'brown', 'cyan', 'darkgray', 'gray', 'green', \n",
        "             'lightgray', 'lime', 'magenta', 'olive', 'orange', 'pink', \n",
        "             'purple', 'red', 'teal', 'violet', 'yellow',]\n",
        "\n",
        "variable_color_dict = dict()\n",
        "variable_color_tup_lst = list()\n",
        "SIZE = 12\n",
        "for var, color in zip(variable_lst, color_lst[:SIZE]):\n",
        "    variable_color_dict[var] = color\n",
        "    variable_color_tup_lst.append((var,color))\n",
        "\n",
        "def create_lst(color_lst, variable_lst, size):\n",
        "    lst = ['']*size\n",
        "    for index in range(size):\n",
        "        lst[index] = (create_element(color_lst[index], variable_lst[index]))\n",
        "    return lst\n",
        "\n",
        "def create_row(row_index, num_cols, variable_color_tup_lst):\n",
        "    elements = []\n",
        "    for i in range(row_index*num_cols, (row_index+1)*num_cols):\n",
        "        var,color = variable_color_tup_lst[i]\n",
        "        element = create_element(color, var)\n",
        "        elements.append(element)\n",
        "    row = '&'.join(elements) + r' \\\\'\n",
        "    return row\n",
        "\n",
        "def create_rows(variable_color_tup_lst, num_rows, num_cols):\n",
        "    rows = ''\n",
        "    for row_index in range(num_rows):\n",
        "        row = create_row(row_index, num_cols, variable_color_tup_lst)\n",
        "        rows = '\\n'.join([rows, row])\n",
        "    return rows\n",
        "\n",
        "def create_full_latex(variable_color_tup_lst, num_rows, num_cols, kind='small'):\n",
        "    \"\"\"kind=\n",
        "        -'small': small matrix inside text\n",
        "        -'block': rectangular border, size of normal\n",
        "    \"\"\"\n",
        "    kind_dict = {\n",
        "        'small': (r'$\\bigl(\\begin{smallmatrix}',\n",
        "                  r'\\end{smallmatrix} \\bigr)$'),\n",
        "        'block': (r'$\\begin{bmatrix}',\n",
        "                  r'\\end{bmatrix}$'),\n",
        "    }\n",
        "    start, finish = kind_dict[kind]\n",
        "\n",
        "    rows = create_rows(variable_color_tup_lst, num_rows, num_cols)\n",
        "\n",
        "    latex_matrix_description = '\\n'.join([start, rows, finish])\n",
        "    return latex_matrix_description\n",
        "\n",
        "print(create_full_latex(variable_color_tup_lst, 4,3, kind='block'))"
      ],
      "execution_count": 100,
      "outputs": [
        {
          "output_type": "stream",
          "text": [
            "$\\begin{bmatrix}\n",
            "\n",
            "{\\color{black}a}&{\\color{blue}b}&{\\color{brown}c} \\\\\n",
            "{\\color{cyan}d}&{\\color{darkgray}e}&{\\color{gray}f} \\\\\n",
            "{\\color{green}g}&{\\color{lightgray}h}&{\\color{lime}i} \\\\\n",
            "{\\color{magenta}j}&{\\color{olive}k}&{\\color{orange}l} \\\\\n",
            "\\end{bmatrix}$\n"
          ],
          "name": "stdout"
        }
      ]
    },
    {
      "cell_type": "code",
      "metadata": {
        "id": "dLyrjZgD3shN",
        "colab_type": "code",
        "colab": {
          "base_uri": "https://localhost:8080/",
          "height": 575
        },
        "outputId": "eb3cc353-6227-4180-d445-f083a0752168"
      },
      "source": [
        "shapes_kind_lst = [\n",
        "    (2,6,'block'),\n",
        "    (3,4,'block'),\n",
        "    (4,3,'small'),\n",
        "    (6,2,'block'),\n",
        "]\n",
        "\n",
        "for *shape, _kind in shapes_kind_lst:\n",
        "    _num_rows, _num_cols = shape\n",
        "    print(shape)\n",
        "    print(create_full_latex(variable_color_tup_lst, _num_rows, _num_cols, kind=_kind))"
      ],
      "execution_count": 101,
      "outputs": [
        {
          "output_type": "stream",
          "text": [
            "[2, 6]\n",
            "$\\begin{bmatrix}\n",
            "\n",
            "{\\color{black}a}&{\\color{blue}b}&{\\color{brown}c}&{\\color{cyan}d}&{\\color{darkgray}e}&{\\color{gray}f} \\\\\n",
            "{\\color{green}g}&{\\color{lightgray}h}&{\\color{lime}i}&{\\color{magenta}j}&{\\color{olive}k}&{\\color{orange}l} \\\\\n",
            "\\end{bmatrix}$\n",
            "[3, 4]\n",
            "$\\begin{bmatrix}\n",
            "\n",
            "{\\color{black}a}&{\\color{blue}b}&{\\color{brown}c}&{\\color{cyan}d} \\\\\n",
            "{\\color{darkgray}e}&{\\color{gray}f}&{\\color{green}g}&{\\color{lightgray}h} \\\\\n",
            "{\\color{lime}i}&{\\color{magenta}j}&{\\color{olive}k}&{\\color{orange}l} \\\\\n",
            "\\end{bmatrix}$\n",
            "[4, 3]\n",
            "$\\bigl(\\begin{smallmatrix}\n",
            "\n",
            "{\\color{black}a}&{\\color{blue}b}&{\\color{brown}c} \\\\\n",
            "{\\color{cyan}d}&{\\color{darkgray}e}&{\\color{gray}f} \\\\\n",
            "{\\color{green}g}&{\\color{lightgray}h}&{\\color{lime}i} \\\\\n",
            "{\\color{magenta}j}&{\\color{olive}k}&{\\color{orange}l} \\\\\n",
            "\\end{smallmatrix} \\bigr)$\n",
            "[6, 2]\n",
            "$\\begin{bmatrix}\n",
            "\n",
            "{\\color{black}a}&{\\color{blue}b} \\\\\n",
            "{\\color{brown}c}&{\\color{cyan}d} \\\\\n",
            "{\\color{darkgray}e}&{\\color{gray}f} \\\\\n",
            "{\\color{green}g}&{\\color{lightgray}h} \\\\\n",
            "{\\color{lime}i}&{\\color{magenta}j} \\\\\n",
            "{\\color{olive}k}&{\\color{orange}l} \\\\\n",
            "\\end{bmatrix}$\n"
          ],
          "name": "stdout"
        }
      ]
    },
    {
      "cell_type": "markdown",
      "metadata": {
        "id": "Q8JKAtIZ6GMO",
        "colab_type": "text"
      },
      "source": [
        "Generated some custom colored matrices with custom variable names and varying dimensions.\n",
        "\n",
        "- \n",
        "$\\begin{bmatrix}\n",
        "{\\color{black}a}&{\\color{blue}b}&{\\color{brown}c}&{\\color{cyan}d}&{\\color{darkgray}e}&{\\color{gray}f} \\\\\n",
        "{\\color{green}g}&{\\color{lightgray}h}&{\\color{lime}i}&{\\color{magenta}j}&{\\color{olive}k}&{\\color{orange}l} \\\\\n",
        "\\end{bmatrix}$\n",
        "\n",
        "-  \n",
        "$\\begin{bmatrix}\n",
        "{\\color{black}a}&{\\color{blue}b}&{\\color{brown}c}&{\\color{cyan}d} \\\\\n",
        "{\\color{darkgray}e}&{\\color{gray}f}&{\\color{green}g}&{\\color{lightgray}h} \\\\\n",
        "{\\color{lime}i}&{\\color{magenta}j}&{\\color{olive}k}&{\\color{orange}l} \\\\\n",
        "\\end{bmatrix}$\n",
        "\n",
        "- custom colored small matrix\n",
        "$\\bigl(\\begin{smallmatrix}\n",
        "{\\color{black}a}&{\\color{blue}b}&{\\color{brown}c} \\\\\n",
        "{\\color{cyan}d}&{\\color{darkgray}e}&{\\color{gray}f} \\\\\n",
        "{\\color{green}g}&{\\color{lightgray}h}&{\\color{lime}i} \\\\\n",
        "{\\color{magenta}j}&{\\color{olive}k}&{\\color{orange}l} \\\\\n",
        "\\end{smallmatrix} \\bigr)$\n",
        "inside the text.\n",
        "\n",
        "- \n",
        "$\\begin{bmatrix}\n",
        "{\\color{black}a}&{\\color{blue}b}&{\\color{brown}c} \\\\\n",
        "{\\color{cyan}d}&{\\color{darkgray}e}&{\\color{gray}f} \\\\\n",
        "{\\color{green}g}&{\\color{lightgray}h}&{\\color{lime}i} \\\\\n",
        "{\\color{magenta}j}&{\\color{olive}k}&{\\color{orange}l} \\\\\n",
        "\\end{bmatrix}$\n",
        "\n",
        "-  \n",
        "$\\begin{bmatrix}\n",
        "{\\color{black}a}&{\\color{blue}b} \\\\\n",
        "{\\color{brown}c}&{\\color{cyan}d} \\\\\n",
        "{\\color{darkgray}e}&{\\color{gray}f} \\\\\n",
        "{\\color{green}g}&{\\color{lightgray}h} \\\\\n",
        "{\\color{lime}i}&{\\color{magenta}j} \\\\\n",
        "{\\color{olive}k}&{\\color{orange}l} \\\\\n",
        "\\end{bmatrix}$"
      ]
    }
  ]
}