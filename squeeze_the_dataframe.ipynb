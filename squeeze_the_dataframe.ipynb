{
  "nbformat": 4,
  "nbformat_minor": 0,
  "metadata": {
    "colab": {
      "name": "squeeze_the_dataframe.ipynb",
      "provenance": [],
      "collapsed_sections": [],
      "machine_shape": "hm",
      "include_colab_link": true
    },
    "kernelspec": {
      "name": "python3",
      "display_name": "Python 3"
    }
  },
  "cells": [
    {
      "cell_type": "markdown",
      "metadata": {
        "id": "view-in-github",
        "colab_type": "text"
      },
      "source": [
        "<a href=\"https://colab.research.google.com/github/chrismarkella/Kaggle-access-from-Google-Colab/blob/master/squeeze_the_dataframe.ipynb\" target=\"_parent\"><img src=\"https://colab.research.google.com/assets/colab-badge.svg\" alt=\"Open In Colab\"/></a>"
      ]
    },
    {
      "cell_type": "markdown",
      "metadata": {
        "id": "KZm3u06OJNVE",
        "colab_type": "text"
      },
      "source": [
        "##Reducing the size of a DataFrame."
      ]
    },
    {
      "cell_type": "code",
      "metadata": {
        "id": "V2c87jCbENol",
        "colab_type": "code",
        "outputId": "3e2c0f61-7152-49db-bb00-3f4a7548e140",
        "colab": {
          "base_uri": "https://localhost:8080/",
          "height": 121
        }
      },
      "source": [
        "!apt-get -qq install tree"
      ],
      "execution_count": 1,
      "outputs": [
        {
          "output_type": "stream",
          "text": [
            "Selecting previously unselected package tree.\n",
            "(Reading database ... 135004 files and directories currently installed.)\n",
            "Preparing to unpack .../tree_1.7.0-5_amd64.deb ...\n",
            "Unpacking tree (1.7.0-5) ...\n",
            "Setting up tree (1.7.0-5) ...\n",
            "Processing triggers for man-db (2.8.3-2ubuntu0.1) ...\n"
          ],
          "name": "stdout"
        }
      ]
    },
    {
      "cell_type": "code",
      "metadata": {
        "id": "UfptiakkLVI7",
        "colab_type": "code",
        "colab": {}
      },
      "source": [
        "import os\n",
        "\n",
        "import numpy as np\n",
        "import pandas as pd\n",
        "\n",
        "from getpass import getpass "
      ],
      "execution_count": 0,
      "outputs": []
    },
    {
      "cell_type": "code",
      "metadata": {
        "id": "x_q48eW8LWd_",
        "colab_type": "code",
        "outputId": "80a43379-bfe0-4888-c106-b9e4f072fe05",
        "colab": {
          "base_uri": "https://localhost:8080/",
          "height": 69
        }
      },
      "source": [
        "def access_kaggle():\n",
        "    \"\"\"\n",
        "    Access Kaggle from Google Colab.\n",
        "    If the /root/.kaggle does not exist then prompt for\n",
        "    the username and for the Kaggle API key.\n",
        "    Creates the kaggle.json access file in the /root/.kaggle/ folder. \n",
        "    \"\"\"\n",
        "    KAGGLE_ROOT = os.path.join('/root', '.kaggle')\n",
        "    KAGGLE_PATH = os.path.join(KAGGLE_ROOT, 'kaggle.json')\n",
        "\n",
        "    if '.kaggle' not in os.listdir(path='/root'):\n",
        "        user = getpass(prompt='Kaggle username: ')\n",
        "        key  = getpass(prompt='Kaggle API key: ')\n",
        "        \n",
        "        !mkdir $KAGGLE_ROOT\n",
        "        !touch $KAGGLE_PATH\n",
        "        !chmod 666 $KAGGLE_PATH\n",
        "        with open(KAGGLE_PATH, mode='w') as f:\n",
        "            f.write('{\"username\":\"%s\", \"key\":\"%s\"}' %(user, key))\n",
        "            f.close()\n",
        "        !chmod 600 $KAGGLE_PATH\n",
        "        del user\n",
        "        del key\n",
        "        success_msg = \"Kaggle is successfully set up. Good to go.\"\n",
        "        print(f'{success_msg}')\n",
        "\n",
        "access_kaggle()\n"
      ],
      "execution_count": 3,
      "outputs": [
        {
          "output_type": "stream",
          "text": [
            "Kaggle username: ··········\n",
            "Kaggle API key: ··········\n",
            "Kaggle is successfully set up. Good to go.\n"
          ],
          "name": "stdout"
        }
      ]
    },
    {
      "cell_type": "code",
      "metadata": {
        "id": "4dZ1ELwzNOuk",
        "colab_type": "code",
        "outputId": "a4eb2903-c5b6-42bc-b4d1-b4310575f850",
        "colab": {
          "base_uri": "https://localhost:8080/",
          "height": 176
        }
      },
      "source": [
        "!kaggle datasets files benhamner/sf-bay-area-bike-share"
      ],
      "execution_count": 4,
      "outputs": [
        {
          "output_type": "stream",
          "text": [
            "Warning: Looks like you're using an outdated API Version, please consider updating (server 1.5.6 / client 1.5.4)\n",
            "name              size  creationDate         \n",
            "---------------  -----  -------------------  \n",
            "trip.csv          76MB  2019-11-14 06:26:55  \n",
            "weather.csv      428KB  2019-11-14 06:26:55  \n",
            "station.csv        6KB  2019-11-14 06:26:55  \n",
            "database.sqlite    3GB  2019-11-14 06:26:55  \n",
            "status.csv         2GB  2019-11-14 06:26:55  \n"
          ],
          "name": "stdout"
        }
      ]
    },
    {
      "cell_type": "code",
      "metadata": {
        "id": "fdOD33r7NnQA",
        "colab_type": "code",
        "outputId": "e2f3ad5f-5ba5-4780-ead1-4e0b07be19fe",
        "colab": {
          "base_uri": "https://localhost:8080/",
          "height": 69
        }
      },
      "source": [
        "!kaggle datasets download benhamner/sf-bay-area-bike-share -f status.csv"
      ],
      "execution_count": 5,
      "outputs": [
        {
          "output_type": "stream",
          "text": [
            "Downloading status.csv.zip to /content\n",
            " 93% 169M/182M [00:01<00:00, 128MB/s]\n",
            "100% 182M/182M [00:01<00:00, 130MB/s]\n"
          ],
          "name": "stdout"
        }
      ]
    },
    {
      "cell_type": "code",
      "metadata": {
        "id": "wpra5q6oPfiM",
        "colab_type": "code",
        "outputId": "00efc20a-5731-4c13-b52a-d9b64377e8b5",
        "colab": {
          "base_uri": "https://localhost:8080/",
          "height": 208
        }
      },
      "source": [
        "!tree -sh"
      ],
      "execution_count": 6,
      "outputs": [
        {
          "output_type": "stream",
          "text": [
            ".\n",
            "├── [4.0K]  sample_data\n",
            "│   ├── [1.7K]  anscombe.json\n",
            "│   ├── [294K]  california_housing_test.csv\n",
            "│   ├── [1.6M]  california_housing_train.csv\n",
            "│   ├── [ 17M]  mnist_test.csv\n",
            "│   ├── [ 35M]  mnist_train_small.csv\n",
            "│   └── [ 930]  README.md\n",
            "└── [182M]  status.csv.zip\n",
            "\n",
            "1 directory, 7 files\n"
          ],
          "name": "stdout"
        }
      ]
    },
    {
      "cell_type": "code",
      "metadata": {
        "id": "hRko-_kgPhrb",
        "colab_type": "code",
        "outputId": "9a6efcdd-36fc-4119-f0c4-6693dfeb1ada",
        "colab": {
          "base_uri": "https://localhost:8080/",
          "height": 243
        }
      },
      "source": [
        "!unzip status.csv.zip\n",
        "!rm status.csv.zip\n",
        "!tree -sh"
      ],
      "execution_count": 7,
      "outputs": [
        {
          "output_type": "stream",
          "text": [
            "Archive:  status.csv.zip\n",
            "  inflating: status.csv              \n",
            ".\n",
            "├── [4.0K]  sample_data\n",
            "│   ├── [1.7K]  anscombe.json\n",
            "│   ├── [294K]  california_housing_test.csv\n",
            "│   ├── [1.6M]  california_housing_train.csv\n",
            "│   ├── [ 17M]  mnist_test.csv\n",
            "│   ├── [ 35M]  mnist_train_small.csv\n",
            "│   └── [ 930]  README.md\n",
            "└── [1.9G]  status.csv\n",
            "\n",
            "1 directory, 7 files\n"
          ],
          "name": "stdout"
        }
      ]
    },
    {
      "cell_type": "code",
      "metadata": {
        "id": "lUXPbmcchtDZ",
        "colab_type": "code",
        "outputId": "510047a5-5a49-4649-88d2-92daeab83ec5",
        "colab": {
          "base_uri": "https://localhost:8080/",
          "height": 52
        }
      },
      "source": [
        "import time\n",
        "\n",
        "def timer(func):\n",
        "    def wrapper(*args, **kwargs):\n",
        "        start = time.time()\n",
        "        rv = func(*args, **kwargs)\n",
        "        end = time.time()\n",
        "        return rv, end-start\n",
        "    return wrapper\n",
        "\n",
        "@timer\n",
        "def load_data(csv_path):\n",
        "    return pd.read_csv(csv_path, sep=',')\n",
        "\n",
        "df, time_elapsed = load_data('status.csv')\n",
        "print(f'time elapsed: {time_elapsed}')\n",
        "print(df.shape)"
      ],
      "execution_count": 8,
      "outputs": [
        {
          "output_type": "stream",
          "text": [
            "time elapsed: 61.53510284423828\n",
            "(71984434, 4)\n"
          ],
          "name": "stdout"
        }
      ]
    },
    {
      "cell_type": "code",
      "metadata": {
        "id": "ElUxZUNNcROO",
        "colab_type": "code",
        "outputId": "9e02d94e-2f6e-423d-a2ca-cdd63909a264",
        "colab": {
          "base_uri": "https://localhost:8080/",
          "height": 173
        }
      },
      "source": [
        "df.info()"
      ],
      "execution_count": 9,
      "outputs": [
        {
          "output_type": "stream",
          "text": [
            "<class 'pandas.core.frame.DataFrame'>\n",
            "RangeIndex: 71984434 entries, 0 to 71984433\n",
            "Data columns (total 4 columns):\n",
            "station_id         int64\n",
            "bikes_available    int64\n",
            "docks_available    int64\n",
            "time               object\n",
            "dtypes: int64(3), object(1)\n",
            "memory usage: 2.1+ GB\n"
          ],
          "name": "stdout"
        }
      ]
    },
    {
      "cell_type": "code",
      "metadata": {
        "id": "Rj4PbLS3cUuL",
        "colab_type": "code",
        "outputId": "7e99e2ea-a6bc-4909-d0c8-a63632946eee",
        "colab": {
          "base_uri": "https://localhost:8080/",
          "height": 294
        }
      },
      "source": [
        "df.describe()"
      ],
      "execution_count": 10,
      "outputs": [
        {
          "output_type": "execute_result",
          "data": {
            "text/html": [
              "<div>\n",
              "<style scoped>\n",
              "    .dataframe tbody tr th:only-of-type {\n",
              "        vertical-align: middle;\n",
              "    }\n",
              "\n",
              "    .dataframe tbody tr th {\n",
              "        vertical-align: top;\n",
              "    }\n",
              "\n",
              "    .dataframe thead th {\n",
              "        text-align: right;\n",
              "    }\n",
              "</style>\n",
              "<table border=\"1\" class=\"dataframe\">\n",
              "  <thead>\n",
              "    <tr style=\"text-align: right;\">\n",
              "      <th></th>\n",
              "      <th>station_id</th>\n",
              "      <th>bikes_available</th>\n",
              "      <th>docks_available</th>\n",
              "    </tr>\n",
              "  </thead>\n",
              "  <tbody>\n",
              "    <tr>\n",
              "      <th>count</th>\n",
              "      <td>7.198443e+07</td>\n",
              "      <td>7.198443e+07</td>\n",
              "      <td>7.198443e+07</td>\n",
              "    </tr>\n",
              "    <tr>\n",
              "      <th>mean</th>\n",
              "      <td>4.253149e+01</td>\n",
              "      <td>8.394812e+00</td>\n",
              "      <td>9.284729e+00</td>\n",
              "    </tr>\n",
              "    <tr>\n",
              "      <th>std</th>\n",
              "      <td>2.376117e+01</td>\n",
              "      <td>3.993586e+00</td>\n",
              "      <td>4.175442e+00</td>\n",
              "    </tr>\n",
              "    <tr>\n",
              "      <th>min</th>\n",
              "      <td>2.000000e+00</td>\n",
              "      <td>0.000000e+00</td>\n",
              "      <td>0.000000e+00</td>\n",
              "    </tr>\n",
              "    <tr>\n",
              "      <th>25%</th>\n",
              "      <td>2.400000e+01</td>\n",
              "      <td>6.000000e+00</td>\n",
              "      <td>6.000000e+00</td>\n",
              "    </tr>\n",
              "    <tr>\n",
              "      <th>50%</th>\n",
              "      <td>4.200000e+01</td>\n",
              "      <td>8.000000e+00</td>\n",
              "      <td>9.000000e+00</td>\n",
              "    </tr>\n",
              "    <tr>\n",
              "      <th>75%</th>\n",
              "      <td>6.300000e+01</td>\n",
              "      <td>1.100000e+01</td>\n",
              "      <td>1.200000e+01</td>\n",
              "    </tr>\n",
              "    <tr>\n",
              "      <th>max</th>\n",
              "      <td>8.400000e+01</td>\n",
              "      <td>2.700000e+01</td>\n",
              "      <td>2.700000e+01</td>\n",
              "    </tr>\n",
              "  </tbody>\n",
              "</table>\n",
              "</div>"
            ],
            "text/plain": [
              "         station_id  bikes_available  docks_available\n",
              "count  7.198443e+07     7.198443e+07     7.198443e+07\n",
              "mean   4.253149e+01     8.394812e+00     9.284729e+00\n",
              "std    2.376117e+01     3.993586e+00     4.175442e+00\n",
              "min    2.000000e+00     0.000000e+00     0.000000e+00\n",
              "25%    2.400000e+01     6.000000e+00     6.000000e+00\n",
              "50%    4.200000e+01     8.000000e+00     9.000000e+00\n",
              "75%    6.300000e+01     1.100000e+01     1.200000e+01\n",
              "max    8.400000e+01     2.700000e+01     2.700000e+01"
            ]
          },
          "metadata": {
            "tags": []
          },
          "execution_count": 10
        }
      ]
    },
    {
      "cell_type": "markdown",
      "metadata": {
        "id": "ywGsKq8uDkdY",
        "colab_type": "text"
      },
      "source": [
        "###The range for the numerical data types are pretty small.\n",
        "- `station_id`: 2-84\n",
        "- `bikes_available`: 0-27\n",
        "- `docks_available`: 0-27\n",
        "\n",
        "`int64` looks too large for such a small numbers.\n",
        "\n",
        "The current size is 2.1GB. Let's try to change the `int64`'s to `np.uint8`."
      ]
    },
    {
      "cell_type": "code",
      "metadata": {
        "id": "38mX59VnEsCC",
        "colab_type": "code",
        "colab": {
          "base_uri": "https://localhost:8080/",
          "height": 173
        },
        "outputId": "f7392bd2-6dbb-4969-f216-effe4b1a9406"
      },
      "source": [
        "df.station_id = df.station_id.astype(np.uint8)\n",
        "df.info()"
      ],
      "execution_count": 11,
      "outputs": [
        {
          "output_type": "stream",
          "text": [
            "<class 'pandas.core.frame.DataFrame'>\n",
            "RangeIndex: 71984434 entries, 0 to 71984433\n",
            "Data columns (total 4 columns):\n",
            "station_id         uint8\n",
            "bikes_available    int64\n",
            "docks_available    int64\n",
            "time               object\n",
            "dtypes: int64(2), object(1), uint8(1)\n",
            "memory usage: 1.7+ GB\n"
          ],
          "name": "stdout"
        }
      ]
    },
    {
      "cell_type": "markdown",
      "metadata": {
        "id": "oivLlLq7E9_T",
        "colab_type": "text"
      },
      "source": [
        "###After changing only the `station_id`'s data type saved 400MB.\n",
        "\n",
        "Changing the other two datatypes."
      ]
    },
    {
      "cell_type": "code",
      "metadata": {
        "id": "Hn1KvR6vFTnO",
        "colab_type": "code",
        "colab": {
          "base_uri": "https://localhost:8080/",
          "height": 173
        },
        "outputId": "38ff7426-8e8e-4641-c76f-450a4d979f6a"
      },
      "source": [
        "df.bikes_available = df.bikes_available.astype(np.uint8)\n",
        "df.docks_available = df.docks_available.astype(np.uint8)\n",
        "df.info()"
      ],
      "execution_count": 12,
      "outputs": [
        {
          "output_type": "stream",
          "text": [
            "<class 'pandas.core.frame.DataFrame'>\n",
            "RangeIndex: 71984434 entries, 0 to 71984433\n",
            "Data columns (total 4 columns):\n",
            "station_id         uint8\n",
            "bikes_available    uint8\n",
            "docks_available    uint8\n",
            "time               object\n",
            "dtypes: object(1), uint8(3)\n",
            "memory usage: 755.1+ MB\n"
          ],
          "name": "stdout"
        }
      ]
    },
    {
      "cell_type": "code",
      "metadata": {
        "id": "Z5ZN5NuBFqYy",
        "colab_type": "code",
        "colab": {
          "base_uri": "https://localhost:8080/",
          "height": 35
        },
        "outputId": "656c6f41-6f94-4313-8020-8256a1ce4c18"
      },
      "source": [
        "double_df = pd.concat([df.copy(), df.copy()], axis='index')\n",
        "double_df.shape"
      ],
      "execution_count": 13,
      "outputs": [
        {
          "output_type": "execute_result",
          "data": {
            "text/plain": [
              "(143968868, 4)"
            ]
          },
          "metadata": {
            "tags": []
          },
          "execution_count": 13
        }
      ]
    },
    {
      "cell_type": "code",
      "metadata": {
        "id": "I94bjwAcGLJ0",
        "colab_type": "code",
        "colab": {
          "base_uri": "https://localhost:8080/",
          "height": 191
        },
        "outputId": "92ad1f34-bd16-4d80-8453-f1a97564cf4a"
      },
      "source": [
        "df_288M = pd.concat([double_df.copy(), double_df.copy()], axis='index')\n",
        "print(df_288M.shape)\n",
        "df_288M.info()"
      ],
      "execution_count": 14,
      "outputs": [
        {
          "output_type": "stream",
          "text": [
            "(287937736, 4)\n",
            "<class 'pandas.core.frame.DataFrame'>\n",
            "Int64Index: 287937736 entries, 0 to 71984433\n",
            "Data columns (total 4 columns):\n",
            "station_id         uint8\n",
            "bikes_available    uint8\n",
            "docks_available    uint8\n",
            "time               object\n",
            "dtypes: object(1), uint8(3)\n",
            "memory usage: 5.1+ GB\n"
          ],
          "name": "stdout"
        }
      ]
    },
    {
      "cell_type": "markdown",
      "metadata": {
        "id": "LZVmSD2_IsPt",
        "colab_type": "text"
      },
      "source": [
        "###Bonus\n",
        "- Let's see how long will it take to re-mean a column with 288 millions of entries. Lay back. Will take a while..."
      ]
    },
    {
      "cell_type": "code",
      "metadata": {
        "id": "-c0GQJjeHH-U",
        "colab_type": "code",
        "colab": {
          "base_uri": "https://localhost:8080/",
          "height": 35
        },
        "outputId": "99d32825-e24c-439d-a071-5af5eff15920"
      },
      "source": [
        "_mean = df.station_id.mean()\n",
        "\n",
        "@timer\n",
        "def re_mean(_df, method):\n",
        "    if method == 'series':\n",
        "        _df.station_id - _mean\n",
        "    elif method == 'map':\n",
        "        _df.station_id.map(lambda st_id: st_id - _mean)\n",
        "    elif method == 'apply':\n",
        "        _df.apply(func=re_mean_for_apply, axis='columns')\n",
        "    return 1\n",
        "\n",
        "_method = 'series'\n",
        "_,time_elapsed = re_mean(df_288M, _method)\n",
        "print(f'{_method:6}, time elapsed: {time_elapsed:7.3f}')"
      ],
      "execution_count": 15,
      "outputs": [
        {
          "output_type": "stream",
          "text": [
            "series, time elapsed:   3.218\n"
          ],
          "name": "stdout"
        }
      ]
    },
    {
      "cell_type": "markdown",
      "metadata": {
        "id": "kr7bjOQEIC1g",
        "colab_type": "text"
      },
      "source": [
        "###Are you serious!?\n",
        "\n",
        "3.2 sec for **288 millions** of rows."
      ]
    }
  ]
}