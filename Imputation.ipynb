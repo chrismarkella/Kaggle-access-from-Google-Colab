{
  "nbformat": 4,
  "nbformat_minor": 0,
  "metadata": {
    "colab": {
      "name": "Imputation.ipynb",
      "provenance": [],
      "authorship_tag": "ABX9TyN7F9tROen01DhmWhFXyQMN",
      "include_colab_link": true
    },
    "kernelspec": {
      "name": "python3",
      "display_name": "Python 3"
    }
  },
  "cells": [
    {
      "cell_type": "markdown",
      "metadata": {
        "id": "view-in-github",
        "colab_type": "text"
      },
      "source": [
        "<a href=\"https://colab.research.google.com/github/chrismarkella/Kaggle-access-from-Google-Colab/blob/master/Imputation.ipynb\" target=\"_parent\"><img src=\"https://colab.research.google.com/assets/colab-badge.svg\" alt=\"Open In Colab\"/></a>"
      ]
    },
    {
      "cell_type": "code",
      "metadata": {
        "id": "QOWvusDd9qAZ",
        "colab_type": "code",
        "colab": {}
      },
      "source": [
        "import numpy as np\n",
        "import pandas as pd"
      ],
      "execution_count": 0,
      "outputs": []
    },
    {
      "cell_type": "code",
      "metadata": {
        "id": "MDZezphd9ucX",
        "colab_type": "code",
        "colab": {
          "base_uri": "https://localhost:8080/",
          "height": 202
        },
        "outputId": "bf0b3965-c1b7-4722-f269-58c4b67a4f3e"
      },
      "source": [
        "housing = {\n",
        "    'Bed': [1,1,2,10,np.nan],\n",
        "    'Bath': [1,1,2,2,3],\n",
        "    'Room': [np.nan,5,6,7,7],\n",
        "}\n",
        "\n",
        "df = pd.DataFrame(\n",
        "    data=housing,\n",
        "    index=list('ABCDE')\n",
        ")\n",
        "df"
      ],
      "execution_count": 2,
      "outputs": [
        {
          "output_type": "execute_result",
          "data": {
            "text/html": [
              "<div>\n",
              "<style scoped>\n",
              "    .dataframe tbody tr th:only-of-type {\n",
              "        vertical-align: middle;\n",
              "    }\n",
              "\n",
              "    .dataframe tbody tr th {\n",
              "        vertical-align: top;\n",
              "    }\n",
              "\n",
              "    .dataframe thead th {\n",
              "        text-align: right;\n",
              "    }\n",
              "</style>\n",
              "<table border=\"1\" class=\"dataframe\">\n",
              "  <thead>\n",
              "    <tr style=\"text-align: right;\">\n",
              "      <th></th>\n",
              "      <th>Bed</th>\n",
              "      <th>Bath</th>\n",
              "      <th>Room</th>\n",
              "    </tr>\n",
              "  </thead>\n",
              "  <tbody>\n",
              "    <tr>\n",
              "      <th>A</th>\n",
              "      <td>1.0</td>\n",
              "      <td>1</td>\n",
              "      <td>NaN</td>\n",
              "    </tr>\n",
              "    <tr>\n",
              "      <th>B</th>\n",
              "      <td>1.0</td>\n",
              "      <td>1</td>\n",
              "      <td>5.0</td>\n",
              "    </tr>\n",
              "    <tr>\n",
              "      <th>C</th>\n",
              "      <td>2.0</td>\n",
              "      <td>2</td>\n",
              "      <td>6.0</td>\n",
              "    </tr>\n",
              "    <tr>\n",
              "      <th>D</th>\n",
              "      <td>10.0</td>\n",
              "      <td>2</td>\n",
              "      <td>7.0</td>\n",
              "    </tr>\n",
              "    <tr>\n",
              "      <th>E</th>\n",
              "      <td>NaN</td>\n",
              "      <td>3</td>\n",
              "      <td>7.0</td>\n",
              "    </tr>\n",
              "  </tbody>\n",
              "</table>\n",
              "</div>"
            ],
            "text/plain": [
              "    Bed  Bath  Room\n",
              "A   1.0     1   NaN\n",
              "B   1.0     1   5.0\n",
              "C   2.0     2   6.0\n",
              "D  10.0     2   7.0\n",
              "E   NaN     3   7.0"
            ]
          },
          "metadata": {
            "tags": []
          },
          "execution_count": 2
        }
      ]
    },
    {
      "cell_type": "code",
      "metadata": {
        "id": "dSn0r2G1-FHi",
        "colab_type": "code",
        "colab": {
          "base_uri": "https://localhost:8080/",
          "height": 35
        },
        "outputId": "974b7bbb-45b3-4668-b5ee-71ce3f1db33b"
      },
      "source": [
        "columns_with_NaN = [col for col in df.columns if\n",
        "                        df[col].isnull().any()\n",
        "                    ]\n",
        "columns_with_NaN"
      ],
      "execution_count": 3,
      "outputs": [
        {
          "output_type": "execute_result",
          "data": {
            "text/plain": [
              "['Bed', 'Room']"
            ]
          },
          "metadata": {
            "tags": []
          },
          "execution_count": 3
        }
      ]
    },
    {
      "cell_type": "code",
      "metadata": {
        "id": "WpKWgGOn-lJz",
        "colab_type": "code",
        "colab": {
          "base_uri": "https://localhost:8080/",
          "height": 202
        },
        "outputId": "43425fb4-9a41-4b32-eb83-004db6a2c7cd"
      },
      "source": [
        "df.drop(columns_with_NaN, axis='columns')"
      ],
      "execution_count": 4,
      "outputs": [
        {
          "output_type": "execute_result",
          "data": {
            "text/html": [
              "<div>\n",
              "<style scoped>\n",
              "    .dataframe tbody tr th:only-of-type {\n",
              "        vertical-align: middle;\n",
              "    }\n",
              "\n",
              "    .dataframe tbody tr th {\n",
              "        vertical-align: top;\n",
              "    }\n",
              "\n",
              "    .dataframe thead th {\n",
              "        text-align: right;\n",
              "    }\n",
              "</style>\n",
              "<table border=\"1\" class=\"dataframe\">\n",
              "  <thead>\n",
              "    <tr style=\"text-align: right;\">\n",
              "      <th></th>\n",
              "      <th>Bath</th>\n",
              "    </tr>\n",
              "  </thead>\n",
              "  <tbody>\n",
              "    <tr>\n",
              "      <th>A</th>\n",
              "      <td>1</td>\n",
              "    </tr>\n",
              "    <tr>\n",
              "      <th>B</th>\n",
              "      <td>1</td>\n",
              "    </tr>\n",
              "    <tr>\n",
              "      <th>C</th>\n",
              "      <td>2</td>\n",
              "    </tr>\n",
              "    <tr>\n",
              "      <th>D</th>\n",
              "      <td>2</td>\n",
              "    </tr>\n",
              "    <tr>\n",
              "      <th>E</th>\n",
              "      <td>3</td>\n",
              "    </tr>\n",
              "  </tbody>\n",
              "</table>\n",
              "</div>"
            ],
            "text/plain": [
              "   Bath\n",
              "A     1\n",
              "B     1\n",
              "C     2\n",
              "D     2\n",
              "E     3"
            ]
          },
          "metadata": {
            "tags": []
          },
          "execution_count": 4
        }
      ]
    },
    {
      "cell_type": "code",
      "metadata": {
        "id": "V89skiUM-vM6",
        "colab_type": "code",
        "colab": {
          "base_uri": "https://localhost:8080/",
          "height": 202
        },
        "outputId": "224b0c54-0a94-4cbe-afaa-894dd592d9cb"
      },
      "source": [
        "df.dropna(axis='columns')"
      ],
      "execution_count": 5,
      "outputs": [
        {
          "output_type": "execute_result",
          "data": {
            "text/html": [
              "<div>\n",
              "<style scoped>\n",
              "    .dataframe tbody tr th:only-of-type {\n",
              "        vertical-align: middle;\n",
              "    }\n",
              "\n",
              "    .dataframe tbody tr th {\n",
              "        vertical-align: top;\n",
              "    }\n",
              "\n",
              "    .dataframe thead th {\n",
              "        text-align: right;\n",
              "    }\n",
              "</style>\n",
              "<table border=\"1\" class=\"dataframe\">\n",
              "  <thead>\n",
              "    <tr style=\"text-align: right;\">\n",
              "      <th></th>\n",
              "      <th>Bath</th>\n",
              "    </tr>\n",
              "  </thead>\n",
              "  <tbody>\n",
              "    <tr>\n",
              "      <th>A</th>\n",
              "      <td>1</td>\n",
              "    </tr>\n",
              "    <tr>\n",
              "      <th>B</th>\n",
              "      <td>1</td>\n",
              "    </tr>\n",
              "    <tr>\n",
              "      <th>C</th>\n",
              "      <td>2</td>\n",
              "    </tr>\n",
              "    <tr>\n",
              "      <th>D</th>\n",
              "      <td>2</td>\n",
              "    </tr>\n",
              "    <tr>\n",
              "      <th>E</th>\n",
              "      <td>3</td>\n",
              "    </tr>\n",
              "  </tbody>\n",
              "</table>\n",
              "</div>"
            ],
            "text/plain": [
              "   Bath\n",
              "A     1\n",
              "B     1\n",
              "C     2\n",
              "D     2\n",
              "E     3"
            ]
          },
          "metadata": {
            "tags": []
          },
          "execution_count": 5
        }
      ]
    },
    {
      "cell_type": "code",
      "metadata": {
        "id": "fgG5JiYbEC93",
        "colab_type": "code",
        "colab": {}
      },
      "source": [
        "from sklearn.impute import SimpleImputer\n",
        "\n",
        "def imputation(extension=False, verbose=False):\n",
        "    \"\"\"Return the list of imputers with the corresponding imputed DataFrames.\n",
        "    \"\"\"\n",
        "    imputed_mean_df = df.copy()\n",
        "    imputed_median_df = df.copy()\n",
        "    imputed_most_frequent_df = df.copy()\n",
        "\n",
        "    imputer_mean = SimpleImputer(strategy='mean')\n",
        "    imputer_median = SimpleImputer(strategy='median')\n",
        "    imputer_most_frequent = SimpleImputer(strategy='most_frequent')\n",
        "\n",
        "    imputers = [\n",
        "        (imputer_mean, imputed_mean_df),\n",
        "        (imputer_median, imputed_median_df),\n",
        "        (imputer_most_frequent, imputed_most_frequent_df),\n",
        "    ]\n",
        "\n",
        "    for _imputer, _df in imputers:\n",
        "        _df[columns_with_NaN] = _imputer.fit_transform(df[columns_with_NaN])\n",
        "        if verbose:\n",
        "            print(_df)\n",
        "\n",
        "    if extension:\n",
        "        for _, _df in imputers:\n",
        "            for col in columns_with_NaN:\n",
        "                _df[col + '_was_missing'] = df[col].isnull()\n",
        "            if verbose:\n",
        "                print(f'{_df}')\n",
        "    return imputers\n"
      ],
      "execution_count": 0,
      "outputs": []
    },
    {
      "cell_type": "code",
      "metadata": {
        "id": "HTPzpJq6IUx4",
        "colab_type": "code",
        "colab": {
          "base_uri": "https://localhost:8080/",
          "height": 453
        },
        "outputId": "b6119c04-7121-425a-ca99-1d40a120698e"
      },
      "source": [
        "imputers_lst = imputation()\n",
        "\n",
        "for _imputer, _df in imputers_lst:\n",
        "    print(_imputer)\n",
        "    print(_df)"
      ],
      "execution_count": 7,
      "outputs": [
        {
          "output_type": "stream",
          "text": [
            "SimpleImputer(add_indicator=False, copy=True, fill_value=None,\n",
            "              missing_values=nan, strategy='mean', verbose=0)\n",
            "    Bed  Bath  Room\n",
            "A   1.0     1  6.25\n",
            "B   1.0     1  5.00\n",
            "C   2.0     2  6.00\n",
            "D  10.0     2  7.00\n",
            "E   3.5     3  7.00\n",
            "SimpleImputer(add_indicator=False, copy=True, fill_value=None,\n",
            "              missing_values=nan, strategy='median', verbose=0)\n",
            "    Bed  Bath  Room\n",
            "A   1.0     1   6.5\n",
            "B   1.0     1   5.0\n",
            "C   2.0     2   6.0\n",
            "D  10.0     2   7.0\n",
            "E   1.5     3   7.0\n",
            "SimpleImputer(add_indicator=False, copy=True, fill_value=None,\n",
            "              missing_values=nan, strategy='most_frequent', verbose=0)\n",
            "    Bed  Bath  Room\n",
            "A   1.0     1   7.0\n",
            "B   1.0     1   5.0\n",
            "C   2.0     2   6.0\n",
            "D  10.0     2   7.0\n",
            "E   1.0     3   7.0\n"
          ],
          "name": "stdout"
        }
      ]
    },
    {
      "cell_type": "code",
      "metadata": {
        "id": "j0KZfwdSIzGl",
        "colab_type": "code",
        "colab": {
          "base_uri": "https://localhost:8080/",
          "height": 453
        },
        "outputId": "d87f682b-c312-4f21-fa91-dfa491d2f326"
      },
      "source": [
        "imputers_lst = imputation(extension=True)\n",
        "\n",
        "for _imputer, _df in imputers_lst:\n",
        "    print(_imputer)\n",
        "    print(_df)"
      ],
      "execution_count": 8,
      "outputs": [
        {
          "output_type": "stream",
          "text": [
            "SimpleImputer(add_indicator=False, copy=True, fill_value=None,\n",
            "              missing_values=nan, strategy='mean', verbose=0)\n",
            "    Bed  Bath  Room  Bed_was_missing  Room_was_missing\n",
            "A   1.0     1  6.25            False              True\n",
            "B   1.0     1  5.00            False             False\n",
            "C   2.0     2  6.00            False             False\n",
            "D  10.0     2  7.00            False             False\n",
            "E   3.5     3  7.00             True             False\n",
            "SimpleImputer(add_indicator=False, copy=True, fill_value=None,\n",
            "              missing_values=nan, strategy='median', verbose=0)\n",
            "    Bed  Bath  Room  Bed_was_missing  Room_was_missing\n",
            "A   1.0     1   6.5            False              True\n",
            "B   1.0     1   5.0            False             False\n",
            "C   2.0     2   6.0            False             False\n",
            "D  10.0     2   7.0            False             False\n",
            "E   1.5     3   7.0             True             False\n",
            "SimpleImputer(add_indicator=False, copy=True, fill_value=None,\n",
            "              missing_values=nan, strategy='most_frequent', verbose=0)\n",
            "    Bed  Bath  Room  Bed_was_missing  Room_was_missing\n",
            "A   1.0     1   7.0            False              True\n",
            "B   1.0     1   5.0            False             False\n",
            "C   2.0     2   6.0            False             False\n",
            "D  10.0     2   7.0            False             False\n",
            "E   1.0     3   7.0             True             False\n"
          ],
          "name": "stdout"
        }
      ]
    },
    {
      "cell_type": "code",
      "metadata": {
        "id": "W4gT7hfuKiFS",
        "colab_type": "code",
        "colab": {
          "base_uri": "https://localhost:8080/",
          "height": 641
        },
        "outputId": "a96da8fe-ece0-4256-a19c-fa4bfd4509af"
      },
      "source": [
        "imputers_lst = imputation(extension=True, verbose=True)\n"
      ],
      "execution_count": 9,
      "outputs": [
        {
          "output_type": "stream",
          "text": [
            "    Bed  Bath  Room\n",
            "A   1.0     1  6.25\n",
            "B   1.0     1  5.00\n",
            "C   2.0     2  6.00\n",
            "D  10.0     2  7.00\n",
            "E   3.5     3  7.00\n",
            "    Bed  Bath  Room\n",
            "A   1.0     1   6.5\n",
            "B   1.0     1   5.0\n",
            "C   2.0     2   6.0\n",
            "D  10.0     2   7.0\n",
            "E   1.5     3   7.0\n",
            "    Bed  Bath  Room\n",
            "A   1.0     1   7.0\n",
            "B   1.0     1   5.0\n",
            "C   2.0     2   6.0\n",
            "D  10.0     2   7.0\n",
            "E   1.0     3   7.0\n",
            "    Bed  Bath  Room  Bed_was_missing  Room_was_missing\n",
            "A   1.0     1  6.25            False              True\n",
            "B   1.0     1  5.00            False             False\n",
            "C   2.0     2  6.00            False             False\n",
            "D  10.0     2  7.00            False             False\n",
            "E   3.5     3  7.00             True             False\n",
            "    Bed  Bath  Room  Bed_was_missing  Room_was_missing\n",
            "A   1.0     1   6.5            False              True\n",
            "B   1.0     1   5.0            False             False\n",
            "C   2.0     2   6.0            False             False\n",
            "D  10.0     2   7.0            False             False\n",
            "E   1.5     3   7.0             True             False\n",
            "    Bed  Bath  Room  Bed_was_missing  Room_was_missing\n",
            "A   1.0     1   7.0            False              True\n",
            "B   1.0     1   5.0            False             False\n",
            "C   2.0     2   6.0            False             False\n",
            "D  10.0     2   7.0            False             False\n",
            "E   1.0     3   7.0             True             False\n"
          ],
          "name": "stdout"
        }
      ]
    }
  ]
}