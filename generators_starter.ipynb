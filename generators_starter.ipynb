{
  "nbformat": 4,
  "nbformat_minor": 0,
  "metadata": {
    "colab": {
      "name": "generators_starter.ipynb",
      "provenance": [],
      "authorship_tag": "ABX9TyMC0iAEqEdI5KpTgDXSu6rx",
      "include_colab_link": true
    },
    "kernelspec": {
      "name": "python3",
      "display_name": "Python 3"
    }
  },
  "cells": [
    {
      "cell_type": "markdown",
      "metadata": {
        "id": "view-in-github",
        "colab_type": "text"
      },
      "source": [
        "<a href=\"https://colab.research.google.com/github/chrismarkella/Kaggle-access-from-Google-Colab/blob/master/generators_starter.ipynb\" target=\"_parent\"><img src=\"https://colab.research.google.com/assets/colab-badge.svg\" alt=\"Open In Colab\"/></a>"
      ]
    },
    {
      "cell_type": "markdown",
      "metadata": {
        "id": "5pYQ5TSvG_YE",
        "colab_type": "text"
      },
      "source": [
        "###Generators\n",
        "`eagerness` vs `laziness`\n",
        "\n",
        "###Eagerness \n",
        "- Return the `entire list` even if I want to process the entries `one by one`.\n",
        "- It is also use `memory` for the `whole list`.\n",
        "\n",
        "###It is wastfull in two ways\n",
        "- `timewise`\n",
        "- `memory wise`"
      ]
    },
    {
      "cell_type": "code",
      "metadata": {
        "id": "PeUTH6M9Fmes",
        "colab_type": "code",
        "colab": {}
      },
      "source": [
        " from time import sleep"
      ],
      "execution_count": 0,
      "outputs": []
    },
    {
      "cell_type": "code",
      "metadata": {
        "id": "utajTj2wGn6O",
        "colab_type": "code",
        "outputId": "0a75ffb1-94a2-4bba-c607-e41bc64d36d7",
        "colab": {
          "base_uri": "https://localhost:8080/",
          "height": 121
        }
      },
      "source": [
        "def compute():\n",
        "    rv = []\n",
        "    for i in range(5):\n",
        "        print('waiting...')\n",
        "        sleep(0.5)\n",
        "        rv.append(i)\n",
        "    return rv\n",
        "\n",
        "compute()"
      ],
      "execution_count": 6,
      "outputs": [
        {
          "output_type": "stream",
          "text": [
            "waiting...\n",
            "waiting...\n",
            "waiting...\n",
            "waiting...\n",
            "waiting...\n"
          ],
          "name": "stdout"
        },
        {
          "output_type": "execute_result",
          "data": {
            "text/plain": [
              "[0, 1, 2, 3, 4]"
            ]
          },
          "metadata": {
            "tags": []
          },
          "execution_count": 6
        }
      ]
    },
    {
      "cell_type": "markdown",
      "metadata": {
        "id": "8AGEx7o0I2B6",
        "colab_type": "text"
      },
      "source": [
        "\n",
        "###Laziness\n",
        "- return the elements `one by one`\n",
        "- takes `memory only for one` element\n",
        "```python\n",
        "for x in xs:\n",
        "    pass\n",
        "```\n",
        "corresponds to the underlying methods `iter` and `next`\n",
        "\n",
        "\n",
        "```python\n",
        "xi = iter(xs)\n",
        "while True:\n",
        "    x = next(xi)\n",
        "```\n",
        "We could implement a `class` with the following `underscore-underscore` mentods:\n",
        "- `__iter__`\n",
        "- `__next__`\n",
        "\n",
        "\n",
        "\n"
      ]
    },
    {
      "cell_type": "code",
      "metadata": {
        "id": "D2bz4OxfIY7d",
        "colab_type": "code",
        "outputId": "95ecccb7-1f07-4ef9-d23b-79d82ea28a34",
        "colab": {
          "base_uri": "https://localhost:8080/",
          "height": 191
        }
      },
      "source": [
        "class Compute:\n",
        "    def __iter__(self):\n",
        "        self.last = 0\n",
        "        return self\n",
        "    def __next__(self):\n",
        "        rv = self.last\n",
        "        self.last = self.last + 1\n",
        "        if self.last > 5:\n",
        "            raise StopIteration()\n",
        "        else:\n",
        "            print('waiting...')\n",
        "            sleep(0.5)\n",
        "            return rv\n",
        "\n",
        "for value in Compute():\n",
        "    print(value)"
      ],
      "execution_count": 7,
      "outputs": [
        {
          "output_type": "stream",
          "text": [
            "waiting...\n",
            "0\n",
            "waiting...\n",
            "1\n",
            "waiting...\n",
            "2\n",
            "waiting...\n",
            "3\n",
            "waiting...\n",
            "4\n"
          ],
          "name": "stdout"
        }
      ]
    },
    {
      "cell_type": "markdown",
      "metadata": {
        "id": "vEqd-M-jMuqi",
        "colab_type": "text"
      },
      "source": [
        "###This solved the `eagerness` problem.\n",
        "However this code looks `ugly`.\n",
        "\n",
        "\n",
        "```python\n",
        "class Compute:\n",
        "    def __iter__(self):\n",
        "        self.last = 0\n",
        "        return self\n",
        "    def __next__(self):\n",
        "        rv = self.last\n",
        "        self.last = self.last + 1\n",
        "        if self.last > 5:\n",
        "            raise StopIteration()\n",
        "        else:\n",
        "            print('waiting...')\n",
        "            sleep(0.5)\n",
        "            return rv\n",
        "\n",
        "```\n",
        "There is a simplier way to write this.\n",
        "\n",
        "Using the generator syntax with `yield`:\n",
        "\n",
        "\n",
        "```python\n",
        "def compute_gen():\n",
        "    for i in range(5):\n",
        "        print('waiting...')\n",
        "        sleep(0.5)\n",
        "        yield i\n",
        "```\n",
        "\n",
        "\n"
      ]
    },
    {
      "cell_type": "code",
      "metadata": {
        "id": "rBMrQJFeLsOm",
        "colab_type": "code",
        "outputId": "af521277-1841-43ce-dae1-39fa6a11e343",
        "colab": {
          "base_uri": "https://localhost:8080/",
          "height": 191
        }
      },
      "source": [
        "def compute_gen():\n",
        "    for i in range(5):\n",
        "        print('waiting...')\n",
        "        sleep(0.5)\n",
        "        yield i\n",
        "\n",
        "for value in compute_gen():\n",
        "    print(value)"
      ],
      "execution_count": 8,
      "outputs": [
        {
          "output_type": "stream",
          "text": [
            "waiting...\n",
            "0\n",
            "waiting...\n",
            "1\n",
            "waiting...\n",
            "2\n",
            "waiting...\n",
            "3\n",
            "waiting...\n",
            "4\n"
          ],
          "name": "stdout"
        }
      ]
    }
  ]
}