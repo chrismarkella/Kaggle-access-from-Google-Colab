{
  "nbformat": 4,
  "nbformat_minor": 0,
  "metadata": {
    "colab": {
      "name": "read_selected_columns_from_CSV.ipynb",
      "provenance": [],
      "authorship_tag": "ABX9TyOx/3RYYWuWbs7jOgKWtxmb",
      "include_colab_link": true
    },
    "kernelspec": {
      "name": "python3",
      "display_name": "Python 3"
    }
  },
  "cells": [
    {
      "cell_type": "markdown",
      "metadata": {
        "id": "view-in-github",
        "colab_type": "text"
      },
      "source": [
        "<a href=\"https://colab.research.google.com/github/chrismarkella/Kaggle-access-from-Google-Colab/blob/master/read_selected_columns_from_CSV.ipynb\" target=\"_parent\"><img src=\"https://colab.research.google.com/assets/colab-badge.svg\" alt=\"Open In Colab\"/></a>"
      ]
    },
    {
      "cell_type": "markdown",
      "metadata": {
        "id": "LVSeAs1XeSQX",
        "colab_type": "text"
      },
      "source": [
        "##Read only selected columns from a CSV file.\n",
        "Let's say we have a CSV file with hundreds of columns.\n",
        "\n",
        "We need only a few dosens of these columns to work with.\n",
        "\n",
        "We will see how to select and read only the needed columns out of all the columns in the CSV file.\n",
        "\n",
        "We will use the `mercedesbenz.csv` file from `Kaggle` to demonstrate this."
      ]
    },
    {
      "cell_type": "markdown",
      "metadata": {
        "id": "DxH_rh-TeIZ4",
        "colab_type": "text"
      },
      "source": [
        "###Setup"
      ]
    },
    {
      "cell_type": "code",
      "metadata": {
        "id": "9cGdJEd-XSx8",
        "colab_type": "code",
        "colab": {}
      },
      "source": [
        "import os\n",
        "\n",
        "import numpy as np\n",
        "import pandas as pd\n",
        "\n",
        "from getpass import getpass "
      ],
      "execution_count": 0,
      "outputs": []
    },
    {
      "cell_type": "code",
      "metadata": {
        "id": "DRR4ge02XVmA",
        "colab_type": "code",
        "colab": {
          "base_uri": "https://localhost:8080/",
          "height": 69
        },
        "outputId": "7c8fcc9f-ca12-4d0f-fe83-54f34a1b5ec1"
      },
      "source": [
        "def access_kaggle():\n",
        "    \"\"\"\n",
        "    Access Kaggle from Google Colab.\n",
        "    If the /root/.kaggle does not exist then prompt for\n",
        "    the username and for the Kaggle API key.\n",
        "    Creates the kaggle.json access file in the /root/.kaggle/ folder. \n",
        "    \"\"\"\n",
        "    KAGGLE_ROOT = os.path.join('/root', '.kaggle')\n",
        "    KAGGLE_PATH = os.path.join(KAGGLE_ROOT, 'kaggle.json')\n",
        "\n",
        "    if '.kaggle' not in os.listdir(path='/root'):\n",
        "        user = getpass(prompt='Kaggle username: ')\n",
        "        key  = getpass(prompt='Kaggle API key: ')\n",
        "        \n",
        "        !mkdir $KAGGLE_ROOT\n",
        "        !touch $KAGGLE_PATH\n",
        "        !chmod 666 $KAGGLE_PATH\n",
        "        with open(KAGGLE_PATH, mode='w') as f:\n",
        "            f.write('{\"username\":\"%s\", \"key\":\"%s\"}' %(user, key))\n",
        "            f.close()\n",
        "        !chmod 600 $KAGGLE_PATH\n",
        "        del user\n",
        "        del key\n",
        "        success_msg = \"Kaggle is successfully set up. Good to go.\"\n",
        "        print(f'{success_msg}')\n",
        "\n",
        "access_kaggle()\n"
      ],
      "execution_count": 2,
      "outputs": [
        {
          "output_type": "stream",
          "text": [
            "Kaggle username: ··········\n",
            "Kaggle API key: ··········\n",
            "Kaggle is successfully set up. Good to go.\n"
          ],
          "name": "stdout"
        }
      ]
    },
    {
      "cell_type": "code",
      "metadata": {
        "id": "8oVJMfkmXaLP",
        "colab_type": "code",
        "colab": {
          "base_uri": "https://localhost:8080/",
          "height": 69
        },
        "outputId": "da0b78ca-c299-47ba-d4c7-db97d320a83a"
      },
      "source": [
        "!kaggle datasets download yogeerp/mercedes --unzip"
      ],
      "execution_count": 3,
      "outputs": [
        {
          "output_type": "stream",
          "text": [
            "Downloading mercedes.zip to /content\n",
            "\r  0% 0.00/293k [00:00<?, ?B/s]\n",
            "\r100% 293k/293k [00:00<00:00, 43.0MB/s]\n"
          ],
          "name": "stdout"
        }
      ]
    },
    {
      "cell_type": "code",
      "metadata": {
        "id": "tgJv3m3FXocG",
        "colab_type": "code",
        "colab": {
          "base_uri": "https://localhost:8080/",
          "height": 69
        },
        "outputId": "1259f365-2448-45eb-ec51-06c9618789cf"
      },
      "source": [
        "ls -lh"
      ],
      "execution_count": 4,
      "outputs": [
        {
          "output_type": "stream",
          "text": [
            "total 3.1M\n",
            "-rw-r--r-- 1 root root 3.1M Jan 15 18:51 mercedesbenz.csv\n",
            "drwxr-xr-x 1 root root 4.0K Jan 13 16:38 \u001b[0m\u001b[01;34msample_data\u001b[0m/\n"
          ],
          "name": "stdout"
        }
      ]
    },
    {
      "cell_type": "code",
      "metadata": {
        "id": "k6Wthz1MXunP",
        "colab_type": "code",
        "colab": {
          "base_uri": "https://localhost:8080/",
          "height": 89
        },
        "outputId": "ca2aca6e-c9e6-4e19-de4d-6c81cee9c6f3"
      },
      "source": [
        "!cat mercedesbenz.csv|head -3"
      ],
      "execution_count": 5,
      "outputs": [
        {
          "output_type": "stream",
          "text": [
            "ID,y,X0,X1,X2,X3,X4,X5,X6,X8,X10,X11,X12,X13,X14,X15,X16,X17,X18,X19,X20,X21,X22,X23,X24,X26,X27,X28,X29,X30,X31,X32,X33,X34,X35,X36,X37,X38,X39,X40,X41,X42,X43,X44,X45,X46,X47,X48,X49,X50,X51,X52,X53,X54,X55,X56,X57,X58,X59,X60,X61,X62,X63,X64,X65,X66,X67,X68,X69,X70,X71,X73,X74,X75,X76,X77,X78,X79,X80,X81,X82,X83,X84,X85,X86,X87,X88,X89,X90,X91,X92,X93,X94,X95,X96,X97,X98,X99,X100,X101,X102,X103,X104,X105,X106,X107,X108,X109,X110,X111,X112,X113,X114,X115,X116,X117,X118,X119,X120,X122,X123,X124,X125,X126,X127,X128,X129,X130,X131,X132,X133,X134,X135,X136,X137,X138,X139,X140,X141,X142,X143,X144,X145,X146,X147,X148,X150,X151,X152,X153,X154,X155,X156,X157,X158,X159,X160,X161,X162,X163,X164,X165,X166,X167,X168,X169,X170,X171,X172,X173,X174,X175,X176,X177,X178,X179,X180,X181,X182,X183,X184,X185,X186,X187,X189,X190,X191,X192,X194,X195,X196,X197,X198,X199,X200,X201,X202,X203,X204,X205,X206,X207,X208,X209,X210,X211,X212,X213,X214,X215,X216,X217,X218,X219,X220,X221,X222,X223,X224,X225,X226,X227,X228,X229,X230,X231,X232,X233,X234,X235,X236,X237,X238,X239,X240,X241,X242,X243,X244,X245,X246,X247,X248,X249,X250,X251,X252,X253,X254,X255,X256,X257,X258,X259,X260,X261,X262,X263,X264,X265,X266,X267,X268,X269,X270,X271,X272,X273,X274,X275,X276,X277,X278,X279,X280,X281,X282,X283,X284,X285,X286,X287,X288,X289,X290,X291,X292,X293,X294,X295,X296,X297,X298,X299,X300,X301,X302,X304,X305,X306,X307,X308,X309,X310,X311,X312,X313,X314,X315,X316,X317,X318,X319,X320,X321,X322,X323,X324,X325,X326,X327,X328,X329,X330,X331,X332,X333,X334,X335,X336,X337,X338,X339,X340,X341,X342,X343,X344,X345,X346,X347,X348,X349,X350,X351,X352,X353,X354,X355,X356,X357,X358,X359,X360,X361,X362,X363,X364,X365,X366,X367,X368,X369,X370,X371,X372,X373,X374,X375,X376,X377,X378,X379,X380,X382,X383,X384,X385\r\n",
            "0,130.81,k,v,at,a,d,u,j,o,0,0,0,1,0,0,0,0,1,0,0,1,0,0,0,0,0,0,0,0,1,0,0,0,1,0,1,0,0,0,0,0,0,0,0,1,0,0,0,0,0,0,0,0,0,0,0,1,0,0,0,0,0,0,0,0,0,1,0,1,0,0,1,0,0,0,0,0,0,0,0,0,0,1,0,0,0,0,0,0,0,0,0,0,0,0,0,0,0,0,0,0,0,0,0,0,0,0,0,1,0,0,1,0,1,0,1,1,1,0,0,0,0,0,0,1,0,0,1,0,0,0,0,1,1,0,0,0,0,1,0,1,0,0,0,0,1,0,0,0,0,0,1,0,0,0,0,0,0,0,0,0,0,0,0,0,1,0,0,0,0,0,0,0,0,1,0,0,0,0,1,0,0,1,1,0,0,0,1,0,0,0,0,0,0,0,0,0,1,0,0,0,0,1,0,0,0,0,0,0,0,0,0,0,1,0,0,0,0,0,0,0,0,0,0,0,0,0,1,0,0,1,0,0,0,0,0,0,0,0,0,0,0,0,0,0,0,0,0,0,0,0,0,0,0,0,1,1,0,0,1,0,0,0,0,0,0,1,0,1,0,0,0,0,0,0,0,0,0,1,0,0,0,0,0,0,0,0,0,0,0,0,0,0,0,0,0,0,0,1,0,0,0,0,0,0,0,0,0,1,0,0,0,0,0,0,0,1,0,0,1,0,1,0,0,0,0,1,0,0,0,0,0,0,0,0,0,0,0,0,0,0,0,0,0,0,0,1,0,0,0,0,0,0,1,0,0,0,0,0,0,0,0,0,0,0,0,0,0,0,1,0,0,0,0,0,0,0\r\n",
            "6,88.53,k,t,av,e,d,y,l,o,0,0,0,0,0,0,0,0,1,0,0,0,0,0,0,0,1,0,0,0,1,0,0,0,1,0,1,0,0,0,0,0,0,0,0,0,0,0,0,0,1,0,0,0,0,0,0,0,0,0,1,0,0,0,0,0,0,0,0,1,0,0,1,0,0,0,0,0,1,0,0,0,0,1,0,0,0,0,0,0,0,0,0,0,1,0,1,0,1,1,0,0,0,0,0,0,0,0,0,1,0,0,0,0,0,0,1,1,1,0,0,0,0,0,1,1,0,0,0,1,0,0,0,1,0,0,0,0,0,1,0,1,0,0,0,0,1,0,0,0,0,0,1,0,0,0,0,0,0,0,0,1,0,0,0,0,0,0,0,0,0,0,0,0,1,0,0,0,0,0,0,0,0,1,1,0,0,0,1,0,0,0,0,0,0,0,0,0,0,1,0,0,0,1,0,0,0,0,0,0,0,0,0,0,0,0,0,0,0,0,0,0,0,1,0,0,0,0,0,0,0,0,1,0,0,0,0,0,0,0,0,0,0,0,1,0,0,0,0,0,0,0,0,0,0,0,0,1,0,1,0,0,0,0,0,0,0,1,0,1,0,0,0,0,0,0,0,0,0,1,0,0,0,0,0,0,0,0,0,0,0,0,0,0,0,0,0,1,0,0,0,0,0,0,1,0,0,0,0,1,0,0,0,0,0,0,0,0,0,0,0,0,1,0,0,0,0,0,0,1,1,0,0,0,0,0,0,0,0,0,0,1,0,0,0,0,0,0,0,0,0,0,0,0,1,0,1,0,0,0,0,0,0,0,0,0,0,0,1,0,0,0,0,0,0,0,0,0\r\n"
          ],
          "name": "stdout"
        }
      ]
    },
    {
      "cell_type": "markdown",
      "metadata": {
        "id": "V-XGitkxfuku",
        "colab_type": "text"
      },
      "source": [
        "###We can see that there are `378 columns` in this CSV file."
      ]
    },
    {
      "cell_type": "code",
      "metadata": {
        "id": "kinfI7j4X6e1",
        "colab_type": "code",
        "colab": {
          "base_uri": "https://localhost:8080/",
          "height": 124
        },
        "outputId": "7d32ba77-58a4-44cf-8bf1-6d303686e678"
      },
      "source": [
        "csv_file_name = 'mercedesbenz.csv'\n",
        "df = pd.read_csv(csv_file_name, sep=',')\n",
        "df.columns"
      ],
      "execution_count": 6,
      "outputs": [
        {
          "output_type": "execute_result",
          "data": {
            "text/plain": [
              "Index(['ID', 'y', 'X0', 'X1', 'X2', 'X3', 'X4', 'X5', 'X6', 'X8',\n",
              "       ...\n",
              "       'X375', 'X376', 'X377', 'X378', 'X379', 'X380', 'X382', 'X383', 'X384',\n",
              "       'X385'],\n",
              "      dtype='object', length=378)"
            ]
          },
          "metadata": {
            "tags": []
          },
          "execution_count": 6
        }
      ]
    },
    {
      "cell_type": "code",
      "metadata": {
        "id": "ycH4O-NjYORS",
        "colab_type": "code",
        "colab": {
          "base_uri": "https://localhost:8080/",
          "height": 141
        },
        "outputId": "ebdc46fe-39ae-4807-ba32-bef50a1edf31"
      },
      "source": [
        "df.columns[:50]"
      ],
      "execution_count": 7,
      "outputs": [
        {
          "output_type": "execute_result",
          "data": {
            "text/plain": [
              "Index(['ID', 'y', 'X0', 'X1', 'X2', 'X3', 'X4', 'X5', 'X6', 'X8', 'X10', 'X11',\n",
              "       'X12', 'X13', 'X14', 'X15', 'X16', 'X17', 'X18', 'X19', 'X20', 'X21',\n",
              "       'X22', 'X23', 'X24', 'X26', 'X27', 'X28', 'X29', 'X30', 'X31', 'X32',\n",
              "       'X33', 'X34', 'X35', 'X36', 'X37', 'X38', 'X39', 'X40', 'X41', 'X42',\n",
              "       'X43', 'X44', 'X45', 'X46', 'X47', 'X48', 'X49', 'X50'],\n",
              "      dtype='object')"
            ]
          },
          "metadata": {
            "tags": []
          },
          "execution_count": 7
        }
      ]
    },
    {
      "cell_type": "markdown",
      "metadata": {
        "id": "HAllL4fDYlDH",
        "colab_type": "text"
      },
      "source": [
        "###Task\n",
        "- Read only column `y` and columns `X0` through `X30` from the CSV file.\n",
        "- These numbers are `1-30`, but not `7`, `9` and `25`.\n",
        "- Using the `usecols` parameter in the `read_csv` function to read only selected columns."
      ]
    },
    {
      "cell_type": "markdown",
      "metadata": {
        "id": "oiGAjbkQZwwh",
        "colab_type": "text"
      },
      "source": [
        "####Approach 1:\n",
        "- using `range` and skip `7`, `9` and `25`.\n",
        "- using `f-string` to generate the column names."
      ]
    },
    {
      "cell_type": "code",
      "metadata": {
        "id": "SCqaNKupabKr",
        "colab_type": "code",
        "colab": {
          "base_uri": "https://localhost:8080/",
          "height": 503
        },
        "outputId": "d3595ae1-0cfc-4791-efba-aeab3481569b"
      },
      "source": [
        "column_numbers = range(1,30+1)\n",
        "numbers_to_skip = [7,9,25]\n",
        "columns_to_read = [f'X{i}' for i in column_numbers if i not in numbers_to_skip]\n",
        "columns_to_read.insert(0, 'y')\n",
        "columns_to_read"
      ],
      "execution_count": 8,
      "outputs": [
        {
          "output_type": "execute_result",
          "data": {
            "text/plain": [
              "['y',\n",
              " 'X1',\n",
              " 'X2',\n",
              " 'X3',\n",
              " 'X4',\n",
              " 'X5',\n",
              " 'X6',\n",
              " 'X8',\n",
              " 'X10',\n",
              " 'X11',\n",
              " 'X12',\n",
              " 'X13',\n",
              " 'X14',\n",
              " 'X15',\n",
              " 'X16',\n",
              " 'X17',\n",
              " 'X18',\n",
              " 'X19',\n",
              " 'X20',\n",
              " 'X21',\n",
              " 'X22',\n",
              " 'X23',\n",
              " 'X24',\n",
              " 'X26',\n",
              " 'X27',\n",
              " 'X28',\n",
              " 'X29',\n",
              " 'X30']"
            ]
          },
          "metadata": {
            "tags": []
          },
          "execution_count": 8
        }
      ]
    },
    {
      "cell_type": "code",
      "metadata": {
        "id": "9pNDTIluYbw4",
        "colab_type": "code",
        "colab": {
          "base_uri": "https://localhost:8080/",
          "height": 161
        },
        "outputId": "4a96590a-d5e5-4b53-81ce-de9236dfe8d7"
      },
      "source": [
        "df = pd.read_csv(csv_file_name, sep=',',\n",
        "            usecols=columns_to_read)\n",
        "df.head(3)"
      ],
      "execution_count": 9,
      "outputs": [
        {
          "output_type": "execute_result",
          "data": {
            "text/html": [
              "<div>\n",
              "<style scoped>\n",
              "    .dataframe tbody tr th:only-of-type {\n",
              "        vertical-align: middle;\n",
              "    }\n",
              "\n",
              "    .dataframe tbody tr th {\n",
              "        vertical-align: top;\n",
              "    }\n",
              "\n",
              "    .dataframe thead th {\n",
              "        text-align: right;\n",
              "    }\n",
              "</style>\n",
              "<table border=\"1\" class=\"dataframe\">\n",
              "  <thead>\n",
              "    <tr style=\"text-align: right;\">\n",
              "      <th></th>\n",
              "      <th>y</th>\n",
              "      <th>X1</th>\n",
              "      <th>X2</th>\n",
              "      <th>X3</th>\n",
              "      <th>X4</th>\n",
              "      <th>X5</th>\n",
              "      <th>X6</th>\n",
              "      <th>X8</th>\n",
              "      <th>X10</th>\n",
              "      <th>X11</th>\n",
              "      <th>X12</th>\n",
              "      <th>X13</th>\n",
              "      <th>X14</th>\n",
              "      <th>X15</th>\n",
              "      <th>X16</th>\n",
              "      <th>X17</th>\n",
              "      <th>X18</th>\n",
              "      <th>X19</th>\n",
              "      <th>X20</th>\n",
              "      <th>X21</th>\n",
              "      <th>X22</th>\n",
              "      <th>X23</th>\n",
              "      <th>X24</th>\n",
              "      <th>X26</th>\n",
              "      <th>X27</th>\n",
              "      <th>X28</th>\n",
              "      <th>X29</th>\n",
              "      <th>X30</th>\n",
              "    </tr>\n",
              "  </thead>\n",
              "  <tbody>\n",
              "    <tr>\n",
              "      <th>0</th>\n",
              "      <td>130.81</td>\n",
              "      <td>v</td>\n",
              "      <td>at</td>\n",
              "      <td>a</td>\n",
              "      <td>d</td>\n",
              "      <td>u</td>\n",
              "      <td>j</td>\n",
              "      <td>o</td>\n",
              "      <td>0</td>\n",
              "      <td>0</td>\n",
              "      <td>0</td>\n",
              "      <td>1</td>\n",
              "      <td>0</td>\n",
              "      <td>0</td>\n",
              "      <td>0</td>\n",
              "      <td>0</td>\n",
              "      <td>1</td>\n",
              "      <td>0</td>\n",
              "      <td>0</td>\n",
              "      <td>1</td>\n",
              "      <td>0</td>\n",
              "      <td>0</td>\n",
              "      <td>0</td>\n",
              "      <td>0</td>\n",
              "      <td>0</td>\n",
              "      <td>0</td>\n",
              "      <td>0</td>\n",
              "      <td>0</td>\n",
              "    </tr>\n",
              "    <tr>\n",
              "      <th>1</th>\n",
              "      <td>88.53</td>\n",
              "      <td>t</td>\n",
              "      <td>av</td>\n",
              "      <td>e</td>\n",
              "      <td>d</td>\n",
              "      <td>y</td>\n",
              "      <td>l</td>\n",
              "      <td>o</td>\n",
              "      <td>0</td>\n",
              "      <td>0</td>\n",
              "      <td>0</td>\n",
              "      <td>0</td>\n",
              "      <td>0</td>\n",
              "      <td>0</td>\n",
              "      <td>0</td>\n",
              "      <td>0</td>\n",
              "      <td>1</td>\n",
              "      <td>0</td>\n",
              "      <td>0</td>\n",
              "      <td>0</td>\n",
              "      <td>0</td>\n",
              "      <td>0</td>\n",
              "      <td>0</td>\n",
              "      <td>0</td>\n",
              "      <td>1</td>\n",
              "      <td>0</td>\n",
              "      <td>0</td>\n",
              "      <td>0</td>\n",
              "    </tr>\n",
              "    <tr>\n",
              "      <th>2</th>\n",
              "      <td>76.26</td>\n",
              "      <td>w</td>\n",
              "      <td>n</td>\n",
              "      <td>c</td>\n",
              "      <td>d</td>\n",
              "      <td>x</td>\n",
              "      <td>j</td>\n",
              "      <td>x</td>\n",
              "      <td>0</td>\n",
              "      <td>0</td>\n",
              "      <td>0</td>\n",
              "      <td>0</td>\n",
              "      <td>0</td>\n",
              "      <td>0</td>\n",
              "      <td>0</td>\n",
              "      <td>1</td>\n",
              "      <td>0</td>\n",
              "      <td>0</td>\n",
              "      <td>0</td>\n",
              "      <td>0</td>\n",
              "      <td>0</td>\n",
              "      <td>0</td>\n",
              "      <td>0</td>\n",
              "      <td>0</td>\n",
              "      <td>1</td>\n",
              "      <td>1</td>\n",
              "      <td>1</td>\n",
              "      <td>0</td>\n",
              "    </tr>\n",
              "  </tbody>\n",
              "</table>\n",
              "</div>"
            ],
            "text/plain": [
              "        y X1  X2 X3 X4 X5 X6 X8  ...  X22  X23  X24  X26  X27  X28  X29  X30\n",
              "0  130.81  v  at  a  d  u  j  o  ...    0    0    0    0    0    0    0    0\n",
              "1   88.53  t  av  e  d  y  l  o  ...    0    0    0    0    1    0    0    0\n",
              "2   76.26  w   n  c  d  x  j  x  ...    0    0    0    0    1    1    1    0\n",
              "\n",
              "[3 rows x 28 columns]"
            ]
          },
          "metadata": {
            "tags": []
          },
          "execution_count": 9
        }
      ]
    },
    {
      "cell_type": "code",
      "metadata": {
        "id": "LbQTZkaadkbg",
        "colab_type": "code",
        "colab": {
          "base_uri": "https://localhost:8080/",
          "height": 107
        },
        "outputId": "7161c555-e3f4-4ba5-f017-bc65b5cca61a"
      },
      "source": [
        "df.columns"
      ],
      "execution_count": 10,
      "outputs": [
        {
          "output_type": "execute_result",
          "data": {
            "text/plain": [
              "Index(['y', 'X1', 'X2', 'X3', 'X4', 'X5', 'X6', 'X8', 'X10', 'X11', 'X12',\n",
              "       'X13', 'X14', 'X15', 'X16', 'X17', 'X18', 'X19', 'X20', 'X21', 'X22',\n",
              "       'X23', 'X24', 'X26', 'X27', 'X28', 'X29', 'X30'],\n",
              "      dtype='object')"
            ]
          },
          "metadata": {
            "tags": []
          },
          "execution_count": 10
        }
      ]
    },
    {
      "cell_type": "markdown",
      "metadata": {
        "id": "ASx84l65Z_94",
        "colab_type": "text"
      },
      "source": [
        "####Approach 2:\n",
        "- concatinate ranges using `chain` from `itertools`.\n",
        "- using `f-string` too to generate the column names."
      ]
    },
    {
      "cell_type": "code",
      "metadata": {
        "id": "CArYpztSbbIv",
        "colab_type": "code",
        "colab": {
          "base_uri": "https://localhost:8080/",
          "height": 503
        },
        "outputId": "c94146aa-95b4-4a87-9211-9a02a514b766"
      },
      "source": [
        "from itertools import chain\n",
        "\n",
        "column_numbers_ranges = chain(\n",
        "    range(1,6+1),\n",
        "    range(8,8+1),\n",
        "    range(10,24+1),\n",
        "    range(26,30+1)\n",
        ")\n",
        "columns_to_read_ranges = [f'X{i}' for i in column_numbers_ranges]\n",
        "columns_to_read_ranges.insert(0,'y')\n",
        "columns_to_read_ranges"
      ],
      "execution_count": 11,
      "outputs": [
        {
          "output_type": "execute_result",
          "data": {
            "text/plain": [
              "['y',\n",
              " 'X1',\n",
              " 'X2',\n",
              " 'X3',\n",
              " 'X4',\n",
              " 'X5',\n",
              " 'X6',\n",
              " 'X8',\n",
              " 'X10',\n",
              " 'X11',\n",
              " 'X12',\n",
              " 'X13',\n",
              " 'X14',\n",
              " 'X15',\n",
              " 'X16',\n",
              " 'X17',\n",
              " 'X18',\n",
              " 'X19',\n",
              " 'X20',\n",
              " 'X21',\n",
              " 'X22',\n",
              " 'X23',\n",
              " 'X24',\n",
              " 'X26',\n",
              " 'X27',\n",
              " 'X28',\n",
              " 'X29',\n",
              " 'X30']"
            ]
          },
          "metadata": {
            "tags": []
          },
          "execution_count": 11
        }
      ]
    },
    {
      "cell_type": "code",
      "metadata": {
        "id": "jIjkWRSXbglw",
        "colab_type": "code",
        "colab": {
          "base_uri": "https://localhost:8080/",
          "height": 130
        },
        "outputId": "c0dfd861-adb5-4b99-e4cb-5aadedf05acc"
      },
      "source": [
        "df2 = pd.read_csv(csv_file_name, sep=',',\n",
        "                  usecols=columns_to_read_ranges)\n",
        "df2.head(2)"
      ],
      "execution_count": 12,
      "outputs": [
        {
          "output_type": "execute_result",
          "data": {
            "text/html": [
              "<div>\n",
              "<style scoped>\n",
              "    .dataframe tbody tr th:only-of-type {\n",
              "        vertical-align: middle;\n",
              "    }\n",
              "\n",
              "    .dataframe tbody tr th {\n",
              "        vertical-align: top;\n",
              "    }\n",
              "\n",
              "    .dataframe thead th {\n",
              "        text-align: right;\n",
              "    }\n",
              "</style>\n",
              "<table border=\"1\" class=\"dataframe\">\n",
              "  <thead>\n",
              "    <tr style=\"text-align: right;\">\n",
              "      <th></th>\n",
              "      <th>y</th>\n",
              "      <th>X1</th>\n",
              "      <th>X2</th>\n",
              "      <th>X3</th>\n",
              "      <th>X4</th>\n",
              "      <th>X5</th>\n",
              "      <th>X6</th>\n",
              "      <th>X8</th>\n",
              "      <th>X10</th>\n",
              "      <th>X11</th>\n",
              "      <th>X12</th>\n",
              "      <th>X13</th>\n",
              "      <th>X14</th>\n",
              "      <th>X15</th>\n",
              "      <th>X16</th>\n",
              "      <th>X17</th>\n",
              "      <th>X18</th>\n",
              "      <th>X19</th>\n",
              "      <th>X20</th>\n",
              "      <th>X21</th>\n",
              "      <th>X22</th>\n",
              "      <th>X23</th>\n",
              "      <th>X24</th>\n",
              "      <th>X26</th>\n",
              "      <th>X27</th>\n",
              "      <th>X28</th>\n",
              "      <th>X29</th>\n",
              "      <th>X30</th>\n",
              "    </tr>\n",
              "  </thead>\n",
              "  <tbody>\n",
              "    <tr>\n",
              "      <th>0</th>\n",
              "      <td>130.81</td>\n",
              "      <td>v</td>\n",
              "      <td>at</td>\n",
              "      <td>a</td>\n",
              "      <td>d</td>\n",
              "      <td>u</td>\n",
              "      <td>j</td>\n",
              "      <td>o</td>\n",
              "      <td>0</td>\n",
              "      <td>0</td>\n",
              "      <td>0</td>\n",
              "      <td>1</td>\n",
              "      <td>0</td>\n",
              "      <td>0</td>\n",
              "      <td>0</td>\n",
              "      <td>0</td>\n",
              "      <td>1</td>\n",
              "      <td>0</td>\n",
              "      <td>0</td>\n",
              "      <td>1</td>\n",
              "      <td>0</td>\n",
              "      <td>0</td>\n",
              "      <td>0</td>\n",
              "      <td>0</td>\n",
              "      <td>0</td>\n",
              "      <td>0</td>\n",
              "      <td>0</td>\n",
              "      <td>0</td>\n",
              "    </tr>\n",
              "    <tr>\n",
              "      <th>1</th>\n",
              "      <td>88.53</td>\n",
              "      <td>t</td>\n",
              "      <td>av</td>\n",
              "      <td>e</td>\n",
              "      <td>d</td>\n",
              "      <td>y</td>\n",
              "      <td>l</td>\n",
              "      <td>o</td>\n",
              "      <td>0</td>\n",
              "      <td>0</td>\n",
              "      <td>0</td>\n",
              "      <td>0</td>\n",
              "      <td>0</td>\n",
              "      <td>0</td>\n",
              "      <td>0</td>\n",
              "      <td>0</td>\n",
              "      <td>1</td>\n",
              "      <td>0</td>\n",
              "      <td>0</td>\n",
              "      <td>0</td>\n",
              "      <td>0</td>\n",
              "      <td>0</td>\n",
              "      <td>0</td>\n",
              "      <td>0</td>\n",
              "      <td>1</td>\n",
              "      <td>0</td>\n",
              "      <td>0</td>\n",
              "      <td>0</td>\n",
              "    </tr>\n",
              "  </tbody>\n",
              "</table>\n",
              "</div>"
            ],
            "text/plain": [
              "        y X1  X2 X3 X4 X5 X6 X8  ...  X22  X23  X24  X26  X27  X28  X29  X30\n",
              "0  130.81  v  at  a  d  u  j  o  ...    0    0    0    0    0    0    0    0\n",
              "1   88.53  t  av  e  d  y  l  o  ...    0    0    0    0    1    0    0    0\n",
              "\n",
              "[2 rows x 28 columns]"
            ]
          },
          "metadata": {
            "tags": []
          },
          "execution_count": 12
        }
      ]
    },
    {
      "cell_type": "code",
      "metadata": {
        "id": "2spifznKeAuJ",
        "colab_type": "code",
        "colab": {
          "base_uri": "https://localhost:8080/",
          "height": 107
        },
        "outputId": "5aea1ca2-3bdd-4535-d8a4-70d163131a7d"
      },
      "source": [
        "df2.columns"
      ],
      "execution_count": 13,
      "outputs": [
        {
          "output_type": "execute_result",
          "data": {
            "text/plain": [
              "Index(['y', 'X1', 'X2', 'X3', 'X4', 'X5', 'X6', 'X8', 'X10', 'X11', 'X12',\n",
              "       'X13', 'X14', 'X15', 'X16', 'X17', 'X18', 'X19', 'X20', 'X21', 'X22',\n",
              "       'X23', 'X24', 'X26', 'X27', 'X28', 'X29', 'X30'],\n",
              "      dtype='object')"
            ]
          },
          "metadata": {
            "tags": []
          },
          "execution_count": 13
        }
      ]
    }
  ]
}