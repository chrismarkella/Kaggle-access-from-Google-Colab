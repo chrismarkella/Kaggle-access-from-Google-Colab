{
  "nbformat": 4,
  "nbformat_minor": 0,
  "metadata": {
    "colab": {
      "name": "machine_learning_beginner_tree_or_forest.ipynb",
      "provenance": [],
      "include_colab_link": true
    },
    "kernelspec": {
      "name": "python3",
      "display_name": "Python 3"
    }
  },
  "cells": [
    {
      "cell_type": "markdown",
      "metadata": {
        "id": "view-in-github",
        "colab_type": "text"
      },
      "source": [
        "<a href=\"https://colab.research.google.com/github/chrismarkella/Kaggle-access-from-Google-Colab/blob/master/machine_learning_beginner_tree_or_forest.ipynb\" target=\"_parent\"><img src=\"https://colab.research.google.com/assets/colab-badge.svg\" alt=\"Open In Colab\"/></a>"
      ]
    },
    {
      "cell_type": "code",
      "metadata": {
        "id": "caCSYaZ_sbqi",
        "colab_type": "code",
        "colab": {
          "base_uri": "https://localhost:8080/",
          "height": 171
        },
        "outputId": "27dae4b7-e6e7-48aa-c8d6-3a5a831a08ce"
      },
      "source": [
        "!apt-get install tree"
      ],
      "execution_count": 1,
      "outputs": [
        {
          "output_type": "stream",
          "text": [
            "Reading package lists... Done\n",
            "Building dependency tree       \n",
            "Reading state information... Done\n",
            "tree is already the newest version (1.7.0-5).\n",
            "The following package was automatically installed and is no longer required:\n",
            "  libnvidia-common-430\n",
            "Use 'apt autoremove' to remove it.\n",
            "0 upgraded, 0 newly installed, 0 to remove and 7 not upgraded.\n"
          ],
          "name": "stdout"
        }
      ]
    },
    {
      "cell_type": "code",
      "metadata": {
        "id": "UfptiakkLVI7",
        "colab_type": "code",
        "colab": {}
      },
      "source": [
        "import os\n",
        "\n",
        "import numpy as np\n",
        "import pandas as pd\n",
        "\n",
        "from getpass import getpass "
      ],
      "execution_count": 0,
      "outputs": []
    },
    {
      "cell_type": "code",
      "metadata": {
        "id": "x_q48eW8LWd_",
        "colab_type": "code",
        "outputId": "5fae8b53-8cb7-4eaf-b1f0-17e312799210",
        "colab": {
          "base_uri": "https://localhost:8080/",
          "height": 67
        }
      },
      "source": [
        "def access_kaggle():\n",
        "    \"\"\"\n",
        "    Access Kaggle from Google Colab.\n",
        "    If the /root/.kaggle does not exist then prompt for\n",
        "    the username and for the Kaggle API key.\n",
        "    Creates the kaggle.json access file in the /root/.kaggle/ folder. \n",
        "    \"\"\"\n",
        "    KAGGLE_ROOT = os.path.join('/root', '.kaggle')\n",
        "    KAGGLE_PATH = os.path.join(KAGGLE_ROOT, 'kaggle.json')\n",
        "\n",
        "    if '.kaggle' not in os.listdir(path='/root'):\n",
        "        user = getpass(prompt='Kaggle username: ')\n",
        "        key  = getpass(prompt='Kaggle API key: ')\n",
        "        \n",
        "        !mkdir $KAGGLE_ROOT\n",
        "        !touch $KAGGLE_PATH\n",
        "        !chmod 666 $KAGGLE_PATH\n",
        "        with open(KAGGLE_PATH, mode='w') as f:\n",
        "            f.write('{\"username\":\"%s\", \"key\":\"%s\"}' %(user, key))\n",
        "            f.close()\n",
        "        !chmod 600 $KAGGLE_PATH\n",
        "        del user\n",
        "        del key\n",
        "        success_msg = \"Kaggle is successfully set up. Good to go.\"\n",
        "        print(f'{success_msg}')\n",
        "\n",
        "access_kaggle()\n"
      ],
      "execution_count": 3,
      "outputs": [
        {
          "output_type": "stream",
          "text": [
            "Kaggle username: ··········\n",
            "Kaggle API key: ··········\n",
            "Kaggle is successfully set up. Good to go.\n"
          ],
          "name": "stdout"
        }
      ]
    },
    {
      "cell_type": "code",
      "metadata": {
        "id": "-dwhD2H5L1tz",
        "colab_type": "code",
        "outputId": "aafbce1f-657c-497f-b0bc-b62204b18761",
        "colab": {
          "base_uri": "https://localhost:8080/",
          "height": 457
        }
      },
      "source": [
        "!kaggle datasets download gunjanpathak/melb-data --unzip\n",
        "!tree -sh ./\n",
        "!cat -n melb_data.csv|head -5\n",
        "df = pd.read_csv('melb_data.csv', sep=',', index_col=0)\n",
        "print(f'CSV file is loaded to DataFrame.')\n",
        "df.columns"
      ],
      "execution_count": 4,
      "outputs": [
        {
          "output_type": "stream",
          "text": [
            "Downloading melb-data.zip to /content\n",
            "\r  0% 0.00/614k [00:00<?, ?B/s]\n",
            "\r100% 614k/614k [00:00<00:00, 40.4MB/s]\n",
            "./\n",
            "├── [2.7M]  melb_data.csv\n",
            "└── [4.0K]  sample_data\n",
            "    ├── [1.7K]  anscombe.json\n",
            "    ├── [294K]  california_housing_test.csv\n",
            "    ├── [1.6M]  california_housing_train.csv\n",
            "    ├── [ 17M]  mnist_test.csv\n",
            "    ├── [ 35M]  mnist_train_small.csv\n",
            "    └── [ 930]  README.md\n",
            "\n",
            "1 directory, 7 files\n",
            "     1\t,Suburb,Address,Rooms,Type,Price,Method,SellerG,Date,Distance,Postcode,Bedroom2,Bathroom,Car,Landsize,BuildingArea,YearBuilt,CouncilArea,Lattitude,Longtitude,Regionname,Propertycount\n",
            "     2\t1,Abbotsford,85 Turner St,2,h,1480000.0,S,Biggin,3/12/2016,2.5,3067.0,2.0,1.0,1.0,202.0,,,Yarra,-37.7996,144.9984,Northern Metropolitan,4019.0\n",
            "     3\t2,Abbotsford,25 Bloomburg St,2,h,1035000.0,S,Biggin,4/02/2016,2.5,3067.0,2.0,1.0,0.0,156.0,79.0,1900.0,Yarra,-37.8079,144.9934,Northern Metropolitan,4019.0\n",
            "     4\t4,Abbotsford,5 Charles St,3,h,1465000.0,SP,Biggin,4/03/2017,2.5,3067.0,3.0,2.0,0.0,134.0,150.0,1900.0,Yarra,-37.8093,144.9944,Northern Metropolitan,4019.0\n",
            "     5\t5,Abbotsford,40 Federation La,3,h,850000.0,PI,Biggin,4/03/2017,2.5,3067.0,3.0,2.0,1.0,94.0,,,Yarra,-37.7969,144.9969,Northern Metropolitan,4019.0\n",
            "CSV file is loaded to DataFrame.\n"
          ],
          "name": "stdout"
        },
        {
          "output_type": "execute_result",
          "data": {
            "text/plain": [
              "Index(['Suburb', 'Address', 'Rooms', 'Type', 'Price', 'Method', 'SellerG',\n",
              "       'Date', 'Distance', 'Postcode', 'Bedroom2', 'Bathroom', 'Car',\n",
              "       'Landsize', 'BuildingArea', 'YearBuilt', 'CouncilArea', 'Lattitude',\n",
              "       'Longtitude', 'Regionname', 'Propertycount'],\n",
              "      dtype='object')"
            ]
          },
          "metadata": {
            "tags": []
          },
          "execution_count": 4
        }
      ]
    },
    {
      "cell_type": "code",
      "metadata": {
        "id": "gSnrIoKTPDeM",
        "colab_type": "code",
        "colab": {
          "base_uri": "https://localhost:8080/",
          "height": 138
        },
        "outputId": "b1ed8809-11dd-42c3-ae3f-410b29f2c49f"
      },
      "source": [
        "df.columns = df.columns.map(lambda c: c.lower())\n",
        "print(f'Column names are transformed to lowercase.')\n",
        "df.columns"
      ],
      "execution_count": 5,
      "outputs": [
        {
          "output_type": "stream",
          "text": [
            "Column names are transformed to lowercase.\n"
          ],
          "name": "stdout"
        },
        {
          "output_type": "execute_result",
          "data": {
            "text/plain": [
              "Index(['suburb', 'address', 'rooms', 'type', 'price', 'method', 'sellerg',\n",
              "       'date', 'distance', 'postcode', 'bedroom2', 'bathroom', 'car',\n",
              "       'landsize', 'buildingarea', 'yearbuilt', 'councilarea', 'lattitude',\n",
              "       'longtitude', 'regionname', 'propertycount'],\n",
              "      dtype='object')"
            ]
          },
          "metadata": {
            "tags": []
          },
          "execution_count": 5
        }
      ]
    },
    {
      "cell_type": "code",
      "metadata": {
        "id": "YOdsiOx5t9SP",
        "colab_type": "code",
        "colab": {
          "base_uri": "https://localhost:8080/",
          "height": 386
        },
        "outputId": "74dd870a-0850-45c0-87c0-58e6c4d881d9"
      },
      "source": [
        "df.isnull().sum()"
      ],
      "execution_count": 6,
      "outputs": [
        {
          "output_type": "execute_result",
          "data": {
            "text/plain": [
              "suburb               0\n",
              "address              0\n",
              "rooms                0\n",
              "type                 0\n",
              "price                0\n",
              "method               0\n",
              "sellerg              0\n",
              "date                 0\n",
              "distance             1\n",
              "postcode             1\n",
              "bedroom2          3469\n",
              "bathroom          3471\n",
              "car               3576\n",
              "landsize          4793\n",
              "buildingarea     10634\n",
              "yearbuilt         9438\n",
              "councilarea       6163\n",
              "lattitude         3332\n",
              "longtitude        3332\n",
              "regionname           1\n",
              "propertycount        1\n",
              "dtype: int64"
            ]
          },
          "metadata": {
            "tags": []
          },
          "execution_count": 6
        }
      ]
    },
    {
      "cell_type": "code",
      "metadata": {
        "id": "1n0aD1FVYohj",
        "colab_type": "code",
        "colab": {
          "base_uri": "https://localhost:8080/",
          "height": 454
        },
        "outputId": "60d29f0f-bd3b-435a-e3df-d59b9acb1495"
      },
      "source": [
        "# Dropping all records with any NaN values.\n",
        "df = df.dropna(axis='index')\n",
        "df.info()"
      ],
      "execution_count": 7,
      "outputs": [
        {
          "output_type": "stream",
          "text": [
            "<class 'pandas.core.frame.DataFrame'>\n",
            "Int64Index: 6196 entries, 2 to 19739\n",
            "Data columns (total 21 columns):\n",
            "suburb           6196 non-null object\n",
            "address          6196 non-null object\n",
            "rooms            6196 non-null int64\n",
            "type             6196 non-null object\n",
            "price            6196 non-null float64\n",
            "method           6196 non-null object\n",
            "sellerg          6196 non-null object\n",
            "date             6196 non-null object\n",
            "distance         6196 non-null float64\n",
            "postcode         6196 non-null float64\n",
            "bedroom2         6196 non-null float64\n",
            "bathroom         6196 non-null float64\n",
            "car              6196 non-null float64\n",
            "landsize         6196 non-null float64\n",
            "buildingarea     6196 non-null float64\n",
            "yearbuilt        6196 non-null float64\n",
            "councilarea      6196 non-null object\n",
            "lattitude        6196 non-null float64\n",
            "longtitude       6196 non-null float64\n",
            "regionname       6196 non-null object\n",
            "propertycount    6196 non-null float64\n",
            "dtypes: float64(12), int64(1), object(8)\n",
            "memory usage: 1.0+ MB\n"
          ],
          "name": "stdout"
        }
      ]
    },
    {
      "cell_type": "code",
      "metadata": {
        "id": "xfQxcXGvY5h0",
        "colab_type": "code",
        "colab": {
          "base_uri": "https://localhost:8080/",
          "height": 386
        },
        "outputId": "49eec070-fdd1-4d47-8427-97c94c325c71"
      },
      "source": [
        "# Checking if any NaN values left.\n",
        "df.isnull().sum()"
      ],
      "execution_count": 8,
      "outputs": [
        {
          "output_type": "execute_result",
          "data": {
            "text/plain": [
              "suburb           0\n",
              "address          0\n",
              "rooms            0\n",
              "type             0\n",
              "price            0\n",
              "method           0\n",
              "sellerg          0\n",
              "date             0\n",
              "distance         0\n",
              "postcode         0\n",
              "bedroom2         0\n",
              "bathroom         0\n",
              "car              0\n",
              "landsize         0\n",
              "buildingarea     0\n",
              "yearbuilt        0\n",
              "councilarea      0\n",
              "lattitude        0\n",
              "longtitude       0\n",
              "regionname       0\n",
              "propertycount    0\n",
              "dtype: int64"
            ]
          },
          "metadata": {
            "tags": []
          },
          "execution_count": 8
        }
      ]
    },
    {
      "cell_type": "code",
      "metadata": {
        "id": "VEg8Np7RY-Gf",
        "colab_type": "code",
        "colab": {
          "base_uri": "https://localhost:8080/",
          "height": 386
        },
        "outputId": "391e95e1-2f67-45c8-e4f7-35cbba2b38c8"
      },
      "source": [
        "df.dtypes"
      ],
      "execution_count": 9,
      "outputs": [
        {
          "output_type": "execute_result",
          "data": {
            "text/plain": [
              "suburb            object\n",
              "address           object\n",
              "rooms              int64\n",
              "type              object\n",
              "price            float64\n",
              "method            object\n",
              "sellerg           object\n",
              "date              object\n",
              "distance         float64\n",
              "postcode         float64\n",
              "bedroom2         float64\n",
              "bathroom         float64\n",
              "car              float64\n",
              "landsize         float64\n",
              "buildingarea     float64\n",
              "yearbuilt        float64\n",
              "councilarea       object\n",
              "lattitude        float64\n",
              "longtitude       float64\n",
              "regionname        object\n",
              "propertycount    float64\n",
              "dtype: object"
            ]
          },
          "metadata": {
            "tags": []
          },
          "execution_count": 9
        }
      ]
    },
    {
      "cell_type": "code",
      "metadata": {
        "id": "Zix2KBnwZAbX",
        "colab_type": "code",
        "colab": {
          "base_uri": "https://localhost:8080/",
          "height": 252
        },
        "outputId": "d82a525b-cb1b-4237-9800-fba0ca2cd7e3"
      },
      "source": [
        "# List only the non-object columns.\n",
        "df.dtypes[df.dtypes != 'object']"
      ],
      "execution_count": 10,
      "outputs": [
        {
          "output_type": "execute_result",
          "data": {
            "text/plain": [
              "rooms              int64\n",
              "price            float64\n",
              "distance         float64\n",
              "postcode         float64\n",
              "bedroom2         float64\n",
              "bathroom         float64\n",
              "car              float64\n",
              "landsize         float64\n",
              "buildingarea     float64\n",
              "yearbuilt        float64\n",
              "lattitude        float64\n",
              "longtitude       float64\n",
              "propertycount    float64\n",
              "dtype: object"
            ]
          },
          "metadata": {
            "tags": []
          },
          "execution_count": 10
        }
      ]
    },
    {
      "cell_type": "code",
      "metadata": {
        "id": "HT-HXQkmZG_m",
        "colab_type": "code",
        "colab": {}
      },
      "source": [
        "y = df.price\n",
        "\n",
        "feature_columns = [\n",
        "    'rooms',\n",
        "    'bathroom',\n",
        "    'landsize',\n",
        "    'buildingarea',\n",
        "    'lattitude',\n",
        "    'longtitude',\n",
        "]\n",
        "\n",
        "X = df[feature_columns]"
      ],
      "execution_count": 0,
      "outputs": []
    },
    {
      "cell_type": "code",
      "metadata": {
        "id": "mwW63hfUZgZO",
        "colab_type": "code",
        "colab": {}
      },
      "source": [
        "from sklearn.tree import DecisionTreeRegressor\n",
        "from sklearn.model_selection import train_test_split\n",
        "from sklearn.metrics import mean_absolute_error\n",
        "\n",
        "train_x, val_x, train_y, val_y = train_test_split(X, y, test_size=0.2)"
      ],
      "execution_count": 0,
      "outputs": []
    },
    {
      "cell_type": "code",
      "metadata": {
        "id": "jC5ecREIZxir",
        "colab_type": "code",
        "colab": {
          "base_uri": "https://localhost:8080/",
          "height": 235
        },
        "outputId": "55ac98c2-f634-4b3d-a57a-1d0a96d0b375"
      },
      "source": [
        "\n",
        "def best_max_leaf_option(start, finish, step):\n",
        "    \"\"\"Return a Series with the MAEs as values\n",
        "       and the leaf #s as indexes.\n",
        "    \"\"\"\n",
        "    data_tree = []\n",
        "    for _ in range(start, finish, step):\n",
        "        model = DecisionTreeRegressor(max_leaf_nodes=_, random_state=1)\n",
        "        model.fit(X=train_x, y=train_y)\n",
        "        prediction = model.predict(X=val_x)\n",
        "\n",
        "        mae_tree = mean_absolute_error(y_true=val_y, y_pred=prediction)\n",
        "        data_tree.append(mae_tree)\n",
        "\n",
        "    mae_tree_ser = pd.Series(data=data_tree,\n",
        "                            index=list(range(start, finish, step)),\n",
        "                            name='MAE for tree'\n",
        "                    )\n",
        "    return mae_tree_ser\n",
        "\n",
        "mae_tree_ser = best_max_leaf_option(5,5000,500)\n",
        "print(f'{mae_tree_ser}')\n",
        "\n",
        "index_min = mae_tree_ser.idxmin()\n",
        "print()\n",
        "print(f'best option: leaf: {index_min}-->MAE: {mae_tree_ser.loc[index_min]}')"
      ],
      "execution_count": 13,
      "outputs": [
        {
          "output_type": "stream",
          "text": [
            "5       335934.863438\n",
            "505     231091.377162\n",
            "1005    233266.544057\n",
            "1505    238096.588390\n",
            "2005    239330.888798\n",
            "2505    239714.694808\n",
            "3005    240409.709140\n",
            "3505    240390.428253\n",
            "4005    240740.423253\n",
            "4505    240891.778495\n",
            "Name: MAE for tree, dtype: float64\n",
            "\n",
            "best option: leaf: 505-->MAE: 231091.37716201294\n"
          ],
          "name": "stdout"
        }
      ]
    },
    {
      "cell_type": "code",
      "metadata": {
        "id": "IN4uP0-mdK3r",
        "colab_type": "code",
        "colab": {
          "base_uri": "https://localhost:8080/",
          "height": 235
        },
        "outputId": "57dc4764-b7a5-4c78-d19c-bd6d5bfff1d8"
      },
      "source": [
        "mae_tree_ser = best_max_leaf_option(5,1005,100)\n",
        "print(f'{mae_tree_ser}')\n",
        "\n",
        "index_min = mae_tree_ser.idxmin()\n",
        "print()\n",
        "print(f'best option: leaf: {index_min}-->MAE: {mae_tree_ser.loc[index_min]}')"
      ],
      "execution_count": 14,
      "outputs": [
        {
          "output_type": "stream",
          "text": [
            "5      335934.863438\n",
            "105    240648.070228\n",
            "205    226802.117397\n",
            "305    227557.355740\n",
            "405    228224.347998\n",
            "505    231091.377162\n",
            "605    231232.837903\n",
            "705    231476.557669\n",
            "805    231270.043689\n",
            "905    232312.428110\n",
            "Name: MAE for tree, dtype: float64\n",
            "\n",
            "best option: leaf: 205-->MAE: 226802.11739710675\n"
          ],
          "name": "stdout"
        }
      ]
    },
    {
      "cell_type": "code",
      "metadata": {
        "id": "G8gYcxbRzUQe",
        "colab_type": "code",
        "colab": {
          "base_uri": "https://localhost:8080/",
          "height": 336
        },
        "outputId": "fb09b895-9595-4ebf-d80d-2879a8f8b6b1"
      },
      "source": [
        "mae_tree_ser = best_max_leaf_option(105,505,25)\n",
        "print(f'{mae_tree_ser}')\n",
        "\n",
        "index_min = mae_tree_ser.idxmin()\n",
        "print()\n",
        "print(f'best option: leaf: {index_min}-->MAE: {mae_tree_ser.loc[index_min]}')"
      ],
      "execution_count": 15,
      "outputs": [
        {
          "output_type": "stream",
          "text": [
            "105    240648.070228\n",
            "130    236513.532374\n",
            "155    230210.784207\n",
            "180    231832.963619\n",
            "205    226802.117397\n",
            "230    225584.773200\n",
            "255    226452.512574\n",
            "280    228235.002256\n",
            "305    227557.355740\n",
            "330    228430.326547\n",
            "355    227806.888698\n",
            "380    227569.534735\n",
            "405    228224.347998\n",
            "430    230419.468369\n",
            "455    231810.303265\n",
            "480    231863.560862\n",
            "Name: MAE for tree, dtype: float64\n",
            "\n",
            "best option: leaf: 230-->MAE: 225584.77320032855\n"
          ],
          "name": "stdout"
        }
      ]
    },
    {
      "cell_type": "code",
      "metadata": {
        "id": "5WwyKeIDzhO9",
        "colab_type": "code",
        "colab": {
          "base_uri": "https://localhost:8080/",
          "height": 319
        },
        "outputId": "03d2aef7-675c-4e54-e9c6-ef41e7d4a045"
      },
      "source": [
        "mae_tree_ser = best_max_leaf_option(330,405,5)\n",
        "print(f'{mae_tree_ser}')\n",
        "\n",
        "index_min = mae_tree_ser.idxmin()\n",
        "print()\n",
        "print(f'best option: leaf: {index_min}-->MAE: {mae_tree_ser.loc[index_min]}')"
      ],
      "execution_count": 16,
      "outputs": [
        {
          "output_type": "stream",
          "text": [
            "330    228430.326547\n",
            "335    228218.339514\n",
            "340    228254.722951\n",
            "345    228602.622289\n",
            "350    228022.136277\n",
            "355    227806.888698\n",
            "360    226707.697717\n",
            "365    226543.598977\n",
            "370    227153.552877\n",
            "375    227476.164439\n",
            "380    227569.534735\n",
            "385    228288.883416\n",
            "390    228124.296581\n",
            "395    227477.922934\n",
            "400    227148.237417\n",
            "Name: MAE for tree, dtype: float64\n",
            "\n",
            "best option: leaf: 365-->MAE: 226543.598976995\n"
          ],
          "name": "stdout"
        }
      ]
    },
    {
      "cell_type": "markdown",
      "metadata": {
        "id": "-l7K-Wp5z-Ud",
        "colab_type": "text"
      },
      "source": [
        "### Choosing `365` maximum leafs for the decistion tree is close to optimal. "
      ]
    },
    {
      "cell_type": "code",
      "metadata": {
        "id": "Iiw_CxWMfOpM",
        "colab_type": "code",
        "colab": {}
      },
      "source": [
        "from sklearn.ensemble import RandomForestRegressor"
      ],
      "execution_count": 0,
      "outputs": []
    },
    {
      "cell_type": "code",
      "metadata": {
        "id": "Um2rzKKP0m9W",
        "colab_type": "code",
        "colab": {
          "base_uri": "https://localhost:8080/",
          "height": 319
        },
        "outputId": "2fadbcd3-02fd-4a93-e9dd-acc38aede430"
      },
      "source": [
        "def best_max_leaf_option(start, finish, step):\n",
        "    \"\"\"Return a Series with the MAEs as values\n",
        "       and the leaf #s as indexes.\n",
        "    \"\"\"\n",
        "    print('Processing: ', end='')\n",
        "    data_tree = []\n",
        "    for _ in range(start, finish, step):\n",
        "        model = RandomForestRegressor(n_estimators=_, random_state=1)\n",
        "        model.fit(X=train_x, y=train_y)\n",
        "        prediction = model.predict(X=val_x)\n",
        "\n",
        "        mae_forest = mean_absolute_error(y_true=val_y, y_pred=prediction)\n",
        "        data_tree.append(mae_forest)\n",
        "        print('#',end='')\n",
        "    print()\n",
        "    mae_forest_ser = pd.Series(data=data_tree,\n",
        "                            index=list(range(start, finish, step)),\n",
        "                            name='MAE for tree'\n",
        "                    )\n",
        "    return mae_forest_ser\n",
        "\n",
        "mae_forest_ser = best_max_leaf_option(20,300,20)\n",
        "print(f'{mae_forest_ser}')\n",
        "\n",
        "index_min = mae_forest_ser.idxmin()\n",
        "print()\n",
        "print(f'best option: leaf: {index_min}-->MAE: {mae_forest_ser.loc[index_min]}')"
      ],
      "execution_count": 18,
      "outputs": [
        {
          "output_type": "stream",
          "text": [
            "Processing: #############\n",
            "20     188229.268952\n",
            "40     183396.339140\n",
            "60     180900.661877\n",
            "80     180067.680951\n",
            "100    179594.726621\n",
            "120    180240.873785\n",
            "140    179747.120727\n",
            "160    179077.967917\n",
            "180    178880.030915\n",
            "200    178939.442435\n",
            "220    178936.501528\n",
            "240    178847.627339\n",
            "260    179127.073462\n",
            "280    178994.311962\n",
            "Name: MAE for tree, dtype: float64\n",
            "\n",
            "best option: leaf: 240-->MAE: 178847.62733918973\n"
          ],
          "name": "stdout"
        }
      ]
    },
    {
      "cell_type": "code",
      "metadata": {
        "id": "ZiCICSTs253J",
        "colab_type": "code",
        "colab": {
          "base_uri": "https://localhost:8080/",
          "height": 218
        },
        "outputId": "73cb2b6c-983f-4200-ece3-9413a3fa3edf"
      },
      "source": [
        "mae_forest_ser = best_max_leaf_option(220,260,5)\n",
        "print(f'{mae_forest_ser}')\n",
        "\n",
        "index_min = mae_forest_ser.idxmin()\n",
        "print()\n",
        "print(f'best option: leaf: {index_min}-->MAE: {mae_forest_ser.loc[index_min]}')"
      ],
      "execution_count": 20,
      "outputs": [
        {
          "output_type": "stream",
          "text": [
            "Processing: ########\n",
            "220    178936.501528\n",
            "225    178869.222985\n",
            "230    178790.927446\n",
            "235    178663.228584\n",
            "240    178847.627339\n",
            "245    178924.704196\n",
            "250    179071.583283\n",
            "255    179183.905299\n",
            "Name: MAE for tree, dtype: float64\n",
            "\n",
            "best option: leaf: 235-->MAE: 178663.22858433833\n"
          ],
          "name": "stdout"
        }
      ]
    },
    {
      "cell_type": "markdown",
      "metadata": {
        "id": "J6r2bKFx3Q0d",
        "colab_type": "text"
      },
      "source": [
        "### Choosing `235` trees looks close to optimal for the random forest model."
      ]
    },
    {
      "cell_type": "markdown",
      "metadata": {
        "id": "uZLsNpI74Oh_",
        "colab_type": "text"
      },
      "source": [
        "### Now we will create a model with the `lowest MAE` so far and train on `all` the data, `X`."
      ]
    },
    {
      "cell_type": "code",
      "metadata": {
        "id": "NHMk4bFfuKcJ",
        "colab_type": "code",
        "colab": {
          "base_uri": "https://localhost:8080/",
          "height": 154
        },
        "outputId": "551a6429-00ce-473b-9862-e6369723576e"
      },
      "source": [
        "best_model = RandomForestRegressor(n_estimators=235, random_state=1)\n",
        "\n",
        "best_model.fit(X, y)"
      ],
      "execution_count": 21,
      "outputs": [
        {
          "output_type": "execute_result",
          "data": {
            "text/plain": [
              "RandomForestRegressor(bootstrap=True, criterion='mse', max_depth=None,\n",
              "                      max_features='auto', max_leaf_nodes=None,\n",
              "                      min_impurity_decrease=0.0, min_impurity_split=None,\n",
              "                      min_samples_leaf=1, min_samples_split=2,\n",
              "                      min_weight_fraction_leaf=0.0, n_estimators=235,\n",
              "                      n_jobs=None, oob_score=False, random_state=1, verbose=0,\n",
              "                      warm_start=False)"
            ]
          },
          "metadata": {
            "tags": []
          },
          "execution_count": 21
        }
      ]
    },
    {
      "cell_type": "code",
      "metadata": {
        "id": "CX0n5KGB5g_W",
        "colab_type": "code",
        "colab": {}
      },
      "source": [
        ""
      ],
      "execution_count": 0,
      "outputs": []
    }
  ]
}