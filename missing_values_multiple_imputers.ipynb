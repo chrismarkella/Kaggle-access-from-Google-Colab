{
  "nbformat": 4,
  "nbformat_minor": 0,
  "metadata": {
    "colab": {
      "name": "missing_values_multiple_imputers.ipynb",
      "provenance": [],
      "include_colab_link": true
    },
    "kernelspec": {
      "name": "python3",
      "display_name": "Python 3"
    }
  },
  "cells": [
    {
      "cell_type": "markdown",
      "metadata": {
        "id": "view-in-github",
        "colab_type": "text"
      },
      "source": [
        "<a href=\"https://colab.research.google.com/github/chrismarkella/Kaggle-access-from-Google-Colab/blob/master/missing_values_multiple_imputers.ipynb\" target=\"_parent\"><img src=\"https://colab.research.google.com/assets/colab-badge.svg\" alt=\"Open In Colab\"/></a>"
      ]
    },
    {
      "cell_type": "code",
      "metadata": {
        "id": "MHmc7_O8hycM",
        "colab_type": "code",
        "colab": {
          "base_uri": "https://localhost:8080/",
          "height": 118
        },
        "outputId": "ca36aad1-e15a-430d-ca38-96215eb84119"
      },
      "source": [
        "!apt-get -qq install tree"
      ],
      "execution_count": 1,
      "outputs": [
        {
          "output_type": "stream",
          "text": [
            "Selecting previously unselected package tree.\n",
            "(Reading database ... 135004 files and directories currently installed.)\n",
            "Preparing to unpack .../tree_1.7.0-5_amd64.deb ...\n",
            "Unpacking tree (1.7.0-5) ...\n",
            "Setting up tree (1.7.0-5) ...\n",
            "Processing triggers for man-db (2.8.3-2ubuntu0.1) ...\n"
          ],
          "name": "stdout"
        }
      ]
    },
    {
      "cell_type": "code",
      "metadata": {
        "id": "3WXlJ-UPh3jF",
        "colab_type": "code",
        "colab": {}
      },
      "source": [
        "import os\n",
        "\n",
        "import numpy as np\n",
        "import pandas as pd\n",
        "\n",
        "from getpass import getpass "
      ],
      "execution_count": 0,
      "outputs": []
    },
    {
      "cell_type": "code",
      "metadata": {
        "id": "D3H683XLh6GL",
        "colab_type": "code",
        "colab": {
          "base_uri": "https://localhost:8080/",
          "height": 67
        },
        "outputId": "23ab945d-8ae3-4d99-fc86-d5142d988071"
      },
      "source": [
        "def access_kaggle():\n",
        "    \"\"\"\n",
        "    Access Kaggle from Google Colab.\n",
        "    If the /root/.kaggle does not exist then prompt for\n",
        "    the username and for the Kaggle API key.\n",
        "    Creates the kaggle.json access file in the /root/.kaggle/ folder. \n",
        "    \"\"\"\n",
        "    KAGGLE_ROOT = os.path.join('/root', '.kaggle')\n",
        "    KAGGLE_PATH = os.path.join(KAGGLE_ROOT, 'kaggle.json')\n",
        "\n",
        "    if '.kaggle' not in os.listdir(path='/root'):\n",
        "        user = getpass(prompt='Kaggle username: ')\n",
        "        key  = getpass(prompt='Kaggle API key: ')\n",
        "        \n",
        "        !mkdir $KAGGLE_ROOT\n",
        "        !touch $KAGGLE_PATH\n",
        "        !chmod 666 $KAGGLE_PATH\n",
        "        with open(KAGGLE_PATH, mode='w') as f:\n",
        "            f.write('{\"username\":\"%s\", \"key\":\"%s\"}' %(user, key))\n",
        "            f.close()\n",
        "        !chmod 600 $KAGGLE_PATH\n",
        "        del user\n",
        "        del key\n",
        "        success_msg = \"Kaggle is successfully set up. Good to go.\"\n",
        "        print(f'{success_msg}')\n",
        "\n",
        "access_kaggle()\n"
      ],
      "execution_count": 3,
      "outputs": [
        {
          "output_type": "stream",
          "text": [
            "Kaggle username: ··········\n",
            "Kaggle API key: ··········\n",
            "Kaggle is successfully set up. Good to go.\n"
          ],
          "name": "stdout"
        }
      ]
    },
    {
      "cell_type": "code",
      "metadata": {
        "id": "S_I9YtE5iIGe",
        "colab_type": "code",
        "colab": {
          "base_uri": "https://localhost:8080/",
          "height": 162
        },
        "outputId": "fb28e80f-580b-4ace-a0b9-c196cde28bba"
      },
      "source": [
        "df.shape"
      ],
      "execution_count": 4,
      "outputs": [
        {
          "output_type": "error",
          "ename": "NameError",
          "evalue": "ignored",
          "traceback": [
            "\u001b[0;31m---------------------------------------------------------------------------\u001b[0m",
            "\u001b[0;31mNameError\u001b[0m                                 Traceback (most recent call last)",
            "\u001b[0;32m<ipython-input-4-633337079cd0>\u001b[0m in \u001b[0;36m<module>\u001b[0;34m()\u001b[0m\n\u001b[0;32m----> 1\u001b[0;31m \u001b[0mdf\u001b[0m\u001b[0;34m.\u001b[0m\u001b[0mshape\u001b[0m\u001b[0;34m\u001b[0m\u001b[0;34m\u001b[0m\u001b[0m\n\u001b[0m",
            "\u001b[0;31mNameError\u001b[0m: name 'df' is not defined"
          ]
        }
      ]
    },
    {
      "cell_type": "code",
      "metadata": {
        "id": "gIa3KfQYiKLG",
        "colab_type": "code",
        "colab": {
          "base_uri": "https://localhost:8080/",
          "height": 1000
        },
        "outputId": "5f7d4b03-0bb3-47bf-a71f-df41dc2345a9"
      },
      "source": [
        "!kaggle competitions download -c home-data-for-ml-course -p datasets/ml-course\n",
        "!tree -sh ./\n",
        "!cat -n datasets/ml-course/train.csv|head -2\n",
        "df = pd.read_csv('datasets/ml-course/train.csv', sep=',', index_col=0)\n",
        "\n",
        "df.columns = df.columns.map(lambda c: c.lower())\n",
        "df.columns"
      ],
      "execution_count": 5,
      "outputs": [
        {
          "output_type": "stream",
          "text": [
            "Warning: Looks like you're using an outdated API Version, please consider updating (server 1.5.6 / client 1.5.4)\n",
            "Downloading train.csv.gz to datasets/ml-course\n",
            "  0% 0.00/89.2k [00:00<?, ?B/s]\n",
            "100% 89.2k/89.2k [00:00<00:00, 54.0MB/s]\n",
            "Downloading train.csv to datasets/ml-course\n",
            "  0% 0.00/450k [00:00<?, ?B/s]\n",
            "100% 450k/450k [00:00<00:00, 63.2MB/s]\n",
            "Downloading data_description.txt to datasets/ml-course\n",
            "  0% 0.00/13.1k [00:00<?, ?B/s]\n",
            "100% 13.1k/13.1k [00:00<00:00, 13.7MB/s]\n",
            "Downloading sample_submission.csv.gz to datasets/ml-course\n",
            "  0% 0.00/15.3k [00:00<?, ?B/s]\n",
            "100% 15.3k/15.3k [00:00<00:00, 13.7MB/s]\n",
            "Downloading sample_submission.csv to datasets/ml-course\n",
            "  0% 0.00/31.2k [00:00<?, ?B/s]\n",
            "100% 31.2k/31.2k [00:00<00:00, 27.5MB/s]\n",
            "Downloading test.csv.gz to datasets/ml-course\n",
            "  0% 0.00/82.0k [00:00<?, ?B/s]\n",
            "100% 82.0k/82.0k [00:00<00:00, 82.5MB/s]\n",
            "Downloading test.csv to datasets/ml-course\n",
            "  0% 0.00/441k [00:00<?, ?B/s]\n",
            "100% 441k/441k [00:00<00:00, 59.5MB/s]\n",
            "./\n",
            "├── [4.0K]  datasets\n",
            "│   └── [4.0K]  ml-course\n",
            "│       ├── [ 13K]  data_description.txt\n",
            "│       ├── [ 31K]  sample_submission.csv\n",
            "│       ├── [ 15K]  sample_submission.csv.gz\n",
            "│       ├── [441K]  test.csv\n",
            "│       ├── [ 82K]  test.csv.gz\n",
            "│       ├── [450K]  train.csv\n",
            "│       └── [ 89K]  train.csv.gz\n",
            "└── [4.0K]  sample_data\n",
            "    ├── [1.7K]  anscombe.json\n",
            "    ├── [294K]  california_housing_test.csv\n",
            "    ├── [1.6M]  california_housing_train.csv\n",
            "    ├── [ 17M]  mnist_test.csv\n",
            "    ├── [ 35M]  mnist_train_small.csv\n",
            "    └── [ 930]  README.md\n",
            "\n",
            "3 directories, 13 files\n",
            "     1\tId,MSSubClass,MSZoning,LotFrontage,LotArea,Street,Alley,LotShape,LandContour,Utilities,LotConfig,LandSlope,Neighborhood,Condition1,Condition2,BldgType,HouseStyle,OverallQual,OverallCond,YearBuilt,YearRemodAdd,RoofStyle,RoofMatl,Exterior1st,Exterior2nd,MasVnrType,MasVnrArea,ExterQual,ExterCond,Foundation,BsmtQual,BsmtCond,BsmtExposure,BsmtFinType1,BsmtFinSF1,BsmtFinType2,BsmtFinSF2,BsmtUnfSF,TotalBsmtSF,Heating,HeatingQC,CentralAir,Electrical,1stFlrSF,2ndFlrSF,LowQualFinSF,GrLivArea,BsmtFullBath,BsmtHalfBath,FullBath,HalfBath,BedroomAbvGr,KitchenAbvGr,KitchenQual,TotRmsAbvGrd,Functional,Fireplaces,FireplaceQu,GarageType,GarageYrBlt,GarageFinish,GarageCars,GarageArea,GarageQual,GarageCond,PavedDrive,WoodDeckSF,OpenPorchSF,EnclosedPorch,3SsnPorch,ScreenPorch,PoolArea,PoolQC,Fence,MiscFeature,MiscVal,MoSold,YrSold,SaleType,SaleCondition,SalePrice\n",
            "     2\t1,60,RL,65,8450,Pave,NA,Reg,Lvl,AllPub,Inside,Gtl,CollgCr,Norm,Norm,1Fam,2Story,7,5,2003,2003,Gable,CompShg,VinylSd,VinylSd,BrkFace,196,Gd,TA,PConc,Gd,TA,No,GLQ,706,Unf,0,150,856,GasA,Ex,Y,SBrkr,856,854,0,1710,1,0,2,1,3,1,Gd,8,Typ,0,NA,Attchd,2003,RFn,2,548,TA,TA,Y,0,61,0,0,0,0,NA,NA,NA,0,2,2008,WD,Normal,208500\n"
          ],
          "name": "stdout"
        },
        {
          "output_type": "execute_result",
          "data": {
            "text/plain": [
              "Index(['mssubclass', 'mszoning', 'lotfrontage', 'lotarea', 'street', 'alley',\n",
              "       'lotshape', 'landcontour', 'utilities', 'lotconfig', 'landslope',\n",
              "       'neighborhood', 'condition1', 'condition2', 'bldgtype', 'housestyle',\n",
              "       'overallqual', 'overallcond', 'yearbuilt', 'yearremodadd', 'roofstyle',\n",
              "       'roofmatl', 'exterior1st', 'exterior2nd', 'masvnrtype', 'masvnrarea',\n",
              "       'exterqual', 'extercond', 'foundation', 'bsmtqual', 'bsmtcond',\n",
              "       'bsmtexposure', 'bsmtfintype1', 'bsmtfinsf1', 'bsmtfintype2',\n",
              "       'bsmtfinsf2', 'bsmtunfsf', 'totalbsmtsf', 'heating', 'heatingqc',\n",
              "       'centralair', 'electrical', '1stflrsf', '2ndflrsf', 'lowqualfinsf',\n",
              "       'grlivarea', 'bsmtfullbath', 'bsmthalfbath', 'fullbath', 'halfbath',\n",
              "       'bedroomabvgr', 'kitchenabvgr', 'kitchenqual', 'totrmsabvgrd',\n",
              "       'functional', 'fireplaces', 'fireplacequ', 'garagetype', 'garageyrblt',\n",
              "       'garagefinish', 'garagecars', 'garagearea', 'garagequal', 'garagecond',\n",
              "       'paveddrive', 'wooddecksf', 'openporchsf', 'enclosedporch', '3ssnporch',\n",
              "       'screenporch', 'poolarea', 'poolqc', 'fence', 'miscfeature', 'miscval',\n",
              "       'mosold', 'yrsold', 'saletype', 'salecondition', 'saleprice'],\n",
              "      dtype='object')"
            ]
          },
          "metadata": {
            "tags": []
          },
          "execution_count": 5
        }
      ]
    },
    {
      "cell_type": "code",
      "metadata": {
        "id": "3WhvTM0ZiPQz",
        "colab_type": "code",
        "colab": {
          "base_uri": "https://localhost:8080/",
          "height": 34
        },
        "outputId": "efbcc157-98ab-4674-fdc4-764029048bb1"
      },
      "source": [
        "df.shape"
      ],
      "execution_count": 6,
      "outputs": [
        {
          "output_type": "execute_result",
          "data": {
            "text/plain": [
              "(1460, 80)"
            ]
          },
          "metadata": {
            "tags": []
          },
          "execution_count": 6
        }
      ]
    },
    {
      "cell_type": "code",
      "metadata": {
        "id": "otwdJYMUiTRI",
        "colab_type": "code",
        "colab": {
          "base_uri": "https://localhost:8080/",
          "height": 1000
        },
        "outputId": "9c18437c-1347-4f09-b3f1-8b6f13a7f6ea"
      },
      "source": [
        "df.info()"
      ],
      "execution_count": 7,
      "outputs": [
        {
          "output_type": "stream",
          "text": [
            "<class 'pandas.core.frame.DataFrame'>\n",
            "Int64Index: 1460 entries, 1 to 1460\n",
            "Data columns (total 80 columns):\n",
            "mssubclass       1460 non-null int64\n",
            "mszoning         1460 non-null object\n",
            "lotfrontage      1201 non-null float64\n",
            "lotarea          1460 non-null int64\n",
            "street           1460 non-null object\n",
            "alley            91 non-null object\n",
            "lotshape         1460 non-null object\n",
            "landcontour      1460 non-null object\n",
            "utilities        1460 non-null object\n",
            "lotconfig        1460 non-null object\n",
            "landslope        1460 non-null object\n",
            "neighborhood     1460 non-null object\n",
            "condition1       1460 non-null object\n",
            "condition2       1460 non-null object\n",
            "bldgtype         1460 non-null object\n",
            "housestyle       1460 non-null object\n",
            "overallqual      1460 non-null int64\n",
            "overallcond      1460 non-null int64\n",
            "yearbuilt        1460 non-null int64\n",
            "yearremodadd     1460 non-null int64\n",
            "roofstyle        1460 non-null object\n",
            "roofmatl         1460 non-null object\n",
            "exterior1st      1460 non-null object\n",
            "exterior2nd      1460 non-null object\n",
            "masvnrtype       1452 non-null object\n",
            "masvnrarea       1452 non-null float64\n",
            "exterqual        1460 non-null object\n",
            "extercond        1460 non-null object\n",
            "foundation       1460 non-null object\n",
            "bsmtqual         1423 non-null object\n",
            "bsmtcond         1423 non-null object\n",
            "bsmtexposure     1422 non-null object\n",
            "bsmtfintype1     1423 non-null object\n",
            "bsmtfinsf1       1460 non-null int64\n",
            "bsmtfintype2     1422 non-null object\n",
            "bsmtfinsf2       1460 non-null int64\n",
            "bsmtunfsf        1460 non-null int64\n",
            "totalbsmtsf      1460 non-null int64\n",
            "heating          1460 non-null object\n",
            "heatingqc        1460 non-null object\n",
            "centralair       1460 non-null object\n",
            "electrical       1459 non-null object\n",
            "1stflrsf         1460 non-null int64\n",
            "2ndflrsf         1460 non-null int64\n",
            "lowqualfinsf     1460 non-null int64\n",
            "grlivarea        1460 non-null int64\n",
            "bsmtfullbath     1460 non-null int64\n",
            "bsmthalfbath     1460 non-null int64\n",
            "fullbath         1460 non-null int64\n",
            "halfbath         1460 non-null int64\n",
            "bedroomabvgr     1460 non-null int64\n",
            "kitchenabvgr     1460 non-null int64\n",
            "kitchenqual      1460 non-null object\n",
            "totrmsabvgrd     1460 non-null int64\n",
            "functional       1460 non-null object\n",
            "fireplaces       1460 non-null int64\n",
            "fireplacequ      770 non-null object\n",
            "garagetype       1379 non-null object\n",
            "garageyrblt      1379 non-null float64\n",
            "garagefinish     1379 non-null object\n",
            "garagecars       1460 non-null int64\n",
            "garagearea       1460 non-null int64\n",
            "garagequal       1379 non-null object\n",
            "garagecond       1379 non-null object\n",
            "paveddrive       1460 non-null object\n",
            "wooddecksf       1460 non-null int64\n",
            "openporchsf      1460 non-null int64\n",
            "enclosedporch    1460 non-null int64\n",
            "3ssnporch        1460 non-null int64\n",
            "screenporch      1460 non-null int64\n",
            "poolarea         1460 non-null int64\n",
            "poolqc           7 non-null object\n",
            "fence            281 non-null object\n",
            "miscfeature      54 non-null object\n",
            "miscval          1460 non-null int64\n",
            "mosold           1460 non-null int64\n",
            "yrsold           1460 non-null int64\n",
            "saletype         1460 non-null object\n",
            "salecondition    1460 non-null object\n",
            "saleprice        1460 non-null int64\n",
            "dtypes: float64(3), int64(34), object(43)\n",
            "memory usage: 923.9+ KB\n"
          ],
          "name": "stdout"
        }
      ]
    },
    {
      "cell_type": "code",
      "metadata": {
        "id": "cgYrqlI8iVC3",
        "colab_type": "code",
        "colab": {
          "base_uri": "https://localhost:8080/",
          "height": 353
        },
        "outputId": "1591ffea-5f99-4ded-e8b3-24bee3e77fca"
      },
      "source": [
        "nullcolumns = df.isnull().sum()\n",
        "nullcolumns[nullcolumns > 0]"
      ],
      "execution_count": 8,
      "outputs": [
        {
          "output_type": "execute_result",
          "data": {
            "text/plain": [
              "lotfrontage      259\n",
              "alley           1369\n",
              "masvnrtype         8\n",
              "masvnrarea         8\n",
              "bsmtqual          37\n",
              "bsmtcond          37\n",
              "bsmtexposure      38\n",
              "bsmtfintype1      37\n",
              "bsmtfintype2      38\n",
              "electrical         1\n",
              "fireplacequ      690\n",
              "garagetype        81\n",
              "garageyrblt       81\n",
              "garagefinish      81\n",
              "garagequal        81\n",
              "garagecond        81\n",
              "poolqc          1453\n",
              "fence           1179\n",
              "miscfeature     1406\n",
              "dtype: int64"
            ]
          },
          "metadata": {
            "tags": []
          },
          "execution_count": 8
        }
      ]
    },
    {
      "cell_type": "code",
      "metadata": {
        "id": "788e8j4iioHl",
        "colab_type": "code",
        "colab": {
          "base_uri": "https://localhost:8080/",
          "height": 638
        },
        "outputId": "92b345e4-a473-4e8c-dc53-f25864b3076c"
      },
      "source": [
        "numerical_columns = list(df.dtypes[df.dtypes != 'object'].index)\n",
        "numerical_columns"
      ],
      "execution_count": 12,
      "outputs": [
        {
          "output_type": "execute_result",
          "data": {
            "text/plain": [
              "['mssubclass',\n",
              " 'lotfrontage',\n",
              " 'lotarea',\n",
              " 'overallqual',\n",
              " 'overallcond',\n",
              " 'yearbuilt',\n",
              " 'yearremodadd',\n",
              " 'masvnrarea',\n",
              " 'bsmtfinsf1',\n",
              " 'bsmtfinsf2',\n",
              " 'bsmtunfsf',\n",
              " 'totalbsmtsf',\n",
              " '1stflrsf',\n",
              " '2ndflrsf',\n",
              " 'lowqualfinsf',\n",
              " 'grlivarea',\n",
              " 'bsmtfullbath',\n",
              " 'bsmthalfbath',\n",
              " 'fullbath',\n",
              " 'halfbath',\n",
              " 'bedroomabvgr',\n",
              " 'kitchenabvgr',\n",
              " 'totrmsabvgrd',\n",
              " 'fireplaces',\n",
              " 'garageyrblt',\n",
              " 'garagecars',\n",
              " 'garagearea',\n",
              " 'wooddecksf',\n",
              " 'openporchsf',\n",
              " 'enclosedporch',\n",
              " '3ssnporch',\n",
              " 'screenporch',\n",
              " 'poolarea',\n",
              " 'miscval',\n",
              " 'mosold',\n",
              " 'yrsold',\n",
              " 'saleprice']"
            ]
          },
          "metadata": {
            "tags": []
          },
          "execution_count": 12
        }
      ]
    },
    {
      "cell_type": "code",
      "metadata": {
        "id": "Ed5IS4hGir0N",
        "colab_type": "code",
        "colab": {
          "base_uri": "https://localhost:8080/",
          "height": 34
        },
        "outputId": "7aa09ac4-e811-4f1f-c677-4de1a20819d3"
      },
      "source": [
        "df.saleprice.isnull().sum()"
      ],
      "execution_count": 13,
      "outputs": [
        {
          "output_type": "execute_result",
          "data": {
            "text/plain": [
              "0"
            ]
          },
          "metadata": {
            "tags": []
          },
          "execution_count": 13
        }
      ]
    },
    {
      "cell_type": "code",
      "metadata": {
        "id": "ymM-XkxUjFFm",
        "colab_type": "code",
        "colab": {
          "base_uri": "https://localhost:8080/",
          "height": 34
        },
        "outputId": "6e213b19-7211-4d26-97d0-78d743a19a54"
      },
      "source": [
        "y = df.saleprice\n",
        "\n",
        "X = df.select_dtypes(exclude=['object']).drop(['saleprice'], axis='columns')\n",
        "X.shape"
      ],
      "execution_count": 15,
      "outputs": [
        {
          "output_type": "execute_result",
          "data": {
            "text/plain": [
              "(1460, 36)"
            ]
          },
          "metadata": {
            "tags": []
          },
          "execution_count": 15
        }
      ]
    },
    {
      "cell_type": "code",
      "metadata": {
        "id": "q6Ps_RDcjRzl",
        "colab_type": "code",
        "colab": {
          "base_uri": "https://localhost:8080/",
          "height": 706
        },
        "outputId": "b878c363-5c3a-471c-f6f3-086b2a0a277f"
      },
      "source": [
        "X.info()"
      ],
      "execution_count": 16,
      "outputs": [
        {
          "output_type": "stream",
          "text": [
            "<class 'pandas.core.frame.DataFrame'>\n",
            "Int64Index: 1460 entries, 1 to 1460\n",
            "Data columns (total 36 columns):\n",
            "mssubclass       1460 non-null int64\n",
            "lotfrontage      1201 non-null float64\n",
            "lotarea          1460 non-null int64\n",
            "overallqual      1460 non-null int64\n",
            "overallcond      1460 non-null int64\n",
            "yearbuilt        1460 non-null int64\n",
            "yearremodadd     1460 non-null int64\n",
            "masvnrarea       1452 non-null float64\n",
            "bsmtfinsf1       1460 non-null int64\n",
            "bsmtfinsf2       1460 non-null int64\n",
            "bsmtunfsf        1460 non-null int64\n",
            "totalbsmtsf      1460 non-null int64\n",
            "1stflrsf         1460 non-null int64\n",
            "2ndflrsf         1460 non-null int64\n",
            "lowqualfinsf     1460 non-null int64\n",
            "grlivarea        1460 non-null int64\n",
            "bsmtfullbath     1460 non-null int64\n",
            "bsmthalfbath     1460 non-null int64\n",
            "fullbath         1460 non-null int64\n",
            "halfbath         1460 non-null int64\n",
            "bedroomabvgr     1460 non-null int64\n",
            "kitchenabvgr     1460 non-null int64\n",
            "totrmsabvgrd     1460 non-null int64\n",
            "fireplaces       1460 non-null int64\n",
            "garageyrblt      1379 non-null float64\n",
            "garagecars       1460 non-null int64\n",
            "garagearea       1460 non-null int64\n",
            "wooddecksf       1460 non-null int64\n",
            "openporchsf      1460 non-null int64\n",
            "enclosedporch    1460 non-null int64\n",
            "3ssnporch        1460 non-null int64\n",
            "screenporch      1460 non-null int64\n",
            "poolarea         1460 non-null int64\n",
            "miscval          1460 non-null int64\n",
            "mosold           1460 non-null int64\n",
            "yrsold           1460 non-null int64\n",
            "dtypes: float64(3), int64(33)\n",
            "memory usage: 422.0 KB\n"
          ],
          "name": "stdout"
        }
      ]
    },
    {
      "cell_type": "code",
      "metadata": {
        "id": "iERqoh1AjrmM",
        "colab_type": "code",
        "colab": {
          "base_uri": "https://localhost:8080/",
          "height": 34
        },
        "outputId": "d085121e-0144-4baa-b161-93c394a093f8"
      },
      "source": [
        "from sklearn.model_selection import train_test_split\n",
        "\n",
        "train_x, valid_x, train_y, valid_y = train_test_split(X, y, test_size=0.2, random_state=42)\n",
        "\n",
        "train_x.shape, valid_x.shape"
      ],
      "execution_count": 20,
      "outputs": [
        {
          "output_type": "execute_result",
          "data": {
            "text/plain": [
              "((1168, 36), (292, 36))"
            ]
          },
          "metadata": {
            "tags": []
          },
          "execution_count": 20
        }
      ]
    },
    {
      "cell_type": "code",
      "metadata": {
        "id": "0CQJWY3ijw8E",
        "colab_type": "code",
        "colab": {
          "base_uri": "https://localhost:8080/",
          "height": 34
        },
        "outputId": "dd03d1fe-f3ad-4b41-edf5-fbb8eb184b4a"
      },
      "source": [
        "columns_with_NaN = [col for col in train_x.columns if\n",
        "                        train_x[col].isnull().any()]\n",
        "columns_with_NaN"
      ],
      "execution_count": 21,
      "outputs": [
        {
          "output_type": "execute_result",
          "data": {
            "text/plain": [
              "['lotfrontage', 'masvnrarea', 'garageyrblt']"
            ]
          },
          "metadata": {
            "tags": []
          },
          "execution_count": 21
        }
      ]
    },
    {
      "cell_type": "code",
      "metadata": {
        "id": "ZNQvAH0xkn7P",
        "colab_type": "code",
        "colab": {
          "base_uri": "https://localhost:8080/",
          "height": 34
        },
        "outputId": "92167c46-b600-4632-f8b2-6dc97a0797f8"
      },
      "source": [
        "# Approach 1: dropping columns with missing values:\n",
        "\n",
        "reduced_train_x = train_x.drop(columns_with_NaN, axis='columns')\n",
        "reduced_valid_x = valid_x.drop(columns_with_NaN, axis='columns')\n",
        "\n",
        "reduced_train_x.shape, reduced_valid_x.shape"
      ],
      "execution_count": 22,
      "outputs": [
        {
          "output_type": "execute_result",
          "data": {
            "text/plain": [
              "((1168, 33), (292, 33))"
            ]
          },
          "metadata": {
            "tags": []
          },
          "execution_count": 22
        }
      ]
    },
    {
      "cell_type": "code",
      "metadata": {
        "id": "CDS0CotQlF0s",
        "colab_type": "code",
        "colab": {}
      },
      "source": [
        "from sklearn.ensemble import RandomForestRegressor\n",
        "from sklearn.metrics import mean_absolute_error\n",
        "\n",
        "def score_dataset(train_x, valid_x, train_y, valid_y):\n",
        "    \"\"\"Return the MAE of the dataset.\n",
        "    \"\"\"\n",
        "    model = RandomForestRegressor(n_estimators=100, random_state=42)\n",
        "    model.fit(train_x, train_y)\n",
        "    preds = model.predict(valid_x)\n",
        "    return mean_absolute_error(y_true=valid_y, y_pred=preds)\n",
        "    "
      ],
      "execution_count": 0,
      "outputs": []
    },
    {
      "cell_type": "code",
      "metadata": {
        "id": "w-zAJtBalUDh",
        "colab_type": "code",
        "colab": {
          "base_uri": "https://localhost:8080/",
          "height": 34
        },
        "outputId": "dd1aa5c3-aa90-4be4-bc65-a24707db131b"
      },
      "source": [
        "score_dataset(reduced_train_x, reduced_valid_x, train_y, valid_y)"
      ],
      "execution_count": 26,
      "outputs": [
        {
          "output_type": "execute_result",
          "data": {
            "text/plain": [
              "17877.492979452054"
            ]
          },
          "metadata": {
            "tags": []
          },
          "execution_count": 26
        }
      ]
    },
    {
      "cell_type": "code",
      "metadata": {
        "id": "e_zrPcSfl7P6",
        "colab_type": "code",
        "colab": {}
      },
      "source": [
        "# Approach 2: Imputation using the SimpleImputer.\n",
        "from sklearn.impute import SimpleImputer\n",
        "\n",
        "imputer = SimpleImputer()\n",
        "\n",
        "imputed_train_x = pd.DataFrame(imputer.fit_transform(train_x))\n",
        "imputed_valid_x = pd.DataFrame(imputer.fit_transform(valid_x))\n"
      ],
      "execution_count": 0,
      "outputs": []
    },
    {
      "cell_type": "code",
      "metadata": {
        "id": "WF8Itlnsmp5A",
        "colab_type": "code",
        "colab": {
          "base_uri": "https://localhost:8080/",
          "height": 34
        },
        "outputId": "98070c78-eddf-4df7-c728-b5fb90ef048d"
      },
      "source": [
        "score_dataset(imputed_train_x, imputed_valid_x, train_y, valid_y)"
      ],
      "execution_count": 31,
      "outputs": [
        {
          "output_type": "execute_result",
          "data": {
            "text/plain": [
              "18128.63904109589"
            ]
          },
          "metadata": {
            "tags": []
          },
          "execution_count": 31
        }
      ]
    },
    {
      "cell_type": "code",
      "metadata": {
        "id": "RTpfDLKgniBs",
        "colab_type": "code",
        "colab": {
          "base_uri": "https://localhost:8080/",
          "height": 34
        },
        "outputId": "c104cb65-ce0a-4c96-9330-029cd0021314"
      },
      "source": [
        "imputer_median = SimpleImputer(strategy='median')\n",
        "\n",
        "imputed_median_train_x = pd.DataFrame(imputer_median.fit_transform(train_x))\n",
        "imputed_median_valid_x = pd.DataFrame(imputer_median.fit_transform(valid_x))\n",
        "\n",
        "score_dataset(imputed_median_train_x, imputed_median_valid_x, train_y, valid_y)"
      ],
      "execution_count": 32,
      "outputs": [
        {
          "output_type": "execute_result",
          "data": {
            "text/plain": [
              "18120.364748858447"
            ]
          },
          "metadata": {
            "tags": []
          },
          "execution_count": 32
        }
      ]
    },
    {
      "cell_type": "code",
      "metadata": {
        "id": "MlmD5NWMoRio",
        "colab_type": "code",
        "colab": {
          "base_uri": "https://localhost:8080/",
          "height": 34
        },
        "outputId": "582c6b98-4a77-471b-d728-790e9d868718"
      },
      "source": [
        "imputer_most_frequent = SimpleImputer(strategy='most_frequent')\n",
        "\n",
        "imputed_most_frequent_train_x = pd.DataFrame(imputer_most_frequent.fit_transform(train_x))\n",
        "imputed_most_frequent_valid_x = pd.DataFrame(imputer_most_frequent.fit_transform(valid_x))\n",
        "\n",
        "score_dataset(imputed_most_frequent_train_x, imputed_most_frequent_valid_x, train_y, valid_y)"
      ],
      "execution_count": 34,
      "outputs": [
        {
          "output_type": "execute_result",
          "data": {
            "text/plain": [
              "18023.475479452056"
            ]
          },
          "metadata": {
            "tags": []
          },
          "execution_count": 34
        }
      ]
    },
    {
      "cell_type": "code",
      "metadata": {
        "id": "fHNCYROlob2f",
        "colab_type": "code",
        "colab": {
          "base_uri": "https://localhost:8080/",
          "height": 186
        },
        "outputId": "952b1c91-8b4c-45ac-c0c1-16339be7153c"
      },
      "source": [
        "# Approach 3: Extended Imputation\n",
        "\n",
        "train_x_plus = train_x.copy()\n",
        "valid_x_plus = valid_x.copy()\n",
        "\n",
        "for col in columns_with_NaN:\n",
        "    train_x_plus[col + '_was_missing'] = train_x[col].isnull()\n",
        "    valid_x_plus[col + '_was_missing'] = valid_x[col].isnull()\n",
        "    \n",
        "\n",
        "train_x_plus.head(3)"
      ],
      "execution_count": 38,
      "outputs": [
        {
          "output_type": "execute_result",
          "data": {
            "text/html": [
              "<div>\n",
              "<style scoped>\n",
              "    .dataframe tbody tr th:only-of-type {\n",
              "        vertical-align: middle;\n",
              "    }\n",
              "\n",
              "    .dataframe tbody tr th {\n",
              "        vertical-align: top;\n",
              "    }\n",
              "\n",
              "    .dataframe thead th {\n",
              "        text-align: right;\n",
              "    }\n",
              "</style>\n",
              "<table border=\"1\" class=\"dataframe\">\n",
              "  <thead>\n",
              "    <tr style=\"text-align: right;\">\n",
              "      <th></th>\n",
              "      <th>mssubclass</th>\n",
              "      <th>lotfrontage</th>\n",
              "      <th>lotarea</th>\n",
              "      <th>overallqual</th>\n",
              "      <th>overallcond</th>\n",
              "      <th>yearbuilt</th>\n",
              "      <th>yearremodadd</th>\n",
              "      <th>masvnrarea</th>\n",
              "      <th>bsmtfinsf1</th>\n",
              "      <th>bsmtfinsf2</th>\n",
              "      <th>bsmtunfsf</th>\n",
              "      <th>totalbsmtsf</th>\n",
              "      <th>1stflrsf</th>\n",
              "      <th>2ndflrsf</th>\n",
              "      <th>lowqualfinsf</th>\n",
              "      <th>grlivarea</th>\n",
              "      <th>bsmtfullbath</th>\n",
              "      <th>bsmthalfbath</th>\n",
              "      <th>fullbath</th>\n",
              "      <th>halfbath</th>\n",
              "      <th>bedroomabvgr</th>\n",
              "      <th>kitchenabvgr</th>\n",
              "      <th>totrmsabvgrd</th>\n",
              "      <th>fireplaces</th>\n",
              "      <th>garageyrblt</th>\n",
              "      <th>garagecars</th>\n",
              "      <th>garagearea</th>\n",
              "      <th>wooddecksf</th>\n",
              "      <th>openporchsf</th>\n",
              "      <th>enclosedporch</th>\n",
              "      <th>3ssnporch</th>\n",
              "      <th>screenporch</th>\n",
              "      <th>poolarea</th>\n",
              "      <th>miscval</th>\n",
              "      <th>mosold</th>\n",
              "      <th>yrsold</th>\n",
              "      <th>lotfrontage_was_missing</th>\n",
              "      <th>masvnrarea_was_missing</th>\n",
              "      <th>garageyrblt_was_missing</th>\n",
              "    </tr>\n",
              "    <tr>\n",
              "      <th>Id</th>\n",
              "      <th></th>\n",
              "      <th></th>\n",
              "      <th></th>\n",
              "      <th></th>\n",
              "      <th></th>\n",
              "      <th></th>\n",
              "      <th></th>\n",
              "      <th></th>\n",
              "      <th></th>\n",
              "      <th></th>\n",
              "      <th></th>\n",
              "      <th></th>\n",
              "      <th></th>\n",
              "      <th></th>\n",
              "      <th></th>\n",
              "      <th></th>\n",
              "      <th></th>\n",
              "      <th></th>\n",
              "      <th></th>\n",
              "      <th></th>\n",
              "      <th></th>\n",
              "      <th></th>\n",
              "      <th></th>\n",
              "      <th></th>\n",
              "      <th></th>\n",
              "      <th></th>\n",
              "      <th></th>\n",
              "      <th></th>\n",
              "      <th></th>\n",
              "      <th></th>\n",
              "      <th></th>\n",
              "      <th></th>\n",
              "      <th></th>\n",
              "      <th></th>\n",
              "      <th></th>\n",
              "      <th></th>\n",
              "      <th></th>\n",
              "      <th></th>\n",
              "      <th></th>\n",
              "    </tr>\n",
              "  </thead>\n",
              "  <tbody>\n",
              "    <tr>\n",
              "      <th>255</th>\n",
              "      <td>20</td>\n",
              "      <td>70.0</td>\n",
              "      <td>8400</td>\n",
              "      <td>5</td>\n",
              "      <td>6</td>\n",
              "      <td>1957</td>\n",
              "      <td>1957</td>\n",
              "      <td>0.0</td>\n",
              "      <td>922</td>\n",
              "      <td>0</td>\n",
              "      <td>392</td>\n",
              "      <td>1314</td>\n",
              "      <td>1314</td>\n",
              "      <td>0</td>\n",
              "      <td>0</td>\n",
              "      <td>1314</td>\n",
              "      <td>1</td>\n",
              "      <td>0</td>\n",
              "      <td>1</td>\n",
              "      <td>0</td>\n",
              "      <td>3</td>\n",
              "      <td>1</td>\n",
              "      <td>5</td>\n",
              "      <td>0</td>\n",
              "      <td>1957.0</td>\n",
              "      <td>1</td>\n",
              "      <td>294</td>\n",
              "      <td>250</td>\n",
              "      <td>0</td>\n",
              "      <td>0</td>\n",
              "      <td>0</td>\n",
              "      <td>0</td>\n",
              "      <td>0</td>\n",
              "      <td>0</td>\n",
              "      <td>6</td>\n",
              "      <td>2010</td>\n",
              "      <td>False</td>\n",
              "      <td>False</td>\n",
              "      <td>False</td>\n",
              "    </tr>\n",
              "    <tr>\n",
              "      <th>1067</th>\n",
              "      <td>60</td>\n",
              "      <td>59.0</td>\n",
              "      <td>7837</td>\n",
              "      <td>6</td>\n",
              "      <td>7</td>\n",
              "      <td>1993</td>\n",
              "      <td>1994</td>\n",
              "      <td>0.0</td>\n",
              "      <td>0</td>\n",
              "      <td>0</td>\n",
              "      <td>799</td>\n",
              "      <td>799</td>\n",
              "      <td>799</td>\n",
              "      <td>772</td>\n",
              "      <td>0</td>\n",
              "      <td>1571</td>\n",
              "      <td>0</td>\n",
              "      <td>0</td>\n",
              "      <td>2</td>\n",
              "      <td>1</td>\n",
              "      <td>3</td>\n",
              "      <td>1</td>\n",
              "      <td>7</td>\n",
              "      <td>1</td>\n",
              "      <td>1993.0</td>\n",
              "      <td>2</td>\n",
              "      <td>380</td>\n",
              "      <td>0</td>\n",
              "      <td>40</td>\n",
              "      <td>0</td>\n",
              "      <td>0</td>\n",
              "      <td>0</td>\n",
              "      <td>0</td>\n",
              "      <td>0</td>\n",
              "      <td>5</td>\n",
              "      <td>2009</td>\n",
              "      <td>False</td>\n",
              "      <td>False</td>\n",
              "      <td>False</td>\n",
              "    </tr>\n",
              "    <tr>\n",
              "      <th>639</th>\n",
              "      <td>30</td>\n",
              "      <td>67.0</td>\n",
              "      <td>8777</td>\n",
              "      <td>5</td>\n",
              "      <td>7</td>\n",
              "      <td>1910</td>\n",
              "      <td>1950</td>\n",
              "      <td>0.0</td>\n",
              "      <td>0</td>\n",
              "      <td>0</td>\n",
              "      <td>796</td>\n",
              "      <td>796</td>\n",
              "      <td>796</td>\n",
              "      <td>0</td>\n",
              "      <td>0</td>\n",
              "      <td>796</td>\n",
              "      <td>0</td>\n",
              "      <td>0</td>\n",
              "      <td>1</td>\n",
              "      <td>0</td>\n",
              "      <td>2</td>\n",
              "      <td>1</td>\n",
              "      <td>4</td>\n",
              "      <td>0</td>\n",
              "      <td>NaN</td>\n",
              "      <td>0</td>\n",
              "      <td>0</td>\n",
              "      <td>328</td>\n",
              "      <td>0</td>\n",
              "      <td>164</td>\n",
              "      <td>0</td>\n",
              "      <td>0</td>\n",
              "      <td>0</td>\n",
              "      <td>0</td>\n",
              "      <td>5</td>\n",
              "      <td>2008</td>\n",
              "      <td>False</td>\n",
              "      <td>False</td>\n",
              "      <td>True</td>\n",
              "    </tr>\n",
              "  </tbody>\n",
              "</table>\n",
              "</div>"
            ],
            "text/plain": [
              "      mssubclass  lotfrontage  ...  masvnrarea_was_missing  garageyrblt_was_missing\n",
              "Id                             ...                                                 \n",
              "255           20         70.0  ...                   False                    False\n",
              "1067          60         59.0  ...                   False                    False\n",
              "639           30         67.0  ...                   False                     True\n",
              "\n",
              "[3 rows x 39 columns]"
            ]
          },
          "metadata": {
            "tags": []
          },
          "execution_count": 38
        }
      ]
    },
    {
      "cell_type": "code",
      "metadata": {
        "id": "XXbIsOG8phKi",
        "colab_type": "code",
        "colab": {
          "base_uri": "https://localhost:8080/",
          "height": 34
        },
        "outputId": "097fe33a-4fc3-4088-e3db-5e3461070745"
      },
      "source": [
        "imputed_train_x_plus = pd.DataFrame(imputer.fit_transform(train_x_plus))\n",
        "imputed_train_x_plus.columns = train_x_plus.columns\n",
        "\n",
        "imputed_valid_x_plus = pd.DataFrame(imputer.fit_transform(valid_x_plus))\n",
        "imputed_valid_x_plus.columns = valid_x_plus.columns\n",
        "\n",
        "score_dataset(imputed_train_x_plus, imputed_valid_x_plus, train_y, valid_y)"
      ],
      "execution_count": 39,
      "outputs": [
        {
          "output_type": "execute_result",
          "data": {
            "text/plain": [
              "18120.666289954337"
            ]
          },
          "metadata": {
            "tags": []
          },
          "execution_count": 39
        }
      ]
    },
    {
      "cell_type": "code",
      "metadata": {
        "id": "zzy53GsWr-h1",
        "colab_type": "code",
        "colab": {
          "base_uri": "https://localhost:8080/",
          "height": 34
        },
        "outputId": "0c1a803e-9a89-4612-cd56-df0edf927572"
      },
      "source": [
        "imputed_median_train_x_plus = pd.DataFrame(imputer_median.fit_transform(train_x_plus))\n",
        "imputed_median_train_x_plus.columns = train_x_plus.columns\n",
        "\n",
        "imputed_median_valid_x_plus = pd.DataFrame(imputer_median.fit_transform(valid_x_plus))\n",
        "imputed_median_valid_x_plus.columns = valid_x_plus.columns\n",
        "\n",
        "score_dataset(imputed_median_train_x_plus, imputed_median_valid_x_plus, train_y, valid_y)"
      ],
      "execution_count": 40,
      "outputs": [
        {
          "output_type": "execute_result",
          "data": {
            "text/plain": [
              "18116.255114155254"
            ]
          },
          "metadata": {
            "tags": []
          },
          "execution_count": 40
        }
      ]
    },
    {
      "cell_type": "code",
      "metadata": {
        "id": "v91REFFpsXRk",
        "colab_type": "code",
        "colab": {
          "base_uri": "https://localhost:8080/",
          "height": 34
        },
        "outputId": "ae762eeb-bd17-4397-ece1-f131e17017ca"
      },
      "source": [
        "imputed_most_frequent_train_x_plus = pd.DataFrame(imputer_most_frequent.fit_transform(train_x_plus))\n",
        "imputed_most_frequent_train_x_plus.columns = train_x_plus.columns\n",
        "\n",
        "imputed_most_frequent_valid_x_plus = pd.DataFrame(imputer_most_frequent.fit_transform(valid_x_plus))\n",
        "imputed_most_frequent_valid_x_plus.columns = valid_x_plus.columns\n",
        "\n",
        "score_dataset(imputed_most_frequent_train_x_plus, imputed_most_frequent_valid_x_plus, train_y, valid_y)"
      ],
      "execution_count": 41,
      "outputs": [
        {
          "output_type": "execute_result",
          "data": {
            "text/plain": [
              "18056.096301369864"
            ]
          },
          "metadata": {
            "tags": []
          },
          "execution_count": 41
        }
      ]
    },
    {
      "cell_type": "code",
      "metadata": {
        "id": "_3lQceZVsg9B",
        "colab_type": "code",
        "colab": {}
      },
      "source": [
        ""
      ],
      "execution_count": 0,
      "outputs": []
    }
  ]
}