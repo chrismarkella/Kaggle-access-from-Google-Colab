{
  "nbformat": 4,
  "nbformat_minor": 0,
  "metadata": {
    "colab": {
      "name": "SimpleImputerTutorial.ipynb",
      "provenance": [],
      "include_colab_link": true
    },
    "kernelspec": {
      "name": "python3",
      "display_name": "Python 3"
    }
  },
  "cells": [
    {
      "cell_type": "markdown",
      "metadata": {
        "id": "view-in-github",
        "colab_type": "text"
      },
      "source": [
        "<a href=\"https://colab.research.google.com/github/chrismarkella/Kaggle-access-from-Google-Colab/blob/master/SimpleImputerTutorial.ipynb\" target=\"_parent\"><img src=\"https://colab.research.google.com/assets/colab-badge.svg\" alt=\"Open In Colab\"/></a>"
      ]
    },
    {
      "cell_type": "markdown",
      "metadata": {
        "id": "rqrNpcugxfvS",
        "colab_type": "text"
      },
      "source": [
        "# SimpleImputer tutorial\n",
        "\n",
        "This tutorial was inspired by Anne Bonner's article on [Medium](https://towardsdatascience.com/the-complete-beginners-guide-to-data-cleaning-and-preprocessing-2070b7d4c6d). \n",
        "\n"
      ]
    },
    {
      "cell_type": "code",
      "metadata": {
        "id": "g--duDF7nBRt",
        "colab_type": "code",
        "colab": {}
      },
      "source": [
        "import numpy as np\n",
        "import pandas as pd"
      ],
      "execution_count": 0,
      "outputs": []
    },
    {
      "cell_type": "code",
      "metadata": {
        "id": "YwX_COqfnFrZ",
        "colab_type": "code",
        "colab": {
          "base_uri": "https://localhost:8080/",
          "height": 225
        },
        "outputId": "b4d9c79b-4c70-40dd-8199-4feba06866a0"
      },
      "source": [
        "df = pd.DataFrame(\n",
        "    data={\n",
        "        'animal': ['Cat', 'Dog', 'Moose', 'Dog', 'Moose', 'Moose'],\n",
        "        'age': [4,17,6,8,4,5],\n",
        "        'worth': [30000, 20000, 40000,20000,np.nan,10000],\n",
        "        'friendly': ['No', 'Yes', 'No', 'No', 'Yes', 'Yes'],\n",
        "    }\n",
        ")\n",
        "df"
      ],
      "execution_count": 33,
      "outputs": [
        {
          "output_type": "execute_result",
          "data": {
            "text/html": [
              "<div>\n",
              "<style scoped>\n",
              "    .dataframe tbody tr th:only-of-type {\n",
              "        vertical-align: middle;\n",
              "    }\n",
              "\n",
              "    .dataframe tbody tr th {\n",
              "        vertical-align: top;\n",
              "    }\n",
              "\n",
              "    .dataframe thead th {\n",
              "        text-align: right;\n",
              "    }\n",
              "</style>\n",
              "<table border=\"1\" class=\"dataframe\">\n",
              "  <thead>\n",
              "    <tr style=\"text-align: right;\">\n",
              "      <th></th>\n",
              "      <th>animal</th>\n",
              "      <th>age</th>\n",
              "      <th>worth</th>\n",
              "      <th>friendly</th>\n",
              "    </tr>\n",
              "  </thead>\n",
              "  <tbody>\n",
              "    <tr>\n",
              "      <th>0</th>\n",
              "      <td>Cat</td>\n",
              "      <td>4</td>\n",
              "      <td>30000.0</td>\n",
              "      <td>No</td>\n",
              "    </tr>\n",
              "    <tr>\n",
              "      <th>1</th>\n",
              "      <td>Dog</td>\n",
              "      <td>17</td>\n",
              "      <td>20000.0</td>\n",
              "      <td>Yes</td>\n",
              "    </tr>\n",
              "    <tr>\n",
              "      <th>2</th>\n",
              "      <td>Moose</td>\n",
              "      <td>6</td>\n",
              "      <td>40000.0</td>\n",
              "      <td>No</td>\n",
              "    </tr>\n",
              "    <tr>\n",
              "      <th>3</th>\n",
              "      <td>Dog</td>\n",
              "      <td>8</td>\n",
              "      <td>20000.0</td>\n",
              "      <td>No</td>\n",
              "    </tr>\n",
              "    <tr>\n",
              "      <th>4</th>\n",
              "      <td>Moose</td>\n",
              "      <td>4</td>\n",
              "      <td>NaN</td>\n",
              "      <td>Yes</td>\n",
              "    </tr>\n",
              "    <tr>\n",
              "      <th>5</th>\n",
              "      <td>Moose</td>\n",
              "      <td>5</td>\n",
              "      <td>10000.0</td>\n",
              "      <td>Yes</td>\n",
              "    </tr>\n",
              "  </tbody>\n",
              "</table>\n",
              "</div>"
            ],
            "text/plain": [
              "  animal  age    worth friendly\n",
              "0    Cat    4  30000.0       No\n",
              "1    Dog   17  20000.0      Yes\n",
              "2  Moose    6  40000.0       No\n",
              "3    Dog    8  20000.0       No\n",
              "4  Moose    4      NaN      Yes\n",
              "5  Moose    5  10000.0      Yes"
            ]
          },
          "metadata": {
            "tags": []
          },
          "execution_count": 33
        }
      ]
    },
    {
      "cell_type": "code",
      "metadata": {
        "id": "tW3LnVqwnoz3",
        "colab_type": "code",
        "colab": {
          "base_uri": "https://localhost:8080/",
          "height": 225
        },
        "outputId": "45e6adf7-4ef0-4415-d4ec-aea47ebfeb32"
      },
      "source": [
        "from sklearn.impute import SimpleImputer\n",
        "\n",
        "imputer_mean = SimpleImputer(strategy='mean')\n",
        "imputer_median = SimpleImputer(strategy='median')\n",
        "imputer_most_frequent = SimpleImputer(strategy='most_frequent')\n",
        "imputer_constant_defult = SimpleImputer(strategy='constant')\n",
        "imputer_constant_one = SimpleImputer(strategy='constant', fill_value=1)\n",
        "\n",
        "imputed_by_mean_df = pd.DataFrame(imputer_mean.fit_transform(df.iloc[:, 1:3]))\n",
        "imputed_by_mean_df.columns = df.columns[1:3]\n",
        "imputed_by_mean_df\n",
        "\n",
        "# imputed_by_median_df = pd.DataFrame(imputer_median.fit_transform(df.iloc[:, 1:3]))\n",
        "# imputed_by_median_df\n",
        "\n",
        "# imputed_by_most_frequent_df = pd.DataFrame(imputer_most_frequent.fit_transform(df.iloc[:, 1:3]))\n",
        "# imputed_by_most_frequent_df\n",
        "\n",
        "# imputed_by_constant_default_df = pd.DataFrame(imputer_constant_defult.fit_transform(df.iloc[:, 1:3]))\n",
        "# imputed_by_constant_default_df\n",
        "\n",
        "# imputed_by_constant_one_df = pd.DataFrame(imputer_constant_one.fit_transform(df.iloc[:, 1:3]))\n",
        "# imputed_by_constant_one_df\n"
      ],
      "execution_count": 34,
      "outputs": [
        {
          "output_type": "execute_result",
          "data": {
            "text/html": [
              "<div>\n",
              "<style scoped>\n",
              "    .dataframe tbody tr th:only-of-type {\n",
              "        vertical-align: middle;\n",
              "    }\n",
              "\n",
              "    .dataframe tbody tr th {\n",
              "        vertical-align: top;\n",
              "    }\n",
              "\n",
              "    .dataframe thead th {\n",
              "        text-align: right;\n",
              "    }\n",
              "</style>\n",
              "<table border=\"1\" class=\"dataframe\">\n",
              "  <thead>\n",
              "    <tr style=\"text-align: right;\">\n",
              "      <th></th>\n",
              "      <th>age</th>\n",
              "      <th>worth</th>\n",
              "    </tr>\n",
              "  </thead>\n",
              "  <tbody>\n",
              "    <tr>\n",
              "      <th>0</th>\n",
              "      <td>4.0</td>\n",
              "      <td>30000.0</td>\n",
              "    </tr>\n",
              "    <tr>\n",
              "      <th>1</th>\n",
              "      <td>17.0</td>\n",
              "      <td>20000.0</td>\n",
              "    </tr>\n",
              "    <tr>\n",
              "      <th>2</th>\n",
              "      <td>6.0</td>\n",
              "      <td>40000.0</td>\n",
              "    </tr>\n",
              "    <tr>\n",
              "      <th>3</th>\n",
              "      <td>8.0</td>\n",
              "      <td>20000.0</td>\n",
              "    </tr>\n",
              "    <tr>\n",
              "      <th>4</th>\n",
              "      <td>4.0</td>\n",
              "      <td>24000.0</td>\n",
              "    </tr>\n",
              "    <tr>\n",
              "      <th>5</th>\n",
              "      <td>5.0</td>\n",
              "      <td>10000.0</td>\n",
              "    </tr>\n",
              "  </tbody>\n",
              "</table>\n",
              "</div>"
            ],
            "text/plain": [
              "    age    worth\n",
              "0   4.0  30000.0\n",
              "1  17.0  20000.0\n",
              "2   6.0  40000.0\n",
              "3   8.0  20000.0\n",
              "4   4.0  24000.0\n",
              "5   5.0  10000.0"
            ]
          },
          "metadata": {
            "tags": []
          },
          "execution_count": 34
        }
      ]
    },
    {
      "cell_type": "code",
      "metadata": {
        "id": "w-q-ravWqh_h",
        "colab_type": "code",
        "colab": {
          "base_uri": "https://localhost:8080/",
          "height": 605
        },
        "outputId": "067c8dbc-c753-46bb-d0de-e3c238723485"
      },
      "source": [
        "imputers = [\n",
        "    imputer_mean,\n",
        "    imputer_median,\n",
        "    imputer_most_frequent,\n",
        "    imputer_constant_defult,\n",
        "    imputer_constant_one,\n",
        "]\n",
        "\n",
        "for imputer in imputers:\n",
        "    imputed_df = pd.DataFrame(imputer.fit_transform(df.iloc[:, 1:3]))\n",
        "    imputed_df.columns = df.columns[1:3]\n",
        "    print(imputed_df)"
      ],
      "execution_count": 35,
      "outputs": [
        {
          "output_type": "stream",
          "text": [
            "    age    worth\n",
            "0   4.0  30000.0\n",
            "1  17.0  20000.0\n",
            "2   6.0  40000.0\n",
            "3   8.0  20000.0\n",
            "4   4.0  24000.0\n",
            "5   5.0  10000.0\n",
            "    age    worth\n",
            "0   4.0  30000.0\n",
            "1  17.0  20000.0\n",
            "2   6.0  40000.0\n",
            "3   8.0  20000.0\n",
            "4   4.0  20000.0\n",
            "5   5.0  10000.0\n",
            "    age    worth\n",
            "0   4.0  30000.0\n",
            "1  17.0  20000.0\n",
            "2   6.0  40000.0\n",
            "3   8.0  20000.0\n",
            "4   4.0  20000.0\n",
            "5   5.0  10000.0\n",
            "    age    worth\n",
            "0   4.0  30000.0\n",
            "1  17.0  20000.0\n",
            "2   6.0  40000.0\n",
            "3   8.0  20000.0\n",
            "4   4.0      0.0\n",
            "5   5.0  10000.0\n",
            "    age    worth\n",
            "0   4.0  30000.0\n",
            "1  17.0  20000.0\n",
            "2   6.0  40000.0\n",
            "3   8.0  20000.0\n",
            "4   4.0      1.0\n",
            "5   5.0  10000.0\n"
          ],
          "name": "stdout"
        }
      ]
    },
    {
      "cell_type": "code",
      "metadata": {
        "id": "j9gJewmowLp1",
        "colab_type": "code",
        "colab": {
          "base_uri": "https://localhost:8080/",
          "height": 689
        },
        "outputId": "0831ff75-5dd5-41f1-c1de-7516c1391cfb"
      },
      "source": [
        "imputers_tup = [\n",
        "    ('imputer_mean', imputer_mean),\n",
        "    ('imputer_median' , imputer_median), \n",
        "    ('imputer_most_frequent' , imputer_most_frequent), \n",
        "    ('imputer_constant_defult' , imputer_constant_defult), \n",
        "    ('imputer_constant_one' , imputer_constant_one),\n",
        "]\n",
        "\n",
        "for name, imputer in imputers_tup:\n",
        "    imputed_df = pd.DataFrame(imputer.fit_transform(df.iloc[:, 1:3]))\n",
        "    imputed_df.columns = df.columns[1:3]\n",
        "    print(name)\n",
        "    print(imputed_df)"
      ],
      "execution_count": 36,
      "outputs": [
        {
          "output_type": "stream",
          "text": [
            "imputer_mean\n",
            "    age    worth\n",
            "0   4.0  30000.0\n",
            "1  17.0  20000.0\n",
            "2   6.0  40000.0\n",
            "3   8.0  20000.0\n",
            "4   4.0  24000.0\n",
            "5   5.0  10000.0\n",
            "imputer_median\n",
            "    age    worth\n",
            "0   4.0  30000.0\n",
            "1  17.0  20000.0\n",
            "2   6.0  40000.0\n",
            "3   8.0  20000.0\n",
            "4   4.0  20000.0\n",
            "5   5.0  10000.0\n",
            "imputer_most_frequent\n",
            "    age    worth\n",
            "0   4.0  30000.0\n",
            "1  17.0  20000.0\n",
            "2   6.0  40000.0\n",
            "3   8.0  20000.0\n",
            "4   4.0  20000.0\n",
            "5   5.0  10000.0\n",
            "imputer_constant_defult\n",
            "    age    worth\n",
            "0   4.0  30000.0\n",
            "1  17.0  20000.0\n",
            "2   6.0  40000.0\n",
            "3   8.0  20000.0\n",
            "4   4.0      0.0\n",
            "5   5.0  10000.0\n",
            "imputer_constant_one\n",
            "    age    worth\n",
            "0   4.0  30000.0\n",
            "1  17.0  20000.0\n",
            "2   6.0  40000.0\n",
            "3   8.0  20000.0\n",
            "4   4.0      1.0\n",
            "5   5.0  10000.0\n"
          ],
          "name": "stdout"
        }
      ]
    },
    {
      "cell_type": "code",
      "metadata": {
        "id": "zbQf5iVJxJN6",
        "colab_type": "code",
        "colab": {}
      },
      "source": [
        ""
      ],
      "execution_count": 0,
      "outputs": []
    }
  ]
}