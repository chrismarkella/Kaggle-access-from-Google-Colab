{
  "nbformat": 4,
  "nbformat_minor": 0,
  "metadata": {
    "colab": {
      "name": "OneHotEncodingMultipleColumns_sparse_matrix.ipynb",
      "provenance": [],
      "authorship_tag": "ABX9TyNYiyEXwzsZa18svOcXQLMf",
      "include_colab_link": true
    },
    "kernelspec": {
      "name": "python3",
      "display_name": "Python 3"
    }
  },
  "cells": [
    {
      "cell_type": "markdown",
      "metadata": {
        "id": "view-in-github",
        "colab_type": "text"
      },
      "source": [
        "<a href=\"https://colab.research.google.com/github/chrismarkella/Kaggle-access-from-Google-Colab/blob/master/OneHotEncodingMultipleColumns_sparse_matrix.ipynb\" target=\"_parent\"><img src=\"https://colab.research.google.com/assets/colab-badge.svg\" alt=\"Open In Colab\"/></a>"
      ]
    },
    {
      "cell_type": "code",
      "metadata": {
        "id": "lFVMUuhM1hfU",
        "colab_type": "code",
        "colab": {}
      },
      "source": [
        "import numpy as np\n",
        "import pandas as pd"
      ],
      "execution_count": 0,
      "outputs": []
    },
    {
      "cell_type": "code",
      "metadata": {
        "id": "gr4H9Kgh1lRz",
        "colab_type": "code",
        "colab": {}
      },
      "source": [
        "MULTIPLIER = 100\n",
        "color_lst = ['Red', 'Blue', 'Green', 'Green', 'Blue'] * MULTIPLIER\n",
        "brand_lst = ['Mercedes', 'Mercedes', 'BMW', 'BMW', 'BMW'] * MULTIPLIER\n",
        "data_dict = {\n",
        "    'Color': color_lst,\n",
        "    'Brand': brand_lst,\n",
        "}"
      ],
      "execution_count": 0,
      "outputs": []
    },
    {
      "cell_type": "code",
      "metadata": {
        "id": "olzhBgDy163L",
        "colab_type": "code",
        "outputId": "ad3d2443-c2f5-42ac-8369-2f0984d9eea8",
        "colab": {
          "base_uri": "https://localhost:8080/",
          "height": 415
        }
      },
      "source": [
        "df = pd.DataFrame(\n",
        "    data=data_dict\n",
        ")\n",
        "df"
      ],
      "execution_count": 51,
      "outputs": [
        {
          "output_type": "execute_result",
          "data": {
            "text/html": [
              "<div>\n",
              "<style scoped>\n",
              "    .dataframe tbody tr th:only-of-type {\n",
              "        vertical-align: middle;\n",
              "    }\n",
              "\n",
              "    .dataframe tbody tr th {\n",
              "        vertical-align: top;\n",
              "    }\n",
              "\n",
              "    .dataframe thead th {\n",
              "        text-align: right;\n",
              "    }\n",
              "</style>\n",
              "<table border=\"1\" class=\"dataframe\">\n",
              "  <thead>\n",
              "    <tr style=\"text-align: right;\">\n",
              "      <th></th>\n",
              "      <th>Color</th>\n",
              "      <th>Brand</th>\n",
              "    </tr>\n",
              "  </thead>\n",
              "  <tbody>\n",
              "    <tr>\n",
              "      <th>0</th>\n",
              "      <td>Red</td>\n",
              "      <td>Mercedes</td>\n",
              "    </tr>\n",
              "    <tr>\n",
              "      <th>1</th>\n",
              "      <td>Blue</td>\n",
              "      <td>Mercedes</td>\n",
              "    </tr>\n",
              "    <tr>\n",
              "      <th>2</th>\n",
              "      <td>Green</td>\n",
              "      <td>BMW</td>\n",
              "    </tr>\n",
              "    <tr>\n",
              "      <th>3</th>\n",
              "      <td>Green</td>\n",
              "      <td>BMW</td>\n",
              "    </tr>\n",
              "    <tr>\n",
              "      <th>4</th>\n",
              "      <td>Blue</td>\n",
              "      <td>BMW</td>\n",
              "    </tr>\n",
              "    <tr>\n",
              "      <th>...</th>\n",
              "      <td>...</td>\n",
              "      <td>...</td>\n",
              "    </tr>\n",
              "    <tr>\n",
              "      <th>495</th>\n",
              "      <td>Red</td>\n",
              "      <td>Mercedes</td>\n",
              "    </tr>\n",
              "    <tr>\n",
              "      <th>496</th>\n",
              "      <td>Blue</td>\n",
              "      <td>Mercedes</td>\n",
              "    </tr>\n",
              "    <tr>\n",
              "      <th>497</th>\n",
              "      <td>Green</td>\n",
              "      <td>BMW</td>\n",
              "    </tr>\n",
              "    <tr>\n",
              "      <th>498</th>\n",
              "      <td>Green</td>\n",
              "      <td>BMW</td>\n",
              "    </tr>\n",
              "    <tr>\n",
              "      <th>499</th>\n",
              "      <td>Blue</td>\n",
              "      <td>BMW</td>\n",
              "    </tr>\n",
              "  </tbody>\n",
              "</table>\n",
              "<p>500 rows × 2 columns</p>\n",
              "</div>"
            ],
            "text/plain": [
              "     Color     Brand\n",
              "0      Red  Mercedes\n",
              "1     Blue  Mercedes\n",
              "2    Green       BMW\n",
              "3    Green       BMW\n",
              "4     Blue       BMW\n",
              "..     ...       ...\n",
              "495    Red  Mercedes\n",
              "496   Blue  Mercedes\n",
              "497  Green       BMW\n",
              "498  Green       BMW\n",
              "499   Blue       BMW\n",
              "\n",
              "[500 rows x 2 columns]"
            ]
          },
          "metadata": {
            "tags": []
          },
          "execution_count": 51
        }
      ]
    },
    {
      "cell_type": "code",
      "metadata": {
        "id": "Gktkt6kZ2EAB",
        "colab_type": "code",
        "outputId": "94ce8863-23d9-4f3d-bd7f-8c5099b947ae",
        "colab": {
          "base_uri": "https://localhost:8080/",
          "height": 139
        }
      },
      "source": [
        "from sklearn.preprocessing import OneHotEncoder\n",
        "\n",
        "one_hot_encoder_array = OneHotEncoder(sparse=False)\n",
        "one_hot_encoder_sparse = OneHotEncoder(sparse=True)\n",
        "\n",
        "one_hot_array = one_hot_encoder_array.fit_transform(df)\n",
        "one_hot_sparse = one_hot_encoder_sparse.fit_transform(df)\n",
        "\n",
        "all_categories_lst = []\n",
        "for categories in one_hot_encoder_array.categories_:\n",
        "    all_categories_lst.extend(categories)\n",
        "\n",
        "one_hot_array_df = pd.DataFrame(data=one_hot_array,\n",
        "             index=df.index,\n",
        "             columns=all_categories_lst)\n",
        "\n",
        "one_hot_sparse_df = pd.DataFrame.sparse.from_spmatrix(one_hot_sparse,\n",
        "                                                      columns=all_categories_lst)\n",
        "import sys\n",
        "\n",
        "print(f'one-hot imputed array        : {sys.getsizeof(one_hot_array)}')\n",
        "print(f'one-hot imputed sparse matrix: {sys.getsizeof(one_hot_sparse)}')\n",
        "print()\n",
        "print(f'DataFrame with one-hot imputed array        : {sys.getsizeof(one_hot_array_df)}')\n",
        "print(f'DataFrame with one-hot imputed sparse matrix: {sys.getsizeof(one_hot_sparse_df)}')\n",
        "\n",
        "one_hot_sparse"
      ],
      "execution_count": 52,
      "outputs": [
        {
          "output_type": "stream",
          "text": [
            "one-hot imputed array        : 20112\n",
            "one-hot imputed sparse matrix: 56\n",
            "\n",
            "DataFrame with one-hot imputed array        : 20152\n",
            "DataFrame with one-hot imputed sparse matrix: 12152\n"
          ],
          "name": "stdout"
        },
        {
          "output_type": "execute_result",
          "data": {
            "text/plain": [
              "<500x5 sparse matrix of type '<class 'numpy.float64'>'\n",
              "\twith 1000 stored elements in Compressed Sparse Row format>"
            ]
          },
          "metadata": {
            "tags": []
          },
          "execution_count": 52
        }
      ]
    },
    {
      "cell_type": "code",
      "metadata": {
        "id": "Opfi-nVaioWZ",
        "colab_type": "code",
        "colab": {
          "base_uri": "https://localhost:8080/",
          "height": 415
        },
        "outputId": "2591a1aa-3eb1-4cee-e162-bc414e8cad08"
      },
      "source": [
        "one_hot_sparse_df"
      ],
      "execution_count": 53,
      "outputs": [
        {
          "output_type": "execute_result",
          "data": {
            "text/html": [
              "<div>\n",
              "<style scoped>\n",
              "    .dataframe tbody tr th:only-of-type {\n",
              "        vertical-align: middle;\n",
              "    }\n",
              "\n",
              "    .dataframe tbody tr th {\n",
              "        vertical-align: top;\n",
              "    }\n",
              "\n",
              "    .dataframe thead th {\n",
              "        text-align: right;\n",
              "    }\n",
              "</style>\n",
              "<table border=\"1\" class=\"dataframe\">\n",
              "  <thead>\n",
              "    <tr style=\"text-align: right;\">\n",
              "      <th></th>\n",
              "      <th>Blue</th>\n",
              "      <th>Green</th>\n",
              "      <th>Red</th>\n",
              "      <th>BMW</th>\n",
              "      <th>Mercedes</th>\n",
              "    </tr>\n",
              "  </thead>\n",
              "  <tbody>\n",
              "    <tr>\n",
              "      <th>0</th>\n",
              "      <td>0.0</td>\n",
              "      <td>0.0</td>\n",
              "      <td>1.0</td>\n",
              "      <td>0.0</td>\n",
              "      <td>1.0</td>\n",
              "    </tr>\n",
              "    <tr>\n",
              "      <th>1</th>\n",
              "      <td>1.0</td>\n",
              "      <td>0.0</td>\n",
              "      <td>0.0</td>\n",
              "      <td>0.0</td>\n",
              "      <td>1.0</td>\n",
              "    </tr>\n",
              "    <tr>\n",
              "      <th>2</th>\n",
              "      <td>0.0</td>\n",
              "      <td>1.0</td>\n",
              "      <td>0.0</td>\n",
              "      <td>1.0</td>\n",
              "      <td>0.0</td>\n",
              "    </tr>\n",
              "    <tr>\n",
              "      <th>3</th>\n",
              "      <td>0.0</td>\n",
              "      <td>1.0</td>\n",
              "      <td>0.0</td>\n",
              "      <td>1.0</td>\n",
              "      <td>0.0</td>\n",
              "    </tr>\n",
              "    <tr>\n",
              "      <th>4</th>\n",
              "      <td>1.0</td>\n",
              "      <td>0.0</td>\n",
              "      <td>0.0</td>\n",
              "      <td>1.0</td>\n",
              "      <td>0.0</td>\n",
              "    </tr>\n",
              "    <tr>\n",
              "      <th>...</th>\n",
              "      <td>...</td>\n",
              "      <td>...</td>\n",
              "      <td>...</td>\n",
              "      <td>...</td>\n",
              "      <td>...</td>\n",
              "    </tr>\n",
              "    <tr>\n",
              "      <th>495</th>\n",
              "      <td>0.0</td>\n",
              "      <td>0.0</td>\n",
              "      <td>1.0</td>\n",
              "      <td>0.0</td>\n",
              "      <td>1.0</td>\n",
              "    </tr>\n",
              "    <tr>\n",
              "      <th>496</th>\n",
              "      <td>1.0</td>\n",
              "      <td>0.0</td>\n",
              "      <td>0.0</td>\n",
              "      <td>0.0</td>\n",
              "      <td>1.0</td>\n",
              "    </tr>\n",
              "    <tr>\n",
              "      <th>497</th>\n",
              "      <td>0.0</td>\n",
              "      <td>1.0</td>\n",
              "      <td>0.0</td>\n",
              "      <td>1.0</td>\n",
              "      <td>0.0</td>\n",
              "    </tr>\n",
              "    <tr>\n",
              "      <th>498</th>\n",
              "      <td>0.0</td>\n",
              "      <td>1.0</td>\n",
              "      <td>0.0</td>\n",
              "      <td>1.0</td>\n",
              "      <td>0.0</td>\n",
              "    </tr>\n",
              "    <tr>\n",
              "      <th>499</th>\n",
              "      <td>1.0</td>\n",
              "      <td>0.0</td>\n",
              "      <td>0.0</td>\n",
              "      <td>1.0</td>\n",
              "      <td>0.0</td>\n",
              "    </tr>\n",
              "  </tbody>\n",
              "</table>\n",
              "<p>500 rows × 5 columns</p>\n",
              "</div>"
            ],
            "text/plain": [
              "     Blue  Green  Red  BMW  Mercedes\n",
              "0     0.0    0.0  1.0  0.0       1.0\n",
              "1     1.0    0.0  0.0  0.0       1.0\n",
              "2     0.0    1.0  0.0  1.0       0.0\n",
              "3     0.0    1.0  0.0  1.0       0.0\n",
              "4     1.0    0.0  0.0  1.0       0.0\n",
              "..    ...    ...  ...  ...       ...\n",
              "495   0.0    0.0  1.0  0.0       1.0\n",
              "496   1.0    0.0  0.0  0.0       1.0\n",
              "497   0.0    1.0  0.0  1.0       0.0\n",
              "498   0.0    1.0  0.0  1.0       0.0\n",
              "499   1.0    0.0  0.0  1.0       0.0\n",
              "\n",
              "[500 rows x 5 columns]"
            ]
          },
          "metadata": {
            "tags": []
          },
          "execution_count": 53
        }
      ]
    },
    {
      "cell_type": "code",
      "metadata": {
        "id": "yH3E7Xrdhmgs",
        "colab_type": "code",
        "colab": {
          "base_uri": "https://localhost:8080/",
          "height": 191
        },
        "outputId": "47f51564-4c7c-4b73-f007-fc968ef40905"
      },
      "source": [
        "one_hot_array_df.info()"
      ],
      "execution_count": 54,
      "outputs": [
        {
          "output_type": "stream",
          "text": [
            "<class 'pandas.core.frame.DataFrame'>\n",
            "RangeIndex: 500 entries, 0 to 499\n",
            "Data columns (total 5 columns):\n",
            "Blue        500 non-null float64\n",
            "Green       500 non-null float64\n",
            "Red         500 non-null float64\n",
            "BMW         500 non-null float64\n",
            "Mercedes    500 non-null float64\n",
            "dtypes: float64(5)\n",
            "memory usage: 19.7 KB\n"
          ],
          "name": "stdout"
        }
      ]
    },
    {
      "cell_type": "code",
      "metadata": {
        "id": "DmXEtZRZiuzr",
        "colab_type": "code",
        "colab": {
          "base_uri": "https://localhost:8080/",
          "height": 191
        },
        "outputId": "71a4fa9d-787e-4141-a98e-46cc0afe86cd"
      },
      "source": [
        "one_hot_sparse_df.info()"
      ],
      "execution_count": 55,
      "outputs": [
        {
          "output_type": "stream",
          "text": [
            "<class 'pandas.core.frame.DataFrame'>\n",
            "RangeIndex: 500 entries, 0 to 499\n",
            "Data columns (total 5 columns):\n",
            "Blue        500 non-null Sparse[float64, 0.0]\n",
            "Green       500 non-null Sparse[float64, 0.0]\n",
            "Red         500 non-null Sparse[float64, 0.0]\n",
            "BMW         500 non-null Sparse[float64, 0.0]\n",
            "Mercedes    500 non-null Sparse[float64, 0.0]\n",
            "dtypes: Sparse[float64, 0.0](5)\n",
            "memory usage: 11.8 KB\n"
          ],
          "name": "stdout"
        }
      ]
    },
    {
      "cell_type": "code",
      "metadata": {
        "id": "vuFuMpOF2JfY",
        "colab_type": "code",
        "outputId": "5b34a5d9-bc61-45f5-ddef-6076ea4262c3",
        "colab": {
          "base_uri": "https://localhost:8080/",
          "height": 415
        }
      },
      "source": [
        "pd.concat([df, one_hot_array_df], axis='columns')"
      ],
      "execution_count": 56,
      "outputs": [
        {
          "output_type": "execute_result",
          "data": {
            "text/html": [
              "<div>\n",
              "<style scoped>\n",
              "    .dataframe tbody tr th:only-of-type {\n",
              "        vertical-align: middle;\n",
              "    }\n",
              "\n",
              "    .dataframe tbody tr th {\n",
              "        vertical-align: top;\n",
              "    }\n",
              "\n",
              "    .dataframe thead th {\n",
              "        text-align: right;\n",
              "    }\n",
              "</style>\n",
              "<table border=\"1\" class=\"dataframe\">\n",
              "  <thead>\n",
              "    <tr style=\"text-align: right;\">\n",
              "      <th></th>\n",
              "      <th>Color</th>\n",
              "      <th>Brand</th>\n",
              "      <th>Blue</th>\n",
              "      <th>Green</th>\n",
              "      <th>Red</th>\n",
              "      <th>BMW</th>\n",
              "      <th>Mercedes</th>\n",
              "    </tr>\n",
              "  </thead>\n",
              "  <tbody>\n",
              "    <tr>\n",
              "      <th>0</th>\n",
              "      <td>Red</td>\n",
              "      <td>Mercedes</td>\n",
              "      <td>0.0</td>\n",
              "      <td>0.0</td>\n",
              "      <td>1.0</td>\n",
              "      <td>0.0</td>\n",
              "      <td>1.0</td>\n",
              "    </tr>\n",
              "    <tr>\n",
              "      <th>1</th>\n",
              "      <td>Blue</td>\n",
              "      <td>Mercedes</td>\n",
              "      <td>1.0</td>\n",
              "      <td>0.0</td>\n",
              "      <td>0.0</td>\n",
              "      <td>0.0</td>\n",
              "      <td>1.0</td>\n",
              "    </tr>\n",
              "    <tr>\n",
              "      <th>2</th>\n",
              "      <td>Green</td>\n",
              "      <td>BMW</td>\n",
              "      <td>0.0</td>\n",
              "      <td>1.0</td>\n",
              "      <td>0.0</td>\n",
              "      <td>1.0</td>\n",
              "      <td>0.0</td>\n",
              "    </tr>\n",
              "    <tr>\n",
              "      <th>3</th>\n",
              "      <td>Green</td>\n",
              "      <td>BMW</td>\n",
              "      <td>0.0</td>\n",
              "      <td>1.0</td>\n",
              "      <td>0.0</td>\n",
              "      <td>1.0</td>\n",
              "      <td>0.0</td>\n",
              "    </tr>\n",
              "    <tr>\n",
              "      <th>4</th>\n",
              "      <td>Blue</td>\n",
              "      <td>BMW</td>\n",
              "      <td>1.0</td>\n",
              "      <td>0.0</td>\n",
              "      <td>0.0</td>\n",
              "      <td>1.0</td>\n",
              "      <td>0.0</td>\n",
              "    </tr>\n",
              "    <tr>\n",
              "      <th>...</th>\n",
              "      <td>...</td>\n",
              "      <td>...</td>\n",
              "      <td>...</td>\n",
              "      <td>...</td>\n",
              "      <td>...</td>\n",
              "      <td>...</td>\n",
              "      <td>...</td>\n",
              "    </tr>\n",
              "    <tr>\n",
              "      <th>495</th>\n",
              "      <td>Red</td>\n",
              "      <td>Mercedes</td>\n",
              "      <td>0.0</td>\n",
              "      <td>0.0</td>\n",
              "      <td>1.0</td>\n",
              "      <td>0.0</td>\n",
              "      <td>1.0</td>\n",
              "    </tr>\n",
              "    <tr>\n",
              "      <th>496</th>\n",
              "      <td>Blue</td>\n",
              "      <td>Mercedes</td>\n",
              "      <td>1.0</td>\n",
              "      <td>0.0</td>\n",
              "      <td>0.0</td>\n",
              "      <td>0.0</td>\n",
              "      <td>1.0</td>\n",
              "    </tr>\n",
              "    <tr>\n",
              "      <th>497</th>\n",
              "      <td>Green</td>\n",
              "      <td>BMW</td>\n",
              "      <td>0.0</td>\n",
              "      <td>1.0</td>\n",
              "      <td>0.0</td>\n",
              "      <td>1.0</td>\n",
              "      <td>0.0</td>\n",
              "    </tr>\n",
              "    <tr>\n",
              "      <th>498</th>\n",
              "      <td>Green</td>\n",
              "      <td>BMW</td>\n",
              "      <td>0.0</td>\n",
              "      <td>1.0</td>\n",
              "      <td>0.0</td>\n",
              "      <td>1.0</td>\n",
              "      <td>0.0</td>\n",
              "    </tr>\n",
              "    <tr>\n",
              "      <th>499</th>\n",
              "      <td>Blue</td>\n",
              "      <td>BMW</td>\n",
              "      <td>1.0</td>\n",
              "      <td>0.0</td>\n",
              "      <td>0.0</td>\n",
              "      <td>1.0</td>\n",
              "      <td>0.0</td>\n",
              "    </tr>\n",
              "  </tbody>\n",
              "</table>\n",
              "<p>500 rows × 7 columns</p>\n",
              "</div>"
            ],
            "text/plain": [
              "     Color     Brand  Blue  Green  Red  BMW  Mercedes\n",
              "0      Red  Mercedes   0.0    0.0  1.0  0.0       1.0\n",
              "1     Blue  Mercedes   1.0    0.0  0.0  0.0       1.0\n",
              "2    Green       BMW   0.0    1.0  0.0  1.0       0.0\n",
              "3    Green       BMW   0.0    1.0  0.0  1.0       0.0\n",
              "4     Blue       BMW   1.0    0.0  0.0  1.0       0.0\n",
              "..     ...       ...   ...    ...  ...  ...       ...\n",
              "495    Red  Mercedes   0.0    0.0  1.0  0.0       1.0\n",
              "496   Blue  Mercedes   1.0    0.0  0.0  0.0       1.0\n",
              "497  Green       BMW   0.0    1.0  0.0  1.0       0.0\n",
              "498  Green       BMW   0.0    1.0  0.0  1.0       0.0\n",
              "499   Blue       BMW   1.0    0.0  0.0  1.0       0.0\n",
              "\n",
              "[500 rows x 7 columns]"
            ]
          },
          "metadata": {
            "tags": []
          },
          "execution_count": 56
        }
      ]
    },
    {
      "cell_type": "code",
      "metadata": {
        "id": "PzTqxD2W3OZq",
        "colab_type": "code",
        "colab": {}
      },
      "source": [
        ""
      ],
      "execution_count": 0,
      "outputs": []
    }
  ]
}